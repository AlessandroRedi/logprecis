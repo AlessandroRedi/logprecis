{
 "cells": [
  {
   "cell_type": "markdown",
   "id": "b4d1b2bc-7ee9-4eed-93d7-91e7eff2bfa7",
   "metadata": {},
   "source": [
    "# We want to recreate the original sessions + adding the predictions the model gave"
   ]
  },
  {
   "cell_type": "code",
   "execution_count": 1,
   "id": "d09c668d-67df-4ca4-a272-f26c322a84c0",
   "metadata": {},
   "outputs": [],
   "source": [
    "import pandas as pd"
   ]
  },
  {
   "cell_type": "markdown",
   "id": "65a69f25-8fc3-4dd9-9377-d1d16a3e3f67",
   "metadata": {
    "tags": []
   },
   "source": [
    "### Importing predictions\n",
    "#### Remember: we made a prediction for every WORD"
   ]
  },
  {
   "cell_type": "code",
   "execution_count": 2,
   "id": "1a2dfbbb-542e-4066-8c9b-fd9cfb82b9d8",
   "metadata": {},
   "outputs": [
    {
     "name": "stdout",
     "output_type": "stream",
     "text": [
      "We have 17231851 predictions\n"
     ]
    },
    {
     "data": {
      "text/html": [
       "<div>\n",
       "<style scoped>\n",
       "    .dataframe tbody tr th:only-of-type {\n",
       "        vertical-align: middle;\n",
       "    }\n",
       "\n",
       "    .dataframe tbody tr th {\n",
       "        vertical-align: top;\n",
       "    }\n",
       "\n",
       "    .dataframe thead th {\n",
       "        text-align: right;\n",
       "    }\n",
       "</style>\n",
       "<table border=\"1\" class=\"dataframe\">\n",
       "  <thead>\n",
       "    <tr style=\"text-align: right;\">\n",
       "      <th></th>\n",
       "      <th>Predictions</th>\n",
       "      <th>Session_ids</th>\n",
       "      <th>Logits</th>\n",
       "      <th>new_predictions</th>\n",
       "    </tr>\n",
       "  </thead>\n",
       "  <tbody>\n",
       "    <tr>\n",
       "      <th>0</th>\n",
       "      <td>1</td>\n",
       "      <td>0</td>\n",
       "      <td>6.916717</td>\n",
       "      <td>1</td>\n",
       "    </tr>\n",
       "    <tr>\n",
       "      <th>1</th>\n",
       "      <td>1</td>\n",
       "      <td>0</td>\n",
       "      <td>6.848216</td>\n",
       "      <td>1</td>\n",
       "    </tr>\n",
       "  </tbody>\n",
       "</table>\n",
       "</div>"
      ],
      "text/plain": [
       "   Predictions  Session_ids    Logits  new_predictions\n",
       "0            1            0  6.916717                1\n",
       "1            1            0  6.848216                1"
      ]
     },
     "execution_count": 2,
     "metadata": {},
     "output_type": "execute_result"
    }
   ],
   "source": [
    "predictions = pd.read_csv(f\"./predictions.csv\")\n",
    "print(f\"We have {predictions.shape[0]} predictions\")\n",
    "predictions.head(2)"
   ]
  },
  {
   "cell_type": "code",
   "execution_count": 3,
   "id": "188cc6e2-7b46-409a-bab3-ac93aeddfb82",
   "metadata": {},
   "outputs": [
    {
     "name": "stdout",
     "output_type": "stream",
     "text": [
      "We analysed 160562 sessions\n"
     ]
    }
   ],
   "source": [
    "print(f\"We analysed {predictions.Session_ids.nunique()} sessions\")"
   ]
  },
  {
   "cell_type": "markdown",
   "id": "e097f8e5-262a-4eaf-a526-4f95a143b773",
   "metadata": {},
   "source": [
    "### Import labels"
   ]
  },
  {
   "cell_type": "code",
   "execution_count": 4,
   "id": "7971eeeb-e50c-42af-a33f-4017ac9ff401",
   "metadata": {},
   "outputs": [],
   "source": [
    "with open(\"../Dataset/Training/Supervised/labels.txt\", \"r\") as f:\n",
    "    labels = [el.strip() for el in f.readlines()]\n",
    "id2label = {i: label for i, label in enumerate(labels)}\n",
    "#Add \"No Prediction\" as a class\n",
    "id2label[10] = \"No Prediction\"\n",
    "label2id = {v: k for k, v in id2label.items()}"
   ]
  },
  {
   "cell_type": "markdown",
   "id": "8a2d4bf5-ab45-4642-9c9b-96f47321a94e",
   "metadata": {},
   "source": [
    "### Convert predictions_id to labels"
   ]
  },
  {
   "cell_type": "code",
   "execution_count": 5,
   "id": "43a03d81-20a2-4aba-a996-636114c6ce61",
   "metadata": {},
   "outputs": [
    {
     "name": "stderr",
     "output_type": "stream",
     "text": [
      "100%|██████████| 17231851/17231851 [00:10<00:00, 1695679.17it/s]\n"
     ]
    },
    {
     "data": {
      "text/html": [
       "<div>\n",
       "<style scoped>\n",
       "    .dataframe tbody tr th:only-of-type {\n",
       "        vertical-align: middle;\n",
       "    }\n",
       "\n",
       "    .dataframe tbody tr th {\n",
       "        vertical-align: top;\n",
       "    }\n",
       "\n",
       "    .dataframe thead th {\n",
       "        text-align: right;\n",
       "    }\n",
       "</style>\n",
       "<table border=\"1\" class=\"dataframe\">\n",
       "  <thead>\n",
       "    <tr style=\"text-align: right;\">\n",
       "      <th></th>\n",
       "      <th>Predictions</th>\n",
       "      <th>Session_ids</th>\n",
       "      <th>Logits</th>\n",
       "      <th>new_predictions</th>\n",
       "      <th>Predicted_classes</th>\n",
       "    </tr>\n",
       "  </thead>\n",
       "  <tbody>\n",
       "    <tr>\n",
       "      <th>0</th>\n",
       "      <td>1</td>\n",
       "      <td>0</td>\n",
       "      <td>6.916717</td>\n",
       "      <td>1</td>\n",
       "      <td>Discovery</td>\n",
       "    </tr>\n",
       "    <tr>\n",
       "      <th>1</th>\n",
       "      <td>1</td>\n",
       "      <td>0</td>\n",
       "      <td>6.848216</td>\n",
       "      <td>1</td>\n",
       "      <td>Discovery</td>\n",
       "    </tr>\n",
       "  </tbody>\n",
       "</table>\n",
       "</div>"
      ],
      "text/plain": [
       "   Predictions  Session_ids    Logits  new_predictions Predicted_classes\n",
       "0            1            0  6.916717                1         Discovery\n",
       "1            1            0  6.848216                1         Discovery"
      ]
     },
     "execution_count": 5,
     "metadata": {},
     "output_type": "execute_result"
    }
   ],
   "source": [
    "from tqdm import tqdm\n",
    "tqdm.pandas()\n",
    "predictions[\"Predicted_classes\"] = predictions[\"new_predictions\"].progress_apply(lambda prediction_id: id2label[prediction_id])\n",
    "predictions.head(2)"
   ]
  },
  {
   "cell_type": "code",
   "execution_count": 6,
   "id": "fe96de70-ff10-4e40-b2f1-059edf91951a",
   "metadata": {},
   "outputs": [
    {
     "name": "stderr",
     "output_type": "stream",
     "text": [
      "100%|██████████| 17231851/17231851 [00:10<00:00, 1662437.37it/s]\n"
     ]
    },
    {
     "data": {
      "text/html": [
       "<div>\n",
       "<style scoped>\n",
       "    .dataframe tbody tr th:only-of-type {\n",
       "        vertical-align: middle;\n",
       "    }\n",
       "\n",
       "    .dataframe tbody tr th {\n",
       "        vertical-align: top;\n",
       "    }\n",
       "\n",
       "    .dataframe thead th {\n",
       "        text-align: right;\n",
       "    }\n",
       "</style>\n",
       "<table border=\"1\" class=\"dataframe\">\n",
       "  <thead>\n",
       "    <tr style=\"text-align: right;\">\n",
       "      <th></th>\n",
       "      <th>Predictions</th>\n",
       "      <th>Session_ids</th>\n",
       "      <th>Logits</th>\n",
       "      <th>new_predictions</th>\n",
       "      <th>Predicted_classes</th>\n",
       "      <th>Models_predictions</th>\n",
       "    </tr>\n",
       "  </thead>\n",
       "  <tbody>\n",
       "    <tr>\n",
       "      <th>0</th>\n",
       "      <td>1</td>\n",
       "      <td>0</td>\n",
       "      <td>6.916717</td>\n",
       "      <td>1</td>\n",
       "      <td>Discovery</td>\n",
       "      <td>Discovery</td>\n",
       "    </tr>\n",
       "    <tr>\n",
       "      <th>1</th>\n",
       "      <td>1</td>\n",
       "      <td>0</td>\n",
       "      <td>6.848216</td>\n",
       "      <td>1</td>\n",
       "      <td>Discovery</td>\n",
       "      <td>Discovery</td>\n",
       "    </tr>\n",
       "  </tbody>\n",
       "</table>\n",
       "</div>"
      ],
      "text/plain": [
       "   Predictions  Session_ids    Logits  new_predictions Predicted_classes  \\\n",
       "0            1            0  6.916717                1         Discovery   \n",
       "1            1            0  6.848216                1         Discovery   \n",
       "\n",
       "  Models_predictions  \n",
       "0          Discovery  \n",
       "1          Discovery  "
      ]
     },
     "execution_count": 6,
     "metadata": {},
     "output_type": "execute_result"
    }
   ],
   "source": [
    "predictions[\"Models_predictions\"] = predictions[\"Predictions\"].progress_apply(lambda prediction_id: id2label[prediction_id])\n",
    "predictions.head(2)"
   ]
  },
  {
   "cell_type": "markdown",
   "id": "6608ab3c-c43f-4a19-a940-39b63861b16c",
   "metadata": {},
   "source": [
    "### Normalize logits"
   ]
  },
  {
   "cell_type": "code",
   "execution_count": 7,
   "id": "bb9cf069-c6fe-4967-a0c8-e915752ae0d2",
   "metadata": {},
   "outputs": [
    {
     "name": "stderr",
     "output_type": "stream",
     "text": [
      "100%|██████████| 17231851/17231851 [00:14<00:00, 1192078.50it/s]\n"
     ]
    },
    {
     "data": {
      "text/html": [
       "<div>\n",
       "<style scoped>\n",
       "    .dataframe tbody tr th:only-of-type {\n",
       "        vertical-align: middle;\n",
       "    }\n",
       "\n",
       "    .dataframe tbody tr th {\n",
       "        vertical-align: top;\n",
       "    }\n",
       "\n",
       "    .dataframe thead th {\n",
       "        text-align: right;\n",
       "    }\n",
       "</style>\n",
       "<table border=\"1\" class=\"dataframe\">\n",
       "  <thead>\n",
       "    <tr style=\"text-align: right;\">\n",
       "      <th></th>\n",
       "      <th>Predictions</th>\n",
       "      <th>Session_ids</th>\n",
       "      <th>Logits</th>\n",
       "      <th>new_predictions</th>\n",
       "      <th>Predicted_classes</th>\n",
       "      <th>Models_predictions</th>\n",
       "      <th>Normalized_logits</th>\n",
       "    </tr>\n",
       "  </thead>\n",
       "  <tbody>\n",
       "    <tr>\n",
       "      <th>0</th>\n",
       "      <td>1</td>\n",
       "      <td>0</td>\n",
       "      <td>6.916717</td>\n",
       "      <td>1</td>\n",
       "      <td>Discovery</td>\n",
       "      <td>Discovery</td>\n",
       "      <td>0.923465</td>\n",
       "    </tr>\n",
       "    <tr>\n",
       "      <th>1</th>\n",
       "      <td>1</td>\n",
       "      <td>0</td>\n",
       "      <td>6.848216</td>\n",
       "      <td>1</td>\n",
       "      <td>Discovery</td>\n",
       "      <td>Discovery</td>\n",
       "      <td>0.913597</td>\n",
       "    </tr>\n",
       "  </tbody>\n",
       "</table>\n",
       "</div>"
      ],
      "text/plain": [
       "   Predictions  Session_ids    Logits  new_predictions Predicted_classes  \\\n",
       "0            1            0  6.916717                1         Discovery   \n",
       "1            1            0  6.848216                1         Discovery   \n",
       "\n",
       "  Models_predictions  Normalized_logits  \n",
       "0          Discovery           0.923465  \n",
       "1          Discovery           0.913597  "
      ]
     },
     "execution_count": 7,
     "metadata": {},
     "output_type": "execute_result"
    }
   ],
   "source": [
    "df_min_max = pd.read_csv(\"../Training/Trained_Model/min_max_scaler.csv\")\n",
    "min_training_logits = df_min_max[\"min_training_logits\"].iloc[0]\n",
    "max_training_logits = df_min_max[\"max_training_logits\"].iloc[0]\n",
    "\n",
    "predictions[\"Normalized_logits\"] = predictions[\"Logits\"].progress_apply(lambda logit: (logit - min_training_logits) / max_training_logits)\n",
    "predictions.head(2)"
   ]
  },
  {
   "cell_type": "markdown",
   "id": "01153e42-3b56-4b1a-b787-e2a047621095",
   "metadata": {},
   "source": [
    "### Importing Corpus"
   ]
  },
  {
   "cell_type": "code",
   "execution_count": 8,
   "id": "2c6064c2-8d83-4b95-84e7-c3c89caa52d8",
   "metadata": {},
   "outputs": [
    {
     "name": "stdout",
     "output_type": "stream",
     "text": [
      "Corpus contains 160562 sessions\n"
     ]
    },
    {
     "data": {
      "text/html": [
       "<div>\n",
       "<style scoped>\n",
       "    .dataframe tbody tr th:only-of-type {\n",
       "        vertical-align: middle;\n",
       "    }\n",
       "\n",
       "    .dataframe tbody tr th {\n",
       "        vertical-align: top;\n",
       "    }\n",
       "\n",
       "    .dataframe thead th {\n",
       "        text-align: right;\n",
       "    }\n",
       "</style>\n",
       "<table border=\"1\" class=\"dataframe\">\n",
       "  <thead>\n",
       "    <tr style=\"text-align: right;\">\n",
       "      <th></th>\n",
       "      <th>session_id</th>\n",
       "      <th>full_session</th>\n",
       "      <th>source_ips</th>\n",
       "      <th>first_timestamp</th>\n",
       "      <th>date</th>\n",
       "    </tr>\n",
       "  </thead>\n",
       "  <tbody>\n",
       "    <tr>\n",
       "      <th>0</th>\n",
       "      <td>0</td>\n",
       "      <td>enable ; system ; shell ; sh ; cat /proc/mount...</td>\n",
       "      <td>213.6.160.50</td>\n",
       "      <td>2021-03-06 00:01:13</td>\n",
       "      <td>2021-03-06</td>\n",
       "    </tr>\n",
       "    <tr>\n",
       "      <th>1</th>\n",
       "      <td>1</td>\n",
       "      <td>enable ; system ; shell ; sh ; cat /proc/mount...</td>\n",
       "      <td>213.94.56.23</td>\n",
       "      <td>2021-03-06 00:02:55</td>\n",
       "      <td>2021-03-06</td>\n",
       "    </tr>\n",
       "  </tbody>\n",
       "</table>\n",
       "</div>"
      ],
      "text/plain": [
       "   session_id                                       full_session  \\\n",
       "0           0  enable ; system ; shell ; sh ; cat /proc/mount...   \n",
       "1           1  enable ; system ; shell ; sh ; cat /proc/mount...   \n",
       "\n",
       "     source_ips      first_timestamp        date  \n",
       "0  213.6.160.50  2021-03-06 00:01:13  2021-03-06  \n",
       "1  213.94.56.23  2021-03-06 00:02:55  2021-03-06  "
      ]
     },
     "execution_count": 8,
     "metadata": {},
     "output_type": "execute_result"
    }
   ],
   "source": [
    "corpus = pd.read_csv(f\"./original_sessions.csv\")\n",
    "print(f\"Corpus contains {corpus.shape[0]} sessions\")\n",
    "corpus.head(2)"
   ]
  },
  {
   "cell_type": "markdown",
   "id": "8721142e-bac9-4563-bf07-beab8b31a320",
   "metadata": {},
   "source": [
    "### Reconstruct the sessions from the prediction"
   ]
  },
  {
   "cell_type": "code",
   "execution_count": 9,
   "id": "dcf654f3-7704-4343-bf35-6aa442d7a3b5",
   "metadata": {},
   "outputs": [
    {
     "name": "stderr",
     "output_type": "stream",
     "text": [
      "100%|██████████| 160562/160562 [00:03<00:00, 42591.45it/s]\n"
     ]
    },
    {
     "data": {
      "text/html": [
       "<div>\n",
       "<style scoped>\n",
       "    .dataframe tbody tr th:only-of-type {\n",
       "        vertical-align: middle;\n",
       "    }\n",
       "\n",
       "    .dataframe tbody tr th {\n",
       "        vertical-align: top;\n",
       "    }\n",
       "\n",
       "    .dataframe thead th {\n",
       "        text-align: right;\n",
       "    }\n",
       "</style>\n",
       "<table border=\"1\" class=\"dataframe\">\n",
       "  <thead>\n",
       "    <tr style=\"text-align: right;\">\n",
       "      <th></th>\n",
       "      <th>Session_ids</th>\n",
       "      <th>Predicted_classes</th>\n",
       "    </tr>\n",
       "  </thead>\n",
       "  <tbody>\n",
       "    <tr>\n",
       "      <th>0</th>\n",
       "      <td>0</td>\n",
       "      <td>[Discovery, Discovery, Discovery, Discovery, D...</td>\n",
       "    </tr>\n",
       "    <tr>\n",
       "      <th>1</th>\n",
       "      <td>1</td>\n",
       "      <td>[Discovery, Discovery, Discovery, Discovery, D...</td>\n",
       "    </tr>\n",
       "  </tbody>\n",
       "</table>\n",
       "</div>"
      ],
      "text/plain": [
       "   Session_ids                                  Predicted_classes\n",
       "0            0  [Discovery, Discovery, Discovery, Discovery, D...\n",
       "1            1  [Discovery, Discovery, Discovery, Discovery, D..."
      ]
     },
     "execution_count": 9,
     "metadata": {},
     "output_type": "execute_result"
    }
   ],
   "source": [
    "sessions_predictions = predictions.groupby(\"Session_ids\")['Predicted_classes'].progress_apply(list).reset_index()\n",
    "sessions_predictions.head(2)"
   ]
  },
  {
   "cell_type": "markdown",
   "id": "9deaaba2-8f3f-4939-b07d-755a816cda06",
   "metadata": {},
   "source": [
    "#### Also save the model's predictions"
   ]
  },
  {
   "cell_type": "code",
   "execution_count": 10,
   "id": "37b6b589-40a9-495c-ac2b-79242fdbc0bf",
   "metadata": {},
   "outputs": [
    {
     "name": "stderr",
     "output_type": "stream",
     "text": [
      "100%|██████████| 160562/160562 [00:03<00:00, 40511.50it/s]\n"
     ]
    },
    {
     "data": {
      "text/html": [
       "<div>\n",
       "<style scoped>\n",
       "    .dataframe tbody tr th:only-of-type {\n",
       "        vertical-align: middle;\n",
       "    }\n",
       "\n",
       "    .dataframe tbody tr th {\n",
       "        vertical-align: top;\n",
       "    }\n",
       "\n",
       "    .dataframe thead th {\n",
       "        text-align: right;\n",
       "    }\n",
       "</style>\n",
       "<table border=\"1\" class=\"dataframe\">\n",
       "  <thead>\n",
       "    <tr style=\"text-align: right;\">\n",
       "      <th></th>\n",
       "      <th>Session_ids</th>\n",
       "      <th>Models_predictions</th>\n",
       "    </tr>\n",
       "  </thead>\n",
       "  <tbody>\n",
       "    <tr>\n",
       "      <th>0</th>\n",
       "      <td>0</td>\n",
       "      <td>[Discovery, Discovery, Discovery, Discovery, D...</td>\n",
       "    </tr>\n",
       "    <tr>\n",
       "      <th>1</th>\n",
       "      <td>1</td>\n",
       "      <td>[Discovery, Discovery, Discovery, Discovery, D...</td>\n",
       "    </tr>\n",
       "  </tbody>\n",
       "</table>\n",
       "</div>"
      ],
      "text/plain": [
       "   Session_ids                                 Models_predictions\n",
       "0            0  [Discovery, Discovery, Discovery, Discovery, D...\n",
       "1            1  [Discovery, Discovery, Discovery, Discovery, D..."
      ]
     },
     "execution_count": 10,
     "metadata": {},
     "output_type": "execute_result"
    }
   ],
   "source": [
    "sessions_model_predictions = predictions.groupby(\"Session_ids\")['Models_predictions'].progress_apply(list).reset_index()\n",
    "sessions_model_predictions.head(2)"
   ]
  },
  {
   "cell_type": "markdown",
   "id": "2ce743aa-867f-41a1-a948-7b099a7d9ca4",
   "metadata": {},
   "source": [
    "### Also save how confident the model is on those predictions"
   ]
  },
  {
   "cell_type": "code",
   "execution_count": 11,
   "id": "948c5942-c83f-436e-b363-21d4beb24151",
   "metadata": {},
   "outputs": [
    {
     "name": "stderr",
     "output_type": "stream",
     "text": [
      "100%|██████████| 160562/160562 [00:04<00:00, 37391.75it/s]\n"
     ]
    },
    {
     "data": {
      "text/html": [
       "<div>\n",
       "<style scoped>\n",
       "    .dataframe tbody tr th:only-of-type {\n",
       "        vertical-align: middle;\n",
       "    }\n",
       "\n",
       "    .dataframe tbody tr th {\n",
       "        vertical-align: top;\n",
       "    }\n",
       "\n",
       "    .dataframe thead th {\n",
       "        text-align: right;\n",
       "    }\n",
       "</style>\n",
       "<table border=\"1\" class=\"dataframe\">\n",
       "  <thead>\n",
       "    <tr style=\"text-align: right;\">\n",
       "      <th></th>\n",
       "      <th>Session_ids</th>\n",
       "      <th>Normalized_logits</th>\n",
       "    </tr>\n",
       "  </thead>\n",
       "  <tbody>\n",
       "    <tr>\n",
       "      <th>0</th>\n",
       "      <td>0</td>\n",
       "      <td>[0.9234652890281074, 0.9135971909033552, 0.923...</td>\n",
       "    </tr>\n",
       "    <tr>\n",
       "      <th>1</th>\n",
       "      <td>1</td>\n",
       "      <td>[0.9552223095097276, 0.9466695868669596, 0.955...</td>\n",
       "    </tr>\n",
       "  </tbody>\n",
       "</table>\n",
       "</div>"
      ],
      "text/plain": [
       "   Session_ids                                  Normalized_logits\n",
       "0            0  [0.9234652890281074, 0.9135971909033552, 0.923...\n",
       "1            1  [0.9552223095097276, 0.9466695868669596, 0.955..."
      ]
     },
     "execution_count": 11,
     "metadata": {},
     "output_type": "execute_result"
    }
   ],
   "source": [
    "sessions_logits = predictions.groupby(\"Session_ids\")['Normalized_logits'].progress_apply(list).reset_index()\n",
    "sessions_logits.head(2)"
   ]
  },
  {
   "cell_type": "markdown",
   "id": "6f8731c2-39f4-4651-93a0-44eb45e1b69d",
   "metadata": {},
   "source": [
    "### Merge the 3 datasets"
   ]
  },
  {
   "cell_type": "code",
   "execution_count": 12,
   "id": "e364ea81-cd8b-40ac-b603-f523e874f2ef",
   "metadata": {},
   "outputs": [
    {
     "data": {
      "text/html": [
       "<div>\n",
       "<style scoped>\n",
       "    .dataframe tbody tr th:only-of-type {\n",
       "        vertical-align: middle;\n",
       "    }\n",
       "\n",
       "    .dataframe tbody tr th {\n",
       "        vertical-align: top;\n",
       "    }\n",
       "\n",
       "    .dataframe thead th {\n",
       "        text-align: right;\n",
       "    }\n",
       "</style>\n",
       "<table border=\"1\" class=\"dataframe\">\n",
       "  <thead>\n",
       "    <tr style=\"text-align: right;\">\n",
       "      <th></th>\n",
       "      <th>session_id</th>\n",
       "      <th>Predicted_classes</th>\n",
       "      <th>Normalized_logits</th>\n",
       "      <th>Models_predictions</th>\n",
       "    </tr>\n",
       "  </thead>\n",
       "  <tbody>\n",
       "    <tr>\n",
       "      <th>0</th>\n",
       "      <td>0</td>\n",
       "      <td>[Discovery, Discovery, Discovery, Discovery, D...</td>\n",
       "      <td>[0.9234652890281074, 0.9135971909033552, 0.923...</td>\n",
       "      <td>[Discovery, Discovery, Discovery, Discovery, D...</td>\n",
       "    </tr>\n",
       "    <tr>\n",
       "      <th>1</th>\n",
       "      <td>1</td>\n",
       "      <td>[Discovery, Discovery, Discovery, Discovery, D...</td>\n",
       "      <td>[0.9552223095097276, 0.9466695868669596, 0.955...</td>\n",
       "      <td>[Discovery, Discovery, Discovery, Discovery, D...</td>\n",
       "    </tr>\n",
       "  </tbody>\n",
       "</table>\n",
       "</div>"
      ],
      "text/plain": [
       "   session_id                                  Predicted_classes  \\\n",
       "0           0  [Discovery, Discovery, Discovery, Discovery, D...   \n",
       "1           1  [Discovery, Discovery, Discovery, Discovery, D...   \n",
       "\n",
       "                                   Normalized_logits  \\\n",
       "0  [0.9234652890281074, 0.9135971909033552, 0.923...   \n",
       "1  [0.9552223095097276, 0.9466695868669596, 0.955...   \n",
       "\n",
       "                                  Models_predictions  \n",
       "0  [Discovery, Discovery, Discovery, Discovery, D...  \n",
       "1  [Discovery, Discovery, Discovery, Discovery, D...  "
      ]
     },
     "execution_count": 12,
     "metadata": {},
     "output_type": "execute_result"
    }
   ],
   "source": [
    "sessions_info = sessions_predictions.merge(sessions_logits, on = \"Session_ids\").merge(sessions_model_predictions, on = \"Session_ids\")\n",
    "sessions_info = sessions_info.rename({\"Session_ids\": \"session_id\"}, axis = 1)\n",
    "sessions_info.head(2)"
   ]
  },
  {
   "cell_type": "markdown",
   "id": "c06f8895-c416-4d81-9c56-d866c8aee513",
   "metadata": {},
   "source": [
    "### Eventually, merge with original corpus"
   ]
  },
  {
   "cell_type": "code",
   "execution_count": 13,
   "id": "84779052-b350-410f-b193-8b5634172a52",
   "metadata": {},
   "outputs": [
    {
     "data": {
      "text/html": [
       "<div>\n",
       "<style scoped>\n",
       "    .dataframe tbody tr th:only-of-type {\n",
       "        vertical-align: middle;\n",
       "    }\n",
       "\n",
       "    .dataframe tbody tr th {\n",
       "        vertical-align: top;\n",
       "    }\n",
       "\n",
       "    .dataframe thead th {\n",
       "        text-align: right;\n",
       "    }\n",
       "</style>\n",
       "<table border=\"1\" class=\"dataframe\">\n",
       "  <thead>\n",
       "    <tr style=\"text-align: right;\">\n",
       "      <th></th>\n",
       "      <th>session_id</th>\n",
       "      <th>full_session</th>\n",
       "      <th>source_ips</th>\n",
       "      <th>first_timestamp</th>\n",
       "      <th>date</th>\n",
       "      <th>Predicted_classes</th>\n",
       "      <th>Normalized_logits</th>\n",
       "      <th>Models_predictions</th>\n",
       "    </tr>\n",
       "  </thead>\n",
       "  <tbody>\n",
       "    <tr>\n",
       "      <th>0</th>\n",
       "      <td>0</td>\n",
       "      <td>enable ; system ; shell ; sh ; cat /proc/mount...</td>\n",
       "      <td>213.6.160.50</td>\n",
       "      <td>2021-03-06 00:01:13</td>\n",
       "      <td>2021-03-06</td>\n",
       "      <td>[Discovery, Discovery, Discovery, Discovery, D...</td>\n",
       "      <td>[0.9234652890281074, 0.9135971909033552, 0.923...</td>\n",
       "      <td>[Discovery, Discovery, Discovery, Discovery, D...</td>\n",
       "    </tr>\n",
       "    <tr>\n",
       "      <th>1</th>\n",
       "      <td>1</td>\n",
       "      <td>enable ; system ; shell ; sh ; cat /proc/mount...</td>\n",
       "      <td>213.94.56.23</td>\n",
       "      <td>2021-03-06 00:02:55</td>\n",
       "      <td>2021-03-06</td>\n",
       "      <td>[Discovery, Discovery, Discovery, Discovery, D...</td>\n",
       "      <td>[0.9552223095097276, 0.9466695868669596, 0.955...</td>\n",
       "      <td>[Discovery, Discovery, Discovery, Discovery, D...</td>\n",
       "    </tr>\n",
       "  </tbody>\n",
       "</table>\n",
       "</div>"
      ],
      "text/plain": [
       "   session_id                                       full_session  \\\n",
       "0           0  enable ; system ; shell ; sh ; cat /proc/mount...   \n",
       "1           1  enable ; system ; shell ; sh ; cat /proc/mount...   \n",
       "\n",
       "     source_ips      first_timestamp        date  \\\n",
       "0  213.6.160.50  2021-03-06 00:01:13  2021-03-06   \n",
       "1  213.94.56.23  2021-03-06 00:02:55  2021-03-06   \n",
       "\n",
       "                                   Predicted_classes  \\\n",
       "0  [Discovery, Discovery, Discovery, Discovery, D...   \n",
       "1  [Discovery, Discovery, Discovery, Discovery, D...   \n",
       "\n",
       "                                   Normalized_logits  \\\n",
       "0  [0.9234652890281074, 0.9135971909033552, 0.923...   \n",
       "1  [0.9552223095097276, 0.9466695868669596, 0.955...   \n",
       "\n",
       "                                  Models_predictions  \n",
       "0  [Discovery, Discovery, Discovery, Discovery, D...  \n",
       "1  [Discovery, Discovery, Discovery, Discovery, D...  "
      ]
     },
     "execution_count": 13,
     "metadata": {},
     "output_type": "execute_result"
    }
   ],
   "source": [
    "merged_corpus = corpus.merge(sessions_info, on = \"session_id\")\n",
    "merged_corpus.head(2)"
   ]
  },
  {
   "cell_type": "markdown",
   "id": "4a252f76-3170-4c7d-abf7-cdfc2f33e5c1",
   "metadata": {},
   "source": [
    "#### Adjust sessions to eliminate extra spaces"
   ]
  },
  {
   "cell_type": "code",
   "execution_count": 14,
   "id": "66a7dba9-d3f4-4652-9884-fa35ece32932",
   "metadata": {},
   "outputs": [
    {
     "name": "stderr",
     "output_type": "stream",
     "text": [
      "100%|██████████| 160562/160562 [00:02<00:00, 72993.33it/s]\n"
     ]
    },
    {
     "data": {
      "text/html": [
       "<div>\n",
       "<style scoped>\n",
       "    .dataframe tbody tr th:only-of-type {\n",
       "        vertical-align: middle;\n",
       "    }\n",
       "\n",
       "    .dataframe tbody tr th {\n",
       "        vertical-align: top;\n",
       "    }\n",
       "\n",
       "    .dataframe thead th {\n",
       "        text-align: right;\n",
       "    }\n",
       "</style>\n",
       "<table border=\"1\" class=\"dataframe\">\n",
       "  <thead>\n",
       "    <tr style=\"text-align: right;\">\n",
       "      <th></th>\n",
       "      <th>session_id</th>\n",
       "      <th>full_session</th>\n",
       "      <th>source_ips</th>\n",
       "      <th>first_timestamp</th>\n",
       "      <th>date</th>\n",
       "      <th>Predicted_classes</th>\n",
       "      <th>Normalized_logits</th>\n",
       "      <th>Models_predictions</th>\n",
       "    </tr>\n",
       "  </thead>\n",
       "  <tbody>\n",
       "    <tr>\n",
       "      <th>0</th>\n",
       "      <td>0</td>\n",
       "      <td>enable ; system ; shell ; sh ; cat /proc/mount...</td>\n",
       "      <td>213.6.160.50</td>\n",
       "      <td>2021-03-06 00:01:13</td>\n",
       "      <td>2021-03-06</td>\n",
       "      <td>[Discovery, Discovery, Discovery, Discovery, D...</td>\n",
       "      <td>[0.9234652890281074, 0.9135971909033552, 0.923...</td>\n",
       "      <td>[Discovery, Discovery, Discovery, Discovery, D...</td>\n",
       "    </tr>\n",
       "    <tr>\n",
       "      <th>1</th>\n",
       "      <td>1</td>\n",
       "      <td>enable ; system ; shell ; sh ; cat /proc/mount...</td>\n",
       "      <td>213.94.56.23</td>\n",
       "      <td>2021-03-06 00:02:55</td>\n",
       "      <td>2021-03-06</td>\n",
       "      <td>[Discovery, Discovery, Discovery, Discovery, D...</td>\n",
       "      <td>[0.9552223095097276, 0.9466695868669596, 0.955...</td>\n",
       "      <td>[Discovery, Discovery, Discovery, Discovery, D...</td>\n",
       "    </tr>\n",
       "  </tbody>\n",
       "</table>\n",
       "</div>"
      ],
      "text/plain": [
       "   session_id                                       full_session  \\\n",
       "0           0  enable ; system ; shell ; sh ; cat /proc/mount...   \n",
       "1           1  enable ; system ; shell ; sh ; cat /proc/mount...   \n",
       "\n",
       "     source_ips      first_timestamp        date  \\\n",
       "0  213.6.160.50  2021-03-06 00:01:13  2021-03-06   \n",
       "1  213.94.56.23  2021-03-06 00:02:55  2021-03-06   \n",
       "\n",
       "                                   Predicted_classes  \\\n",
       "0  [Discovery, Discovery, Discovery, Discovery, D...   \n",
       "1  [Discovery, Discovery, Discovery, Discovery, D...   \n",
       "\n",
       "                                   Normalized_logits  \\\n",
       "0  [0.9234652890281074, 0.9135971909033552, 0.923...   \n",
       "1  [0.9552223095097276, 0.9466695868669596, 0.955...   \n",
       "\n",
       "                                  Models_predictions  \n",
       "0  [Discovery, Discovery, Discovery, Discovery, D...  \n",
       "1  [Discovery, Discovery, Discovery, Discovery, D...  "
      ]
     },
     "execution_count": 14,
     "metadata": {},
     "output_type": "execute_result"
    }
   ],
   "source": [
    "merged_corpus[\"full_session\"] = merged_corpus[\"full_session\"].progress_apply(lambda session: \" \".join([el.strip() for el in session.split(\" \") if el.strip()!= \"\"]))\n",
    "merged_corpus.head(2)"
   ]
  },
  {
   "cell_type": "markdown",
   "id": "967cdd1a-27dc-4fa0-97f5-e6e1f0d2b73b",
   "metadata": {},
   "source": [
    "#### Delete those sessions which got truncated even with the mitigation policy\n",
    "##### We find them by comparing the number of words with the number of labels (should be 1to1 match)"
   ]
  },
  {
   "cell_type": "code",
   "execution_count": 15,
   "id": "c246937b-76ae-4e7f-ae12-f1eec3a19ec4",
   "metadata": {},
   "outputs": [
    {
     "name": "stderr",
     "output_type": "stream",
     "text": [
      "100%|██████████| 160562/160562 [00:00<00:00, 299702.74it/s]\n",
      "100%|██████████| 160562/160562 [00:00<00:00, 1175148.43it/s]"
     ]
    },
    {
     "name": "stdout",
     "output_type": "stream",
     "text": [
      "Adopting the mitigation approach, we still lose 86 sessions (0.05 % of total) and 4380.0 words (0.03 % of toral)\n"
     ]
    },
    {
     "name": "stderr",
     "output_type": "stream",
     "text": [
      "\n"
     ]
    }
   ],
   "source": [
    "n_words = merged_corpus.full_session.progress_apply(lambda session: len(session.split(\" \")))\n",
    "n_labels = merged_corpus.Predicted_classes.progress_apply(lambda el: len(el))\n",
    "indexes_to_remove = n_words.compare(n_labels).index\n",
    "non_labeled_words = n_words.compare(n_labels).apply(lambda row: row.self - row.other, axis = 1).sum()\n",
    "print(f\"Adopting the mitigation approach, we still lose {indexes_to_remove.shape[0]} sessions ({indexes_to_remove.shape[0]/n_words.shape[0] *100:.2f} % of total) \", end = \"\")\n",
    "print(f\"and {non_labeled_words} words ({non_labeled_words/n_words.sum()*100:.2f} % of toral)\")"
   ]
  },
  {
   "cell_type": "code",
   "execution_count": 16,
   "id": "c14a44bd-5f36-4757-aeb1-d03eff2736a9",
   "metadata": {},
   "outputs": [
    {
     "name": "stdout",
     "output_type": "stream",
     "text": [
      "Shape before dropping: 160562\n",
      "Shape after dropping: 160476 (removed 86 rows)\n"
     ]
    }
   ],
   "source": [
    "print(f\"Shape before dropping: {merged_corpus.shape[0]}\")\n",
    "final_df = merged_corpus.drop(indexes_to_remove)\n",
    "print(f\"Shape after dropping: {final_df.shape[0]} (removed {indexes_to_remove.shape[0]} rows)\")"
   ]
  },
  {
   "cell_type": "markdown",
   "id": "02956980-aef3-453b-ad11-2f0412d2a8e5",
   "metadata": {},
   "source": [
    "#### Obtain average logit per session + min logit per session"
   ]
  },
  {
   "cell_type": "code",
   "execution_count": 17,
   "id": "0dff0e5e-a4a5-44de-9386-5fcd1b59e99f",
   "metadata": {},
   "outputs": [
    {
     "name": "stderr",
     "output_type": "stream",
     "text": [
      "100%|██████████| 160476/160476 [00:02<00:00, 66078.07it/s]\n",
      "100%|██████████| 160476/160476 [00:01<00:00, 84011.28it/s]\n"
     ]
    },
    {
     "data": {
      "text/html": [
       "<div>\n",
       "<style scoped>\n",
       "    .dataframe tbody tr th:only-of-type {\n",
       "        vertical-align: middle;\n",
       "    }\n",
       "\n",
       "    .dataframe tbody tr th {\n",
       "        vertical-align: top;\n",
       "    }\n",
       "\n",
       "    .dataframe thead th {\n",
       "        text-align: right;\n",
       "    }\n",
       "</style>\n",
       "<table border=\"1\" class=\"dataframe\">\n",
       "  <thead>\n",
       "    <tr style=\"text-align: right;\">\n",
       "      <th></th>\n",
       "      <th>session_id</th>\n",
       "      <th>full_session</th>\n",
       "      <th>source_ips</th>\n",
       "      <th>first_timestamp</th>\n",
       "      <th>date</th>\n",
       "      <th>Predicted_classes</th>\n",
       "      <th>Models_predictions</th>\n",
       "      <th>avg_confidence_per_session</th>\n",
       "      <th>min_confidence_per_session</th>\n",
       "    </tr>\n",
       "  </thead>\n",
       "  <tbody>\n",
       "    <tr>\n",
       "      <th>0</th>\n",
       "      <td>0</td>\n",
       "      <td>enable ; system ; shell ; sh ; cat /proc/mount...</td>\n",
       "      <td>213.6.160.50</td>\n",
       "      <td>2021-03-06 00:01:13</td>\n",
       "      <td>2021-03-06</td>\n",
       "      <td>[Discovery, Discovery, Discovery, Discovery, D...</td>\n",
       "      <td>[Discovery, Discovery, Discovery, Discovery, D...</td>\n",
       "      <td>0.793385</td>\n",
       "      <td>0.253240</td>\n",
       "    </tr>\n",
       "    <tr>\n",
       "      <th>1</th>\n",
       "      <td>1</td>\n",
       "      <td>enable ; system ; shell ; sh ; cat /proc/mount...</td>\n",
       "      <td>213.94.56.23</td>\n",
       "      <td>2021-03-06 00:02:55</td>\n",
       "      <td>2021-03-06</td>\n",
       "      <td>[Discovery, Discovery, Discovery, Discovery, D...</td>\n",
       "      <td>[Discovery, Discovery, Discovery, Discovery, D...</td>\n",
       "      <td>0.818248</td>\n",
       "      <td>0.175923</td>\n",
       "    </tr>\n",
       "  </tbody>\n",
       "</table>\n",
       "</div>"
      ],
      "text/plain": [
       "   session_id                                       full_session  \\\n",
       "0           0  enable ; system ; shell ; sh ; cat /proc/mount...   \n",
       "1           1  enable ; system ; shell ; sh ; cat /proc/mount...   \n",
       "\n",
       "     source_ips      first_timestamp        date  \\\n",
       "0  213.6.160.50  2021-03-06 00:01:13  2021-03-06   \n",
       "1  213.94.56.23  2021-03-06 00:02:55  2021-03-06   \n",
       "\n",
       "                                   Predicted_classes  \\\n",
       "0  [Discovery, Discovery, Discovery, Discovery, D...   \n",
       "1  [Discovery, Discovery, Discovery, Discovery, D...   \n",
       "\n",
       "                                  Models_predictions  \\\n",
       "0  [Discovery, Discovery, Discovery, Discovery, D...   \n",
       "1  [Discovery, Discovery, Discovery, Discovery, D...   \n",
       "\n",
       "   avg_confidence_per_session  min_confidence_per_session  \n",
       "0                    0.793385                    0.253240  \n",
       "1                    0.818248                    0.175923  "
      ]
     },
     "execution_count": 17,
     "metadata": {},
     "output_type": "execute_result"
    }
   ],
   "source": [
    "import numpy as np\n",
    "final_df[\"avg_confidence_per_session\"] = final_df[\"Normalized_logits\"].progress_apply(lambda logits: np.mean(logits))\n",
    "final_df[\"min_confidence_per_session\"] = final_df[\"Normalized_logits\"].progress_apply(lambda logits: np.min(logits))\n",
    "final_df.drop([\"Normalized_logits\"], axis = 1).head(2)"
   ]
  },
  {
   "cell_type": "markdown",
   "id": "4420bc1d-d47f-4c5e-a097-0231e6f14af2",
   "metadata": {},
   "source": [
    "### Select only those rows that contain unique sessions (if there are still non-unique)"
   ]
  },
  {
   "cell_type": "code",
   "execution_count": 18,
   "id": "15863945-3b89-48fe-b836-c99af1b98e36",
   "metadata": {},
   "outputs": [
    {
     "name": "stdout",
     "output_type": "stream",
     "text": [
      "Before removing duplicates: 160476\n",
      "After removing duplicates: 160475\n"
     ]
    }
   ],
   "source": [
    "final_df[\"first_timestamp\"] = pd.to_datetime(final_df[\"first_timestamp\"])\n",
    "final_df.sort_values(by = \"first_timestamp\", ascending = True, inplace = True)\n",
    "print(f\"Before removing duplicates: {final_df.shape[0]}\")\n",
    "final_df = final_df.drop_duplicates(\"full_session\")\n",
    "print(f\"After removing duplicates: {final_df.shape[0]}\")"
   ]
  },
  {
   "cell_type": "markdown",
   "id": "91615786-3b0b-4ada-a491-030d194e505b",
   "metadata": {},
   "source": [
    "### Export corpus with predictions\n",
    "#### First, convert predictions to strings"
   ]
  },
  {
   "cell_type": "code",
   "execution_count": 19,
   "id": "6f326d43-92ae-410a-9e64-947b066c87f3",
   "metadata": {},
   "outputs": [
    {
     "name": "stderr",
     "output_type": "stream",
     "text": [
      "100%|██████████| 160475/160475 [00:00<00:00, 414088.98it/s]\n",
      "100%|██████████| 160475/160475 [00:00<00:00, 415694.78it/s]\n"
     ]
    },
    {
     "data": {
      "text/html": [
       "<div>\n",
       "<style scoped>\n",
       "    .dataframe tbody tr th:only-of-type {\n",
       "        vertical-align: middle;\n",
       "    }\n",
       "\n",
       "    .dataframe tbody tr th {\n",
       "        vertical-align: top;\n",
       "    }\n",
       "\n",
       "    .dataframe thead th {\n",
       "        text-align: right;\n",
       "    }\n",
       "</style>\n",
       "<table border=\"1\" class=\"dataframe\">\n",
       "  <thead>\n",
       "    <tr style=\"text-align: right;\">\n",
       "      <th></th>\n",
       "      <th>session_id</th>\n",
       "      <th>full_session</th>\n",
       "      <th>source_ips</th>\n",
       "      <th>first_timestamp</th>\n",
       "      <th>date</th>\n",
       "      <th>Predicted_classes</th>\n",
       "      <th>Normalized_logits</th>\n",
       "      <th>Models_predictions</th>\n",
       "      <th>avg_confidence_per_session</th>\n",
       "      <th>min_confidence_per_session</th>\n",
       "    </tr>\n",
       "  </thead>\n",
       "  <tbody>\n",
       "    <tr>\n",
       "      <th>0</th>\n",
       "      <td>0</td>\n",
       "      <td>enable ; system ; shell ; sh ; cat /proc/mount...</td>\n",
       "      <td>213.6.160.50</td>\n",
       "      <td>2021-03-06 00:01:13</td>\n",
       "      <td>2021-03-06</td>\n",
       "      <td>Discovery -- Discovery -- Discovery -- Discove...</td>\n",
       "      <td>[0.9234652890281074, 0.9135971909033552, 0.923...</td>\n",
       "      <td>Discovery -- Discovery -- Discovery -- Discove...</td>\n",
       "      <td>0.793385</td>\n",
       "      <td>0.253240</td>\n",
       "    </tr>\n",
       "    <tr>\n",
       "      <th>1</th>\n",
       "      <td>1</td>\n",
       "      <td>enable ; system ; shell ; sh ; cat /proc/mount...</td>\n",
       "      <td>213.94.56.23</td>\n",
       "      <td>2021-03-06 00:02:55</td>\n",
       "      <td>2021-03-06</td>\n",
       "      <td>Discovery -- Discovery -- Discovery -- Discove...</td>\n",
       "      <td>[0.9552223095097276, 0.9466695868669596, 0.955...</td>\n",
       "      <td>Discovery -- Discovery -- Discovery -- Discove...</td>\n",
       "      <td>0.818248</td>\n",
       "      <td>0.175923</td>\n",
       "    </tr>\n",
       "  </tbody>\n",
       "</table>\n",
       "</div>"
      ],
      "text/plain": [
       "   session_id                                       full_session  \\\n",
       "0           0  enable ; system ; shell ; sh ; cat /proc/mount...   \n",
       "1           1  enable ; system ; shell ; sh ; cat /proc/mount...   \n",
       "\n",
       "     source_ips     first_timestamp        date  \\\n",
       "0  213.6.160.50 2021-03-06 00:01:13  2021-03-06   \n",
       "1  213.94.56.23 2021-03-06 00:02:55  2021-03-06   \n",
       "\n",
       "                                   Predicted_classes  \\\n",
       "0  Discovery -- Discovery -- Discovery -- Discove...   \n",
       "1  Discovery -- Discovery -- Discovery -- Discove...   \n",
       "\n",
       "                                   Normalized_logits  \\\n",
       "0  [0.9234652890281074, 0.9135971909033552, 0.923...   \n",
       "1  [0.9552223095097276, 0.9466695868669596, 0.955...   \n",
       "\n",
       "                                  Models_predictions  \\\n",
       "0  Discovery -- Discovery -- Discovery -- Discove...   \n",
       "1  Discovery -- Discovery -- Discovery -- Discove...   \n",
       "\n",
       "   avg_confidence_per_session  min_confidence_per_session  \n",
       "0                    0.793385                    0.253240  \n",
       "1                    0.818248                    0.175923  "
      ]
     },
     "execution_count": 19,
     "metadata": {},
     "output_type": "execute_result"
    }
   ],
   "source": [
    "final_df[\"Predicted_classes\"] = final_df[\"Predicted_classes\"].progress_apply(lambda prediction: \" -- \".join(prediction))\n",
    "final_df[\"Models_predictions\"] = final_df[\"Models_predictions\"].progress_apply(lambda prediction: \" -- \".join(prediction))\n",
    "final_df.head(2)"
   ]
  },
  {
   "cell_type": "markdown",
   "id": "a4ee403f-9a10-44a7-871f-9d76f7ac3ada",
   "metadata": {},
   "source": [
    "#### Export"
   ]
  },
  {
   "cell_type": "code",
   "execution_count": 20,
   "id": "db5776c0-a13b-4c90-a833-411e775557b4",
   "metadata": {},
   "outputs": [],
   "source": [
    "import csv"
   ]
  },
  {
   "cell_type": "code",
   "execution_count": 21,
   "id": "2e36d8e9-7deb-4b01-ab9f-b4d7cb5781ea",
   "metadata": {},
   "outputs": [],
   "source": [
    "PATH_FILE = f\"./corpus_with_predictions.csv\"\n",
    "final_df[[\"session_id\", \"full_session\", \"sensor\", \"first_timestamp\", \"Predicted_classes\", \"Models_predictions\"]].to_csv(PATH_FILE, index = False, quoting=csv.QUOTE_ALL)"
   ]
  },
  {
   "cell_type": "code",
   "execution_count": 22,
   "id": "dcc3f924-17bf-4fa2-b19a-3608ef6d088c",
   "metadata": {},
   "outputs": [],
   "source": [
    "assert pd.read_csv(PATH_FILE).shape[0] == final_df.shape[0], \"Error: wrong exporting\""
   ]
  },
  {
   "cell_type": "code",
   "execution_count": null,
   "id": "c8d6aa30-8a2b-4825-9d70-b030c97c6d03",
   "metadata": {},
   "outputs": [],
   "source": []
  },
  {
   "cell_type": "code",
   "execution_count": null,
   "id": "ca881c12-1785-4c06-ac4f-20372b942a3d",
   "metadata": {},
   "outputs": [],
   "source": []
  }
 ],
 "metadata": {
  "kernelspec": {
   "display_name": "Python 3 (ipykernel)",
   "language": "python",
   "name": "python3"
  },
  "language_info": {
   "codemirror_mode": {
    "name": "ipython",
    "version": 3
   },
   "file_extension": ".py",
   "mimetype": "text/x-python",
   "name": "python",
   "nbconvert_exporter": "python",
   "pygments_lexer": "ipython3",
   "version": "3.7.12"
  }
 },
 "nbformat": 4,
 "nbformat_minor": 5
}
