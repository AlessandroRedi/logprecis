{
 "cells": [
  {
   "cell_type": "markdown",
   "id": "315f4eac-c690-4ea9-921f-4dab429dfc0c",
   "metadata": {},
   "source": [
    "# This notebook prepares the dataset for NER\n",
    "## We will try solving:\n",
    "- Token classification\n",
    "- Word Classification\n",
    "- Statement Classification"
   ]
  },
  {
   "cell_type": "markdown",
   "id": "26f791b6-adf9-48bf-a758-34415703357e",
   "metadata": {},
   "source": [
    "## Following https://huggingface.co/course/chapter7/2?fw=pt"
   ]
  },
  {
   "cell_type": "markdown",
   "id": "07ba2816-da30-4b06-9eb8-f6985d47cca2",
   "metadata": {},
   "source": [
    "### This notebook splits the sessions with too statements\n",
    "#### We also try to provide some \"context\" to the splitted statements"
   ]
  },
  {
   "cell_type": "markdown",
   "id": "8178a96b-375c-4c4e-9ba8-7eda15c364ef",
   "metadata": {},
   "source": [
    "## Read dataset of labeled sessions"
   ]
  },
  {
   "cell_type": "code",
   "execution_count": 2,
   "id": "e30e4a10-b803-43a7-9f80-25064280ef50",
   "metadata": {},
   "outputs": [],
   "source": [
    "import pandas as pd\n",
    "pd.set_option('display.max_colwidth', None)\n",
    "\n",
    "input_file = \"./supervised_corpus.json\""
   ]
  },
  {
   "cell_type": "code",
   "execution_count": 18,
   "id": "7d375fd4-a2cb-4ab3-8a9d-99e533617602",
   "metadata": {},
   "outputs": [
    {
     "name": "stdout",
     "output_type": "stream",
     "text": [
      "Dataset contains 359 elements\n"
     ]
    },
    {
     "data": {
      "text/html": [
       "<div>\n",
       "<style scoped>\n",
       "    .dataframe tbody tr th:only-of-type {\n",
       "        vertical-align: middle;\n",
       "    }\n",
       "\n",
       "    .dataframe tbody tr th {\n",
       "        vertical-align: top;\n",
       "    }\n",
       "\n",
       "    .dataframe thead th {\n",
       "        text-align: right;\n",
       "    }\n",
       "</style>\n",
       "<table border=\"1\" class=\"dataframe\">\n",
       "  <thead>\n",
       "    <tr style=\"text-align: right;\">\n",
       "      <th></th>\n",
       "      <th>session</th>\n",
       "      <th>labels</th>\n",
       "    </tr>\n",
       "  </thead>\n",
       "  <tbody>\n",
       "    <tr>\n",
       "      <th>0</th>\n",
       "      <td>scp -t /tmp/Muw3fuvA ; cd /tmp &amp;&amp; chmod +x Muw3fuvA &amp;&amp; bash -c ./Muw3fuvA ; ./Muw3fuvA ;</td>\n",
       "      <td>Execution - 4</td>\n",
       "    </tr>\n",
       "    <tr>\n",
       "      <th>1</th>\n",
       "      <td>scp -t /tmp/CaW87HUG ; cd /tmp &amp;&amp; chmod +x CaW87HUG &amp;&amp; bash -c ./CaW87HUG ; ./CaW87HUG ;</td>\n",
       "      <td>Execution - 4</td>\n",
       "    </tr>\n",
       "  </tbody>\n",
       "</table>\n",
       "</div>"
      ],
      "text/plain": [
       "                                                                                    session  \\\n",
       "0  scp -t /tmp/Muw3fuvA ; cd /tmp && chmod +x Muw3fuvA && bash -c ./Muw3fuvA ; ./Muw3fuvA ;   \n",
       "1  scp -t /tmp/CaW87HUG ; cd /tmp && chmod +x CaW87HUG && bash -c ./CaW87HUG ; ./CaW87HUG ;   \n",
       "\n",
       "          labels  \n",
       "0  Execution - 4  \n",
       "1  Execution - 4  "
      ]
     },
     "execution_count": 18,
     "metadata": {},
     "output_type": "execute_result"
    }
   ],
   "source": [
    "df_labels = pd.read_json(input_file, orient='index').reset_index(drop = True)\n",
    "print(f\"Dataset contains {df_labels.shape[0]} elements\")\n",
    "df_labels.head(2)"
   ]
  },
  {
   "cell_type": "code",
   "execution_count": 19,
   "id": "c6d238e9-a57d-4e89-bb4a-57bb060e775e",
   "metadata": {},
   "outputs": [],
   "source": [
    "from tqdm import tqdm\n",
    "tqdm.pandas()"
   ]
  },
  {
   "cell_type": "markdown",
   "id": "a03a15c2-28ac-4d72-9e54-75f4e8ba5c00",
   "metadata": {},
   "source": [
    "### Function to obtain statements"
   ]
  },
  {
   "cell_type": "code",
   "execution_count": 20,
   "id": "6920ae03-1aff-45f1-b944-ec106d2a027c",
   "metadata": {},
   "outputs": [],
   "source": [
    "import re\n",
    "special_token = \"[STAT]\"\n",
    "def divide_statements(session, add_special_token = False):\n",
    "    statements = re.split(r'(; |\\|\\|? |&& )', session+\" \")\n",
    "    # concatenate with separators\n",
    "    statements = [\"\".join(statements[i:i+2]).strip() for i in range(0, len(statements)-1, 2)]\n",
    "    if add_special_token:\n",
    "        # Add separator\n",
    "        statements = [f\"{special_token} \"+el for el in statements]\n",
    "    return statements"
   ]
  },
  {
   "cell_type": "markdown",
   "id": "ed50e2c5-7d01-47bd-b5b8-3defa9963b9e",
   "metadata": {},
   "source": [
    "#### First, truncate words that are longer than the 99th percentile"
   ]
  },
  {
   "cell_type": "code",
   "execution_count": 21,
   "id": "fdb45763-abdb-4d75-b299-0c816ec82da4",
   "metadata": {},
   "outputs": [
    {
     "name": "stdout",
     "output_type": "stream",
     "text": [
      "There are 17672 words in the dataset\n"
     ]
    },
    {
     "data": {
      "text/plain": [
       "0    3\n",
       "0    2\n",
       "Name: session, dtype: int64"
      ]
     },
     "execution_count": 21,
     "metadata": {},
     "output_type": "execute_result"
    }
   ],
   "source": [
    "words = df_labels[\"session\"].apply(lambda session: session.split(\" \"))\n",
    "word_lengths = words.explode().apply(lambda word: len(word))\n",
    "print(f\"There are {word_lengths.shape[0]} words in the dataset\")\n",
    "word_lengths.head(2)"
   ]
  },
  {
   "cell_type": "code",
   "execution_count": 22,
   "id": "b96dfed3-df18-4ce5-b211-97caf1c09cbc",
   "metadata": {},
   "outputs": [
    {
     "data": {
      "image/png": "[encoded data removed]",
      "text/plain": [
       "<Figure size 600x400 with 1 Axes>"
      ]
     },
     "metadata": {},
     "output_type": "display_data"
    }
   ],
   "source": [
    "import matplotlib.pyplot as plt\n",
    "fig, axs = plt.subplots(1, figsize =(6, 4))\n",
    "fontsize = 20\n",
    "\n",
    "bplot1 = axs.boxplot(word_lengths, positions = [0], patch_artist=True)\n",
    "for patch in bplot1['boxes']:\n",
    "    patch.set_facecolor(\"mediumpurple\")\n",
    "axs.set_title(f\"|characters| x word\", fontsize = fontsize)\n",
    "axs.set_yscale(\"log\")\n",
    "axs.set_ylabel(\"|characters|\", fontsize = fontsize)\n",
    "axs.xaxis.set_ticks([])\n",
    "line = axs.hlines(y = word_lengths.quantile(.99), \n",
    "      xmin = -.5, \n",
    "      xmax = .5,\n",
    "      color = \"black\",\n",
    "      linestyles='dashed'\n",
    "    )\n",
    "axs.legend([line], [\"99th quantile\"], fontsize = fontsize - 4, loc='upper right')\n",
    "axs.grid()\n",
    "plt.tight_layout()\n",
    "plt.show()"
   ]
  },
  {
   "cell_type": "markdown",
   "id": "7f0296ab-1f5d-461b-947a-33223dacfff3",
   "metadata": {
    "tags": []
   },
   "source": [
    "#### Preprocessing to truncate words longer than threshold"
   ]
  },
  {
   "cell_type": "code",
   "execution_count": 23,
   "id": "a0e36f8e-bb81-4566-a7e3-ce5e197a21d7",
   "metadata": {},
   "outputs": [
    {
     "name": "stdout",
     "output_type": "stream",
     "text": [
      "Chosen threshold is 35\n"
     ]
    }
   ],
   "source": [
    "threshold_characters = round(word_lengths.quantile(.99))\n",
    "print(f\"Chosen threshold is {threshold_characters}\")"
   ]
  },
  {
   "cell_type": "code",
   "execution_count": 24,
   "id": "165e0480-3df3-4c78-9e80-d59bd5c88a32",
   "metadata": {},
   "outputs": [
    {
     "data": {
      "text/html": [
       "<div>\n",
       "<style scoped>\n",
       "    .dataframe tbody tr th:only-of-type {\n",
       "        vertical-align: middle;\n",
       "    }\n",
       "\n",
       "    .dataframe tbody tr th {\n",
       "        vertical-align: top;\n",
       "    }\n",
       "\n",
       "    .dataframe thead th {\n",
       "        text-align: right;\n",
       "    }\n",
       "</style>\n",
       "<table border=\"1\" class=\"dataframe\">\n",
       "  <thead>\n",
       "    <tr style=\"text-align: right;\">\n",
       "      <th></th>\n",
       "      <th>session</th>\n",
       "      <th>labels</th>\n",
       "      <th>truncated_session</th>\n",
       "    </tr>\n",
       "  </thead>\n",
       "  <tbody>\n",
       "    <tr>\n",
       "      <th>0</th>\n",
       "      <td>scp -t /tmp/Muw3fuvA ; cd /tmp &amp;&amp; chmod +x Muw3fuvA &amp;&amp; bash -c ./Muw3fuvA ; ./Muw3fuvA ;</td>\n",
       "      <td>Execution - 4</td>\n",
       "      <td>scp -t /tmp/Muw3fuvA ; cd /tmp &amp;&amp; chmod +x Muw3fuvA &amp;&amp; bash -c ./Muw3fuvA ; ./Muw3fuvA ;</td>\n",
       "    </tr>\n",
       "    <tr>\n",
       "      <th>1</th>\n",
       "      <td>scp -t /tmp/CaW87HUG ; cd /tmp &amp;&amp; chmod +x CaW87HUG &amp;&amp; bash -c ./CaW87HUG ; ./CaW87HUG ;</td>\n",
       "      <td>Execution - 4</td>\n",
       "      <td>scp -t /tmp/CaW87HUG ; cd /tmp &amp;&amp; chmod +x CaW87HUG &amp;&amp; bash -c ./CaW87HUG ; ./CaW87HUG ;</td>\n",
       "    </tr>\n",
       "  </tbody>\n",
       "</table>\n",
       "</div>"
      ],
      "text/plain": [
       "                                                                                    session  \\\n",
       "0  scp -t /tmp/Muw3fuvA ; cd /tmp && chmod +x Muw3fuvA && bash -c ./Muw3fuvA ; ./Muw3fuvA ;   \n",
       "1  scp -t /tmp/CaW87HUG ; cd /tmp && chmod +x CaW87HUG && bash -c ./CaW87HUG ; ./CaW87HUG ;   \n",
       "\n",
       "          labels  \\\n",
       "0  Execution - 4   \n",
       "1  Execution - 4   \n",
       "\n",
       "                                                                          truncated_session  \n",
       "0  scp -t /tmp/Muw3fuvA ; cd /tmp && chmod +x Muw3fuvA && bash -c ./Muw3fuvA ; ./Muw3fuvA ;  \n",
       "1  scp -t /tmp/CaW87HUG ; cd /tmp && chmod +x CaW87HUG && bash -c ./CaW87HUG ; ./CaW87HUG ;  "
      ]
     },
     "execution_count": 24,
     "metadata": {},
     "output_type": "execute_result"
    }
   ],
   "source": [
    "import re\n",
    "def truncate_long_words(max_length, session):\n",
    "    return \" \".join(map(lambda word: word[:max_length] if len(word) > max_length else word, session.split(\" \")))\n",
    "    \n",
    "df_labels[\"truncated_session\"] = df_labels[\"session\"].apply(lambda session: truncate_long_words(threshold_characters, session))\n",
    "df_labels.head(2)"
   ]
  },
  {
   "cell_type": "markdown",
   "id": "6ac78640-5df7-4eb9-ba9d-9342b5e26bea",
   "metadata": {},
   "source": [
    "### Split sessions into statements to visualize how the stats changed"
   ]
  },
  {
   "cell_type": "code",
   "execution_count": 25,
   "id": "9ba3f0b6-b5e1-4820-b58b-4e7526af3f0b",
   "metadata": {},
   "outputs": [
    {
     "name": "stderr",
     "output_type": "stream",
     "text": [
      "100%|██████████| 359/359 [00:00<00:00, 31290.37it/s]\n",
      "100%|██████████| 359/359 [00:00<00:00, 77273.69it/s]\n"
     ]
    },
    {
     "data": {
      "text/html": [
       "<div>\n",
       "<style scoped>\n",
       "    .dataframe tbody tr th:only-of-type {\n",
       "        vertical-align: middle;\n",
       "    }\n",
       "\n",
       "    .dataframe tbody tr th {\n",
       "        vertical-align: top;\n",
       "    }\n",
       "\n",
       "    .dataframe thead th {\n",
       "        text-align: right;\n",
       "    }\n",
       "</style>\n",
       "<table border=\"1\" class=\"dataframe\">\n",
       "  <thead>\n",
       "    <tr style=\"text-align: right;\">\n",
       "      <th></th>\n",
       "      <th>session</th>\n",
       "      <th>labels</th>\n",
       "      <th>truncated_session</th>\n",
       "      <th>statements</th>\n",
       "      <th>statements_special_token</th>\n",
       "    </tr>\n",
       "  </thead>\n",
       "  <tbody>\n",
       "    <tr>\n",
       "      <th>0</th>\n",
       "      <td>scp -t /tmp/Muw3fuvA ; cd /tmp &amp;&amp; chmod +x Muw3fuvA &amp;&amp; bash -c ./Muw3fuvA ; ./Muw3fuvA ;</td>\n",
       "      <td>Execution - 4</td>\n",
       "      <td>scp -t /tmp/Muw3fuvA ; cd /tmp &amp;&amp; chmod +x Muw3fuvA &amp;&amp; bash -c ./Muw3fuvA ; ./Muw3fuvA ;</td>\n",
       "      <td>[scp -t /tmp/Muw3fuvA ;, cd /tmp &amp;&amp;, chmod +x Muw3fuvA &amp;&amp;, bash -c ./Muw3fuvA ;, ./Muw3fuvA ;]</td>\n",
       "      <td>[[STAT] scp -t /tmp/Muw3fuvA ;, [STAT] cd /tmp &amp;&amp;, [STAT] chmod +x Muw3fuvA &amp;&amp;, [STAT] bash -c ./Muw3fuvA ;, [STAT] ./Muw3fuvA ;]</td>\n",
       "    </tr>\n",
       "    <tr>\n",
       "      <th>1</th>\n",
       "      <td>scp -t /tmp/CaW87HUG ; cd /tmp &amp;&amp; chmod +x CaW87HUG &amp;&amp; bash -c ./CaW87HUG ; ./CaW87HUG ;</td>\n",
       "      <td>Execution - 4</td>\n",
       "      <td>scp -t /tmp/CaW87HUG ; cd /tmp &amp;&amp; chmod +x CaW87HUG &amp;&amp; bash -c ./CaW87HUG ; ./CaW87HUG ;</td>\n",
       "      <td>[scp -t /tmp/CaW87HUG ;, cd /tmp &amp;&amp;, chmod +x CaW87HUG &amp;&amp;, bash -c ./CaW87HUG ;, ./CaW87HUG ;]</td>\n",
       "      <td>[[STAT] scp -t /tmp/CaW87HUG ;, [STAT] cd /tmp &amp;&amp;, [STAT] chmod +x CaW87HUG &amp;&amp;, [STAT] bash -c ./CaW87HUG ;, [STAT] ./CaW87HUG ;]</td>\n",
       "    </tr>\n",
       "  </tbody>\n",
       "</table>\n",
       "</div>"
      ],
      "text/plain": [
       "                                                                                    session  \\\n",
       "0  scp -t /tmp/Muw3fuvA ; cd /tmp && chmod +x Muw3fuvA && bash -c ./Muw3fuvA ; ./Muw3fuvA ;   \n",
       "1  scp -t /tmp/CaW87HUG ; cd /tmp && chmod +x CaW87HUG && bash -c ./CaW87HUG ; ./CaW87HUG ;   \n",
       "\n",
       "          labels  \\\n",
       "0  Execution - 4   \n",
       "1  Execution - 4   \n",
       "\n",
       "                                                                          truncated_session  \\\n",
       "0  scp -t /tmp/Muw3fuvA ; cd /tmp && chmod +x Muw3fuvA && bash -c ./Muw3fuvA ; ./Muw3fuvA ;   \n",
       "1  scp -t /tmp/CaW87HUG ; cd /tmp && chmod +x CaW87HUG && bash -c ./CaW87HUG ; ./CaW87HUG ;   \n",
       "\n",
       "                                                                                       statements  \\\n",
       "0  [scp -t /tmp/Muw3fuvA ;, cd /tmp &&, chmod +x Muw3fuvA &&, bash -c ./Muw3fuvA ;, ./Muw3fuvA ;]   \n",
       "1  [scp -t /tmp/CaW87HUG ;, cd /tmp &&, chmod +x CaW87HUG &&, bash -c ./CaW87HUG ;, ./CaW87HUG ;]   \n",
       "\n",
       "                                                                                                            statements_special_token  \n",
       "0  [[STAT] scp -t /tmp/Muw3fuvA ;, [STAT] cd /tmp &&, [STAT] chmod +x Muw3fuvA &&, [STAT] bash -c ./Muw3fuvA ;, [STAT] ./Muw3fuvA ;]  \n",
       "1  [[STAT] scp -t /tmp/CaW87HUG ;, [STAT] cd /tmp &&, [STAT] chmod +x CaW87HUG &&, [STAT] bash -c ./CaW87HUG ;, [STAT] ./CaW87HUG ;]  "
      ]
     },
     "execution_count": 25,
     "metadata": {},
     "output_type": "execute_result"
    }
   ],
   "source": [
    "df_labels[\"statements\"] = df_labels[\"truncated_session\"].progress_apply(lambda session: divide_statements(session))\n",
    "df_labels[\"statements_special_token\"] = df_labels[\"truncated_session\"].progress_apply(lambda session: divide_statements(session, add_special_token = True))\n",
    "df_labels.head(2)"
   ]
  },
  {
   "cell_type": "markdown",
   "id": "7c8efcc2-c38c-44a4-8112-30d801ea8c79",
   "metadata": {},
   "source": [
    "### Some stats on sessions' length\n",
    "##### In terms of number of words:"
   ]
  },
  {
   "cell_type": "code",
   "execution_count": 26,
   "id": "ea80610b-f157-4f73-add7-5c0adcb80dc9",
   "metadata": {},
   "outputs": [],
   "source": [
    "n_words = df_labels[\"truncated_session\"].apply(lambda session: len(session.split(\" \")))\n",
    "description_n_words = n_words.describe().rename(\"n_words\")"
   ]
  },
  {
   "cell_type": "markdown",
   "id": "fd61048f-098f-4df8-886a-3a6fc5fa99e5",
   "metadata": {},
   "source": [
    "##### In terms of number of statements"
   ]
  },
  {
   "cell_type": "code",
   "execution_count": 27,
   "id": "069908b5-9792-462e-bfe2-dfd7cb650da6",
   "metadata": {},
   "outputs": [],
   "source": [
    "n_statements = df_labels[\"statements_special_token\"].apply(lambda statements: len(statements))\n",
    "description_n_statements = n_statements.describe().rename(\"n_statements\")"
   ]
  },
  {
   "cell_type": "markdown",
   "id": "a865c840-01cb-416a-bc59-35a48140063c",
   "metadata": {},
   "source": [
    "#### In terms of number of characters"
   ]
  },
  {
   "cell_type": "code",
   "execution_count": 28,
   "id": "2fcf8fc8-cfeb-4d67-b726-b3f758217ce4",
   "metadata": {},
   "outputs": [],
   "source": [
    "n_chars = df_labels[\"truncated_session\"].apply(lambda session: len(session))\n",
    "description_n_chars = n_chars.describe().rename(\"n_characters\")"
   ]
  },
  {
   "cell_type": "code",
   "execution_count": 29,
   "id": "090f5d42-9a28-4a20-8167-3ec6e56a6f5a",
   "metadata": {},
   "outputs": [
    {
     "data": {
      "text/html": [
       "<div>\n",
       "<style scoped>\n",
       "    .dataframe tbody tr th:only-of-type {\n",
       "        vertical-align: middle;\n",
       "    }\n",
       "\n",
       "    .dataframe tbody tr th {\n",
       "        vertical-align: top;\n",
       "    }\n",
       "\n",
       "    .dataframe thead th {\n",
       "        text-align: right;\n",
       "    }\n",
       "</style>\n",
       "<table border=\"1\" class=\"dataframe\">\n",
       "  <thead>\n",
       "    <tr style=\"text-align: right;\">\n",
       "      <th></th>\n",
       "      <th>n_words</th>\n",
       "      <th>n_statements</th>\n",
       "      <th>n_characters</th>\n",
       "    </tr>\n",
       "  </thead>\n",
       "  <tbody>\n",
       "    <tr>\n",
       "      <th>count</th>\n",
       "      <td>359.000000</td>\n",
       "      <td>359.000000</td>\n",
       "      <td>359.000000</td>\n",
       "    </tr>\n",
       "    <tr>\n",
       "      <th>mean</th>\n",
       "      <td>49.225627</td>\n",
       "      <td>13.832869</td>\n",
       "      <td>283.947075</td>\n",
       "    </tr>\n",
       "    <tr>\n",
       "      <th>std</th>\n",
       "      <td>59.234189</td>\n",
       "      <td>16.575708</td>\n",
       "      <td>350.671256</td>\n",
       "    </tr>\n",
       "    <tr>\n",
       "      <th>min</th>\n",
       "      <td>2.000000</td>\n",
       "      <td>1.000000</td>\n",
       "      <td>5.000000</td>\n",
       "    </tr>\n",
       "    <tr>\n",
       "      <th>25%</th>\n",
       "      <td>10.000000</td>\n",
       "      <td>2.500000</td>\n",
       "      <td>62.500000</td>\n",
       "    </tr>\n",
       "    <tr>\n",
       "      <th>50%</th>\n",
       "      <td>18.000000</td>\n",
       "      <td>5.000000</td>\n",
       "      <td>136.000000</td>\n",
       "    </tr>\n",
       "    <tr>\n",
       "      <th>75%</th>\n",
       "      <td>72.000000</td>\n",
       "      <td>19.000000</td>\n",
       "      <td>378.500000</td>\n",
       "    </tr>\n",
       "    <tr>\n",
       "      <th>max</th>\n",
       "      <td>224.000000</td>\n",
       "      <td>57.000000</td>\n",
       "      <td>1734.000000</td>\n",
       "    </tr>\n",
       "  </tbody>\n",
       "</table>\n",
       "</div>"
      ],
      "text/plain": [
       "          n_words  n_statements  n_characters\n",
       "count  359.000000    359.000000    359.000000\n",
       "mean    49.225627     13.832869    283.947075\n",
       "std     59.234189     16.575708    350.671256\n",
       "min      2.000000      1.000000      5.000000\n",
       "25%     10.000000      2.500000     62.500000\n",
       "50%     18.000000      5.000000    136.000000\n",
       "75%     72.000000     19.000000    378.500000\n",
       "max    224.000000     57.000000   1734.000000"
      ]
     },
     "execution_count": 29,
     "metadata": {},
     "output_type": "execute_result"
    }
   ],
   "source": [
    "pd.concat([description_n_words, description_n_statements, description_n_chars], axis = 1)"
   ]
  },
  {
   "cell_type": "markdown",
   "id": "9989cb8d-1602-422b-a12e-594810b535c2",
   "metadata": {},
   "source": [
    "### Plot features against each other"
   ]
  },
  {
   "cell_type": "code",
   "execution_count": 30,
   "id": "776a39de-7376-492e-94aa-67b8c12ab000",
   "metadata": {},
   "outputs": [
    {
     "data": {
      "image/png": "[encoded data removed]",
      "text/plain": [
       "<Figure size 1500x500 with 3 Axes>"
      ]
     },
     "metadata": {},
     "output_type": "display_data"
    }
   ],
   "source": [
    "import matplotlib.pyplot as plt \n",
    "\n",
    "fig, axs = plt.subplots(1,3, figsize=(15,5))\n",
    "fontsize = 20\n",
    "axs[0].scatter(n_words, n_statements, s = 20, c = \"navy\")\n",
    "axs[0].set_title(f\"|words| vs |statements|\", fontsize = fontsize + 2)\n",
    "axs[0].set_xlabel(\"|words|\", fontsize = fontsize)\n",
    "axs[0].set_ylabel(\"|statements|\", fontsize = fontsize)\n",
    "\n",
    "axs[1].scatter(n_chars, n_words, s = 20, c = \"firebrick\")\n",
    "axs[1].set_title(f\"|characters| vs |words|\", fontsize = fontsize + 2)\n",
    "axs[1].set_xlabel(\"|characters|\", fontsize = fontsize)\n",
    "axs[1].set_ylabel(\"|words|\", fontsize = fontsize)\n",
    "axs[1].set_xscale(\"log\")\n",
    "\n",
    "axs[2].scatter(n_chars, n_statements, s = 20, c = \"forestgreen\")\n",
    "axs[2].set_title(f\"|characters| vs |statements|\", fontsize = fontsize + 2)\n",
    "axs[2].set_xlabel(\"|characters|\", fontsize = fontsize)\n",
    "axs[2].set_ylabel(\"|statements|\", fontsize = fontsize)\n",
    "axs[2].set_xscale(\"log\")\n",
    "\n",
    "for ax in axs:\n",
    "    ax.yaxis.set_tick_params(labelsize=fontsize)\n",
    "    ax.xaxis.set_tick_params(labelsize=fontsize, rotation = 30) \n",
    "    ax.grid()\n",
    "plt.tight_layout()\n",
    "plt.show()"
   ]
  },
  {
   "cell_type": "markdown",
   "id": "e172bd5c-38af-476e-932c-05450dba1ea3",
   "metadata": {},
   "source": [
    "##### Comment: Still have to work on the statements length, but at least for the words we are now ok "
   ]
  },
  {
   "cell_type": "markdown",
   "id": "ad1955ce-8204-411d-973d-065d4cf2ecff",
   "metadata": {},
   "source": [
    "#### How long each word is?"
   ]
  },
  {
   "cell_type": "code",
   "execution_count": 31,
   "id": "a5089017-90e4-45ea-a282-5b8e80032deb",
   "metadata": {},
   "outputs": [
    {
     "name": "stdout",
     "output_type": "stream",
     "text": [
      "There are 17672 words in the dataset\n"
     ]
    },
    {
     "data": {
      "text/plain": [
       "0    3\n",
       "0    2\n",
       "Name: truncated_session, dtype: int64"
      ]
     },
     "execution_count": 31,
     "metadata": {},
     "output_type": "execute_result"
    }
   ],
   "source": [
    "words = df_labels[\"truncated_session\"].apply(lambda session: session.split(\" \"))\n",
    "word_lengths = words.explode().apply(lambda word: len(word))\n",
    "print(f\"There are {word_lengths.shape[0]} words in the dataset\")\n",
    "word_lengths.head(2)"
   ]
  },
  {
   "cell_type": "code",
   "execution_count": 32,
   "id": "4cde01ac-0700-46e4-88d2-9d473231c0fb",
   "metadata": {},
   "outputs": [
    {
     "data": {
      "image/png": "[encoded data removed]",
      "text/plain": [
       "<Figure size 600x400 with 1 Axes>"
      ]
     },
     "metadata": {},
     "output_type": "display_data"
    }
   ],
   "source": [
    "fig, axs = plt.subplots(1, figsize =(6, 4))\n",
    "fontsize = 20\n",
    "\n",
    "bplot1 = axs.boxplot(word_lengths, positions = [0], patch_artist=True)\n",
    "for patch in bplot1['boxes']:\n",
    "    patch.set_facecolor(\"mediumpurple\")\n",
    "axs.set_title(f\"|characters| x word\", fontsize = fontsize)\n",
    "axs.set_yscale(\"log\")\n",
    "axs.set_ylabel(\"|characters|\", fontsize = fontsize)\n",
    "axs.xaxis.set_ticks([])\n",
    "line = axs.hlines(y = threshold_characters, \n",
    "      xmin = -.5, \n",
    "      xmax = .5,\n",
    "      color = \"black\",\n",
    "      linestyles='dashed'\n",
    "    )\n",
    "axs.legend([line], [\"99th quantile\"], fontsize = fontsize - 4, loc='upper right')\n",
    "axs.grid()\n",
    "plt.tight_layout()\n",
    "plt.show()"
   ]
  },
  {
   "cell_type": "markdown",
   "id": "b5f4dd0b-68d6-4921-affa-c12ecf5dfeff",
   "metadata": {},
   "source": [
    "### Also, plot ECDF of |statements|"
   ]
  },
  {
   "cell_type": "code",
   "execution_count": 33,
   "id": "7976eaa1-5ec9-4b66-82e1-a5297b07f7e7",
   "metadata": {},
   "outputs": [
    {
     "data": {
      "text/plain": [
       "1    0.119777\n",
       "2    0.250696\n",
       "Name: cdf, dtype: float64"
      ]
     },
     "execution_count": 33,
     "metadata": {},
     "output_type": "execute_result"
    }
   ],
   "source": [
    "import numpy as np\n",
    "cdf = n_statements.value_counts().sort_index().rename(\"cdf\")\n",
    "cdf_before = np.cumsum(cdf)/np.sum(cdf)\n",
    "cdf_before.head(2)"
   ]
  },
  {
   "cell_type": "code",
   "execution_count": 34,
   "id": "b76c8226-6de5-4439-b2c8-9fad7c071ca0",
   "metadata": {
    "tags": []
   },
   "outputs": [
    {
     "data": {
      "image/png": "[encoded data removed]",
      "text/plain": [
       "<Figure size 600x400 with 1 Axes>"
      ]
     },
     "metadata": {},
     "output_type": "display_data"
    }
   ],
   "source": [
    "fig, axs = plt.subplots(1, figsize=(6,4))\n",
    "fontsize = 20\n",
    "axs.plot(cdf_before.reset_index()[\"index\"], cdf_before.reset_index()[\"cdf\"], linewidth = 2)\n",
    "axs.set_xlabel('|statements| per session', fontsize = fontsize + 3)\n",
    "axs.set_title(f'ECDF of |statements| per session', fontsize = fontsize + 5)\n",
    "axs.set_ylabel('ECDF', fontsize = fontsize + 3)\n",
    "axs.yaxis.set_tick_params(labelsize=fontsize)\n",
    "axs.xaxis.set_tick_params(labelsize=fontsize)\n",
    "axs.grid()\n",
    "#axs.set_ylim(0,1.05)\n",
    "plt.tight_layout()\n",
    "plt.show()"
   ]
  },
  {
   "cell_type": "markdown",
   "id": "dd1ce12e-2800-4d77-af71-9ef2a4e63275",
   "metadata": {},
   "source": [
    "Now it should not be the case of too long words (which creates too many tokens)"
   ]
  },
  {
   "cell_type": "markdown",
   "id": "0ab1a9c8-c4ac-4ed1-9ea8-d7a8f725df8a",
   "metadata": {},
   "source": [
    "### Obtain statement_labels"
   ]
  },
  {
   "cell_type": "code",
   "execution_count": 35,
   "id": "28823ca6-9a32-4a69-ab66-fc90291dc332",
   "metadata": {},
   "outputs": [
    {
     "name": "stderr",
     "output_type": "stream",
     "text": [
      "100%|██████████| 359/359 [00:00<00:00, 80776.52it/s]\n"
     ]
    },
    {
     "data": {
      "text/html": [
       "<div>\n",
       "<style scoped>\n",
       "    .dataframe tbody tr th:only-of-type {\n",
       "        vertical-align: middle;\n",
       "    }\n",
       "\n",
       "    .dataframe tbody tr th {\n",
       "        vertical-align: top;\n",
       "    }\n",
       "\n",
       "    .dataframe thead th {\n",
       "        text-align: right;\n",
       "    }\n",
       "</style>\n",
       "<table border=\"1\" class=\"dataframe\">\n",
       "  <thead>\n",
       "    <tr style=\"text-align: right;\">\n",
       "      <th></th>\n",
       "      <th>session</th>\n",
       "      <th>labels</th>\n",
       "      <th>truncated_session</th>\n",
       "      <th>statements</th>\n",
       "      <th>statements_special_token</th>\n",
       "      <th>statement_labels</th>\n",
       "    </tr>\n",
       "  </thead>\n",
       "  <tbody>\n",
       "    <tr>\n",
       "      <th>0</th>\n",
       "      <td>scp -t /tmp/Muw3fuvA ; cd /tmp &amp;&amp; chmod +x Muw3fuvA &amp;&amp; bash -c ./Muw3fuvA ; ./Muw3fuvA ;</td>\n",
       "      <td>Execution - 4</td>\n",
       "      <td>scp -t /tmp/Muw3fuvA ; cd /tmp &amp;&amp; chmod +x Muw3fuvA &amp;&amp; bash -c ./Muw3fuvA ; ./Muw3fuvA ;</td>\n",
       "      <td>[scp -t /tmp/Muw3fuvA ;, cd /tmp &amp;&amp;, chmod +x Muw3fuvA &amp;&amp;, bash -c ./Muw3fuvA ;, ./Muw3fuvA ;]</td>\n",
       "      <td>[[STAT] scp -t /tmp/Muw3fuvA ;, [STAT] cd /tmp &amp;&amp;, [STAT] chmod +x Muw3fuvA &amp;&amp;, [STAT] bash -c ./Muw3fuvA ;, [STAT] ./Muw3fuvA ;]</td>\n",
       "      <td>[Execution, Execution, Execution, Execution, Execution]</td>\n",
       "    </tr>\n",
       "    <tr>\n",
       "      <th>1</th>\n",
       "      <td>scp -t /tmp/CaW87HUG ; cd /tmp &amp;&amp; chmod +x CaW87HUG &amp;&amp; bash -c ./CaW87HUG ; ./CaW87HUG ;</td>\n",
       "      <td>Execution - 4</td>\n",
       "      <td>scp -t /tmp/CaW87HUG ; cd /tmp &amp;&amp; chmod +x CaW87HUG &amp;&amp; bash -c ./CaW87HUG ; ./CaW87HUG ;</td>\n",
       "      <td>[scp -t /tmp/CaW87HUG ;, cd /tmp &amp;&amp;, chmod +x CaW87HUG &amp;&amp;, bash -c ./CaW87HUG ;, ./CaW87HUG ;]</td>\n",
       "      <td>[[STAT] scp -t /tmp/CaW87HUG ;, [STAT] cd /tmp &amp;&amp;, [STAT] chmod +x CaW87HUG &amp;&amp;, [STAT] bash -c ./CaW87HUG ;, [STAT] ./CaW87HUG ;]</td>\n",
       "      <td>[Execution, Execution, Execution, Execution, Execution]</td>\n",
       "    </tr>\n",
       "  </tbody>\n",
       "</table>\n",
       "</div>"
      ],
      "text/plain": [
       "                                                                                    session  \\\n",
       "0  scp -t /tmp/Muw3fuvA ; cd /tmp && chmod +x Muw3fuvA && bash -c ./Muw3fuvA ; ./Muw3fuvA ;   \n",
       "1  scp -t /tmp/CaW87HUG ; cd /tmp && chmod +x CaW87HUG && bash -c ./CaW87HUG ; ./CaW87HUG ;   \n",
       "\n",
       "          labels  \\\n",
       "0  Execution - 4   \n",
       "1  Execution - 4   \n",
       "\n",
       "                                                                          truncated_session  \\\n",
       "0  scp -t /tmp/Muw3fuvA ; cd /tmp && chmod +x Muw3fuvA && bash -c ./Muw3fuvA ; ./Muw3fuvA ;   \n",
       "1  scp -t /tmp/CaW87HUG ; cd /tmp && chmod +x CaW87HUG && bash -c ./CaW87HUG ; ./CaW87HUG ;   \n",
       "\n",
       "                                                                                       statements  \\\n",
       "0  [scp -t /tmp/Muw3fuvA ;, cd /tmp &&, chmod +x Muw3fuvA &&, bash -c ./Muw3fuvA ;, ./Muw3fuvA ;]   \n",
       "1  [scp -t /tmp/CaW87HUG ;, cd /tmp &&, chmod +x CaW87HUG &&, bash -c ./CaW87HUG ;, ./CaW87HUG ;]   \n",
       "\n",
       "                                                                                                            statements_special_token  \\\n",
       "0  [[STAT] scp -t /tmp/Muw3fuvA ;, [STAT] cd /tmp &&, [STAT] chmod +x Muw3fuvA &&, [STAT] bash -c ./Muw3fuvA ;, [STAT] ./Muw3fuvA ;]   \n",
       "1  [[STAT] scp -t /tmp/CaW87HUG ;, [STAT] cd /tmp &&, [STAT] chmod +x CaW87HUG &&, [STAT] bash -c ./CaW87HUG ;, [STAT] ./CaW87HUG ;]   \n",
       "\n",
       "                                          statement_labels  \n",
       "0  [Execution, Execution, Execution, Execution, Execution]  \n",
       "1  [Execution, Execution, Execution, Execution, Execution]  "
      ]
     },
     "execution_count": 35,
     "metadata": {},
     "output_type": "execute_result"
    }
   ],
   "source": [
    "def expand_labels(labels):\n",
    "    labels = labels.split(\" -- \")\n",
    "    statement_labels = []\n",
    "    prev_index = 0\n",
    "    for label in labels:\n",
    "        label, index = label.split(\" - \")\n",
    "        index = int(index)\n",
    "        for it in range(index - prev_index + 1):\n",
    "            statement_labels.append(label.strip())\n",
    "        prev_index = (index + 1)\n",
    "    return statement_labels\n",
    "    \n",
    "    \n",
    "df_labels[\"statement_labels\"] = df_labels[\"labels\"].progress_apply(lambda label: expand_labels(label))\n",
    "df_labels.head(2)"
   ]
  },
  {
   "cell_type": "markdown",
   "id": "c7859143-f7dd-4644-8ea5-c0d9c7eca25d",
   "metadata": {},
   "source": [
    "### Make sure that operations were performed correctly"
   ]
  },
  {
   "cell_type": "code",
   "execution_count": 36,
   "id": "91a14734-280c-4969-b871-a9ca3727db5f",
   "metadata": {},
   "outputs": [],
   "source": [
    "number_of_statements = df_labels[\"statements_special_token\"].apply(lambda statements: len(statements))\n",
    "number_of_labels = df_labels[\"statement_labels\"].apply(lambda statements_labels: len(statements_labels))\n",
    "assert number_of_statements.equals(number_of_labels), \"Error: not all statements are labeled!\""
   ]
  },
  {
   "cell_type": "code",
   "execution_count": 37,
   "id": "c8de142f-329d-4644-ae65-5a08ffd89bb6",
   "metadata": {},
   "outputs": [
    {
     "data": {
      "text/plain": [
       "(array([], dtype=int64),)"
      ]
     },
     "execution_count": 37,
     "metadata": {},
     "output_type": "execute_result"
    }
   ],
   "source": [
    "import numpy as np\n",
    "np.where((number_of_statements != number_of_labels))"
   ]
  },
  {
   "cell_type": "markdown",
   "id": "763efcd3-31c4-4c33-940f-0c60b663a1a4",
   "metadata": {},
   "source": [
    "### Which is the set of labels?"
   ]
  },
  {
   "cell_type": "code",
   "execution_count": 38,
   "id": "172b89ba-a77b-422a-9196-96e576517b0c",
   "metadata": {},
   "outputs": [
    {
     "data": {
      "text/plain": [
       "'Execution - Discovery - Persistence - Harmless - Defense Evasion - Impact - Other'"
      ]
     },
     "execution_count": 38,
     "metadata": {},
     "output_type": "execute_result"
    }
   ],
   "source": [
    "class_names = list(df_labels[\"statement_labels\"].explode().unique())\n",
    "\" - \".join(class_names)"
   ]
  },
  {
   "cell_type": "markdown",
   "id": "9c59ee21-b9e8-4983-adbc-9cf297124ab2",
   "metadata": {},
   "source": [
    "### Export them. They will be useful later on"
   ]
  },
  {
   "cell_type": "code",
   "execution_count": 39,
   "id": "318468e8-1f67-4061-a638-64258f9b2599",
   "metadata": {},
   "outputs": [],
   "source": [
    "import os \n",
    "FOLDER = \"./\"\n",
    "os.makedirs(FOLDER, exist_ok = True)"
   ]
  },
  {
   "cell_type": "markdown",
   "id": "1b290807-37bd-44b9-9a5c-d41c789a34f4",
   "metadata": {},
   "source": [
    "#### Export"
   ]
  },
  {
   "cell_type": "code",
   "execution_count": 40,
   "id": "54f0a632-c24e-4558-a423-0cb9fe4dcbd1",
   "metadata": {},
   "outputs": [],
   "source": [
    "class_names = [\"{}\\n\".format(i) for i in class_names]\n",
    "with open(f\"./labels.txt\", 'w+') as fp:\n",
    "    fp.writelines(class_names)"
   ]
  },
  {
   "cell_type": "markdown",
   "id": "fc1a03c4-9308-493f-80b7-e09570da20a0",
   "metadata": {},
   "source": [
    "## Before saving te dataset, make sure that we do not have too many statements for the same session"
   ]
  },
  {
   "cell_type": "markdown",
   "id": "49658e0a-7131-42ba-96fc-a81a4813158f",
   "metadata": {},
   "source": [
    "### Important that everybody can tokenize without truncation \n",
    "#### \"Longest\" (most token-consuming) tokenization so far it's Bert's"
   ]
  },
  {
   "cell_type": "code",
   "execution_count": 41,
   "id": "56e492c2-7e84-42ed-bec9-8b508b63c098",
   "metadata": {},
   "outputs": [
    {
     "data": {
      "text/html": [
       "<div>\n",
       "<style scoped>\n",
       "    .dataframe tbody tr th:only-of-type {\n",
       "        vertical-align: middle;\n",
       "    }\n",
       "\n",
       "    .dataframe tbody tr th {\n",
       "        vertical-align: top;\n",
       "    }\n",
       "\n",
       "    .dataframe thead th {\n",
       "        text-align: right;\n",
       "    }\n",
       "</style>\n",
       "<table border=\"1\" class=\"dataframe\">\n",
       "  <thead>\n",
       "    <tr style=\"text-align: right;\">\n",
       "      <th></th>\n",
       "      <th>session</th>\n",
       "      <th>labels</th>\n",
       "      <th>truncated_session</th>\n",
       "      <th>statements</th>\n",
       "      <th>statements_special_token</th>\n",
       "      <th>statement_labels</th>\n",
       "    </tr>\n",
       "  </thead>\n",
       "  <tbody>\n",
       "    <tr>\n",
       "      <th>0</th>\n",
       "      <td>scp -t /tmp/Muw3fuvA ; cd /tmp &amp;&amp; chmod +x Muw3fuvA &amp;&amp; bash -c ./Muw3fuvA ; ./Muw3fuvA ;</td>\n",
       "      <td>Execution - 4</td>\n",
       "      <td>scp -t /tmp/Muw3fuvA ; cd /tmp &amp;&amp; chmod +x Muw3fuvA &amp;&amp; bash -c ./Muw3fuvA ; ./Muw3fuvA ;</td>\n",
       "      <td>[scp -t /tmp/Muw3fuvA ;, cd /tmp &amp;&amp;, chmod +x Muw3fuvA &amp;&amp;, bash -c ./Muw3fuvA ;, ./Muw3fuvA ;]</td>\n",
       "      <td>[[STAT] scp -t /tmp/Muw3fuvA ;, [STAT] cd /tmp &amp;&amp;, [STAT] chmod +x Muw3fuvA &amp;&amp;, [STAT] bash -c ./Muw3fuvA ;, [STAT] ./Muw3fuvA ;]</td>\n",
       "      <td>[Execution, Execution, Execution, Execution, Execution]</td>\n",
       "    </tr>\n",
       "    <tr>\n",
       "      <th>1</th>\n",
       "      <td>scp -t /tmp/CaW87HUG ; cd /tmp &amp;&amp; chmod +x CaW87HUG &amp;&amp; bash -c ./CaW87HUG ; ./CaW87HUG ;</td>\n",
       "      <td>Execution - 4</td>\n",
       "      <td>scp -t /tmp/CaW87HUG ; cd /tmp &amp;&amp; chmod +x CaW87HUG &amp;&amp; bash -c ./CaW87HUG ; ./CaW87HUG ;</td>\n",
       "      <td>[scp -t /tmp/CaW87HUG ;, cd /tmp &amp;&amp;, chmod +x CaW87HUG &amp;&amp;, bash -c ./CaW87HUG ;, ./CaW87HUG ;]</td>\n",
       "      <td>[[STAT] scp -t /tmp/CaW87HUG ;, [STAT] cd /tmp &amp;&amp;, [STAT] chmod +x CaW87HUG &amp;&amp;, [STAT] bash -c ./CaW87HUG ;, [STAT] ./CaW87HUG ;]</td>\n",
       "      <td>[Execution, Execution, Execution, Execution, Execution]</td>\n",
       "    </tr>\n",
       "  </tbody>\n",
       "</table>\n",
       "</div>"
      ],
      "text/plain": [
       "                                                                                    session  \\\n",
       "0  scp -t /tmp/Muw3fuvA ; cd /tmp && chmod +x Muw3fuvA && bash -c ./Muw3fuvA ; ./Muw3fuvA ;   \n",
       "1  scp -t /tmp/CaW87HUG ; cd /tmp && chmod +x CaW87HUG && bash -c ./CaW87HUG ; ./CaW87HUG ;   \n",
       "\n",
       "          labels  \\\n",
       "0  Execution - 4   \n",
       "1  Execution - 4   \n",
       "\n",
       "                                                                          truncated_session  \\\n",
       "0  scp -t /tmp/Muw3fuvA ; cd /tmp && chmod +x Muw3fuvA && bash -c ./Muw3fuvA ; ./Muw3fuvA ;   \n",
       "1  scp -t /tmp/CaW87HUG ; cd /tmp && chmod +x CaW87HUG && bash -c ./CaW87HUG ; ./CaW87HUG ;   \n",
       "\n",
       "                                                                                       statements  \\\n",
       "0  [scp -t /tmp/Muw3fuvA ;, cd /tmp &&, chmod +x Muw3fuvA &&, bash -c ./Muw3fuvA ;, ./Muw3fuvA ;]   \n",
       "1  [scp -t /tmp/CaW87HUG ;, cd /tmp &&, chmod +x CaW87HUG &&, bash -c ./CaW87HUG ;, ./CaW87HUG ;]   \n",
       "\n",
       "                                                                                                            statements_special_token  \\\n",
       "0  [[STAT] scp -t /tmp/Muw3fuvA ;, [STAT] cd /tmp &&, [STAT] chmod +x Muw3fuvA &&, [STAT] bash -c ./Muw3fuvA ;, [STAT] ./Muw3fuvA ;]   \n",
       "1  [[STAT] scp -t /tmp/CaW87HUG ;, [STAT] cd /tmp &&, [STAT] chmod +x CaW87HUG &&, [STAT] bash -c ./CaW87HUG ;, [STAT] ./CaW87HUG ;]   \n",
       "\n",
       "                                          statement_labels  \n",
       "0  [Execution, Execution, Execution, Execution, Execution]  \n",
       "1  [Execution, Execution, Execution, Execution, Execution]  "
      ]
     },
     "execution_count": 41,
     "metadata": {},
     "output_type": "execute_result"
    }
   ],
   "source": [
    "df_labels.head(2)"
   ]
  },
  {
   "cell_type": "markdown",
   "id": "c2d7fbcb-5cc7-4c13-a32f-cb7675b63ec6",
   "metadata": {},
   "source": [
    "#### Obtain n_stats and n_words"
   ]
  },
  {
   "cell_type": "code",
   "execution_count": 42,
   "id": "d5677646-1ffd-4a09-a303-1d3f0abce12d",
   "metadata": {},
   "outputs": [],
   "source": [
    "n_words = df_labels.truncated_session.apply(lambda session: len(session.split(\" \")))\n",
    "n_stats = df_labels.statements_special_token.apply(lambda statement: len(statement))"
   ]
  },
  {
   "cell_type": "code",
   "execution_count": 43,
   "id": "8386060b-baa2-42bc-8eb8-5eb172528090",
   "metadata": {},
   "outputs": [
    {
     "name": "stdout",
     "output_type": "stream",
     "text": [
      "Sessions will be splitted if > 14 statements.\n",
      "4 statements will be added as a context for those cases\n"
     ]
    }
   ],
   "source": [
    "threshold_n_stats = round(n_stats.mean()) \n",
    "context_n_stats = 4\n",
    "print(f\"Sessions will be splitted if > {threshold_n_stats} statements.\\n{context_n_stats} statements will be added as a context for those cases\")"
   ]
  },
  {
   "cell_type": "code",
   "execution_count": 44,
   "id": "54fc8414-db45-41a8-94e3-cc21105db358",
   "metadata": {},
   "outputs": [
    {
     "data": {
      "image/png": "[encoded data removed]",
      "text/plain": [
       "<Figure size 700x500 with 1 Axes>"
      ]
     },
     "metadata": {},
     "output_type": "display_data"
    }
   ],
   "source": [
    "import matplotlib.pyplot as plt \n",
    "\n",
    "fig, axs = plt.subplots(1, figsize=(7,5))\n",
    "fontsize = 20\n",
    "axs.scatter(n_stats, n_words, s = 20, c = \"forestgreen\")\n",
    "axs.set_title(f\"|Statements| vs |Words|\", fontsize = fontsize + 2)\n",
    "axs.set_xlabel(\"|Statements|\", fontsize = fontsize)\n",
    "axs.set_ylabel(\"|Words|\", fontsize = fontsize)\n",
    "axs.yaxis.set_tick_params(labelsize=fontsize)\n",
    "axs.xaxis.set_tick_params(labelsize=fontsize, rotation = 30) \n",
    "axs.vlines(x = threshold_n_stats + context_n_stats, ymin = 0, ymax = n_words.max(), linestyles = \"dashed\", color = \"black\", label = f\"Threshold\")\n",
    "\n",
    "axs.xaxis.set_ticks(range(0, 61, 10))\n",
    "axs.yaxis.set_ticks(range(0, 251, 50))\n",
    "\n",
    "axs.grid()\n",
    "plt.tight_layout()\n",
    "plt.show()"
   ]
  },
  {
   "cell_type": "code",
   "execution_count": 45,
   "id": "c564d40d-1f46-4e71-857a-ca7965b25089",
   "metadata": {},
   "outputs": [
    {
     "data": {
      "text/html": [
       "<div>\n",
       "<style scoped>\n",
       "    .dataframe tbody tr th:only-of-type {\n",
       "        vertical-align: middle;\n",
       "    }\n",
       "\n",
       "    .dataframe tbody tr th {\n",
       "        vertical-align: top;\n",
       "    }\n",
       "\n",
       "    .dataframe thead th {\n",
       "        text-align: right;\n",
       "    }\n",
       "</style>\n",
       "<table border=\"1\" class=\"dataframe\">\n",
       "  <thead>\n",
       "    <tr style=\"text-align: right;\">\n",
       "      <th></th>\n",
       "      <th>session</th>\n",
       "      <th>labels</th>\n",
       "      <th>truncated_session</th>\n",
       "      <th>statements</th>\n",
       "      <th>statements_special_token</th>\n",
       "      <th>statement_labels</th>\n",
       "    </tr>\n",
       "  </thead>\n",
       "  <tbody>\n",
       "    <tr>\n",
       "      <th>0</th>\n",
       "      <td>scp -t /tmp/Muw3fuvA ; cd /tmp &amp;&amp; chmod +x Muw3fuvA &amp;&amp; bash -c ./Muw3fuvA ; ./Muw3fuvA ;</td>\n",
       "      <td>Execution - 4</td>\n",
       "      <td>scp -t /tmp/Muw3fuvA ; cd /tmp &amp;&amp; chmod +x Muw3fuvA &amp;&amp; bash -c ./Muw3fuvA ; ./Muw3fuvA ;</td>\n",
       "      <td>[scp -t /tmp/Muw3fuvA ;, cd /tmp &amp;&amp;, chmod +x Muw3fuvA &amp;&amp;, bash -c ./Muw3fuvA ;, ./Muw3fuvA ;]</td>\n",
       "      <td>[[STAT] scp -t /tmp/Muw3fuvA ;, [STAT] cd /tmp &amp;&amp;, [STAT] chmod +x Muw3fuvA &amp;&amp;, [STAT] bash -c ./Muw3fuvA ;, [STAT] ./Muw3fuvA ;]</td>\n",
       "      <td>[Execution, Execution, Execution, Execution, Execution]</td>\n",
       "    </tr>\n",
       "    <tr>\n",
       "      <th>1</th>\n",
       "      <td>scp -t /tmp/CaW87HUG ; cd /tmp &amp;&amp; chmod +x CaW87HUG &amp;&amp; bash -c ./CaW87HUG ; ./CaW87HUG ;</td>\n",
       "      <td>Execution - 4</td>\n",
       "      <td>scp -t /tmp/CaW87HUG ; cd /tmp &amp;&amp; chmod +x CaW87HUG &amp;&amp; bash -c ./CaW87HUG ; ./CaW87HUG ;</td>\n",
       "      <td>[scp -t /tmp/CaW87HUG ;, cd /tmp &amp;&amp;, chmod +x CaW87HUG &amp;&amp;, bash -c ./CaW87HUG ;, ./CaW87HUG ;]</td>\n",
       "      <td>[[STAT] scp -t /tmp/CaW87HUG ;, [STAT] cd /tmp &amp;&amp;, [STAT] chmod +x CaW87HUG &amp;&amp;, [STAT] bash -c ./CaW87HUG ;, [STAT] ./CaW87HUG ;]</td>\n",
       "      <td>[Execution, Execution, Execution, Execution, Execution]</td>\n",
       "    </tr>\n",
       "  </tbody>\n",
       "</table>\n",
       "</div>"
      ],
      "text/plain": [
       "                                                                                    session  \\\n",
       "0  scp -t /tmp/Muw3fuvA ; cd /tmp && chmod +x Muw3fuvA && bash -c ./Muw3fuvA ; ./Muw3fuvA ;   \n",
       "1  scp -t /tmp/CaW87HUG ; cd /tmp && chmod +x CaW87HUG && bash -c ./CaW87HUG ; ./CaW87HUG ;   \n",
       "\n",
       "          labels  \\\n",
       "0  Execution - 4   \n",
       "1  Execution - 4   \n",
       "\n",
       "                                                                          truncated_session  \\\n",
       "0  scp -t /tmp/Muw3fuvA ; cd /tmp && chmod +x Muw3fuvA && bash -c ./Muw3fuvA ; ./Muw3fuvA ;   \n",
       "1  scp -t /tmp/CaW87HUG ; cd /tmp && chmod +x CaW87HUG && bash -c ./CaW87HUG ; ./CaW87HUG ;   \n",
       "\n",
       "                                                                                       statements  \\\n",
       "0  [scp -t /tmp/Muw3fuvA ;, cd /tmp &&, chmod +x Muw3fuvA &&, bash -c ./Muw3fuvA ;, ./Muw3fuvA ;]   \n",
       "1  [scp -t /tmp/CaW87HUG ;, cd /tmp &&, chmod +x CaW87HUG &&, bash -c ./CaW87HUG ;, ./CaW87HUG ;]   \n",
       "\n",
       "                                                                                                            statements_special_token  \\\n",
       "0  [[STAT] scp -t /tmp/Muw3fuvA ;, [STAT] cd /tmp &&, [STAT] chmod +x Muw3fuvA &&, [STAT] bash -c ./Muw3fuvA ;, [STAT] ./Muw3fuvA ;]   \n",
       "1  [[STAT] scp -t /tmp/CaW87HUG ;, [STAT] cd /tmp &&, [STAT] chmod +x CaW87HUG &&, [STAT] bash -c ./CaW87HUG ;, [STAT] ./CaW87HUG ;]   \n",
       "\n",
       "                                          statement_labels  \n",
       "0  [Execution, Execution, Execution, Execution, Execution]  \n",
       "1  [Execution, Execution, Execution, Execution, Execution]  "
      ]
     },
     "execution_count": 45,
     "metadata": {},
     "output_type": "execute_result"
    }
   ],
   "source": [
    "df_labels.head(2)"
   ]
  },
  {
   "cell_type": "markdown",
   "id": "ec1944ca-f628-4f75-96b9-a606f580ed07",
   "metadata": {},
   "source": [
    "### Divide sessions with n_statements > threshold in multiple parts\n",
    "#### Before dividing, remember to also save a session_id (so that we can later map back to the original labels)"
   ]
  },
  {
   "cell_type": "code",
   "execution_count": 46,
   "id": "63e87812-dfd0-4d3a-9670-4755989b0f21",
   "metadata": {},
   "outputs": [
    {
     "data": {
      "text/html": [
       "<div>\n",
       "<style scoped>\n",
       "    .dataframe tbody tr th:only-of-type {\n",
       "        vertical-align: middle;\n",
       "    }\n",
       "\n",
       "    .dataframe tbody tr th {\n",
       "        vertical-align: top;\n",
       "    }\n",
       "\n",
       "    .dataframe thead th {\n",
       "        text-align: right;\n",
       "    }\n",
       "</style>\n",
       "<table border=\"1\" class=\"dataframe\">\n",
       "  <thead>\n",
       "    <tr style=\"text-align: right;\">\n",
       "      <th></th>\n",
       "      <th>session_id</th>\n",
       "      <th>session</th>\n",
       "      <th>labels</th>\n",
       "      <th>truncated_session</th>\n",
       "      <th>statements</th>\n",
       "      <th>statements_special_token</th>\n",
       "      <th>statement_labels</th>\n",
       "    </tr>\n",
       "  </thead>\n",
       "  <tbody>\n",
       "    <tr>\n",
       "      <th>0</th>\n",
       "      <td>0</td>\n",
       "      <td>scp -t /tmp/Muw3fuvA ; cd /tmp &amp;&amp; chmod +x Muw3fuvA &amp;&amp; bash -c ./Muw3fuvA ; ./Muw3fuvA ;</td>\n",
       "      <td>Execution - 4</td>\n",
       "      <td>scp -t /tmp/Muw3fuvA ; cd /tmp &amp;&amp; chmod +x Muw3fuvA &amp;&amp; bash -c ./Muw3fuvA ; ./Muw3fuvA ;</td>\n",
       "      <td>[scp -t /tmp/Muw3fuvA ;, cd /tmp &amp;&amp;, chmod +x Muw3fuvA &amp;&amp;, bash -c ./Muw3fuvA ;, ./Muw3fuvA ;]</td>\n",
       "      <td>[[STAT] scp -t /tmp/Muw3fuvA ;, [STAT] cd /tmp &amp;&amp;, [STAT] chmod +x Muw3fuvA &amp;&amp;, [STAT] bash -c ./Muw3fuvA ;, [STAT] ./Muw3fuvA ;]</td>\n",
       "      <td>[Execution, Execution, Execution, Execution, Execution]</td>\n",
       "    </tr>\n",
       "    <tr>\n",
       "      <th>1</th>\n",
       "      <td>1</td>\n",
       "      <td>scp -t /tmp/CaW87HUG ; cd /tmp &amp;&amp; chmod +x CaW87HUG &amp;&amp; bash -c ./CaW87HUG ; ./CaW87HUG ;</td>\n",
       "      <td>Execution - 4</td>\n",
       "      <td>scp -t /tmp/CaW87HUG ; cd /tmp &amp;&amp; chmod +x CaW87HUG &amp;&amp; bash -c ./CaW87HUG ; ./CaW87HUG ;</td>\n",
       "      <td>[scp -t /tmp/CaW87HUG ;, cd /tmp &amp;&amp;, chmod +x CaW87HUG &amp;&amp;, bash -c ./CaW87HUG ;, ./CaW87HUG ;]</td>\n",
       "      <td>[[STAT] scp -t /tmp/CaW87HUG ;, [STAT] cd /tmp &amp;&amp;, [STAT] chmod +x CaW87HUG &amp;&amp;, [STAT] bash -c ./CaW87HUG ;, [STAT] ./CaW87HUG ;]</td>\n",
       "      <td>[Execution, Execution, Execution, Execution, Execution]</td>\n",
       "    </tr>\n",
       "  </tbody>\n",
       "</table>\n",
       "</div>"
      ],
      "text/plain": [
       "   session_id  \\\n",
       "0           0   \n",
       "1           1   \n",
       "\n",
       "                                                                                    session  \\\n",
       "0  scp -t /tmp/Muw3fuvA ; cd /tmp && chmod +x Muw3fuvA && bash -c ./Muw3fuvA ; ./Muw3fuvA ;   \n",
       "1  scp -t /tmp/CaW87HUG ; cd /tmp && chmod +x CaW87HUG && bash -c ./CaW87HUG ; ./CaW87HUG ;   \n",
       "\n",
       "          labels  \\\n",
       "0  Execution - 4   \n",
       "1  Execution - 4   \n",
       "\n",
       "                                                                          truncated_session  \\\n",
       "0  scp -t /tmp/Muw3fuvA ; cd /tmp && chmod +x Muw3fuvA && bash -c ./Muw3fuvA ; ./Muw3fuvA ;   \n",
       "1  scp -t /tmp/CaW87HUG ; cd /tmp && chmod +x CaW87HUG && bash -c ./CaW87HUG ; ./CaW87HUG ;   \n",
       "\n",
       "                                                                                       statements  \\\n",
       "0  [scp -t /tmp/Muw3fuvA ;, cd /tmp &&, chmod +x Muw3fuvA &&, bash -c ./Muw3fuvA ;, ./Muw3fuvA ;]   \n",
       "1  [scp -t /tmp/CaW87HUG ;, cd /tmp &&, chmod +x CaW87HUG &&, bash -c ./CaW87HUG ;, ./CaW87HUG ;]   \n",
       "\n",
       "                                                                                                            statements_special_token  \\\n",
       "0  [[STAT] scp -t /tmp/Muw3fuvA ;, [STAT] cd /tmp &&, [STAT] chmod +x Muw3fuvA &&, [STAT] bash -c ./Muw3fuvA ;, [STAT] ./Muw3fuvA ;]   \n",
       "1  [[STAT] scp -t /tmp/CaW87HUG ;, [STAT] cd /tmp &&, [STAT] chmod +x CaW87HUG &&, [STAT] bash -c ./CaW87HUG ;, [STAT] ./CaW87HUG ;]   \n",
       "\n",
       "                                          statement_labels  \n",
       "0  [Execution, Execution, Execution, Execution, Execution]  \n",
       "1  [Execution, Execution, Execution, Execution, Execution]  "
      ]
     },
     "execution_count": 46,
     "metadata": {},
     "output_type": "execute_result"
    }
   ],
   "source": [
    "df_labels = df_labels.reset_index().rename({\"index\":\"session_id\"}, axis = 1)\n",
    "df_labels.head(2)"
   ]
  },
  {
   "cell_type": "code",
   "execution_count": 47,
   "id": "fdc5471a-9ba9-46e7-b1d7-976d24f9a6ed",
   "metadata": {
    "tags": []
   },
   "outputs": [
    {
     "name": "stderr",
     "output_type": "stream",
     "text": [
      "100%|██████████| 359/359 [00:00<00:00, 2522.76it/s]"
     ]
    },
    {
     "name": "stdout",
     "output_type": "stream",
     "text": [
      "After reshaping our sessions, we have 597 rows\n"
     ]
    },
    {
     "name": "stderr",
     "output_type": "stream",
     "text": [
      "\n"
     ]
    },
    {
     "data": {
      "text/html": [
       "<div>\n",
       "<style scoped>\n",
       "    .dataframe tbody tr th:only-of-type {\n",
       "        vertical-align: middle;\n",
       "    }\n",
       "\n",
       "    .dataframe tbody tr th {\n",
       "        vertical-align: top;\n",
       "    }\n",
       "\n",
       "    .dataframe thead th {\n",
       "        text-align: right;\n",
       "    }\n",
       "</style>\n",
       "<table border=\"1\" class=\"dataframe\">\n",
       "  <thead>\n",
       "    <tr style=\"text-align: right;\">\n",
       "      <th></th>\n",
       "      <th>sessions</th>\n",
       "      <th>labels</th>\n",
       "      <th>session_id</th>\n",
       "      <th>order_id</th>\n",
       "      <th>indexes_statements_context</th>\n",
       "    </tr>\n",
       "  </thead>\n",
       "  <tbody>\n",
       "    <tr>\n",
       "      <th>0</th>\n",
       "      <td>scp -t /tmp/Muw3fuvA ; cd /tmp &amp;&amp; chmod +x Muw3fuvA &amp;&amp; bash -c ./Muw3fuvA ; ./Muw3fuvA ;</td>\n",
       "      <td>Execution -- Execution -- Execution -- Execution -- Execution</td>\n",
       "      <td>0</td>\n",
       "      <td>1</td>\n",
       "      <td>[]</td>\n",
       "    </tr>\n",
       "    <tr>\n",
       "      <th>1</th>\n",
       "      <td>scp -t /tmp/CaW87HUG ; cd /tmp &amp;&amp; chmod +x CaW87HUG &amp;&amp; bash -c ./CaW87HUG ; ./CaW87HUG ;</td>\n",
       "      <td>Execution -- Execution -- Execution -- Execution -- Execution</td>\n",
       "      <td>1</td>\n",
       "      <td>1</td>\n",
       "      <td>[]</td>\n",
       "    </tr>\n",
       "  </tbody>\n",
       "</table>\n",
       "</div>"
      ],
      "text/plain": [
       "                                                                                   sessions  \\\n",
       "0  scp -t /tmp/Muw3fuvA ; cd /tmp && chmod +x Muw3fuvA && bash -c ./Muw3fuvA ; ./Muw3fuvA ;   \n",
       "1  scp -t /tmp/CaW87HUG ; cd /tmp && chmod +x CaW87HUG && bash -c ./CaW87HUG ; ./CaW87HUG ;   \n",
       "\n",
       "                                                          labels  session_id  \\\n",
       "0  Execution -- Execution -- Execution -- Execution -- Execution           0   \n",
       "1  Execution -- Execution -- Execution -- Execution -- Execution           1   \n",
       "\n",
       "   order_id indexes_statements_context  \n",
       "0         1                         []  \n",
       "1         1                         []  "
      ]
     },
     "execution_count": 47,
     "metadata": {},
     "output_type": "execute_result"
    }
   ],
   "source": [
    "import re\n",
    "from tqdm import tqdm\n",
    "tqdm.pandas()\n",
    "\n",
    "def split_session(row, threshold, context):\n",
    "    \"\"\"Splits a session in a row if its length is greater than the threshold\"\"\"\n",
    "    labels, statements, truncated_session, session_id = row.statement_labels, row.statements, row.truncated_session, row.session_id\n",
    "    n_statements = len(statements)\n",
    "    \n",
    "    assert n_statements == len(labels), \"Error!\"\n",
    "    if n_statements > (threshold + context):\n",
    "        #print(f\"Happening ({n_statements})!\")\n",
    "        splitted_sessions, splitted_labels, context_indeces = [], [], []\n",
    "        start, prev_end = 0, 0\n",
    "        end = threshold + context\n",
    "        #print(f\"\\tAt the beginning, start : {start}\\tend: {end}\")\n",
    "        while end <= n_statements:\n",
    "            if end == n_statements: # means that the stride has reached exactly last partition of statements\n",
    "                #print(\"\\tExactly matching the statements length\")\n",
    "                splitted_sessions.append(\" \".join(statements[start:]))\n",
    "                splitted_labels.append(\" -- \".join(labels[start:]))\n",
    "                context_indeces.append([el for el in range(context)])\n",
    "            else:\n",
    "                #print(f\"\\tAppending from statement {start} to statement {end}\")\n",
    "                splitted_sessions.append(\" \".join(statements[start : end]))\n",
    "                splitted_labels.append(\" -- \".join(labels[start : end]))\n",
    "                if start == 0:\n",
    "                    context_indeces.append([el for el in range(len(labels[start : end]) - 1, len(labels[start : end]) - 1 - context, -1)])\n",
    "                else:\n",
    "                    context_indeces.append([el for el in range(context)] + [el for el in range(len(labels[start : end]) - 1, len(labels[start : end]) - 1 - context, -1)])\n",
    "            start += threshold - context\n",
    "            prev_end = end\n",
    "            end += threshold - context  \n",
    "            #print(f\"\\tUpdated start : {start}\\tend: {end}\")\n",
    "        #print(f\"\\nAt the end of the loop: {start}\\tend: {end}\")\n",
    "        if prev_end != n_statements:\n",
    "            #print(f\"\\nConcatenating remaining elements from index {start} to {n_statements}\")                             \n",
    "            splitted_sessions.append(\" \".join(statements[start:]))\n",
    "            splitted_labels.append(\" -- \".join(labels[start:]))\n",
    "            context_indeces.append([el for el in range(context)])\n",
    "        \n",
    "        split_data = pd.DataFrame({'sessions': splitted_sessions,\n",
    "                                   'labels': splitted_labels, \n",
    "                                   'session_id': [session_id] * len(splitted_labels),\n",
    "                                   'order_id': range(1, len(splitted_labels) + 1),\n",
    "                                   'indexes_statements_context': context_indeces})\n",
    "        return split_data\n",
    "    else:\n",
    "        split_data = pd.DataFrame({'sessions': [truncated_session],\n",
    "                                  'labels':  [\" -- \".join(labels)], \n",
    "                                  'session_id': [session_id],\n",
    "                                  'order_id': [1],\n",
    "                                  'indexes_statements_context': [[]]})\n",
    "        return split_data    \n",
    "\n",
    "# Apply the split_string function to each row of the DataFrame\n",
    "split_data = df_labels.progress_apply(split_session, threshold = threshold_n_stats, context = context_n_stats, axis=1)\n",
    "# Concatenate the resulting split data into a new DataFrame\n",
    "new_df = pd.concat(split_data.tolist(), ignore_index=True)\n",
    "new_df[\"sessions\"] = new_df[\"sessions\"].apply(lambda session: session.strip())\n",
    "new_df[\"labels\"] = new_df[\"labels\"].apply(lambda session: session.strip())\n",
    "print(f\"After reshaping our sessions, we have {new_df.shape[0]} rows\")\n",
    "new_df.head(2)"
   ]
  },
  {
   "cell_type": "code",
   "execution_count": 48,
   "id": "08d0e90d-0b1a-441b-9f4d-7d601fab567f",
   "metadata": {},
   "outputs": [
    {
     "data": {
      "text/html": [
       "<div>\n",
       "<style scoped>\n",
       "    .dataframe tbody tr th:only-of-type {\n",
       "        vertical-align: middle;\n",
       "    }\n",
       "\n",
       "    .dataframe tbody tr th {\n",
       "        vertical-align: top;\n",
       "    }\n",
       "\n",
       "    .dataframe thead th {\n",
       "        text-align: right;\n",
       "    }\n",
       "</style>\n",
       "<table border=\"1\" class=\"dataframe\">\n",
       "  <thead>\n",
       "    <tr style=\"text-align: right;\">\n",
       "      <th></th>\n",
       "      <th>session_id</th>\n",
       "      <th>session</th>\n",
       "      <th>labels</th>\n",
       "      <th>truncated_session</th>\n",
       "      <th>statements</th>\n",
       "      <th>statements_special_token</th>\n",
       "      <th>statement_labels</th>\n",
       "      <th>n_stat</th>\n",
       "    </tr>\n",
       "  </thead>\n",
       "  <tbody>\n",
       "    <tr>\n",
       "      <th>0</th>\n",
       "      <td>0</td>\n",
       "      <td>scp -t /tmp/Muw3fuvA ; cd /tmp &amp;&amp; chmod +x Muw3fuvA &amp;&amp; bash -c ./Muw3fuvA ; ./Muw3fuvA ;</td>\n",
       "      <td>Execution - 4</td>\n",
       "      <td>scp -t /tmp/Muw3fuvA ; cd /tmp &amp;&amp; chmod +x Muw3fuvA &amp;&amp; bash -c ./Muw3fuvA ; ./Muw3fuvA ;</td>\n",
       "      <td>[scp -t /tmp/Muw3fuvA ;, cd /tmp &amp;&amp;, chmod +x Muw3fuvA &amp;&amp;, bash -c ./Muw3fuvA ;, ./Muw3fuvA ;]</td>\n",
       "      <td>[[STAT] scp -t /tmp/Muw3fuvA ;, [STAT] cd /tmp &amp;&amp;, [STAT] chmod +x Muw3fuvA &amp;&amp;, [STAT] bash -c ./Muw3fuvA ;, [STAT] ./Muw3fuvA ;]</td>\n",
       "      <td>[Execution, Execution, Execution, Execution, Execution]</td>\n",
       "      <td>5</td>\n",
       "    </tr>\n",
       "    <tr>\n",
       "      <th>1</th>\n",
       "      <td>1</td>\n",
       "      <td>scp -t /tmp/CaW87HUG ; cd /tmp &amp;&amp; chmod +x CaW87HUG &amp;&amp; bash -c ./CaW87HUG ; ./CaW87HUG ;</td>\n",
       "      <td>Execution - 4</td>\n",
       "      <td>scp -t /tmp/CaW87HUG ; cd /tmp &amp;&amp; chmod +x CaW87HUG &amp;&amp; bash -c ./CaW87HUG ; ./CaW87HUG ;</td>\n",
       "      <td>[scp -t /tmp/CaW87HUG ;, cd /tmp &amp;&amp;, chmod +x CaW87HUG &amp;&amp;, bash -c ./CaW87HUG ;, ./CaW87HUG ;]</td>\n",
       "      <td>[[STAT] scp -t /tmp/CaW87HUG ;, [STAT] cd /tmp &amp;&amp;, [STAT] chmod +x CaW87HUG &amp;&amp;, [STAT] bash -c ./CaW87HUG ;, [STAT] ./CaW87HUG ;]</td>\n",
       "      <td>[Execution, Execution, Execution, Execution, Execution]</td>\n",
       "      <td>5</td>\n",
       "    </tr>\n",
       "  </tbody>\n",
       "</table>\n",
       "</div>"
      ],
      "text/plain": [
       "   session_id  \\\n",
       "0           0   \n",
       "1           1   \n",
       "\n",
       "                                                                                    session  \\\n",
       "0  scp -t /tmp/Muw3fuvA ; cd /tmp && chmod +x Muw3fuvA && bash -c ./Muw3fuvA ; ./Muw3fuvA ;   \n",
       "1  scp -t /tmp/CaW87HUG ; cd /tmp && chmod +x CaW87HUG && bash -c ./CaW87HUG ; ./CaW87HUG ;   \n",
       "\n",
       "          labels  \\\n",
       "0  Execution - 4   \n",
       "1  Execution - 4   \n",
       "\n",
       "                                                                          truncated_session  \\\n",
       "0  scp -t /tmp/Muw3fuvA ; cd /tmp && chmod +x Muw3fuvA && bash -c ./Muw3fuvA ; ./Muw3fuvA ;   \n",
       "1  scp -t /tmp/CaW87HUG ; cd /tmp && chmod +x CaW87HUG && bash -c ./CaW87HUG ; ./CaW87HUG ;   \n",
       "\n",
       "                                                                                       statements  \\\n",
       "0  [scp -t /tmp/Muw3fuvA ;, cd /tmp &&, chmod +x Muw3fuvA &&, bash -c ./Muw3fuvA ;, ./Muw3fuvA ;]   \n",
       "1  [scp -t /tmp/CaW87HUG ;, cd /tmp &&, chmod +x CaW87HUG &&, bash -c ./CaW87HUG ;, ./CaW87HUG ;]   \n",
       "\n",
       "                                                                                                            statements_special_token  \\\n",
       "0  [[STAT] scp -t /tmp/Muw3fuvA ;, [STAT] cd /tmp &&, [STAT] chmod +x Muw3fuvA &&, [STAT] bash -c ./Muw3fuvA ;, [STAT] ./Muw3fuvA ;]   \n",
       "1  [[STAT] scp -t /tmp/CaW87HUG ;, [STAT] cd /tmp &&, [STAT] chmod +x CaW87HUG &&, [STAT] bash -c ./CaW87HUG ;, [STAT] ./CaW87HUG ;]   \n",
       "\n",
       "                                          statement_labels  n_stat  \n",
       "0  [Execution, Execution, Execution, Execution, Execution]       5  \n",
       "1  [Execution, Execution, Execution, Execution, Execution]       5  "
      ]
     },
     "execution_count": 48,
     "metadata": {},
     "output_type": "execute_result"
    }
   ],
   "source": [
    "df_labels[\"n_stat\"] = df_labels[\"statement_labels\"].apply(lambda el: len(el))\n",
    "df_labels.head(2)"
   ]
  },
  {
   "cell_type": "markdown",
   "id": "07b09e0b-9eca-446e-9575-b2cd5483fd1f",
   "metadata": {},
   "source": [
    "### Convert indexes_statements_context to word_indexes (words that are context and that therefore will not be labeled)\n",
    "#### Notice: valid only for token classification / word classification\n",
    "##### For statement classification keep using indexes_statements_context"
   ]
  },
  {
   "cell_type": "code",
   "execution_count": 51,
   "id": "cca91849-8f6e-4e81-975f-6e5b22f60adb",
   "metadata": {},
   "outputs": [
    {
     "data": {
      "text/html": [
       "<div>\n",
       "<style scoped>\n",
       "    .dataframe tbody tr th:only-of-type {\n",
       "        vertical-align: middle;\n",
       "    }\n",
       "\n",
       "    .dataframe tbody tr th {\n",
       "        vertical-align: top;\n",
       "    }\n",
       "\n",
       "    .dataframe thead th {\n",
       "        text-align: right;\n",
       "    }\n",
       "</style>\n",
       "<table border=\"1\" class=\"dataframe\">\n",
       "  <thead>\n",
       "    <tr style=\"text-align: right;\">\n",
       "      <th></th>\n",
       "      <th>sessions</th>\n",
       "      <th>labels</th>\n",
       "      <th>session_id</th>\n",
       "      <th>order_id</th>\n",
       "      <th>indexes_statements_context</th>\n",
       "      <th>indexes_words_context</th>\n",
       "    </tr>\n",
       "  </thead>\n",
       "  <tbody>\n",
       "    <tr>\n",
       "      <th>0</th>\n",
       "      <td>scp -t /tmp/Muw3fuvA ; cd /tmp &amp;&amp; chmod +x Muw3fuvA &amp;&amp; bash -c ./Muw3fuvA ; ./Muw3fuvA ;</td>\n",
       "      <td>Execution -- Execution -- Execution -- Execution -- Execution</td>\n",
       "      <td>0</td>\n",
       "      <td>1</td>\n",
       "      <td>[]</td>\n",
       "      <td>[]</td>\n",
       "    </tr>\n",
       "    <tr>\n",
       "      <th>1</th>\n",
       "      <td>scp -t /tmp/CaW87HUG ; cd /tmp &amp;&amp; chmod +x CaW87HUG &amp;&amp; bash -c ./CaW87HUG ; ./CaW87HUG ;</td>\n",
       "      <td>Execution -- Execution -- Execution -- Execution -- Execution</td>\n",
       "      <td>1</td>\n",
       "      <td>1</td>\n",
       "      <td>[]</td>\n",
       "      <td>[]</td>\n",
       "    </tr>\n",
       "  </tbody>\n",
       "</table>\n",
       "</div>"
      ],
      "text/plain": [
       "                                                                                   sessions  \\\n",
       "0  scp -t /tmp/Muw3fuvA ; cd /tmp && chmod +x Muw3fuvA && bash -c ./Muw3fuvA ; ./Muw3fuvA ;   \n",
       "1  scp -t /tmp/CaW87HUG ; cd /tmp && chmod +x CaW87HUG && bash -c ./CaW87HUG ; ./CaW87HUG ;   \n",
       "\n",
       "                                                          labels  session_id  \\\n",
       "0  Execution -- Execution -- Execution -- Execution -- Execution           0   \n",
       "1  Execution -- Execution -- Execution -- Execution -- Execution           1   \n",
       "\n",
       "   order_id indexes_statements_context indexes_words_context  \n",
       "0         1                         []                    []  \n",
       "1         1                         []                    []  "
      ]
     },
     "execution_count": 51,
     "metadata": {},
     "output_type": "execute_result"
    }
   ],
   "source": [
    "def statement2word(row):\n",
    "    context_indexes = row.indexes_statements_context\n",
    "    sessions = row.sessions\n",
    "    statements = divide_statements(sessions)\n",
    "    indexes_words_context = []\n",
    "    current_index = 0\n",
    "    for it, statement in enumerate(statements):\n",
    "        if it in context_indexes:\n",
    "            for word_id in range(len(statement.split(\" \"))):\n",
    "                indexes_words_context.append(current_index + word_id)\n",
    "        current_index += len(statement.split(\" \")) # So that, while we progress with statements, words_id keep increasing\n",
    "    return indexes_words_context\n",
    "\n",
    "new_df[\"indexes_words_context\"] = new_df.apply(lambda row: statement2word(row), axis = 1)\n",
    "new_df.head(2)"
   ]
  },
  {
   "cell_type": "markdown",
   "id": "577302db-162a-40f3-afb5-a379e525a4bf",
   "metadata": {},
   "source": [
    "### Try recreating the original sessions and check if there is a match"
   ]
  },
  {
   "cell_type": "code",
   "execution_count": 52,
   "id": "6093d4ea-92ce-4035-9c41-fca64406c796",
   "metadata": {},
   "outputs": [
    {
     "name": "stderr",
     "output_type": "stream",
     "text": [
      "100%|██████████| 359/359 [00:00<00:00, 1806.12it/s]\n"
     ]
    },
    {
     "data": {
      "text/html": [
       "<div>\n",
       "<style scoped>\n",
       "    .dataframe tbody tr th:only-of-type {\n",
       "        vertical-align: middle;\n",
       "    }\n",
       "\n",
       "    .dataframe tbody tr th {\n",
       "        vertical-align: top;\n",
       "    }\n",
       "\n",
       "    .dataframe thead th {\n",
       "        text-align: right;\n",
       "    }\n",
       "</style>\n",
       "<table border=\"1\" class=\"dataframe\">\n",
       "  <thead>\n",
       "    <tr style=\"text-align: right;\">\n",
       "      <th></th>\n",
       "      <th>session_id</th>\n",
       "      <th>original_session</th>\n",
       "      <th>original_labels</th>\n",
       "    </tr>\n",
       "  </thead>\n",
       "  <tbody>\n",
       "    <tr>\n",
       "      <th>0</th>\n",
       "      <td>0</td>\n",
       "      <td>scp -t /tmp/Muw3fuvA ; cd /tmp &amp;&amp; chmod +x Muw3fuvA &amp;&amp; bash -c ./Muw3fuvA ; ./Muw3fuvA ;</td>\n",
       "      <td>Execution -- Execution -- Execution -- Execution -- Execution</td>\n",
       "    </tr>\n",
       "    <tr>\n",
       "      <th>1</th>\n",
       "      <td>1</td>\n",
       "      <td>scp -t /tmp/CaW87HUG ; cd /tmp &amp;&amp; chmod +x CaW87HUG &amp;&amp; bash -c ./CaW87HUG ; ./CaW87HUG ;</td>\n",
       "      <td>Execution -- Execution -- Execution -- Execution -- Execution</td>\n",
       "    </tr>\n",
       "    <tr>\n",
       "      <th>2</th>\n",
       "      <td>2</td>\n",
       "      <td>cat /proc/cpuinfo | grep name | wc -l ; echo root:jBohy6hcgerO | chpasswd | bash ; cat /proc/cpuinfo | grep name | head -n 1 | awk {print $4,$5,$6,$7,$8,$9;} ; free -m | grep Mem | awk {print $2 ,$3, $4, $5, $6, $7} ; ls -lh $which ls ; which ls ; crontab -l ; w ; uname -m ; cat /proc/cpuinfo | grep model | grep name | wc -l ; top ; uname ; uname -a ; lscpu | grep Model ; cd ~ &amp;&amp; rm -rf .ssh &amp;&amp; mkdir .ssh &amp;&amp; echo ssh-rsa AAAAB3NzaC1yc2EAAAABJQAAAQEArDp4cun mdrfckr &gt;&gt; .ssh/authorized_keys &amp;&amp; chmod -R go= ~/.ssh &amp;&amp; cd ~ ;</td>\n",
       "      <td>Discovery -- Discovery -- Discovery -- Persistence -- Persistence -- Persistence -- Discovery -- Discovery -- Discovery -- Discovery -- Discovery -- Discovery -- Discovery -- Discovery -- Discovery -- Discovery -- Discovery -- Discovery -- Discovery -- Discovery -- Discovery -- Discovery -- Discovery -- Discovery -- Discovery -- Discovery -- Discovery -- Persistence -- Persistence -- Persistence -- Persistence -- Persistence -- Persistence</td>\n",
       "    </tr>\n",
       "  </tbody>\n",
       "</table>\n",
       "</div>"
      ],
      "text/plain": [
       "   session_id  \\\n",
       "0           0   \n",
       "1           1   \n",
       "2           2   \n",
       "\n",
       "                                                                                                                                                                                                                                                                                                                                                                                                                                                                                                                                original_session  \\\n",
       "0                                                                                                                                                                                                                                                                                                                                                                                                                                                       scp -t /tmp/Muw3fuvA ; cd /tmp && chmod +x Muw3fuvA && bash -c ./Muw3fuvA ; ./Muw3fuvA ;   \n",
       "1                                                                                                                                                                                                                                                                                                                                                                                                                                                       scp -t /tmp/CaW87HUG ; cd /tmp && chmod +x CaW87HUG && bash -c ./CaW87HUG ; ./CaW87HUG ;   \n",
       "2  cat /proc/cpuinfo | grep name | wc -l ; echo root:jBohy6hcgerO | chpasswd | bash ; cat /proc/cpuinfo | grep name | head -n 1 | awk {print $4,$5,$6,$7,$8,$9;} ; free -m | grep Mem | awk {print $2 ,$3, $4, $5, $6, $7} ; ls -lh $which ls ; which ls ; crontab -l ; w ; uname -m ; cat /proc/cpuinfo | grep model | grep name | wc -l ; top ; uname ; uname -a ; lscpu | grep Model ; cd ~ && rm -rf .ssh && mkdir .ssh && echo ssh-rsa AAAAB3NzaC1yc2EAAAABJQAAAQEArDp4cun mdrfckr >> .ssh/authorized_keys && chmod -R go= ~/.ssh && cd ~ ;   \n",
       "\n",
       "                                                                                                                                                                                                                                                                                                                                                                                                                                               original_labels  \n",
       "0                                                                                                                                                                                                                                                                                                                                                                                                Execution -- Execution -- Execution -- Execution -- Execution  \n",
       "1                                                                                                                                                                                                                                                                                                                                                                                                Execution -- Execution -- Execution -- Execution -- Execution  \n",
       "2  Discovery -- Discovery -- Discovery -- Persistence -- Persistence -- Persistence -- Discovery -- Discovery -- Discovery -- Discovery -- Discovery -- Discovery -- Discovery -- Discovery -- Discovery -- Discovery -- Discovery -- Discovery -- Discovery -- Discovery -- Discovery -- Discovery -- Discovery -- Discovery -- Discovery -- Discovery -- Discovery -- Persistence -- Persistence -- Persistence -- Persistence -- Persistence -- Persistence  "
      ]
     },
     "execution_count": 52,
     "metadata": {},
     "output_type": "execute_result"
    }
   ],
   "source": [
    "def recreate_original_sessions(rows):\n",
    "    rows.sort_values(by = \"order_id\", inplace = True)\n",
    "    session_id = rows.session_id.iloc[0]\n",
    "    sub_sessions = rows[\"sessions\"]\n",
    "    labels = rows[\"labels\"]\n",
    "    indexes_statements_context = rows[\"indexes_statements_context\"].values\n",
    "    indexes_words_context = rows[\"indexes_words_context\"].values\n",
    "    original_session = []\n",
    "    original_labels = []\n",
    "    for sub_session, label, statement_context, word_context in zip(sub_sessions, labels, indexes_statements_context, indexes_words_context): \n",
    "        words = sub_session.split(\" \")\n",
    "        label = label.split(\" -- \")\n",
    "        original_session.append(\" \".join([words[it] for it in range(len(words)) if it not in word_context]))\n",
    "        original_labels.append(\" -- \".join([label[it] for it in range(len(label)) if it not in statement_context]))\n",
    "\n",
    "    return pd.Series({'original_session': \" \".join(original_session), \"original_labels\":\" -- \".join(original_labels)})\n",
    "    \n",
    "grouped_df = new_df.groupby(\"session_id\").progress_apply(recreate_original_sessions).reset_index()   \n",
    "grouped_df.head(3)"
   ]
  },
  {
   "cell_type": "code",
   "execution_count": 53,
   "id": "89e57c67-8117-453c-9e25-25881b7e3636",
   "metadata": {},
   "outputs": [],
   "source": [
    "sanity_check = df_labels[[\"session_id\", \"truncated_session\", \"statement_labels\"]].merge(grouped_df, on = \"session_id\")\n",
    "sanity_check[\"statement_labels\"] = sanity_check[\"statement_labels\"].apply(lambda label: \" -- \".join(label))"
   ]
  },
  {
   "cell_type": "code",
   "execution_count": 54,
   "id": "a8b2c12b-ca6b-4a9b-b320-c5b4217c3404",
   "metadata": {},
   "outputs": [],
   "source": [
    "assert sanity_check[\"truncated_session\"].equals(sanity_check[\"original_session\"]), \"Error: we were not able to recreate some of the original sessions!\"\n",
    "assert sanity_check[\"statement_labels\"].equals(sanity_check[\"original_labels\"]), \"Error: we were not able to recreate some of the original labels!\""
   ]
  },
  {
   "cell_type": "code",
   "execution_count": 55,
   "id": "63cd2ebd-58bc-47c6-ae1d-b72e82ebef82",
   "metadata": {},
   "outputs": [
    {
     "data": {
      "text/html": [
       "<div>\n",
       "<style scoped>\n",
       "    .dataframe tbody tr th:only-of-type {\n",
       "        vertical-align: middle;\n",
       "    }\n",
       "\n",
       "    .dataframe tbody tr th {\n",
       "        vertical-align: top;\n",
       "    }\n",
       "\n",
       "    .dataframe thead th {\n",
       "        text-align: right;\n",
       "    }\n",
       "</style>\n",
       "<table border=\"1\" class=\"dataframe\">\n",
       "  <thead>\n",
       "    <tr style=\"text-align: right;\">\n",
       "      <th></th>\n",
       "      <th>self</th>\n",
       "      <th>other</th>\n",
       "    </tr>\n",
       "  </thead>\n",
       "  <tbody>\n",
       "  </tbody>\n",
       "</table>\n",
       "</div>"
      ],
      "text/plain": [
       "Empty DataFrame\n",
       "Columns: [self, other]\n",
       "Index: []"
      ]
     },
     "execution_count": 55,
     "metadata": {},
     "output_type": "execute_result"
    }
   ],
   "source": [
    "sanity_check[\"truncated_session\"].compare(sanity_check[\"original_session\"])"
   ]
  },
  {
   "cell_type": "markdown",
   "id": "f9f2aa38-873a-4d23-a8da-ce0bd1c1774f",
   "metadata": {},
   "source": [
    "#### In how many pieces each session was divided?"
   ]
  },
  {
   "cell_type": "code",
   "execution_count": 56,
   "id": "1523597a-fc5c-4a1e-b524-88d5cec8bb0b",
   "metadata": {},
   "outputs": [
    {
     "data": {
      "text/html": [
       "<div>\n",
       "<style scoped>\n",
       "    .dataframe tbody tr th:only-of-type {\n",
       "        vertical-align: middle;\n",
       "    }\n",
       "\n",
       "    .dataframe tbody tr th {\n",
       "        vertical-align: top;\n",
       "    }\n",
       "\n",
       "    .dataframe thead th {\n",
       "        text-align: right;\n",
       "    }\n",
       "</style>\n",
       "<table border=\"1\" class=\"dataframe\">\n",
       "  <thead>\n",
       "    <tr style=\"text-align: right;\">\n",
       "      <th></th>\n",
       "      <th>|subsessions|</th>\n",
       "      <th>occurrences</th>\n",
       "    </tr>\n",
       "  </thead>\n",
       "  <tbody>\n",
       "    <tr>\n",
       "      <th>0</th>\n",
       "      <td>1</td>\n",
       "      <td>268</td>\n",
       "    </tr>\n",
       "    <tr>\n",
       "      <th>1</th>\n",
       "      <td>2</td>\n",
       "      <td>18</td>\n",
       "    </tr>\n",
       "    <tr>\n",
       "      <th>2</th>\n",
       "      <td>3</td>\n",
       "      <td>23</td>\n",
       "    </tr>\n",
       "    <tr>\n",
       "      <th>3</th>\n",
       "      <td>4</td>\n",
       "      <td>26</td>\n",
       "    </tr>\n",
       "    <tr>\n",
       "      <th>4</th>\n",
       "      <td>5</td>\n",
       "      <td>24</td>\n",
       "    </tr>\n",
       "  </tbody>\n",
       "</table>\n",
       "</div>"
      ],
      "text/plain": [
       "   |subsessions|  occurrences\n",
       "0              1          268\n",
       "1              2           18\n",
       "2              3           23\n",
       "3              4           26\n",
       "4              5           24"
      ]
     },
     "execution_count": 56,
     "metadata": {},
     "output_type": "execute_result"
    }
   ],
   "source": [
    "n_splits = new_df.value_counts(\"session_id\").value_counts().sort_index().reset_index().rename({\"index\":\"|subsessions|\", 0:\"occurrences\"}, axis = 1)\n",
    "n_splits"
   ]
  },
  {
   "cell_type": "markdown",
   "id": "b782d959-eef8-4916-84c9-bd5b46c37853",
   "metadata": {},
   "source": [
    "### Recreate statements"
   ]
  },
  {
   "cell_type": "code",
   "execution_count": 57,
   "id": "b7a96b71-c31e-417f-949f-53b5b7d0705b",
   "metadata": {},
   "outputs": [
    {
     "name": "stderr",
     "output_type": "stream",
     "text": [
      "100%|██████████| 597/597 [00:00<00:00, 59098.41it/s]\n"
     ]
    },
    {
     "data": {
      "text/html": [
       "<div>\n",
       "<style scoped>\n",
       "    .dataframe tbody tr th:only-of-type {\n",
       "        vertical-align: middle;\n",
       "    }\n",
       "\n",
       "    .dataframe tbody tr th {\n",
       "        vertical-align: top;\n",
       "    }\n",
       "\n",
       "    .dataframe thead th {\n",
       "        text-align: right;\n",
       "    }\n",
       "</style>\n",
       "<table border=\"1\" class=\"dataframe\">\n",
       "  <thead>\n",
       "    <tr style=\"text-align: right;\">\n",
       "      <th></th>\n",
       "      <th>sessions</th>\n",
       "      <th>labels</th>\n",
       "      <th>session_id</th>\n",
       "      <th>order_id</th>\n",
       "      <th>indexes_statements_context</th>\n",
       "      <th>indexes_words_context</th>\n",
       "      <th>statements_special_token</th>\n",
       "    </tr>\n",
       "  </thead>\n",
       "  <tbody>\n",
       "    <tr>\n",
       "      <th>0</th>\n",
       "      <td>scp -t /tmp/Muw3fuvA ; cd /tmp &amp;&amp; chmod +x Muw3fuvA &amp;&amp; bash -c ./Muw3fuvA ; ./Muw3fuvA ;</td>\n",
       "      <td>Execution -- Execution -- Execution -- Execution -- Execution</td>\n",
       "      <td>0</td>\n",
       "      <td>1</td>\n",
       "      <td>[]</td>\n",
       "      <td>[]</td>\n",
       "      <td>[[STAT] scp -t /tmp/Muw3fuvA ;, [STAT] cd /tmp &amp;&amp;, [STAT] chmod +x Muw3fuvA &amp;&amp;, [STAT] bash -c ./Muw3fuvA ;, [STAT] ./Muw3fuvA ;]</td>\n",
       "    </tr>\n",
       "    <tr>\n",
       "      <th>1</th>\n",
       "      <td>scp -t /tmp/CaW87HUG ; cd /tmp &amp;&amp; chmod +x CaW87HUG &amp;&amp; bash -c ./CaW87HUG ; ./CaW87HUG ;</td>\n",
       "      <td>Execution -- Execution -- Execution -- Execution -- Execution</td>\n",
       "      <td>1</td>\n",
       "      <td>1</td>\n",
       "      <td>[]</td>\n",
       "      <td>[]</td>\n",
       "      <td>[[STAT] scp -t /tmp/CaW87HUG ;, [STAT] cd /tmp &amp;&amp;, [STAT] chmod +x CaW87HUG &amp;&amp;, [STAT] bash -c ./CaW87HUG ;, [STAT] ./CaW87HUG ;]</td>\n",
       "    </tr>\n",
       "  </tbody>\n",
       "</table>\n",
       "</div>"
      ],
      "text/plain": [
       "                                                                                   sessions  \\\n",
       "0  scp -t /tmp/Muw3fuvA ; cd /tmp && chmod +x Muw3fuvA && bash -c ./Muw3fuvA ; ./Muw3fuvA ;   \n",
       "1  scp -t /tmp/CaW87HUG ; cd /tmp && chmod +x CaW87HUG && bash -c ./CaW87HUG ; ./CaW87HUG ;   \n",
       "\n",
       "                                                          labels  session_id  \\\n",
       "0  Execution -- Execution -- Execution -- Execution -- Execution           0   \n",
       "1  Execution -- Execution -- Execution -- Execution -- Execution           1   \n",
       "\n",
       "   order_id indexes_statements_context indexes_words_context  \\\n",
       "0         1                         []                    []   \n",
       "1         1                         []                    []   \n",
       "\n",
       "                                                                                                            statements_special_token  \n",
       "0  [[STAT] scp -t /tmp/Muw3fuvA ;, [STAT] cd /tmp &&, [STAT] chmod +x Muw3fuvA &&, [STAT] bash -c ./Muw3fuvA ;, [STAT] ./Muw3fuvA ;]  \n",
       "1  [[STAT] scp -t /tmp/CaW87HUG ;, [STAT] cd /tmp &&, [STAT] chmod +x CaW87HUG &&, [STAT] bash -c ./CaW87HUG ;, [STAT] ./CaW87HUG ;]  "
      ]
     },
     "execution_count": 57,
     "metadata": {},
     "output_type": "execute_result"
    }
   ],
   "source": [
    "new_df[\"statements_special_token\"] = new_df[\"sessions\"].progress_apply(lambda session: divide_statements(session, add_special_token = True))\n",
    "new_df.head(2)"
   ]
  },
  {
   "cell_type": "markdown",
   "id": "38da2fbe-5172-4125-995e-f5510ac0f4b0",
   "metadata": {},
   "source": [
    "#### Obtain n_stats and n_words"
   ]
  },
  {
   "cell_type": "code",
   "execution_count": 58,
   "id": "39cfe6db-fd4b-46ea-ac84-d522f1beda64",
   "metadata": {},
   "outputs": [],
   "source": [
    "n_words = new_df.sessions.apply(lambda session: len(session.split(\" \")))\n",
    "n_stats = new_df.statements_special_token.apply(lambda statement: len(statement))"
   ]
  },
  {
   "cell_type": "code",
   "execution_count": 59,
   "id": "6f7c9d21-9c30-4d0c-9329-4b28654b9791",
   "metadata": {},
   "outputs": [
    {
     "data": {
      "image/png": "[encoded data removed]",
      "text/plain": [
       "<Figure size 700x500 with 1 Axes>"
      ]
     },
     "metadata": {},
     "output_type": "display_data"
    }
   ],
   "source": [
    "import matplotlib.pyplot as plt \n",
    "\n",
    "fig, axs = plt.subplots(1, figsize=(7,5))\n",
    "fontsize = 20\n",
    "axs.scatter(n_stats, n_words, s = 20, c = \"forestgreen\")\n",
    "axs.set_title(f\"|Statements| vs |Words|\", fontsize = fontsize + 2)\n",
    "axs.set_xlabel(\"|Statements|\", fontsize = fontsize)\n",
    "axs.set_ylabel(\"|Words|\", fontsize = fontsize)\n",
    "axs.yaxis.set_tick_params(labelsize=fontsize)\n",
    "axs.xaxis.set_tick_params(labelsize=fontsize, rotation = 30) \n",
    "axs.vlines(x = threshold_n_stats + context_n_stats, ymin = 0, ymax = n_words.max(), linestyles = \"dashed\", color = \"black\", label = f\"Threshold\")\n",
    "\n",
    "axs.xaxis.set_ticks(range(0, 61, 10))\n",
    "axs.yaxis.set_ticks(range(0, 251, 50))\n",
    "\n",
    "axs.grid()\n",
    "plt.tight_layout()\n",
    "plt.show()"
   ]
  },
  {
   "cell_type": "markdown",
   "id": "a219585b-9b0c-4de3-8420-d0470cb39319",
   "metadata": {},
   "source": [
    "### Also, plot ECDF of |statements|"
   ]
  },
  {
   "cell_type": "code",
   "execution_count": 60,
   "id": "a29fe373-edd8-42ad-a8ec-91eb3fbfa341",
   "metadata": {},
   "outputs": [
    {
     "data": {
      "text/plain": [
       "1    0.072027\n",
       "2    0.150754\n",
       "Name: cdf, dtype: float64"
      ]
     },
     "execution_count": 60,
     "metadata": {},
     "output_type": "execute_result"
    }
   ],
   "source": [
    "import numpy as np\n",
    "cdf = n_stats.value_counts().sort_index().rename(\"cdf\")\n",
    "cdf_after = np.cumsum(cdf)/np.sum(cdf)\n",
    "cdf_after.head(2)"
   ]
  },
  {
   "cell_type": "code",
   "execution_count": 61,
   "id": "2e9affcc-c945-4e0e-8fc1-12d0527f163d",
   "metadata": {},
   "outputs": [
    {
     "data": {
      "image/png": "[encoded data removed]",
      "text/plain": [
       "<Figure size 600x500 with 1 Axes>"
      ]
     },
     "metadata": {},
     "output_type": "display_data"
    }
   ],
   "source": [
    "fig, axs = plt.subplots(1, figsize=(6,5))\n",
    "fontsize = 20\n",
    "axs.plot(cdf_before.reset_index()[\"index\"], cdf_before.reset_index()[\"cdf\"], linewidth = 2, label = \"Before\")\n",
    "axs.scatter(cdf_before.reset_index()[\"index\"], cdf_before.reset_index()[\"cdf\"], c = \"k\", s = 20)\n",
    "\n",
    "axs.plot(cdf_after.reset_index()[\"index\"], cdf_after.reset_index()[\"cdf\"], linewidth = 2, label = \"After\")\n",
    "axs.scatter(cdf_after.reset_index()[\"index\"], cdf_after.reset_index()[\"cdf\"], c = \"k\", s = 20)\n",
    "\n",
    "axs.set_xlabel('|statements| per session', fontsize = fontsize + 3)\n",
    "axs.set_title(f'ECDF of |statements| per session', fontsize = fontsize + 5)\n",
    "axs.set_ylabel('ECDF', fontsize = fontsize + 3)\n",
    "axs.yaxis.set_tick_params(labelsize=fontsize)\n",
    "axs.xaxis.set_tick_params(labelsize=fontsize)\n",
    "axs.grid()\n",
    "axs.legend(fontsize=fontsize)\n",
    "plt.tight_layout()\n",
    "plt.show()"
   ]
  },
  {
   "cell_type": "markdown",
   "id": "d0d52583-40d2-46e9-a964-6bdb7b518eed",
   "metadata": {},
   "source": [
    "### Make sure that operations were performed correctly"
   ]
  },
  {
   "cell_type": "code",
   "execution_count": 62,
   "id": "375886bf-36c7-4f9b-b688-f3b51ac15c94",
   "metadata": {},
   "outputs": [],
   "source": [
    "number_of_statements = new_df[\"statements_special_token\"].apply(lambda statements: len(statements))\n",
    "number_of_labels = new_df[\"labels\"].apply(lambda statements_labels: len(statements_labels.split(\" -- \")))\n",
    "assert number_of_statements.equals(number_of_labels), \"Error: not all statements are labeled!\""
   ]
  },
  {
   "cell_type": "code",
   "execution_count": 63,
   "id": "9392e34d-fb19-450e-ba6e-b18e6d32ee60",
   "metadata": {},
   "outputs": [
    {
     "data": {
      "text/plain": [
       "(array([], dtype=int64),)"
      ]
     },
     "execution_count": 63,
     "metadata": {},
     "output_type": "execute_result"
    }
   ],
   "source": [
    "import numpy as np\n",
    "np.where((number_of_statements != number_of_labels))"
   ]
  },
  {
   "cell_type": "markdown",
   "id": "0ccc96fc-ba28-465b-8f46-9b608c5aac7a",
   "metadata": {},
   "source": [
    "## Now we can save the datasets"
   ]
  },
  {
   "cell_type": "markdown",
   "id": "e501f4b8-cffe-4f32-a11c-feb57fd4418c",
   "metadata": {},
   "source": [
    "#### We will save:\n",
    "- Dataset for word classification\n",
    "- Dataset for statement classification\n",
    "- Dataset for seq2seq"
   ]
  },
  {
   "cell_type": "markdown",
   "id": "8c7fc55f-961a-4aec-bb1d-3604333c9eab",
   "metadata": {},
   "source": [
    "### Shuffle the dataset"
   ]
  },
  {
   "cell_type": "code",
   "execution_count": 64,
   "id": "89f2cb49-629a-4a40-baa1-31555f47353f",
   "metadata": {},
   "outputs": [],
   "source": [
    "new_df = new_df.sample(frac = 1, random_state = 29)"
   ]
  },
  {
   "cell_type": "markdown",
   "id": "4aaa0b4a-9b2f-4b79-9247-f2ea2b7ef9f3",
   "metadata": {
    "tags": []
   },
   "source": [
    "#### First, tokenize the session (split words)"
   ]
  },
  {
   "cell_type": "code",
   "execution_count": 65,
   "id": "ecd683da-fbbb-4a2d-be44-8f402ec797f2",
   "metadata": {},
   "outputs": [
    {
     "data": {
      "text/html": [
       "<div>\n",
       "<style scoped>\n",
       "    .dataframe tbody tr th:only-of-type {\n",
       "        vertical-align: middle;\n",
       "    }\n",
       "\n",
       "    .dataframe tbody tr th {\n",
       "        vertical-align: top;\n",
       "    }\n",
       "\n",
       "    .dataframe thead th {\n",
       "        text-align: right;\n",
       "    }\n",
       "</style>\n",
       "<table border=\"1\" class=\"dataframe\">\n",
       "  <thead>\n",
       "    <tr style=\"text-align: right;\">\n",
       "      <th></th>\n",
       "      <th>sessions</th>\n",
       "      <th>labels</th>\n",
       "      <th>session_id</th>\n",
       "      <th>order_id</th>\n",
       "      <th>indexes_statements_context</th>\n",
       "      <th>indexes_words_context</th>\n",
       "      <th>statements_special_token</th>\n",
       "      <th>tokenized_session</th>\n",
       "    </tr>\n",
       "  </thead>\n",
       "  <tbody>\n",
       "    <tr>\n",
       "      <th>294</th>\n",
       "      <td>which awk ; echo 6z18a0jzqrz1 ; echo xo093rp7mik6 | awk {print toupper$0\"te\"} | grep -o .....$ ; which awk ; echo cd84gak9o2e8 ; echo zzidfdzkg5wr | awk {print toupper$0\"f6\"} | grep -o .....$ ;</td>\n",
       "      <td>Discovery -- Discovery -- Discovery -- Discovery -- Discovery -- Discovery -- Discovery -- Discovery -- Discovery -- Discovery</td>\n",
       "      <td>135</td>\n",
       "      <td>1</td>\n",
       "      <td>[]</td>\n",
       "      <td>[]</td>\n",
       "      <td>[[STAT] which awk ;, [STAT] echo 6z18a0jzqrz1 ;, [STAT] echo xo093rp7mik6 |, [STAT] awk {print toupper$0\"te\"} |, [STAT] grep -o .....$ ;, [STAT] which awk ;, [STAT] echo cd84gak9o2e8 ;, [STAT] echo zzidfdzkg5wr |, [STAT] awk {print toupper$0\"f6\"} |, [STAT] grep -o .....$ ;]</td>\n",
       "      <td>[which, awk, ;, echo, 6z18a0jzqrz1, ;, echo, xo093rp7mik6, |, awk, {print, toupper$0\"te\"}, |, grep, -o, .....$, ;, which, awk, ;, echo, cd84gak9o2e8, ;, echo, zzidfdzkg5wr, |, awk, {print, toupper$0\"f6\"}, |, grep, -o, .....$, ;]</td>\n",
       "    </tr>\n",
       "    <tr>\n",
       "      <th>403</th>\n",
       "      <td>ps -x ; ps -x ; cat /proc/cpuinfo ;</td>\n",
       "      <td>Discovery -- Discovery -- Discovery</td>\n",
       "      <td>188</td>\n",
       "      <td>1</td>\n",
       "      <td>[]</td>\n",
       "      <td>[]</td>\n",
       "      <td>[[STAT] ps -x ;, [STAT] ps -x ;, [STAT] cat /proc/cpuinfo ;]</td>\n",
       "      <td>[ps, -x, ;, ps, -x, ;, cat, /proc/cpuinfo, ;]</td>\n",
       "    </tr>\n",
       "  </tbody>\n",
       "</table>\n",
       "</div>"
      ],
      "text/plain": [
       "                                                                                                                                                                                              sessions  \\\n",
       "294  which awk ; echo 6z18a0jzqrz1 ; echo xo093rp7mik6 | awk {print toupper$0\"te\"} | grep -o .....$ ; which awk ; echo cd84gak9o2e8 ; echo zzidfdzkg5wr | awk {print toupper$0\"f6\"} | grep -o .....$ ;   \n",
       "403                                                                                                                                                                ps -x ; ps -x ; cat /proc/cpuinfo ;   \n",
       "\n",
       "                                                                                                                             labels  \\\n",
       "294  Discovery -- Discovery -- Discovery -- Discovery -- Discovery -- Discovery -- Discovery -- Discovery -- Discovery -- Discovery   \n",
       "403                                                                                             Discovery -- Discovery -- Discovery   \n",
       "\n",
       "     session_id  order_id indexes_statements_context indexes_words_context  \\\n",
       "294         135         1                         []                    []   \n",
       "403         188         1                         []                    []   \n",
       "\n",
       "                                                                                                                                                                                                                                                               statements_special_token  \\\n",
       "294  [[STAT] which awk ;, [STAT] echo 6z18a0jzqrz1 ;, [STAT] echo xo093rp7mik6 |, [STAT] awk {print toupper$0\"te\"} |, [STAT] grep -o .....$ ;, [STAT] which awk ;, [STAT] echo cd84gak9o2e8 ;, [STAT] echo zzidfdzkg5wr |, [STAT] awk {print toupper$0\"f6\"} |, [STAT] grep -o .....$ ;]   \n",
       "403                                                                                                                                                                                                                        [[STAT] ps -x ;, [STAT] ps -x ;, [STAT] cat /proc/cpuinfo ;]   \n",
       "\n",
       "                                                                                                                                                                                                                        tokenized_session  \n",
       "294  [which, awk, ;, echo, 6z18a0jzqrz1, ;, echo, xo093rp7mik6, |, awk, {print, toupper$0\"te\"}, |, grep, -o, .....$, ;, which, awk, ;, echo, cd84gak9o2e8, ;, echo, zzidfdzkg5wr, |, awk, {print, toupper$0\"f6\"}, |, grep, -o, .....$, ;]  \n",
       "403                                                                                                                                                                                         [ps, -x, ;, ps, -x, ;, cat, /proc/cpuinfo, ;]  "
      ]
     },
     "execution_count": 65,
     "metadata": {},
     "output_type": "execute_result"
    }
   ],
   "source": [
    "new_df[\"tokenized_session\"] = new_df[\"sessions\"].apply(lambda session: session.split(\" \"))\n",
    "new_df.head(2)"
   ]
  },
  {
   "cell_type": "markdown",
   "id": "0d1bc2cf-2591-41e8-af75-d4c04f5aa29f",
   "metadata": {},
   "source": [
    "#### Now, create labels for each token"
   ]
  },
  {
   "cell_type": "code",
   "execution_count": 66,
   "id": "6609db82-3f00-444d-b882-9c62080c7f2f",
   "metadata": {},
   "outputs": [],
   "source": [
    "def assign_labels2tokens(labels, statements):\n",
    "    labels = labels.split(\" -- \")\n",
    "    tokens_labels = list()\n",
    "    for label, statement in zip(labels, statements):\n",
    "        for word in statement.split(\" \"):\n",
    "            if word != \"[STAT]\":\n",
    "                tokens_labels.append(label)\n",
    "    return tokens_labels"
   ]
  },
  {
   "cell_type": "code",
   "execution_count": 67,
   "id": "4c8508b1-44eb-4198-860f-36f304002178",
   "metadata": {
    "tags": []
   },
   "outputs": [
    {
     "name": "stderr",
     "output_type": "stream",
     "text": [
      "100%|██████████| 597/597 [00:00<00:00, 31773.82it/s]\n"
     ]
    },
    {
     "data": {
      "text/html": [
       "<div>\n",
       "<style scoped>\n",
       "    .dataframe tbody tr th:only-of-type {\n",
       "        vertical-align: middle;\n",
       "    }\n",
       "\n",
       "    .dataframe tbody tr th {\n",
       "        vertical-align: top;\n",
       "    }\n",
       "\n",
       "    .dataframe thead th {\n",
       "        text-align: right;\n",
       "    }\n",
       "</style>\n",
       "<table border=\"1\" class=\"dataframe\">\n",
       "  <thead>\n",
       "    <tr style=\"text-align: right;\">\n",
       "      <th></th>\n",
       "      <th>sessions</th>\n",
       "      <th>labels</th>\n",
       "      <th>session_id</th>\n",
       "      <th>order_id</th>\n",
       "      <th>indexes_statements_context</th>\n",
       "      <th>indexes_words_context</th>\n",
       "      <th>statements_special_token</th>\n",
       "      <th>tokenized_session</th>\n",
       "      <th>tokens_labels</th>\n",
       "    </tr>\n",
       "  </thead>\n",
       "  <tbody>\n",
       "    <tr>\n",
       "      <th>294</th>\n",
       "      <td>which awk ; echo 6z18a0jzqrz1 ; echo xo093rp7mik6 | awk {print toupper$0\"te\"} | grep -o .....$ ; which awk ; echo cd84gak9o2e8 ; echo zzidfdzkg5wr | awk {print toupper$0\"f6\"} | grep -o .....$ ;</td>\n",
       "      <td>Discovery -- Discovery -- Discovery -- Discovery -- Discovery -- Discovery -- Discovery -- Discovery -- Discovery -- Discovery</td>\n",
       "      <td>135</td>\n",
       "      <td>1</td>\n",
       "      <td>[]</td>\n",
       "      <td>[]</td>\n",
       "      <td>[[STAT] which awk ;, [STAT] echo 6z18a0jzqrz1 ;, [STAT] echo xo093rp7mik6 |, [STAT] awk {print toupper$0\"te\"} |, [STAT] grep -o .....$ ;, [STAT] which awk ;, [STAT] echo cd84gak9o2e8 ;, [STAT] echo zzidfdzkg5wr |, [STAT] awk {print toupper$0\"f6\"} |, [STAT] grep -o .....$ ;]</td>\n",
       "      <td>[which, awk, ;, echo, 6z18a0jzqrz1, ;, echo, xo093rp7mik6, |, awk, {print, toupper$0\"te\"}, |, grep, -o, .....$, ;, which, awk, ;, echo, cd84gak9o2e8, ;, echo, zzidfdzkg5wr, |, awk, {print, toupper$0\"f6\"}, |, grep, -o, .....$, ;]</td>\n",
       "      <td>[Discovery, Discovery, Discovery, Discovery, Discovery, Discovery, Discovery, Discovery, Discovery, Discovery, Discovery, Discovery, Discovery, Discovery, Discovery, Discovery, Discovery, Discovery, Discovery, Discovery, Discovery, Discovery, Discovery, Discovery, Discovery, Discovery, Discovery, Discovery, Discovery, Discovery, Discovery, Discovery, Discovery, Discovery]</td>\n",
       "    </tr>\n",
       "  </tbody>\n",
       "</table>\n",
       "</div>"
      ],
      "text/plain": [
       "                                                                                                                                                                                              sessions  \\\n",
       "294  which awk ; echo 6z18a0jzqrz1 ; echo xo093rp7mik6 | awk {print toupper$0\"te\"} | grep -o .....$ ; which awk ; echo cd84gak9o2e8 ; echo zzidfdzkg5wr | awk {print toupper$0\"f6\"} | grep -o .....$ ;   \n",
       "\n",
       "                                                                                                                             labels  \\\n",
       "294  Discovery -- Discovery -- Discovery -- Discovery -- Discovery -- Discovery -- Discovery -- Discovery -- Discovery -- Discovery   \n",
       "\n",
       "     session_id  order_id indexes_statements_context indexes_words_context  \\\n",
       "294         135         1                         []                    []   \n",
       "\n",
       "                                                                                                                                                                                                                                                               statements_special_token  \\\n",
       "294  [[STAT] which awk ;, [STAT] echo 6z18a0jzqrz1 ;, [STAT] echo xo093rp7mik6 |, [STAT] awk {print toupper$0\"te\"} |, [STAT] grep -o .....$ ;, [STAT] which awk ;, [STAT] echo cd84gak9o2e8 ;, [STAT] echo zzidfdzkg5wr |, [STAT] awk {print toupper$0\"f6\"} |, [STAT] grep -o .....$ ;]   \n",
       "\n",
       "                                                                                                                                                                                                                        tokenized_session  \\\n",
       "294  [which, awk, ;, echo, 6z18a0jzqrz1, ;, echo, xo093rp7mik6, |, awk, {print, toupper$0\"te\"}, |, grep, -o, .....$, ;, which, awk, ;, echo, cd84gak9o2e8, ;, echo, zzidfdzkg5wr, |, awk, {print, toupper$0\"f6\"}, |, grep, -o, .....$, ;]   \n",
       "\n",
       "                                                                                                                                                                                                                                                                                                                                                                              tokens_labels  \n",
       "294  [Discovery, Discovery, Discovery, Discovery, Discovery, Discovery, Discovery, Discovery, Discovery, Discovery, Discovery, Discovery, Discovery, Discovery, Discovery, Discovery, Discovery, Discovery, Discovery, Discovery, Discovery, Discovery, Discovery, Discovery, Discovery, Discovery, Discovery, Discovery, Discovery, Discovery, Discovery, Discovery, Discovery, Discovery]  "
      ]
     },
     "execution_count": 67,
     "metadata": {},
     "output_type": "execute_result"
    }
   ],
   "source": [
    "new_df[\"tokens_labels\"] = new_df.progress_apply(lambda row: assign_labels2tokens(row.labels, row.statements_special_token), axis = 1)\n",
    "new_df.head(1)"
   ]
  },
  {
   "cell_type": "markdown",
   "id": "f512b0eb-b136-4649-8484-75c00e7fe34a",
   "metadata": {},
   "source": [
    "### Make sure that operations were performed correctly"
   ]
  },
  {
   "cell_type": "code",
   "execution_count": 68,
   "id": "3faea641-f988-4aa3-b909-e394a82ec46d",
   "metadata": {},
   "outputs": [],
   "source": [
    "len_sessions = new_df[\"sessions\"].apply(lambda session: len(session.split(\" \")))\n",
    "len_tokens_labels = new_df[\"tokens_labels\"].apply(lambda tokens_labels: len(tokens_labels))\n",
    "assert len_sessions.equals(len_tokens_labels), \"Error: not all tokens are labeled!\""
   ]
  },
  {
   "cell_type": "markdown",
   "id": "c2e0dd62-8e24-4d11-abe5-46a5a07a1665",
   "metadata": {},
   "source": [
    "#### Decomment to compare columns"
   ]
  },
  {
   "cell_type": "code",
   "execution_count": 69,
   "id": "9191f5fa-5d7e-4589-9f87-35877aa1a796",
   "metadata": {},
   "outputs": [
    {
     "data": {
      "text/html": [
       "<div>\n",
       "<style scoped>\n",
       "    .dataframe tbody tr th:only-of-type {\n",
       "        vertical-align: middle;\n",
       "    }\n",
       "\n",
       "    .dataframe tbody tr th {\n",
       "        vertical-align: top;\n",
       "    }\n",
       "\n",
       "    .dataframe thead th {\n",
       "        text-align: right;\n",
       "    }\n",
       "</style>\n",
       "<table border=\"1\" class=\"dataframe\">\n",
       "  <thead>\n",
       "    <tr style=\"text-align: right;\">\n",
       "      <th></th>\n",
       "      <th>self</th>\n",
       "      <th>other</th>\n",
       "    </tr>\n",
       "  </thead>\n",
       "  <tbody>\n",
       "  </tbody>\n",
       "</table>\n",
       "</div>"
      ],
      "text/plain": [
       "Empty DataFrame\n",
       "Columns: [self, other]\n",
       "Index: []"
      ]
     },
     "execution_count": 69,
     "metadata": {},
     "output_type": "execute_result"
    }
   ],
   "source": [
    "len_sessions.compare(len_tokens_labels)"
   ]
  },
  {
   "cell_type": "markdown",
   "id": "f0ff736a-627a-47b6-a06c-d388b0db7efb",
   "metadata": {},
   "source": [
    "### Export for token/word classification"
   ]
  },
  {
   "cell_type": "code",
   "execution_count": 70,
   "id": "a1979000-0f30-4142-8712-02ce5eb1ddb2",
   "metadata": {},
   "outputs": [],
   "source": [
    "new_df[['tokenized_session', \"tokens_labels\", \"session_id\", \"order_id\", \"indexes_statements_context\", \"indexes_words_context\"]].to_csv(f\"./token_classification.csv\", index=False)"
   ]
  },
  {
   "cell_type": "markdown",
   "id": "01681fa6-16be-48a6-9e87-b215e9f4c860",
   "metadata": {},
   "source": [
    "### Now export the one for statement classification"
   ]
  },
  {
   "cell_type": "code",
   "execution_count": 71,
   "id": "c3ba53ab-40a3-4363-9573-ed83611f7f6e",
   "metadata": {},
   "outputs": [
    {
     "name": "stderr",
     "output_type": "stream",
     "text": [
      "100%|██████████| 597/597 [00:00<00:00, 85057.22it/s]\n",
      "100%|██████████| 597/597 [00:00<00:00, 434495.83it/s]\n"
     ]
    },
    {
     "data": {
      "text/html": [
       "<div>\n",
       "<style scoped>\n",
       "    .dataframe tbody tr th:only-of-type {\n",
       "        vertical-align: middle;\n",
       "    }\n",
       "\n",
       "    .dataframe tbody tr th {\n",
       "        vertical-align: top;\n",
       "    }\n",
       "\n",
       "    .dataframe thead th {\n",
       "        text-align: right;\n",
       "    }\n",
       "</style>\n",
       "<table border=\"1\" class=\"dataframe\">\n",
       "  <thead>\n",
       "    <tr style=\"text-align: right;\">\n",
       "      <th></th>\n",
       "      <th>sessions</th>\n",
       "      <th>labels</th>\n",
       "      <th>session_id</th>\n",
       "      <th>order_id</th>\n",
       "      <th>indexes_statements_context</th>\n",
       "      <th>indexes_words_context</th>\n",
       "      <th>statements_special_token</th>\n",
       "      <th>tokenized_session</th>\n",
       "      <th>tokens_labels</th>\n",
       "      <th>tokenized_statements</th>\n",
       "      <th>statement_labels</th>\n",
       "    </tr>\n",
       "  </thead>\n",
       "  <tbody>\n",
       "    <tr>\n",
       "      <th>294</th>\n",
       "      <td>which awk ; echo 6z18a0jzqrz1 ; echo xo093rp7mik6 | awk {print toupper$0\"te\"} | grep -o .....$ ; which awk ; echo cd84gak9o2e8 ; echo zzidfdzkg5wr | awk {print toupper$0\"f6\"} | grep -o .....$ ;</td>\n",
       "      <td>Discovery -- Discovery -- Discovery -- Discovery -- Discovery -- Discovery -- Discovery -- Discovery -- Discovery -- Discovery</td>\n",
       "      <td>135</td>\n",
       "      <td>1</td>\n",
       "      <td>[]</td>\n",
       "      <td>[]</td>\n",
       "      <td>[[STAT] which awk ;, [STAT] echo 6z18a0jzqrz1 ;, [STAT] echo xo093rp7mik6 |, [STAT] awk {print toupper$0\"te\"} |, [STAT] grep -o .....$ ;, [STAT] which awk ;, [STAT] echo cd84gak9o2e8 ;, [STAT] echo zzidfdzkg5wr |, [STAT] awk {print toupper$0\"f6\"} |, [STAT] grep -o .....$ ;]</td>\n",
       "      <td>[which, awk, ;, echo, 6z18a0jzqrz1, ;, echo, xo093rp7mik6, |, awk, {print, toupper$0\"te\"}, |, grep, -o, .....$, ;, which, awk, ;, echo, cd84gak9o2e8, ;, echo, zzidfdzkg5wr, |, awk, {print, toupper$0\"f6\"}, |, grep, -o, .....$, ;]</td>\n",
       "      <td>[Discovery, Discovery, Discovery, Discovery, Discovery, Discovery, Discovery, Discovery, Discovery, Discovery, Discovery, Discovery, Discovery, Discovery, Discovery, Discovery, Discovery, Discovery, Discovery, Discovery, Discovery, Discovery, Discovery, Discovery, Discovery, Discovery, Discovery, Discovery, Discovery, Discovery, Discovery, Discovery, Discovery, Discovery]</td>\n",
       "      <td>[[STAT], which, awk, ;, [STAT], echo, 6z18a0jzqrz1, ;, [STAT], echo, xo093rp7mik6, |, [STAT], awk, {print, toupper$0\"te\"}, |, [STAT], grep, -o, .....$, ;, [STAT], which, awk, ;, [STAT], echo, cd84gak9o2e8, ;, [STAT], echo, zzidfdzkg5wr, |, [STAT], awk, {print, toupper$0\"f6\"}, |, [STAT], grep, -o, .....$, ;]</td>\n",
       "      <td>[Discovery, Discovery, Discovery, Discovery, Discovery, Discovery, Discovery, Discovery, Discovery, Discovery]</td>\n",
       "    </tr>\n",
       "  </tbody>\n",
       "</table>\n",
       "</div>"
      ],
      "text/plain": [
       "                                                                                                                                                                                              sessions  \\\n",
       "294  which awk ; echo 6z18a0jzqrz1 ; echo xo093rp7mik6 | awk {print toupper$0\"te\"} | grep -o .....$ ; which awk ; echo cd84gak9o2e8 ; echo zzidfdzkg5wr | awk {print toupper$0\"f6\"} | grep -o .....$ ;   \n",
       "\n",
       "                                                                                                                             labels  \\\n",
       "294  Discovery -- Discovery -- Discovery -- Discovery -- Discovery -- Discovery -- Discovery -- Discovery -- Discovery -- Discovery   \n",
       "\n",
       "     session_id  order_id indexes_statements_context indexes_words_context  \\\n",
       "294         135         1                         []                    []   \n",
       "\n",
       "                                                                                                                                                                                                                                                               statements_special_token  \\\n",
       "294  [[STAT] which awk ;, [STAT] echo 6z18a0jzqrz1 ;, [STAT] echo xo093rp7mik6 |, [STAT] awk {print toupper$0\"te\"} |, [STAT] grep -o .....$ ;, [STAT] which awk ;, [STAT] echo cd84gak9o2e8 ;, [STAT] echo zzidfdzkg5wr |, [STAT] awk {print toupper$0\"f6\"} |, [STAT] grep -o .....$ ;]   \n",
       "\n",
       "                                                                                                                                                                                                                        tokenized_session  \\\n",
       "294  [which, awk, ;, echo, 6z18a0jzqrz1, ;, echo, xo093rp7mik6, |, awk, {print, toupper$0\"te\"}, |, grep, -o, .....$, ;, which, awk, ;, echo, cd84gak9o2e8, ;, echo, zzidfdzkg5wr, |, awk, {print, toupper$0\"f6\"}, |, grep, -o, .....$, ;]   \n",
       "\n",
       "                                                                                                                                                                                                                                                                                                                                                                              tokens_labels  \\\n",
       "294  [Discovery, Discovery, Discovery, Discovery, Discovery, Discovery, Discovery, Discovery, Discovery, Discovery, Discovery, Discovery, Discovery, Discovery, Discovery, Discovery, Discovery, Discovery, Discovery, Discovery, Discovery, Discovery, Discovery, Discovery, Discovery, Discovery, Discovery, Discovery, Discovery, Discovery, Discovery, Discovery, Discovery, Discovery]   \n",
       "\n",
       "                                                                                                                                                                                                                                                                                                     tokenized_statements  \\\n",
       "294  [[STAT], which, awk, ;, [STAT], echo, 6z18a0jzqrz1, ;, [STAT], echo, xo093rp7mik6, |, [STAT], awk, {print, toupper$0\"te\"}, |, [STAT], grep, -o, .....$, ;, [STAT], which, awk, ;, [STAT], echo, cd84gak9o2e8, ;, [STAT], echo, zzidfdzkg5wr, |, [STAT], awk, {print, toupper$0\"f6\"}, |, [STAT], grep, -o, .....$, ;]   \n",
       "\n",
       "                                                                                                   statement_labels  \n",
       "294  [Discovery, Discovery, Discovery, Discovery, Discovery, Discovery, Discovery, Discovery, Discovery, Discovery]  "
      ]
     },
     "execution_count": 71,
     "metadata": {},
     "output_type": "execute_result"
    }
   ],
   "source": [
    "new_df[\"tokenized_statements\"] = new_df[\"statements_special_token\"].progress_apply(lambda statements: \" \".join(statements).split(\" \"))\n",
    "new_df[\"statement_labels\"] = new_df[\"labels\"].progress_apply(lambda labels: labels.split(\" -- \"))\n",
    "new_df.head(1)"
   ]
  },
  {
   "cell_type": "code",
   "execution_count": 72,
   "id": "65173327-88a3-424e-99f2-09c7ba548357",
   "metadata": {},
   "outputs": [],
   "source": [
    "new_df[['tokenized_statements', \"statement_labels\", \"session_id\", \"order_id\", \"indexes_statements_context\", \"indexes_words_context\"]].to_csv(f\"./statement_classification.csv\", index=False)"
   ]
  },
  {
   "cell_type": "markdown",
   "id": "1929e36b-6a03-4e25-a942-fa969b504861",
   "metadata": {},
   "source": [
    "### Eventually, dataset for seq2seq"
   ]
  },
  {
   "cell_type": "code",
   "execution_count": 73,
   "id": "bc9ad6e0-ab36-4cf9-b918-c94f113a182a",
   "metadata": {},
   "outputs": [],
   "source": [
    "def remove_repetitions(list_elements):\n",
    "    list_elements = list_elements.split(\" -- \")\n",
    "    prev_el = list_elements[0]\n",
    "    non_repeated_list = [str(prev_el)]\n",
    "    for el in list_elements[1:]:\n",
    "        if prev_el != el:\n",
    "            non_repeated_list.append(str(el))\n",
    "            prev_el = el\n",
    "    return \" - \".join(non_repeated_list)"
   ]
  },
  {
   "cell_type": "code",
   "execution_count": 74,
   "id": "e3018955-0fc8-4392-bea6-15ec445f737d",
   "metadata": {},
   "outputs": [
    {
     "data": {
      "text/html": [
       "<div>\n",
       "<style scoped>\n",
       "    .dataframe tbody tr th:only-of-type {\n",
       "        vertical-align: middle;\n",
       "    }\n",
       "\n",
       "    .dataframe tbody tr th {\n",
       "        vertical-align: top;\n",
       "    }\n",
       "\n",
       "    .dataframe thead th {\n",
       "        text-align: right;\n",
       "    }\n",
       "</style>\n",
       "<table border=\"1\" class=\"dataframe\">\n",
       "  <thead>\n",
       "    <tr style=\"text-align: right;\">\n",
       "      <th></th>\n",
       "      <th>sessions</th>\n",
       "      <th>labels</th>\n",
       "      <th>session_id</th>\n",
       "      <th>order_id</th>\n",
       "      <th>indexes_statements_context</th>\n",
       "      <th>indexes_words_context</th>\n",
       "      <th>statements_special_token</th>\n",
       "      <th>tokenized_session</th>\n",
       "      <th>tokens_labels</th>\n",
       "      <th>tokenized_statements</th>\n",
       "      <th>statement_labels</th>\n",
       "      <th>non_repeated_labels</th>\n",
       "    </tr>\n",
       "  </thead>\n",
       "  <tbody>\n",
       "    <tr>\n",
       "      <th>294</th>\n",
       "      <td>which awk ; echo 6z18a0jzqrz1 ; echo xo093rp7mik6 | awk {print toupper$0\"te\"} | grep -o .....$ ; which awk ; echo cd84gak9o2e8 ; echo zzidfdzkg5wr | awk {print toupper$0\"f6\"} | grep -o .....$ ;</td>\n",
       "      <td>Discovery -- Discovery -- Discovery -- Discovery -- Discovery -- Discovery -- Discovery -- Discovery -- Discovery -- Discovery</td>\n",
       "      <td>135</td>\n",
       "      <td>1</td>\n",
       "      <td>[]</td>\n",
       "      <td>[]</td>\n",
       "      <td>[[STAT] which awk ;, [STAT] echo 6z18a0jzqrz1 ;, [STAT] echo xo093rp7mik6 |, [STAT] awk {print toupper$0\"te\"} |, [STAT] grep -o .....$ ;, [STAT] which awk ;, [STAT] echo cd84gak9o2e8 ;, [STAT] echo zzidfdzkg5wr |, [STAT] awk {print toupper$0\"f6\"} |, [STAT] grep -o .....$ ;]</td>\n",
       "      <td>[which, awk, ;, echo, 6z18a0jzqrz1, ;, echo, xo093rp7mik6, |, awk, {print, toupper$0\"te\"}, |, grep, -o, .....$, ;, which, awk, ;, echo, cd84gak9o2e8, ;, echo, zzidfdzkg5wr, |, awk, {print, toupper$0\"f6\"}, |, grep, -o, .....$, ;]</td>\n",
       "      <td>[Discovery, Discovery, Discovery, Discovery, Discovery, Discovery, Discovery, Discovery, Discovery, Discovery, Discovery, Discovery, Discovery, Discovery, Discovery, Discovery, Discovery, Discovery, Discovery, Discovery, Discovery, Discovery, Discovery, Discovery, Discovery, Discovery, Discovery, Discovery, Discovery, Discovery, Discovery, Discovery, Discovery, Discovery]</td>\n",
       "      <td>[[STAT], which, awk, ;, [STAT], echo, 6z18a0jzqrz1, ;, [STAT], echo, xo093rp7mik6, |, [STAT], awk, {print, toupper$0\"te\"}, |, [STAT], grep, -o, .....$, ;, [STAT], which, awk, ;, [STAT], echo, cd84gak9o2e8, ;, [STAT], echo, zzidfdzkg5wr, |, [STAT], awk, {print, toupper$0\"f6\"}, |, [STAT], grep, -o, .....$, ;]</td>\n",
       "      <td>[Discovery, Discovery, Discovery, Discovery, Discovery, Discovery, Discovery, Discovery, Discovery, Discovery]</td>\n",
       "      <td>Discovery</td>\n",
       "    </tr>\n",
       "  </tbody>\n",
       "</table>\n",
       "</div>"
      ],
      "text/plain": [
       "                                                                                                                                                                                              sessions  \\\n",
       "294  which awk ; echo 6z18a0jzqrz1 ; echo xo093rp7mik6 | awk {print toupper$0\"te\"} | grep -o .....$ ; which awk ; echo cd84gak9o2e8 ; echo zzidfdzkg5wr | awk {print toupper$0\"f6\"} | grep -o .....$ ;   \n",
       "\n",
       "                                                                                                                             labels  \\\n",
       "294  Discovery -- Discovery -- Discovery -- Discovery -- Discovery -- Discovery -- Discovery -- Discovery -- Discovery -- Discovery   \n",
       "\n",
       "     session_id  order_id indexes_statements_context indexes_words_context  \\\n",
       "294         135         1                         []                    []   \n",
       "\n",
       "                                                                                                                                                                                                                                                               statements_special_token  \\\n",
       "294  [[STAT] which awk ;, [STAT] echo 6z18a0jzqrz1 ;, [STAT] echo xo093rp7mik6 |, [STAT] awk {print toupper$0\"te\"} |, [STAT] grep -o .....$ ;, [STAT] which awk ;, [STAT] echo cd84gak9o2e8 ;, [STAT] echo zzidfdzkg5wr |, [STAT] awk {print toupper$0\"f6\"} |, [STAT] grep -o .....$ ;]   \n",
       "\n",
       "                                                                                                                                                                                                                        tokenized_session  \\\n",
       "294  [which, awk, ;, echo, 6z18a0jzqrz1, ;, echo, xo093rp7mik6, |, awk, {print, toupper$0\"te\"}, |, grep, -o, .....$, ;, which, awk, ;, echo, cd84gak9o2e8, ;, echo, zzidfdzkg5wr, |, awk, {print, toupper$0\"f6\"}, |, grep, -o, .....$, ;]   \n",
       "\n",
       "                                                                                                                                                                                                                                                                                                                                                                              tokens_labels  \\\n",
       "294  [Discovery, Discovery, Discovery, Discovery, Discovery, Discovery, Discovery, Discovery, Discovery, Discovery, Discovery, Discovery, Discovery, Discovery, Discovery, Discovery, Discovery, Discovery, Discovery, Discovery, Discovery, Discovery, Discovery, Discovery, Discovery, Discovery, Discovery, Discovery, Discovery, Discovery, Discovery, Discovery, Discovery, Discovery]   \n",
       "\n",
       "                                                                                                                                                                                                                                                                                                     tokenized_statements  \\\n",
       "294  [[STAT], which, awk, ;, [STAT], echo, 6z18a0jzqrz1, ;, [STAT], echo, xo093rp7mik6, |, [STAT], awk, {print, toupper$0\"te\"}, |, [STAT], grep, -o, .....$, ;, [STAT], which, awk, ;, [STAT], echo, cd84gak9o2e8, ;, [STAT], echo, zzidfdzkg5wr, |, [STAT], awk, {print, toupper$0\"f6\"}, |, [STAT], grep, -o, .....$, ;]   \n",
       "\n",
       "                                                                                                   statement_labels  \\\n",
       "294  [Discovery, Discovery, Discovery, Discovery, Discovery, Discovery, Discovery, Discovery, Discovery, Discovery]   \n",
       "\n",
       "    non_repeated_labels  \n",
       "294           Discovery  "
      ]
     },
     "execution_count": 74,
     "metadata": {},
     "output_type": "execute_result"
    }
   ],
   "source": [
    "new_df[\"non_repeated_labels\"] = new_df.labels.apply(lambda labels: remove_repetitions(labels))\n",
    "new_df.head(1)"
   ]
  },
  {
   "cell_type": "code",
   "execution_count": 75,
   "id": "35b931a9-b130-4471-b9dc-b3abfcbf8079",
   "metadata": {},
   "outputs": [],
   "source": [
    "new_df[['sessions', \"non_repeated_labels\", 'session_id', 'order_id', \"indexes_statements_context\", \"indexes_words_context\"]].to_csv(f\"./seq2seq.csv\", index=False)"
   ]
  },
  {
   "cell_type": "markdown",
   "id": "60467807-f386-49cf-a799-855833e834fa",
   "metadata": {},
   "source": [
    "# To conclude, how many labels per classes?"
   ]
  },
  {
   "cell_type": "code",
   "execution_count": 76,
   "id": "6c3e612c-4675-47c7-b5d3-75b5c6e9f5cf",
   "metadata": {},
   "outputs": [
    {
     "data": {
      "text/html": [
       "<div>\n",
       "<style scoped>\n",
       "    .dataframe tbody tr th:only-of-type {\n",
       "        vertical-align: middle;\n",
       "    }\n",
       "\n",
       "    .dataframe tbody tr th {\n",
       "        vertical-align: top;\n",
       "    }\n",
       "\n",
       "    .dataframe thead th {\n",
       "        text-align: right;\n",
       "    }\n",
       "</style>\n",
       "<table border=\"1\" class=\"dataframe\">\n",
       "  <thead>\n",
       "    <tr style=\"text-align: right;\">\n",
       "      <th></th>\n",
       "      <th>|tokens| x label</th>\n",
       "      <th>|statements| x label</th>\n",
       "      <th>|occurrences|</th>\n",
       "    </tr>\n",
       "  </thead>\n",
       "  <tbody>\n",
       "    <tr>\n",
       "      <th>Discovery</th>\n",
       "      <td>14489</td>\n",
       "      <td>4255</td>\n",
       "      <td>461</td>\n",
       "    </tr>\n",
       "    <tr>\n",
       "      <th>Execution</th>\n",
       "      <td>5740</td>\n",
       "      <td>1475</td>\n",
       "      <td>285</td>\n",
       "    </tr>\n",
       "    <tr>\n",
       "      <th>Persistence</th>\n",
       "      <td>2344</td>\n",
       "      <td>644</td>\n",
       "      <td>197</td>\n",
       "    </tr>\n",
       "    <tr>\n",
       "      <th>Defense Evasion</th>\n",
       "      <td>674</td>\n",
       "      <td>147</td>\n",
       "      <td>112</td>\n",
       "    </tr>\n",
       "    <tr>\n",
       "      <th>Harmless</th>\n",
       "      <td>540</td>\n",
       "      <td>147</td>\n",
       "      <td>77</td>\n",
       "    </tr>\n",
       "    <tr>\n",
       "      <th>Impact</th>\n",
       "      <td>508</td>\n",
       "      <td>134</td>\n",
       "      <td>36</td>\n",
       "    </tr>\n",
       "    <tr>\n",
       "      <th>Other</th>\n",
       "      <td>285</td>\n",
       "      <td>68</td>\n",
       "      <td>21</td>\n",
       "    </tr>\n",
       "  </tbody>\n",
       "</table>\n",
       "</div>"
      ],
      "text/plain": [
       "                 |tokens| x label  |statements| x label  |occurrences|\n",
       "Discovery                   14489                  4255            461\n",
       "Execution                    5740                  1475            285\n",
       "Persistence                  2344                   644            197\n",
       "Defense Evasion               674                   147            112\n",
       "Harmless                      540                   147             77\n",
       "Impact                        508                   134             36\n",
       "Other                         285                    68             21"
      ]
     },
     "execution_count": 76,
     "metadata": {},
     "output_type": "execute_result"
    }
   ],
   "source": [
    "tokens_per_label = new_df[\"tokens_labels\"].explode().value_counts()\n",
    "statements_per_label = new_df[\"statement_labels\"].explode().value_counts()\n",
    "non_repeated_labels = new_df[\"non_repeated_labels\"].apply(lambda label: label.split(\" - \"))\n",
    "labels_occurrences = non_repeated_labels.explode().value_counts()\n",
    "pd.concat([tokens_per_label, statements_per_label, labels_occurrences], axis = 1).rename({\"tokens_labels\":\"|tokens| x label\", \"statement_labels\":\"|statements| x label\", \"non_repeated_labels\":\"|occurrences|\"}, axis = 1)"
   ]
  }
 ],
 "metadata": {
  "kernelspec": {
   "display_name": "Python [conda env:mboffa-cuda]",
   "language": "python",
   "name": "conda-env-mboffa-cuda-py"
  },
  "language_info": {
   "codemirror_mode": {
    "name": "ipython",
    "version": 3
   },
   "file_extension": ".py",
   "mimetype": "text/x-python",
   "name": "python",
   "nbconvert_exporter": "python",
   "pygments_lexer": "ipython3",
   "version": "3.10.9"
  }
 },
 "nbformat": 4,
 "nbformat_minor": 5
}
