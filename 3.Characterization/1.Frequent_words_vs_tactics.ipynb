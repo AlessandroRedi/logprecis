{
 "cells": [
  {
   "cell_type": "markdown",
   "id": "776353ce-ac75-4ee2-86a6-7b2bb2faf02f",
   "metadata": {},
   "source": [
    "# This notebook performs a simple characterization of the data:\n",
    "- Create a table to visualize most frequent words vs their predictions\n",
    "- Prove the importance of Attention ('echo' and 'rm' examples)"
   ]
  },
  {
   "cell_type": "markdown",
   "id": "5e89b06a-850d-491c-9264-b7dc317d6516",
   "metadata": {},
   "source": [
    "## Prepare data\n",
    "***"
   ]
  },
  {
   "cell_type": "markdown",
   "id": "8678c5e3-00bd-4625-bc8d-87c8b5d356ff",
   "metadata": {},
   "source": [
    "### Import predictions"
   ]
  },
  {
   "cell_type": "code",
   "execution_count": 13,
   "id": "e896f3c0-0082-491f-81aa-2252241e3938",
   "metadata": {},
   "outputs": [
    {
     "data": {
      "text/html": [
       "<div>\n",
       "<style scoped>\n",
       "    .dataframe tbody tr th:only-of-type {\n",
       "        vertical-align: middle;\n",
       "    }\n",
       "\n",
       "    .dataframe tbody tr th {\n",
       "        vertical-align: top;\n",
       "    }\n",
       "\n",
       "    .dataframe thead th {\n",
       "        text-align: right;\n",
       "    }\n",
       "</style>\n",
       "<table border=\"1\" class=\"dataframe\">\n",
       "  <thead>\n",
       "    <tr style=\"text-align: right;\">\n",
       "      <th></th>\n",
       "      <th>session_id</th>\n",
       "      <th>sequence_predictions</th>\n",
       "      <th>sequence_words</th>\n",
       "    </tr>\n",
       "  </thead>\n",
       "  <tbody>\n",
       "    <tr>\n",
       "      <th>0</th>\n",
       "      <td>0</td>\n",
       "      <td>[Discovery, Discovery, Discovery, Discovery, D...</td>\n",
       "      <td>[enable, ;, system, ;, shell, ;, sh, ;, cat, /...</td>\n",
       "    </tr>\n",
       "    <tr>\n",
       "      <th>1</th>\n",
       "      <td>1</td>\n",
       "      <td>[Discovery, Discovery, Discovery, Discovery, D...</td>\n",
       "      <td>[enable, ;, system, ;, shell, ;, sh, ;, cat, /...</td>\n",
       "    </tr>\n",
       "  </tbody>\n",
       "</table>\n",
       "</div>"
      ],
      "text/plain": [
       "   session_id                               sequence_predictions  \\\n",
       "0           0  [Discovery, Discovery, Discovery, Discovery, D...   \n",
       "1           1  [Discovery, Discovery, Discovery, Discovery, D...   \n",
       "\n",
       "                                      sequence_words  \n",
       "0  [enable, ;, system, ;, shell, ;, sh, ;, cat, /...  \n",
       "1  [enable, ;, system, ;, shell, ;, sh, ;, cat, /...  "
      ]
     },
     "execution_count": 13,
     "metadata": {},
     "output_type": "execute_result"
    }
   ],
   "source": [
    "from tqdm import tqdm\n",
    "tqdm.pandas()\n",
    "import pandas as pd \n",
    "predicted_corpus = pd.read_parquet(f\"../1.Dataset/Inference_with_predictions/new_log_precid_predictions.parquet\")\n",
    "predicted_corpus.head(2)"
   ]
  },
  {
   "cell_type": "markdown",
   "id": "3ec09001",
   "metadata": {},
   "source": [
    "Concatenate `sequence words` and `sequence_predictions`"
   ]
  },
  {
   "cell_type": "code",
   "execution_count": 14,
   "id": "4bb45d7f",
   "metadata": {},
   "outputs": [
    {
     "name": "stderr",
     "output_type": "stream",
     "text": [
      "100%|██████████| 232914/232914 [00:01<00:00, 184937.28it/s]\n",
      "100%|██████████| 232914/232914 [00:01<00:00, 168183.46it/s]\n"
     ]
    },
    {
     "name": "stdout",
     "output_type": "stream",
     "text": [
      "Corpus contains 232,914 sessions (232,914 unique)\n",
      "Furthermore, corpus contains 1613 unique fingerprints\n"
     ]
    },
    {
     "data": {
      "text/html": [
       "<div>\n",
       "<style scoped>\n",
       "    .dataframe tbody tr th:only-of-type {\n",
       "        vertical-align: middle;\n",
       "    }\n",
       "\n",
       "    .dataframe tbody tr th {\n",
       "        vertical-align: top;\n",
       "    }\n",
       "\n",
       "    .dataframe thead th {\n",
       "        text-align: right;\n",
       "    }\n",
       "</style>\n",
       "<table border=\"1\" class=\"dataframe\">\n",
       "  <thead>\n",
       "    <tr style=\"text-align: right;\">\n",
       "      <th></th>\n",
       "      <th>session_id</th>\n",
       "      <th>sequence_predictions</th>\n",
       "      <th>sequence_words</th>\n",
       "      <th>session</th>\n",
       "      <th>predictions</th>\n",
       "    </tr>\n",
       "  </thead>\n",
       "  <tbody>\n",
       "    <tr>\n",
       "      <th>0</th>\n",
       "      <td>0</td>\n",
       "      <td>[Discovery, Discovery, Discovery, Discovery, D...</td>\n",
       "      <td>[enable, ;, system, ;, shell, ;, sh, ;, cat, /...</td>\n",
       "      <td>enable ; system ; shell ; sh ; cat /proc/mount...</td>\n",
       "      <td>Discovery -- Discovery -- Discovery -- Discove...</td>\n",
       "    </tr>\n",
       "    <tr>\n",
       "      <th>1</th>\n",
       "      <td>1</td>\n",
       "      <td>[Discovery, Discovery, Discovery, Discovery, D...</td>\n",
       "      <td>[enable, ;, system, ;, shell, ;, sh, ;, cat, /...</td>\n",
       "      <td>enable ; system ; shell ; sh ; cat /proc/mount...</td>\n",
       "      <td>Discovery -- Discovery -- Discovery -- Discove...</td>\n",
       "    </tr>\n",
       "  </tbody>\n",
       "</table>\n",
       "</div>"
      ],
      "text/plain": [
       "   session_id                               sequence_predictions  \\\n",
       "0           0  [Discovery, Discovery, Discovery, Discovery, D...   \n",
       "1           1  [Discovery, Discovery, Discovery, Discovery, D...   \n",
       "\n",
       "                                      sequence_words  \\\n",
       "0  [enable, ;, system, ;, shell, ;, sh, ;, cat, /...   \n",
       "1  [enable, ;, system, ;, shell, ;, sh, ;, cat, /...   \n",
       "\n",
       "                                             session  \\\n",
       "0  enable ; system ; shell ; sh ; cat /proc/mount...   \n",
       "1  enable ; system ; shell ; sh ; cat /proc/mount...   \n",
       "\n",
       "                                         predictions  \n",
       "0  Discovery -- Discovery -- Discovery -- Discove...  \n",
       "1  Discovery -- Discovery -- Discovery -- Discove...  "
      ]
     },
     "execution_count": 14,
     "metadata": {},
     "output_type": "execute_result"
    }
   ],
   "source": [
    "predicted_corpus[\"session\"] = predicted_corpus[\"sequence_words\"].progress_apply(\n",
    "                                                lambda split_session: \" \".join(split_session))\n",
    "predicted_corpus[\"predictions\"] = predicted_corpus[\"sequence_predictions\"].progress_apply(\n",
    "                                                lambda split_prediction: \" -- \".join(split_prediction))\n",
    "print(f\"Corpus contains {predicted_corpus.shape[0]:,} sessions ({predicted_corpus.session.nunique():,} unique)\")\n",
    "print(f\"Furthermore, corpus contains {predicted_corpus.predictions.nunique()} unique fingerprints\")\n",
    "predicted_corpus.head(2)"
   ]
  },
  {
   "cell_type": "markdown",
   "id": "f023df00",
   "metadata": {},
   "source": [
    "### Join predictions with full dataset (containing metadata)"
   ]
  },
  {
   "cell_type": "markdown",
   "id": "38e47a21-e524-4259-b8a6-3bb39b82cead",
   "metadata": {},
   "source": [
    "Load original data (reset indexes to numeric)"
   ]
  },
  {
   "cell_type": "code",
   "execution_count": 15,
   "id": "60ac9753",
   "metadata": {},
   "outputs": [
    {
     "data": {
      "text/html": [
       "<div>\n",
       "<style scoped>\n",
       "    .dataframe tbody tr th:only-of-type {\n",
       "        vertical-align: middle;\n",
       "    }\n",
       "\n",
       "    .dataframe tbody tr th {\n",
       "        vertical-align: top;\n",
       "    }\n",
       "\n",
       "    .dataframe thead th {\n",
       "        text-align: right;\n",
       "    }\n",
       "</style>\n",
       "<table border=\"1\" class=\"dataframe\">\n",
       "  <thead>\n",
       "    <tr style=\"text-align: right;\">\n",
       "      <th></th>\n",
       "      <th>session_id</th>\n",
       "      <th>session</th>\n",
       "      <th>sensor</th>\n",
       "      <th>first_timestamp</th>\n",
       "      <th>date</th>\n",
       "    </tr>\n",
       "  </thead>\n",
       "  <tbody>\n",
       "    <tr>\n",
       "      <th>0</th>\n",
       "      <td>0</td>\n",
       "      <td>enable ; system ; shell ; sh ; cat /proc/mount...</td>\n",
       "      <td>eea5dc653b37</td>\n",
       "      <td>2019-06-04 09:45:11.151186+00:00</td>\n",
       "      <td>2019-06-04</td>\n",
       "    </tr>\n",
       "    <tr>\n",
       "      <th>1</th>\n",
       "      <td>1</td>\n",
       "      <td>enable ; system ; shell ; sh ; cat /proc/mount...</td>\n",
       "      <td>eea5dc653b37</td>\n",
       "      <td>2019-06-04 09:45:50.396610+00:00</td>\n",
       "      <td>2019-06-04</td>\n",
       "    </tr>\n",
       "  </tbody>\n",
       "</table>\n",
       "</div>"
      ],
      "text/plain": [
       "   session_id                                            session  \\\n",
       "0           0  enable ; system ; shell ; sh ; cat /proc/mount...   \n",
       "1           1  enable ; system ; shell ; sh ; cat /proc/mount...   \n",
       "\n",
       "         sensor                   first_timestamp        date  \n",
       "0  eea5dc653b37  2019-06-04 09:45:11.151186+00:00  2019-06-04  \n",
       "1  eea5dc653b37  2019-06-04 09:45:50.396610+00:00  2019-06-04  "
      ]
     },
     "execution_count": 15,
     "metadata": {},
     "output_type": "execute_result"
    }
   ],
   "source": [
    "full_corpus = pd.read_csv(f\"../1.Dataset/Inference/cyberlab_data.csv\")\n",
    "if \"session_id\" in full_corpus.columns:\n",
    "    full_corpus = full_corpus.drop(\"session_id\", axis=1)\n",
    "full_corpus = full_corpus.reset_index().rename({\"index\":\"session_id\"}, axis=1)\n",
    "full_corpus.head(2)"
   ]
  },
  {
   "cell_type": "markdown",
   "id": "cd485cfd-624a-4cdf-ac4a-c15e672fb6d9",
   "metadata": {},
   "source": [
    "Join with predictions"
   ]
  },
  {
   "cell_type": "code",
   "execution_count": 16,
   "id": "d3cec9e6",
   "metadata": {},
   "outputs": [
    {
     "data": {
      "text/html": [
       "<div>\n",
       "<style scoped>\n",
       "    .dataframe tbody tr th:only-of-type {\n",
       "        vertical-align: middle;\n",
       "    }\n",
       "\n",
       "    .dataframe tbody tr th {\n",
       "        vertical-align: top;\n",
       "    }\n",
       "\n",
       "    .dataframe thead th {\n",
       "        text-align: right;\n",
       "    }\n",
       "</style>\n",
       "<table border=\"1\" class=\"dataframe\">\n",
       "  <thead>\n",
       "    <tr style=\"text-align: right;\">\n",
       "      <th></th>\n",
       "      <th>session_id</th>\n",
       "      <th>first_timestamp</th>\n",
       "      <th>sensor</th>\n",
       "      <th>date</th>\n",
       "      <th>sequence_words</th>\n",
       "      <th>sequence_predictions</th>\n",
       "    </tr>\n",
       "  </thead>\n",
       "  <tbody>\n",
       "    <tr>\n",
       "      <th>0</th>\n",
       "      <td>0</td>\n",
       "      <td>2019-06-04 09:45:11.151186+00:00</td>\n",
       "      <td>eea5dc653b37</td>\n",
       "      <td>2019-06-04</td>\n",
       "      <td>[enable, ;, system, ;, shell, ;, sh, ;, cat, /...</td>\n",
       "      <td>[Discovery, Discovery, Discovery, Discovery, D...</td>\n",
       "    </tr>\n",
       "    <tr>\n",
       "      <th>1</th>\n",
       "      <td>1</td>\n",
       "      <td>2019-06-04 09:45:50.396610+00:00</td>\n",
       "      <td>eea5dc653b37</td>\n",
       "      <td>2019-06-04</td>\n",
       "      <td>[enable, ;, system, ;, shell, ;, sh, ;, cat, /...</td>\n",
       "      <td>[Discovery, Discovery, Discovery, Discovery, D...</td>\n",
       "    </tr>\n",
       "  </tbody>\n",
       "</table>\n",
       "</div>"
      ],
      "text/plain": [
       "   session_id                   first_timestamp        sensor        date  \\\n",
       "0           0  2019-06-04 09:45:11.151186+00:00  eea5dc653b37  2019-06-04   \n",
       "1           1  2019-06-04 09:45:50.396610+00:00  eea5dc653b37  2019-06-04   \n",
       "\n",
       "                                      sequence_words  \\\n",
       "0  [enable, ;, system, ;, shell, ;, sh, ;, cat, /...   \n",
       "1  [enable, ;, system, ;, shell, ;, sh, ;, cat, /...   \n",
       "\n",
       "                                sequence_predictions  \n",
       "0  [Discovery, Discovery, Discovery, Discovery, D...  \n",
       "1  [Discovery, Discovery, Discovery, Discovery, D...  "
      ]
     },
     "execution_count": 16,
     "metadata": {},
     "output_type": "execute_result"
    }
   ],
   "source": [
    "joined_corpus = full_corpus[[\"session_id\", \"first_timestamp\", \"sensor\", \"date\"]].merge(predicted_corpus[[\"session_id\", \"sequence_words\", \"sequence_predictions\"]], on=\"session_id\")\n",
    "joined_corpus.head(2)"
   ]
  },
  {
   "cell_type": "markdown",
   "id": "ed27aaf5-9bdb-423f-9602-1c819e4bd489",
   "metadata": {},
   "source": [
    "## General Characterization\n",
    "***"
   ]
  },
  {
   "cell_type": "markdown",
   "id": "39cfca76-09a2-4d91-b01d-efc65e3575fd",
   "metadata": {},
   "source": [
    "#### How many words per Tactic?"
   ]
  },
  {
   "cell_type": "code",
   "execution_count": 17,
   "id": "be0f2a5c-5439-42d3-9748-827b8b8c8762",
   "metadata": {},
   "outputs": [
    {
     "name": "stdout",
     "output_type": "stream",
     "text": [
      "Exploded dataset contains 28,126,274 rows and 3 columns\n"
     ]
    },
    {
     "data": {
      "text/html": [
       "<div>\n",
       "<style scoped>\n",
       "    .dataframe tbody tr th:only-of-type {\n",
       "        vertical-align: middle;\n",
       "    }\n",
       "\n",
       "    .dataframe tbody tr th {\n",
       "        vertical-align: top;\n",
       "    }\n",
       "\n",
       "    .dataframe thead th {\n",
       "        text-align: right;\n",
       "    }\n",
       "</style>\n",
       "<table border=\"1\" class=\"dataframe\">\n",
       "  <thead>\n",
       "    <tr style=\"text-align: right;\">\n",
       "      <th></th>\n",
       "      <th>sequence_words</th>\n",
       "      <th>sequence_predictions</th>\n",
       "      <th>date</th>\n",
       "    </tr>\n",
       "  </thead>\n",
       "  <tbody>\n",
       "    <tr>\n",
       "      <th>0</th>\n",
       "      <td>enable</td>\n",
       "      <td>Discovery</td>\n",
       "      <td>2019-06-04</td>\n",
       "    </tr>\n",
       "    <tr>\n",
       "      <th>0</th>\n",
       "      <td>;</td>\n",
       "      <td>Discovery</td>\n",
       "      <td>2019-06-04</td>\n",
       "    </tr>\n",
       "  </tbody>\n",
       "</table>\n",
       "</div>"
      ],
      "text/plain": [
       "  sequence_words sequence_predictions        date\n",
       "0         enable            Discovery  2019-06-04\n",
       "0              ;            Discovery  2019-06-04"
      ]
     },
     "execution_count": 17,
     "metadata": {},
     "output_type": "execute_result"
    }
   ],
   "source": [
    "sessions_date_predictions = joined_corpus[[\"sequence_words\", \"sequence_predictions\", \"date\"]]\n",
    "exploded_df = sessions_date_predictions[[\"sequence_words\", \"sequence_predictions\", \"date\"]].explode([\"sequence_words\", \"sequence_predictions\"])\n",
    "print(f\"Exploded dataset contains {exploded_df.shape[0]:,} rows and {exploded_df.shape[1]:,} columns\")\n",
    "exploded_df.head(2)"
   ]
  },
  {
   "cell_type": "code",
   "execution_count": 18,
   "id": "bf810dd1-8e3a-4f5d-b98d-892c819a473b",
   "metadata": {},
   "outputs": [
    {
     "name": "stdout",
     "output_type": "stream",
     "text": [
      "There are 28,126,274 Unix words in the dataset (313,538 unique)\n"
     ]
    },
    {
     "data": {
      "text/html": [
       "<div>\n",
       "<style scoped>\n",
       "    .dataframe tbody tr th:only-of-type {\n",
       "        vertical-align: middle;\n",
       "    }\n",
       "\n",
       "    .dataframe tbody tr th {\n",
       "        vertical-align: top;\n",
       "    }\n",
       "\n",
       "    .dataframe thead th {\n",
       "        text-align: right;\n",
       "    }\n",
       "</style>\n",
       "<table border=\"1\" class=\"dataframe\">\n",
       "  <thead>\n",
       "    <tr style=\"text-align: right;\">\n",
       "      <th></th>\n",
       "      <th>Tactics</th>\n",
       "      <th>words_x_tactic</th>\n",
       "      <th>%_over_corpus</th>\n",
       "    </tr>\n",
       "  </thead>\n",
       "  <tbody>\n",
       "    <tr>\n",
       "      <th>0</th>\n",
       "      <td>Discovery</td>\n",
       "      <td>22852824</td>\n",
       "      <td>81.25</td>\n",
       "    </tr>\n",
       "    <tr>\n",
       "      <th>1</th>\n",
       "      <td>Persistence</td>\n",
       "      <td>3361427</td>\n",
       "      <td>11.95</td>\n",
       "    </tr>\n",
       "    <tr>\n",
       "      <th>2</th>\n",
       "      <td>Execution</td>\n",
       "      <td>1761864</td>\n",
       "      <td>6.26</td>\n",
       "    </tr>\n",
       "    <tr>\n",
       "      <th>3</th>\n",
       "      <td>Defense Evasion</td>\n",
       "      <td>137570</td>\n",
       "      <td>0.49</td>\n",
       "    </tr>\n",
       "    <tr>\n",
       "      <th>4</th>\n",
       "      <td>Harmless</td>\n",
       "      <td>8601</td>\n",
       "      <td>0.03</td>\n",
       "    </tr>\n",
       "    <tr>\n",
       "      <th>5</th>\n",
       "      <td>Other</td>\n",
       "      <td>3765</td>\n",
       "      <td>0.01</td>\n",
       "    </tr>\n",
       "    <tr>\n",
       "      <th>6</th>\n",
       "      <td>Impact</td>\n",
       "      <td>223</td>\n",
       "      <td>0.00</td>\n",
       "    </tr>\n",
       "  </tbody>\n",
       "</table>\n",
       "</div>"
      ],
      "text/plain": [
       "           Tactics  words_x_tactic  %_over_corpus\n",
       "0        Discovery        22852824          81.25\n",
       "1      Persistence         3361427          11.95\n",
       "2        Execution         1761864           6.26\n",
       "3  Defense Evasion          137570           0.49\n",
       "4         Harmless            8601           0.03\n",
       "5            Other            3765           0.01\n",
       "6           Impact             223           0.00"
      ]
     },
     "metadata": {},
     "output_type": "display_data"
    }
   ],
   "source": [
    "tot_words = exploded_df.shape[0]\n",
    "words_per_tactics = exploded_df.value_counts(\"sequence_predictions\").reset_index(name=\"words_x_tactic\").rename({\"sequence_predictions\":\"Tactics\"}, axis=1)\n",
    "words_per_tactics[\"%_over_corpus\"] = words_per_tactics.words_x_tactic.apply(lambda el: round(el/tot_words*100,2))\n",
    "print(f\"There are {tot_words:,} Unix words in the dataset ({exploded_df.sequence_words.nunique():,} unique)\")\n",
    "display(words_per_tactics)"
   ]
  },
  {
   "cell_type": "markdown",
   "id": "5edaec72-81da-4e3b-8133-d9bb68bc2662",
   "metadata": {},
   "source": [
    "## Words vs Tactics\n",
    "***"
   ]
  },
  {
   "cell_type": "markdown",
   "id": "a5c6d8ae-c30d-4f7d-a2ff-e8f576b7af80",
   "metadata": {},
   "source": [
    "##### Now, visualize prediction for TOP10 words"
   ]
  },
  {
   "cell_type": "code",
   "execution_count": 11,
   "id": "8b5d9860-5116-4fe2-a8a3-9efa1e3a923a",
   "metadata": {},
   "outputs": [
    {
     "data": {
      "text/html": [
       "<div>\n",
       "<style scoped>\n",
       "    .dataframe tbody tr th:only-of-type {\n",
       "        vertical-align: middle;\n",
       "    }\n",
       "\n",
       "    .dataframe tbody tr th {\n",
       "        vertical-align: top;\n",
       "    }\n",
       "\n",
       "    .dataframe thead th {\n",
       "        text-align: right;\n",
       "    }\n",
       "</style>\n",
       "<table border=\"1\" class=\"dataframe\">\n",
       "  <thead>\n",
       "    <tr style=\"text-align: right;\">\n",
       "      <th></th>\n",
       "      <th>Unix_command</th>\n",
       "      <th>words_occurrences</th>\n",
       "    </tr>\n",
       "  </thead>\n",
       "  <tbody>\n",
       "    <tr>\n",
       "      <th>0</th>\n",
       "      <td>;</td>\n",
       "      <td>5097003</td>\n",
       "    </tr>\n",
       "    <tr>\n",
       "      <th>1</th>\n",
       "      <td>|</td>\n",
       "      <td>3277051</td>\n",
       "    </tr>\n",
       "  </tbody>\n",
       "</table>\n",
       "</div>"
      ],
      "text/plain": [
       "  Unix_command  words_occurrences\n",
       "0            ;            5097003\n",
       "1            |            3277051"
      ]
     },
     "execution_count": 11,
     "metadata": {},
     "output_type": "execute_result"
    }
   ],
   "source": [
    "words_occurrences = exploded_df.value_counts(\"sequence_words\").reset_index(name=\"words_occurrences\").rename({\"sequence_words\":\"Unix_command\"}, axis=1)\n",
    "words_occurrences.head(2)"
   ]
  },
  {
   "cell_type": "markdown",
   "id": "8114ef77-1dfd-44f8-8e16-afde14872c11",
   "metadata": {},
   "source": [
    "Focus on words reported in the paper (figure 8)"
   ]
  },
  {
   "cell_type": "code",
   "execution_count": null,
   "id": "28ba85fe-42dd-481c-b241-7c4011b1a025",
   "metadata": {},
   "outputs": [],
   "source": []
  },
  {
   "cell_type": "code",
   "execution_count": 12,
   "id": "e9d84ae7-06d7-46e4-85dd-24eccdf654b2",
   "metadata": {},
   "outputs": [
    {
     "data": {
      "text/html": [
       "<div>\n",
       "<style scoped>\n",
       "    .dataframe tbody tr th:only-of-type {\n",
       "        vertical-align: middle;\n",
       "    }\n",
       "\n",
       "    .dataframe tbody tr th {\n",
       "        vertical-align: top;\n",
       "    }\n",
       "\n",
       "    .dataframe thead th {\n",
       "        text-align: right;\n",
       "    }\n",
       "</style>\n",
       "<table border=\"1\" class=\"dataframe\">\n",
       "  <thead>\n",
       "    <tr style=\"text-align: right;\">\n",
       "      <th></th>\n",
       "      <th>Unix_command</th>\n",
       "      <th>words_occurrences</th>\n",
       "      <th>is_alpha</th>\n",
       "      <th>is_flag</th>\n",
       "    </tr>\n",
       "  </thead>\n",
       "  <tbody>\n",
       "    <tr>\n",
       "      <th>2</th>\n",
       "      <td>grep</td>\n",
       "      <td>1278484</td>\n",
       "      <td>True</td>\n",
       "      <td>False</td>\n",
       "    </tr>\n",
       "    <tr>\n",
       "      <th>3</th>\n",
       "      <td>cat</td>\n",
       "      <td>1082651</td>\n",
       "      <td>True</td>\n",
       "      <td>False</td>\n",
       "    </tr>\n",
       "    <tr>\n",
       "      <th>4</th>\n",
       "      <td>echo</td>\n",
       "      <td>957748</td>\n",
       "      <td>True</td>\n",
       "      <td>False</td>\n",
       "    </tr>\n",
       "    <tr>\n",
       "      <th>6</th>\n",
       "      <td>uname</td>\n",
       "      <td>639136</td>\n",
       "      <td>True</td>\n",
       "      <td>False</td>\n",
       "    </tr>\n",
       "    <tr>\n",
       "      <th>7</th>\n",
       "      <td>/proc/cpuinfo</td>\n",
       "      <td>638865</td>\n",
       "      <td>True</td>\n",
       "      <td>False</td>\n",
       "    </tr>\n",
       "    <tr>\n",
       "      <th>8</th>\n",
       "      <td>name</td>\n",
       "      <td>638772</td>\n",
       "      <td>True</td>\n",
       "      <td>False</td>\n",
       "    </tr>\n",
       "    <tr>\n",
       "      <th>9</th>\n",
       "      <td>/var/tmp/.var03522123</td>\n",
       "      <td>637129</td>\n",
       "      <td>True</td>\n",
       "      <td>False</td>\n",
       "    </tr>\n",
       "    <tr>\n",
       "      <th>11</th>\n",
       "      <td>rm</td>\n",
       "      <td>451423</td>\n",
       "      <td>True</td>\n",
       "      <td>False</td>\n",
       "    </tr>\n",
       "    <tr>\n",
       "      <th>13</th>\n",
       "      <td>awk</td>\n",
       "      <td>426372</td>\n",
       "      <td>True</td>\n",
       "      <td>False</td>\n",
       "    </tr>\n",
       "    <tr>\n",
       "      <th>14</th>\n",
       "      <td>'{print</td>\n",
       "      <td>426367</td>\n",
       "      <td>True</td>\n",
       "      <td>False</td>\n",
       "    </tr>\n",
       "    <tr>\n",
       "      <th>18</th>\n",
       "      <td>head</td>\n",
       "      <td>425586</td>\n",
       "      <td>True</td>\n",
       "      <td>False</td>\n",
       "    </tr>\n",
       "    <tr>\n",
       "      <th>19</th>\n",
       "      <td>wc</td>\n",
       "      <td>425581</td>\n",
       "      <td>True</td>\n",
       "      <td>False</td>\n",
       "    </tr>\n",
       "    <tr>\n",
       "      <th>20</th>\n",
       "      <td>ls</td>\n",
       "      <td>305296</td>\n",
       "      <td>True</td>\n",
       "      <td>False</td>\n",
       "    </tr>\n",
       "    <tr>\n",
       "      <th>21</th>\n",
       "      <td>bash</td>\n",
       "      <td>301363</td>\n",
       "      <td>True</td>\n",
       "      <td>False</td>\n",
       "    </tr>\n",
       "    <tr>\n",
       "      <th>22</th>\n",
       "      <td>/var/tmp/.systemcache436621</td>\n",
       "      <td>266842</td>\n",
       "      <td>True</td>\n",
       "      <td>False</td>\n",
       "    </tr>\n",
       "    <tr>\n",
       "      <th>23</th>\n",
       "      <td>passwd</td>\n",
       "      <td>244280</td>\n",
       "      <td>True</td>\n",
       "      <td>False</td>\n",
       "    </tr>\n",
       "    <tr>\n",
       "      <th>24</th>\n",
       "      <td>crontab</td>\n",
       "      <td>215297</td>\n",
       "      <td>True</td>\n",
       "      <td>False</td>\n",
       "    </tr>\n",
       "    <tr>\n",
       "      <th>26</th>\n",
       "      <td>top</td>\n",
       "      <td>213657</td>\n",
       "      <td>True</td>\n",
       "      <td>False</td>\n",
       "    </tr>\n",
       "    <tr>\n",
       "      <th>27</th>\n",
       "      <td>w</td>\n",
       "      <td>213324</td>\n",
       "      <td>True</td>\n",
       "      <td>False</td>\n",
       "    </tr>\n",
       "    <tr>\n",
       "      <th>28</th>\n",
       "      <td>free</td>\n",
       "      <td>213205</td>\n",
       "      <td>True</td>\n",
       "      <td>False</td>\n",
       "    </tr>\n",
       "  </tbody>\n",
       "</table>\n",
       "</div>"
      ],
      "text/plain": [
       "                   Unix_command  words_occurrences  is_alpha  is_flag\n",
       "2                          grep            1278484      True    False\n",
       "3                           cat            1082651      True    False\n",
       "4                          echo             957748      True    False\n",
       "6                         uname             639136      True    False\n",
       "7                 /proc/cpuinfo             638865      True    False\n",
       "8                          name             638772      True    False\n",
       "9         /var/tmp/.var03522123             637129      True    False\n",
       "11                           rm             451423      True    False\n",
       "13                          awk             426372      True    False\n",
       "14                      '{print             426367      True    False\n",
       "18                         head             425586      True    False\n",
       "19                           wc             425581      True    False\n",
       "20                           ls             305296      True    False\n",
       "21                         bash             301363      True    False\n",
       "22  /var/tmp/.systemcache436621             266842      True    False\n",
       "23                       passwd             244280      True    False\n",
       "24                      crontab             215297      True    False\n",
       "26                          top             213657      True    False\n",
       "27                            w             213324      True    False\n",
       "28                         free             213205      True    False"
      ]
     },
     "metadata": {},
     "output_type": "display_data"
    }
   ],
   "source": [
    "import re\n",
    "words_occurrences[\"is_alpha\"] = words_occurrences[\"Unix_command\"].apply(lambda word: False if re.search('[a-zA-Z]', word) == None else True)\n",
    "words_occurrences[\"is_flag\"] = words_occurrences[\"Unix_command\"].apply(lambda word: \"-\" in word)\n",
    "top_10_commands = words_occurrences[(words_occurrences.is_alpha == True) & (words_occurrences.is_flag == False)].iloc[:20]\n",
    "display(top_10_commands)"
   ]
  },
  {
   "cell_type": "code",
   "execution_count": null,
   "id": "941a5edd-818d-4c66-9346-b650828752a6",
   "metadata": {},
   "outputs": [],
   "source": []
  },
  {
   "cell_type": "code",
   "execution_count": null,
   "id": "66b6a93d-ab22-45ed-8517-b4a464ca05a3",
   "metadata": {},
   "outputs": [],
   "source": []
  },
  {
   "cell_type": "code",
   "execution_count": null,
   "id": "0c4efa3e-16fd-495b-a5e8-ff858cb92aeb",
   "metadata": {},
   "outputs": [],
   "source": []
  },
  {
   "cell_type": "code",
   "execution_count": null,
   "id": "08426a14-9a51-4b47-8e2f-48a04d780728",
   "metadata": {},
   "outputs": [],
   "source": [
    "groupby_word = exploded_df.groupby(\"splitted_session\").agg({\"splitted_prediction\":list, \"date\":\"count\"}).rename({\"splitted_prediction\":\"assigned_predictions\", \"date\":\"word_occurrences\"}, axis = 1)\n",
    "print(f\"Dataset contains {groupby_word.shape[0]} unique words\")\n",
    "groupby_word.head(2)"
   ]
  },
  {
   "cell_type": "markdown",
   "id": "7552e7bc-26dd-4dc0-8e55-0ef5db9f14a2",
   "metadata": {},
   "source": [
    "###### Trick to easily count labels occurrences"
   ]
  },
  {
   "cell_type": "code",
   "execution_count": null,
   "id": "f9edcf5c-a965-4184-8077-a820518bb335",
   "metadata": {},
   "outputs": [],
   "source": [
    "groupby_word[\"assigned_predictions\"] = groupby_word[\"assigned_predictions\"].apply(lambda list_predictions: \" __ \".join(list_predictions))\n",
    "groupby_word.head(2)"
   ]
  },
  {
   "cell_type": "markdown",
   "id": "fda9802b-3465-40ab-ac4c-ded1721745a5",
   "metadata": {},
   "source": [
    "###### Doing that, each row will contain dates. Each column will be associated to a prediction"
   ]
  },
  {
   "cell_type": "code",
   "execution_count": null,
   "id": "e240abb3-16c0-4dda-8bf3-7c524cd52ae4",
   "metadata": {},
   "outputs": [],
   "source": [
    "def custom_tokenizer(session):\n",
    "    return [el.strip() for el in session.split(\" __ \")]"
   ]
  },
  {
   "cell_type": "code",
   "execution_count": null,
   "id": "630da5a8-eaa3-4983-9443-6c162daef72b",
   "metadata": {
    "tags": []
   },
   "outputs": [],
   "source": [
    "from sklearn.feature_extraction.text import CountVectorizer\n",
    "vectorizer = CountVectorizer(tokenizer=custom_tokenizer, lowercase = False)\n",
    "X = vectorizer.fit_transform(groupby_word.assigned_predictions).toarray()\n",
    "names = vectorizer.get_feature_names_out()\n",
    "df_count_vectorizer = pd.DataFrame(X, columns=names)\n",
    "print(f\"Dataframe has shape {df_count_vectorizer.shape[0]} x {df_count_vectorizer.shape[1]}\")\n",
    "df_count_vectorizer.head(2)"
   ]
  },
  {
   "cell_type": "markdown",
   "id": "953a99a8-af50-4a14-8f08-4ac18fb6b7aa",
   "metadata": {},
   "source": [
    "##### Concat two datasets"
   ]
  },
  {
   "cell_type": "code",
   "execution_count": null,
   "id": "bccce9ba-f79e-4ff1-b125-1d603763f68a",
   "metadata": {},
   "outputs": [],
   "source": [
    "concat_df = pd.concat([groupby_word.reset_index(), df_count_vectorizer.reset_index(drop = True)], axis = 1)\n",
    "concat_df.sort_values(by = \"word_occurrences\", ascending = False, inplace = True)\n",
    "concat_df.head(2)"
   ]
  },
  {
   "cell_type": "markdown",
   "id": "69658ad8-46f3-4b18-a1f1-bcc85edfa393",
   "metadata": {},
   "source": [
    "##### Visualize top-10 words\n",
    "##### Keep only words with alphas "
   ]
  },
  {
   "cell_type": "code",
   "execution_count": null,
   "id": "3f96e80a-f7da-491d-af85-b16edc7ed1c2",
   "metadata": {},
   "outputs": [],
   "source": [
    "import re\n",
    "to_plot_df = concat_df.copy()\n",
    "to_plot_df[\"is_alpha\"] = to_plot_df[\"splitted_session\"].apply(lambda word: False if re.search('[a-zA-Z]', word) == None else True)\n",
    "to_plot_df[\"is_flag\"] = to_plot_df[\"splitted_session\"].apply(lambda word: \"-\" in word)\n",
    "\n",
    "top = to_plot_df[(to_plot_df.is_alpha == True) & (to_plot_df.is_flag == False)].iloc[:20]\n",
    "top = top[[\"splitted_session\"] + list(top.columns[-9:-2].values)]\n",
    "top.head(2)"
   ]
  },
  {
   "cell_type": "code",
   "execution_count": null,
   "id": "8afe840e-d4c0-43bb-9b71-4f95b773000a",
   "metadata": {},
   "outputs": [],
   "source": [
    "from scipy.stats import entropy\n",
    "top[top.columns[1:]] = top.apply(lambda row: row[1:] / np.sum(row[1:]), axis = 1)\n",
    "top[\"entropy\"] = top.apply(lambda row: entropy(row[1:].astype(float), base=2), axis = 1)\n",
    "top.sort_values(by = \"entropy\", inplace = True)\n",
    "top.head(2)"
   ]
  },
  {
   "cell_type": "code",
   "execution_count": null,
   "id": "adf4402a-ac80-4e66-8d29-328f89b35757",
   "metadata": {},
   "outputs": [],
   "source": [
    "fig, axs = plt.subplots(1, figsize =(17, 6))\n",
    "fontsize = 10\n",
    "#First matrix\n",
    "data_values = top.T.loc[top.columns[1:-1]].astype(\"float\")\n",
    "normed_data_values=data_values.apply(lambda column: column / column.sum(), axis=0)\n",
    "\n",
    "im = sns.heatmap(normed_data_values, linewidth = 0.1, cmap=\"jet\", ax = axs, annot = True, annot_kws={\"fontsize\":fontsize}, fmt='.2f', cbar_kws={\"orientation\": \"horizontal\", \"location\":\"top\"})\n",
    "\n",
    "axs.set_xticklabels(top.T.loc[\"splitted_session\"], fontsize = fontsize + 2, rotation = 90)\n",
    "axs.set_yticklabels(top.columns[1:-1], fontsize = fontsize + 2, rotation = 0)\n",
    "cbar = axs.collections[0].colorbar\n",
    "cbar.ax.tick_params(labelsize=fontsize)\n",
    "\n",
    "plt.tight_layout()\n",
    "plt.savefig(f\"./Inference_results/word_vs_prediction.pdf\")"
   ]
  },
  {
   "cell_type": "code",
   "execution_count": null,
   "id": "c9a8c1a9-8343-49e1-bd2f-07ccd049bbe3",
   "metadata": {},
   "outputs": [],
   "source": []
  },
  {
   "cell_type": "code",
   "execution_count": null,
   "id": "eebbf65f-9186-44e1-ad65-cc8ba98bb394",
   "metadata": {},
   "outputs": [],
   "source": []
  },
  {
   "cell_type": "code",
   "execution_count": null,
   "id": "4bdbc245-2008-4fce-86b5-c276e749728b",
   "metadata": {},
   "outputs": [],
   "source": []
  },
  {
   "cell_type": "markdown",
   "id": "441d2bdd-bbe1-4112-a431-efa561a9ad22",
   "metadata": {},
   "source": [
    "##### Groupby date"
   ]
  },
  {
   "cell_type": "code",
   "execution_count": 16,
   "id": "96d1d323-de43-4773-8e50-d04439f3b049",
   "metadata": {},
   "outputs": [
    {
     "data": {
      "text/html": [
       "<div>\n",
       "<style scoped>\n",
       "    .dataframe tbody tr th:only-of-type {\n",
       "        vertical-align: middle;\n",
       "    }\n",
       "\n",
       "    .dataframe tbody tr th {\n",
       "        vertical-align: top;\n",
       "    }\n",
       "\n",
       "    .dataframe thead th {\n",
       "        text-align: right;\n",
       "    }\n",
       "</style>\n",
       "<table border=\"1\" class=\"dataframe\">\n",
       "  <thead>\n",
       "    <tr style=\"text-align: right;\">\n",
       "      <th></th>\n",
       "      <th>date</th>\n",
       "      <th>sequence_predictions</th>\n",
       "      <th>daily_occurrences</th>\n",
       "    </tr>\n",
       "  </thead>\n",
       "  <tbody>\n",
       "    <tr>\n",
       "      <th>0</th>\n",
       "      <td>2019-06-04</td>\n",
       "      <td>Defense Evasion</td>\n",
       "      <td>99</td>\n",
       "    </tr>\n",
       "    <tr>\n",
       "      <th>1</th>\n",
       "      <td>2019-06-04</td>\n",
       "      <td>Execution</td>\n",
       "      <td>720</td>\n",
       "    </tr>\n",
       "    <tr>\n",
       "      <th>2</th>\n",
       "      <td>2019-06-05</td>\n",
       "      <td>Defense Evasion</td>\n",
       "      <td>81</td>\n",
       "    </tr>\n",
       "    <tr>\n",
       "      <th>3</th>\n",
       "      <td>2019-06-05</td>\n",
       "      <td>Discovery</td>\n",
       "      <td>13</td>\n",
       "    </tr>\n",
       "    <tr>\n",
       "      <th>4</th>\n",
       "      <td>2019-06-05</td>\n",
       "      <td>Execution</td>\n",
       "      <td>643</td>\n",
       "    </tr>\n",
       "  </tbody>\n",
       "</table>\n",
       "</div>"
      ],
      "text/plain": [
       "         date sequence_predictions  daily_occurrences\n",
       "0  2019-06-04      Defense Evasion                 99\n",
       "1  2019-06-04            Execution                720\n",
       "2  2019-06-05      Defense Evasion                 81\n",
       "3  2019-06-05            Discovery                 13\n",
       "4  2019-06-05            Execution                643"
      ]
     },
     "execution_count": 16,
     "metadata": {},
     "output_type": "execute_result"
    }
   ],
   "source": [
    "occurrences_x_day = exploded_df.groupby([\"date\", \"sequence_predictions\"]).size().reset_index(name = \"daily_occurrences\")\n",
    "occurrences_x_day.head(5)"
   ]
  },
  {
   "cell_type": "markdown",
   "id": "527ca105-3775-4699-91b7-4f0d603e7319",
   "metadata": {},
   "source": [
    "##### Calculate CDF"
   ]
  },
  {
   "cell_type": "code",
   "execution_count": 17,
   "id": "4b7e0e4d-d9b9-4867-a270-5800589b14b8",
   "metadata": {},
   "outputs": [
    {
     "data": {
      "text/html": [
       "<div>\n",
       "<style scoped>\n",
       "    .dataframe tbody tr th:only-of-type {\n",
       "        vertical-align: middle;\n",
       "    }\n",
       "\n",
       "    .dataframe tbody tr th {\n",
       "        vertical-align: top;\n",
       "    }\n",
       "\n",
       "    .dataframe thead th {\n",
       "        text-align: right;\n",
       "    }\n",
       "</style>\n",
       "<table border=\"1\" class=\"dataframe\">\n",
       "  <thead>\n",
       "    <tr style=\"text-align: right;\">\n",
       "      <th></th>\n",
       "      <th>date</th>\n",
       "      <th>sequence_predictions</th>\n",
       "      <th>daily_occurrences</th>\n",
       "      <th>cumulative_occurrences</th>\n",
       "      <th>tot_occurrences</th>\n",
       "      <th>cdf</th>\n",
       "    </tr>\n",
       "  </thead>\n",
       "  <tbody>\n",
       "    <tr>\n",
       "      <th>0</th>\n",
       "      <td>2019-06-04</td>\n",
       "      <td>Defense Evasion</td>\n",
       "      <td>99</td>\n",
       "      <td>99</td>\n",
       "      <td>30661</td>\n",
       "      <td>0.003229</td>\n",
       "    </tr>\n",
       "    <tr>\n",
       "      <th>1</th>\n",
       "      <td>2019-06-05</td>\n",
       "      <td>Defense Evasion</td>\n",
       "      <td>81</td>\n",
       "      <td>180</td>\n",
       "      <td>30661</td>\n",
       "      <td>0.005871</td>\n",
       "    </tr>\n",
       "  </tbody>\n",
       "</table>\n",
       "</div>"
      ],
      "text/plain": [
       "         date sequence_predictions  daily_occurrences  cumulative_occurrences  \\\n",
       "0  2019-06-04      Defense Evasion                 99                      99   \n",
       "1  2019-06-05      Defense Evasion                 81                     180   \n",
       "\n",
       "   tot_occurrences       cdf  \n",
       "0            30661  0.003229  \n",
       "1            30661  0.005871  "
      ]
     },
     "execution_count": 17,
     "metadata": {},
     "output_type": "execute_result"
    }
   ],
   "source": [
    "occurrences_x_day[\"cumulative_occurrences\"] = occurrences_x_day.groupby(['sequence_predictions'])['daily_occurrences'].cumsum()\n",
    "occurrences_x_day = occurrences_x_day.merge(occurrences_x_day.groupby(\"sequence_predictions\")[\"daily_occurrences\"].sum().reset_index(name = \"tot_occurrences\"), on = \"sequence_predictions\")\n",
    "occurrences_x_day[\"cdf\"] = occurrences_x_day.apply(lambda row: row[\"cumulative_occurrences\"] / row[\"tot_occurrences\"], axis = 1)\n",
    "occurrences_x_day.head(2)"
   ]
  },
  {
   "cell_type": "markdown",
   "id": "09eb5c7a-9429-4e10-928b-b0c41b5743e0",
   "metadata": {},
   "source": [
    "#### Create colors"
   ]
  },
  {
   "cell_type": "code",
   "execution_count": 23,
   "id": "ca39d873-b847-4965-9e0d-fe478579fb8d",
   "metadata": {},
   "outputs": [],
   "source": [
    "import seaborn as sns\n",
    "bars = occurrences_x_day.drop_duplicates(\"sequence_predictions\").sort_values(by = \"tot_occurrences\", ascending = False)\n",
    "palette = sns.color_palette(\"bright\", bars.sequence_predictions.nunique())\n",
    "role2color = {color:prediction for color, prediction in zip(bars.sequence_predictions.unique(), palette)}\n",
    "hex_role2color = {color:prediction for color, prediction in zip(bars.sequence_predictions.unique(), palette.as_hex())}"
   ]
  },
  {
   "cell_type": "markdown",
   "id": "a720ebda-0a18-4606-83a5-0a29eabe11c9",
   "metadata": {},
   "source": [
    "#### How many words per class?"
   ]
  },
  {
   "cell_type": "code",
   "execution_count": 21,
   "id": "2fac3f14-d31c-464f-92d1-1bfaa7a4e230",
   "metadata": {},
   "outputs": [
    {
     "name": "stderr",
     "output_type": "stream",
     "text": [
      "/tmp/ipykernel_247/1382913832.py:2: SettingWithCopyWarning: \n",
      "A value is trying to be set on a copy of a slice from a DataFrame.\n",
      "Try using .loc[row_indexer,col_indexer] = value instead\n",
      "\n",
      "See the caveats in the documentation: https://pandas.pydata.org/pandas-docs/stable/user_guide/indexing.html#returning-a-view-versus-a-copy\n",
      "  prediction_per_class[\"%_over_corpus\"] = prediction_per_class[\"tot_occurrences\"].apply(lambda occ: round(occ / prediction_per_class.tot_occurrences.sum() * 100, 3))\n"
     ]
    },
    {
     "data": {
      "text/html": [
       "<div>\n",
       "<style scoped>\n",
       "    .dataframe tbody tr th:only-of-type {\n",
       "        vertical-align: middle;\n",
       "    }\n",
       "\n",
       "    .dataframe tbody tr th {\n",
       "        vertical-align: top;\n",
       "    }\n",
       "\n",
       "    .dataframe thead th {\n",
       "        text-align: right;\n",
       "    }\n",
       "</style>\n",
       "<table border=\"1\" class=\"dataframe\">\n",
       "  <thead>\n",
       "    <tr style=\"text-align: right;\">\n",
       "      <th></th>\n",
       "      <th>sequence_predictions</th>\n",
       "      <th>tot_occurrences</th>\n",
       "      <th>%_over_corpus</th>\n",
       "    </tr>\n",
       "  </thead>\n",
       "  <tbody>\n",
       "    <tr>\n",
       "      <th>188</th>\n",
       "      <td>Execution</td>\n",
       "      <td>312934</td>\n",
       "      <td>48.853</td>\n",
       "    </tr>\n",
       "    <tr>\n",
       "      <th>436</th>\n",
       "      <td>Discovery</td>\n",
       "      <td>266273</td>\n",
       "      <td>41.569</td>\n",
       "    </tr>\n",
       "    <tr>\n",
       "      <th>0</th>\n",
       "      <td>Defense Evasion</td>\n",
       "      <td>30661</td>\n",
       "      <td>4.787</td>\n",
       "    </tr>\n",
       "    <tr>\n",
       "      <th>747</th>\n",
       "      <td>Persistence</td>\n",
       "      <td>24333</td>\n",
       "      <td>3.799</td>\n",
       "    </tr>\n",
       "    <tr>\n",
       "      <th>886</th>\n",
       "      <td>Harmless</td>\n",
       "      <td>3669</td>\n",
       "      <td>0.573</td>\n",
       "    </tr>\n",
       "    <tr>\n",
       "      <th>680</th>\n",
       "      <td>Other</td>\n",
       "      <td>2556</td>\n",
       "      <td>0.399</td>\n",
       "    </tr>\n",
       "    <tr>\n",
       "      <th>1116</th>\n",
       "      <td>Impact</td>\n",
       "      <td>130</td>\n",
       "      <td>0.020</td>\n",
       "    </tr>\n",
       "  </tbody>\n",
       "</table>\n",
       "</div>"
      ],
      "text/plain": [
       "     sequence_predictions  tot_occurrences  %_over_corpus\n",
       "188             Execution           312934         48.853\n",
       "436             Discovery           266273         41.569\n",
       "0         Defense Evasion            30661          4.787\n",
       "747           Persistence            24333          3.799\n",
       "886              Harmless             3669          0.573\n",
       "680                 Other             2556          0.399\n",
       "1116               Impact              130          0.020"
      ]
     },
     "execution_count": 21,
     "metadata": {},
     "output_type": "execute_result"
    }
   ],
   "source": [
    "prediction_per_class = bars[[\"sequence_predictions\", \"tot_occurrences\"]]\n",
    "prediction_per_class[\"%_over_corpus\"] = prediction_per_class[\"tot_occurrences\"].apply(lambda occ: round(occ / prediction_per_class.tot_occurrences.sum() * 100, 3))\n",
    "prediction_per_class"
   ]
  },
  {
   "cell_type": "markdown",
   "id": "18afa8bf-6798-49dc-8a5a-a146f84abfa5",
   "metadata": {},
   "source": [
    "#### How many words in general?"
   ]
  },
  {
   "cell_type": "code",
   "execution_count": 22,
   "id": "e1154c11-0360-4742-a163-5edb63c8972b",
   "metadata": {},
   "outputs": [
    {
     "data": {
      "text/plain": [
       "640556"
      ]
     },
     "execution_count": 22,
     "metadata": {},
     "output_type": "execute_result"
    }
   ],
   "source": [
    "prediction_per_class.tot_occurrences.sum()"
   ]
  },
  {
   "cell_type": "code",
   "execution_count": 24,
   "id": "cbb0ac6f-852a-4ad0-98ed-053e15ec6589",
   "metadata": {},
   "outputs": [],
   "source": [
    "def remove_repetitions(fingreprint):\n",
    "    list_elements = fingreprint.split(\" -- \")\n",
    "    prev_el = list_elements[0]\n",
    "    non_repeated_list = []\n",
    "    for it in range(1,len(list_elements)):\n",
    "        el = list_elements[it]\n",
    "        if prev_el != el:\n",
    "            non_repeated_list.append(str(prev_el))\n",
    "            prev_el = el\n",
    "    non_repeated_list.append(str(prev_el))        \n",
    "    return \" -- \".join(non_repeated_list)"
   ]
  },
  {
   "cell_type": "code",
   "execution_count": 25,
   "id": "740c67cf-7c7f-411c-9e1c-53fd122fda50",
   "metadata": {},
   "outputs": [
    {
     "ename": "KeyError",
     "evalue": "'Models_predictions'",
     "output_type": "error",
     "traceback": [
      "\u001b[0;31m---------------------------------------------------------------------------\u001b[0m",
      "\u001b[0;31mKeyError\u001b[0m                                  Traceback (most recent call last)",
      "File \u001b[0;32m~/envs/cuda/lib/python3.10/site-packages/pandas/core/indexes/base.py:3802\u001b[0m, in \u001b[0;36mIndex.get_loc\u001b[0;34m(self, key, method, tolerance)\u001b[0m\n\u001b[1;32m   3801\u001b[0m \u001b[38;5;28;01mtry\u001b[39;00m:\n\u001b[0;32m-> 3802\u001b[0m     \u001b[38;5;28;01mreturn\u001b[39;00m \u001b[38;5;28;43mself\u001b[39;49m\u001b[38;5;241;43m.\u001b[39;49m\u001b[43m_engine\u001b[49m\u001b[38;5;241;43m.\u001b[39;49m\u001b[43mget_loc\u001b[49m\u001b[43m(\u001b[49m\u001b[43mcasted_key\u001b[49m\u001b[43m)\u001b[49m\n\u001b[1;32m   3803\u001b[0m \u001b[38;5;28;01mexcept\u001b[39;00m \u001b[38;5;167;01mKeyError\u001b[39;00m \u001b[38;5;28;01mas\u001b[39;00m err:\n",
      "File \u001b[0;32m~/envs/cuda/lib/python3.10/site-packages/pandas/_libs/index.pyx:138\u001b[0m, in \u001b[0;36mpandas._libs.index.IndexEngine.get_loc\u001b[0;34m()\u001b[0m\n",
      "File \u001b[0;32m~/envs/cuda/lib/python3.10/site-packages/pandas/_libs/index.pyx:165\u001b[0m, in \u001b[0;36mpandas._libs.index.IndexEngine.get_loc\u001b[0;34m()\u001b[0m\n",
      "File \u001b[0;32mpandas/_libs/hashtable_class_helper.pxi:5745\u001b[0m, in \u001b[0;36mpandas._libs.hashtable.PyObjectHashTable.get_item\u001b[0;34m()\u001b[0m\n",
      "File \u001b[0;32mpandas/_libs/hashtable_class_helper.pxi:5753\u001b[0m, in \u001b[0;36mpandas._libs.hashtable.PyObjectHashTable.get_item\u001b[0;34m()\u001b[0m\n",
      "\u001b[0;31mKeyError\u001b[0m: 'Models_predictions'",
      "\nThe above exception was the direct cause of the following exception:\n",
      "\u001b[0;31mKeyError\u001b[0m                                  Traceback (most recent call last)",
      "Cell \u001b[0;32mIn[25], line 1\u001b[0m\n\u001b[0;32m----> 1\u001b[0m predicted_corpus[\u001b[38;5;124m\"\u001b[39m\u001b[38;5;124mset_tactics\u001b[39m\u001b[38;5;124m\"\u001b[39m] \u001b[38;5;241m=\u001b[39m \u001b[43mpredicted_corpus\u001b[49m\u001b[43m[\u001b[49m\u001b[38;5;124;43m\"\u001b[39;49m\u001b[38;5;124;43mModels_predictions\u001b[39;49m\u001b[38;5;124;43m\"\u001b[39;49m\u001b[43m]\u001b[49m\u001b[38;5;241m.\u001b[39mprogress_apply(\u001b[38;5;28;01mlambda\u001b[39;00m predictions_list: remove_repetitions(predictions_list))\n\u001b[1;32m      2\u001b[0m predicted_corpus\u001b[38;5;241m.\u001b[39mhead(\u001b[38;5;241m2\u001b[39m)\n",
      "File \u001b[0;32m~/envs/cuda/lib/python3.10/site-packages/pandas/core/frame.py:3807\u001b[0m, in \u001b[0;36mDataFrame.__getitem__\u001b[0;34m(self, key)\u001b[0m\n\u001b[1;32m   3805\u001b[0m \u001b[38;5;28;01mif\u001b[39;00m \u001b[38;5;28mself\u001b[39m\u001b[38;5;241m.\u001b[39mcolumns\u001b[38;5;241m.\u001b[39mnlevels \u001b[38;5;241m>\u001b[39m \u001b[38;5;241m1\u001b[39m:\n\u001b[1;32m   3806\u001b[0m     \u001b[38;5;28;01mreturn\u001b[39;00m \u001b[38;5;28mself\u001b[39m\u001b[38;5;241m.\u001b[39m_getitem_multilevel(key)\n\u001b[0;32m-> 3807\u001b[0m indexer \u001b[38;5;241m=\u001b[39m \u001b[38;5;28;43mself\u001b[39;49m\u001b[38;5;241;43m.\u001b[39;49m\u001b[43mcolumns\u001b[49m\u001b[38;5;241;43m.\u001b[39;49m\u001b[43mget_loc\u001b[49m\u001b[43m(\u001b[49m\u001b[43mkey\u001b[49m\u001b[43m)\u001b[49m\n\u001b[1;32m   3808\u001b[0m \u001b[38;5;28;01mif\u001b[39;00m is_integer(indexer):\n\u001b[1;32m   3809\u001b[0m     indexer \u001b[38;5;241m=\u001b[39m [indexer]\n",
      "File \u001b[0;32m~/envs/cuda/lib/python3.10/site-packages/pandas/core/indexes/base.py:3804\u001b[0m, in \u001b[0;36mIndex.get_loc\u001b[0;34m(self, key, method, tolerance)\u001b[0m\n\u001b[1;32m   3802\u001b[0m     \u001b[38;5;28;01mreturn\u001b[39;00m \u001b[38;5;28mself\u001b[39m\u001b[38;5;241m.\u001b[39m_engine\u001b[38;5;241m.\u001b[39mget_loc(casted_key)\n\u001b[1;32m   3803\u001b[0m \u001b[38;5;28;01mexcept\u001b[39;00m \u001b[38;5;167;01mKeyError\u001b[39;00m \u001b[38;5;28;01mas\u001b[39;00m err:\n\u001b[0;32m-> 3804\u001b[0m     \u001b[38;5;28;01mraise\u001b[39;00m \u001b[38;5;167;01mKeyError\u001b[39;00m(key) \u001b[38;5;28;01mfrom\u001b[39;00m \u001b[38;5;21;01merr\u001b[39;00m\n\u001b[1;32m   3805\u001b[0m \u001b[38;5;28;01mexcept\u001b[39;00m \u001b[38;5;167;01mTypeError\u001b[39;00m:\n\u001b[1;32m   3806\u001b[0m     \u001b[38;5;66;03m# If we have a listlike key, _check_indexing_error will raise\u001b[39;00m\n\u001b[1;32m   3807\u001b[0m     \u001b[38;5;66;03m#  InvalidIndexError. Otherwise we fall through and re-raise\u001b[39;00m\n\u001b[1;32m   3808\u001b[0m     \u001b[38;5;66;03m#  the TypeError.\u001b[39;00m\n\u001b[1;32m   3809\u001b[0m     \u001b[38;5;28mself\u001b[39m\u001b[38;5;241m.\u001b[39m_check_indexing_error(key)\n",
      "\u001b[0;31mKeyError\u001b[0m: 'Models_predictions'"
     ]
    }
   ],
   "source": [
    "predicted_corpus[\"set_tactics\"] = predicted_corpus[\"Models_predictions\"].progress_apply(lambda predictions_list: remove_repetitions(predictions_list))\n",
    "predicted_corpus.head(2)"
   ]
  },
  {
   "cell_type": "markdown",
   "id": "98321e14-914a-44a3-8f3a-5f98b93902f8",
   "metadata": {},
   "source": [
    "##### Now, for each session, we want to create the origin/destination matrix\n",
    "###### Each session will get a |classes| x |classes| matrix (which we'll then convert to a flat tensor)"
   ]
  },
  {
   "cell_type": "markdown",
   "id": "6b461056-aa94-4a07-9922-49486e7e899a",
   "metadata": {},
   "source": [
    "#### Now, I want to know the predictions assigned per words\n",
    "##### We will study:\n",
    "- Given a prediction, which is the word assigned to that prediction for more time\n",
    "- Given a word (more frequent ones), which is their prediction?"
   ]
  },
  {
   "cell_type": "markdown",
   "id": "1180db02-329c-4994-b694-3d4c7dc49f95",
   "metadata": {},
   "source": [
    "#### Keep only 1st session per sequence of intents"
   ]
  },
  {
   "cell_type": "code",
   "execution_count": null,
   "id": "d9e42edd-a13c-44fe-a5f3-1d78d45b5e3b",
   "metadata": {},
   "outputs": [],
   "source": [
    "unique_corpus = predicted_corpus.sort_values(by = \"date\").drop_duplicates([\"Models_predictions\"])\n",
    "print(f\"Selected {unique_corpus.shape[0]} rows\")\n",
    "unique_corpus.head(2)"
   ]
  },
  {
   "cell_type": "markdown",
   "id": "6f9699fc-a827-4dc9-99d5-b605d5cd55e6",
   "metadata": {},
   "source": [
    "##### Explode dataset, so that each row contains a word and a prediction"
   ]
  },
  {
   "cell_type": "code",
   "execution_count": null,
   "id": "faf31c33-6f6b-4017-abd8-a61e0ad85328",
   "metadata": {},
   "outputs": [],
   "source": [
    "unique_corpus[\"splitted_session\"] = unique_corpus[\"full_session\"].apply(lambda session: session.split(\" \"))\n",
    "unique_corpus[\"splitted_prediction\"] = unique_corpus[\"Models_predictions\"].apply(lambda predictions: predictions.split(\" -- \"))\n",
    "exploded_df = unique_corpus[[\"splitted_session\", \"splitted_prediction\", \"date\"]].explode([\"splitted_session\", \"splitted_prediction\"])\n",
    "print(f\"Exploded dataset contains {exploded_df.shape[0]} rows and {exploded_df.shape[1]} columns\")\n",
    "exploded_df.head(2)"
   ]
  },
  {
   "cell_type": "markdown",
   "id": "85879691-db9d-4036-8bca-db5d003d343f",
   "metadata": {},
   "source": [
    "##### Count how many unique tuples (\"word\", \"prediction\")"
   ]
  },
  {
   "cell_type": "code",
   "execution_count": null,
   "id": "e22c4644-b2aa-4a00-8938-d8150f065334",
   "metadata": {},
   "outputs": [],
   "source": [
    "grouped_df = exploded_df.groupby([\"splitted_session\", \"splitted_prediction\"]).size().reset_index(name = \"occurrences_tuple\")\n",
    "print(f\"The dataset contains {grouped_df.shape[0]} unique tuples\")\n",
    "grouped_df.head(2)"
   ]
  },
  {
   "cell_type": "code",
   "execution_count": null,
   "id": "748226a6-3662-47fd-8691-c4a54126b46d",
   "metadata": {},
   "outputs": [],
   "source": [
    "print(f\"Particularly, it contains {grouped_df.splitted_session.nunique()} unique words and {grouped_df.splitted_prediction.nunique()} unique predictions\")"
   ]
  },
  {
   "cell_type": "code",
   "execution_count": null,
   "id": "710cc70d-c89f-4e8a-afff-81ff0251f631",
   "metadata": {},
   "outputs": [],
   "source": [
    "import numpy as np\n",
    "cdf_tuples_occurrences = grouped_df.value_counts(\"occurrences_tuple\").sort_index()\n",
    "cdf_tuples_occurrences = np.cumsum(cdf_tuples_occurrences)/np.sum(cdf_tuples_occurrences)"
   ]
  },
  {
   "cell_type": "code",
   "execution_count": null,
   "id": "abc77244-26dd-4b53-8eab-e9ea94d3c38e",
   "metadata": {},
   "outputs": [],
   "source": [
    "import matplotlib.pyplot as plt \n",
    "\n",
    "fig, axs = plt.subplots(1, figsize=(4,3))\n",
    "fontsize = 18\n",
    "axs.plot(cdf_tuples_occurrences.reset_index()[\"occurrences_tuple\"], cdf_tuples_occurrences.reset_index()[0], linewidth = 2)\n",
    "axs.set_xlabel('|occurrences| (Word, Prediction)', fontsize = fontsize + 3)\n",
    "axs.set_xscale(\"log\")\n",
    "axs.set_ylabel('ECDF', fontsize = fontsize)\n",
    "axs.set_xticks([1, 10, 100, 1_000, 10_000])\n",
    "axs.yaxis.set_tick_params(labelsize=fontsize)\n",
    "axs.xaxis.set_tick_params(labelsize=fontsize)\n",
    "axs.grid()\n",
    "plt.tight_layout()\n",
    "plt.show()"
   ]
  },
  {
   "cell_type": "markdown",
   "id": "acd9a86f-694a-461a-818d-84ff81c72497",
   "metadata": {},
   "source": [
    "## STUDY ON ECHO - Go simple here!"
   ]
  },
  {
   "cell_type": "code",
   "execution_count": null,
   "id": "6fec0116-03c8-4903-b7f3-4e32a860ee03",
   "metadata": {},
   "outputs": [],
   "source": [
    "print(f\"Before filtering: {predicted_corpus.shape[0]} (and {predicted_corpus.Models_predictions.nunique()} families)\")\n",
    "df_echo= predicted_corpus[predicted_corpus.full_session.str.contains(\" echo\")]\n",
    "print(f\"Sessions containing 'echo': {df_echo.shape[0]} (and {df_echo.Models_predictions.nunique()} families)\")\n",
    "df_echo.head(2)"
   ]
  },
  {
   "cell_type": "markdown",
   "id": "b7504552-8dee-4592-bc7c-55082018ed53",
   "metadata": {},
   "source": [
    "#### Now keep track of the predictions we associated to 'echo'"
   ]
  },
  {
   "cell_type": "code",
   "execution_count": null,
   "id": "2894f318-2690-4efb-b23b-ed9ba6a6e4a7",
   "metadata": {},
   "outputs": [],
   "source": [
    "def track_echo(session, predictions):\n",
    "    echo_roles = []\n",
    "    words = session.split(\" \")\n",
    "    predictions = predictions.split(\" -- \")\n",
    "    for word, prediction in zip(words, predictions):\n",
    "        if \"echo\" == word:\n",
    "            echo_roles.append(prediction)\n",
    "    return \" -- \".join(echo_roles)"
   ]
  },
  {
   "cell_type": "code",
   "execution_count": null,
   "id": "0ba535da-a508-4320-8e09-fe7c94b5dabb",
   "metadata": {},
   "outputs": [],
   "source": [
    "from tqdm import tqdm\n",
    "tqdm.pandas()\n",
    "\n",
    "df_echo[\"echo_roles\"] = df_echo.progress_apply(lambda row: track_echo(row.full_session, row.Models_predictions), axis = 1)\n",
    "df_echo.head(2)"
   ]
  },
  {
   "cell_type": "markdown",
   "id": "faaa1dea-040a-4267-b917-02a33638c3ef",
   "metadata": {},
   "source": [
    "### How many sessions we can associate to each echo's use?"
   ]
  },
  {
   "cell_type": "code",
   "execution_count": null,
   "id": "eb0b61a4-6e3f-4c8f-aca4-e9c4aa513648",
   "metadata": {},
   "outputs": [],
   "source": [
    "sessions_associated_to_use = df_echo.groupby(\"echo_roles\").full_session.count().reset_index(name = \"associated_sessions\")\n",
    "print(f\"There are {sessions_associated_to_use.shape[0]} different uses of the command 'echo'\")"
   ]
  },
  {
   "cell_type": "markdown",
   "id": "e8d790fe-b6bf-4300-baee-666b5c60b9ee",
   "metadata": {},
   "source": [
    "### Count how many \"families\" we associated per use"
   ]
  },
  {
   "cell_type": "code",
   "execution_count": null,
   "id": "8e9ba157-7af8-4d96-8f98-a0c79777bcab",
   "metadata": {},
   "outputs": [],
   "source": [
    "families_associated_to_use = df_echo.drop_duplicates(\"Models_predictions\").groupby(\"echo_roles\").Models_predictions.count().reset_index(name = \"associated_families\")\n",
    "sessions_and_families_per_use = sessions_associated_to_use.merge(families_associated_to_use, on = \"echo_roles\")\n",
    "with pd.option_context('display.max_colwidth', None):\n",
    "    display(sessions_and_families_per_use.sort_values(by = \"associated_sessions\", ascending = False).head(10))"
   ]
  },
  {
   "cell_type": "markdown",
   "id": "576e45a0-7fb0-4362-b01f-103fe4b3a70d",
   "metadata": {},
   "source": [
    "#### Show some examples of such usages"
   ]
  },
  {
   "cell_type": "markdown",
   "id": "2cfc13ad-717b-4c15-8a71-9f3f22da7ff0",
   "metadata": {},
   "source": [
    "##### Idea is to select a family associated to role if:\n",
    "- Family is numerous enough \n",
    "- Family is \"dissimilar\" to the ones observed before"
   ]
  },
  {
   "cell_type": "markdown",
   "id": "7055d1da-f9bb-4680-9fc1-4bcaa7c3a5bb",
   "metadata": {},
   "source": [
    "##### Create OneHotEncoded versions of inputs\n",
    "###### so that we can compute word level levenstein and print \"different\" families"
   ]
  },
  {
   "cell_type": "code",
   "execution_count": null,
   "id": "41e6eb06-d97f-4f4b-a925-4bf67faa9947",
   "metadata": {},
   "outputs": [],
   "source": [
    "with open(\"../Dataset/Training/Supervised/labels.txt\", \"r\") as f:\n",
    "    labels = [el.strip() for el in f.readlines()]\n",
    "id2label = {i: label for i, label in enumerate(labels)}\n",
    "label2id = {v: k for k, v in id2label.items()}"
   ]
  },
  {
   "cell_type": "code",
   "execution_count": null,
   "id": "8f39596e-0468-4ee0-b146-dd400d7acded",
   "metadata": {},
   "outputs": [],
   "source": [
    "df_echo.head(2)"
   ]
  },
  {
   "cell_type": "markdown",
   "id": "db0d587c-3320-4942-ba7c-389c8c866cbb",
   "metadata": {},
   "source": [
    "##### Function to color items "
   ]
  },
  {
   "cell_type": "code",
   "execution_count": null,
   "id": "abbe92b3-bbfb-41ec-8d10-da9a0de1e8b8",
   "metadata": {
    "tags": []
   },
   "outputs": [],
   "source": [
    "def color_sessions(session, not_confident_predictions, models_predictions, chosen_word):\n",
    "    words = session.split(\" \") \n",
    "    not_confident_predictions = not_confident_predictions.split(\" -- \") \n",
    "    models_predictions = models_predictions.split(\" -- \") \n",
    "    new_words = []\n",
    "    for word, prediction, model_prediction in zip(words, not_confident_predictions, models_predictions):\n",
    "        if word == chosen_word:\n",
    "            new_word = f'<u><b><span style=\"color:{hex_role2color[model_prediction]};\"> {word}</span></b></u>'\n",
    "        else:\n",
    "            new_word = f'<span style=\"color:{hex_role2color[model_prediction]};\"> {word}</span>'\n",
    "        new_words.append(new_word)\n",
    "    return \" \".join(new_words)"
   ]
  },
  {
   "cell_type": "code",
   "execution_count": null,
   "id": "b3709055-187a-4302-8145-ea9df77729d5",
   "metadata": {},
   "outputs": [],
   "source": [
    "def remove_repetitions(sequence_intents):\n",
    "    list_elements = sequence_intents.split(\" -- \")\n",
    "    prev_el = list_elements[0]\n",
    "    non_repeated_list = []\n",
    "    counter = 1\n",
    "    for it in range(1,len(list_elements)):\n",
    "        el = list_elements[it]\n",
    "        if prev_el != el:\n",
    "            non_repeated_list.append(f\"{prev_el} x {counter}\")\n",
    "            counter = 1\n",
    "            prev_el = el\n",
    "        else:\n",
    "            counter += 1\n",
    "    # For last element\n",
    "    non_repeated_list.append(f\"{prev_el} x {counter}\")        \n",
    "    return \" -- \".join(non_repeated_list)\n",
    "\n",
    "def color_roles(models_predictions):\n",
    "    non_repeated_roles = remove_repetitions(models_predictions)\n",
    "    new_words = []\n",
    "    for role_and_counter in non_repeated_roles.split(\" -- \"):\n",
    "        role = role_and_counter.split(\" x \")[0]\n",
    "        new_words.append(f'<span style=\"color:{hex_role2color[role]};\"> {role_and_counter}</span>')\n",
    "    return \" \".join(new_words)"
   ]
  },
  {
   "cell_type": "markdown",
   "id": "50c6422b-8ff0-4fb7-9db1-f77a1e860fa6",
   "metadata": {},
   "source": [
    "##### Sort previous dataframe according to number of associated sessions"
   ]
  },
  {
   "cell_type": "code",
   "execution_count": null,
   "id": "9ddb17b3-4744-41a3-b82d-f503e9115225",
   "metadata": {},
   "outputs": [],
   "source": [
    "sessions_and_families_per_use.sort_values(by = \"associated_sessions\", ascending = False, inplace = True)"
   ]
  },
  {
   "cell_type": "markdown",
   "id": "4d06f2b9-787e-44bd-95dc-00a504a4ebac",
   "metadata": {},
   "source": [
    "##### Create DF to store the results"
   ]
  },
  {
   "cell_type": "code",
   "execution_count": null,
   "id": "48cfbbf3-c8cf-489b-adce-628e0f703c0c",
   "metadata": {},
   "outputs": [],
   "source": [
    "df_echo_results = []"
   ]
  },
  {
   "cell_type": "code",
   "execution_count": null,
   "id": "df48d427-20ab-4a8a-b758-9dac68474362",
   "metadata": {},
   "outputs": [],
   "source": [
    "from Levenshtein import distance as lev\n",
    "\n",
    "selected_role = sessions_and_families_per_use.echo_roles.iloc[0]\n",
    "print(f\"For echo roles: {selected_role}\")\n",
    "examples = df_echo[df_echo.echo_roles == selected_role]\n",
    "families_numerosities = examples.groupby(\"Models_predictions\").full_session.count().reset_index(name = \"occurrences\").sort_values(by = \"occurrences\", ascending = False)\n",
    "prev_families = [\"\"]\n",
    "it = 0\n",
    "i = 0\n",
    "while i < 3 and it != families_numerosities.shape[0]: # for the top 3 families\n",
    "    chosen_family = families_numerosities.iloc[it].Models_predictions\n",
    "    nc_prediction = df_echo[df_echo.Models_predictions == chosen_family].Predicted_classes.iloc[0]\n",
    "    occurrences = families_numerosities.iloc[it].occurrences\n",
    "    embedded_family = \"\".join([str(label2id[word]) for word in chosen_family.split(\" -- \")])\n",
    "    flag = True\n",
    "    for prev_family in prev_families: # Check the examples you showed before. Accept new examples if \"dissimilar\" enough\n",
    "        lev_distance = lev(prev_family, embedded_family)\n",
    "        if lev_distance < 5: #At least 5 words must be different\n",
    "            flag = False\n",
    "    if flag:\n",
    "        examples_for_family = examples[examples.Models_predictions == chosen_family][\"full_session\"]\n",
    "        for it in range(np.min([2, examples_for_family.shape[0]])):\n",
    "            full_session = examples_for_family.iloc[it]\n",
    "            colored_sessions = color_sessions(full_session, nc_prediction, chosen_family, \"echo\")\n",
    "            colored_roles = color_roles(chosen_family)\n",
    "            df_echo_results.append((colored_roles, colored_sessions))\n",
    "        prev_families.append(embedded_family)\n",
    "        i += 1\n",
    "    it += 1"
   ]
  },
  {
   "cell_type": "code",
   "execution_count": null,
   "id": "72132ee6-70d1-4ada-bff5-e5cefacf8699",
   "metadata": {},
   "outputs": [],
   "source": [
    "from Levenshtein import distance as lev\n",
    "\n",
    "selected_role = sessions_and_families_per_use.echo_roles.iloc[3]\n",
    "print(f\"For echo roles: {selected_role}\")\n",
    "examples = df_echo[df_echo.echo_roles == selected_role]\n",
    "families_numerosities = examples.groupby(\"Models_predictions\").full_session.count().reset_index(name = \"occurrences\").sort_values(by = \"occurrences\", ascending = False)\n",
    "prev_families = [\"\"]\n",
    "it = 0\n",
    "i = 0\n",
    "while i < 3 and it != families_numerosities.shape[0]: # for the top 3 families\n",
    "    chosen_family = families_numerosities.iloc[it].Models_predictions\n",
    "    nc_prediction = df_echo[df_echo.Models_predictions == chosen_family].Predicted_classes.iloc[0]\n",
    "    occurrences = families_numerosities.iloc[it].occurrences\n",
    "    embedded_family = \"\".join([str(label2id[word]) for word in chosen_family.split(\" -- \")])\n",
    "    flag = True\n",
    "    for prev_family in prev_families: # Check the examples you showed before. Accept new examples if \"dissimilar\" enough\n",
    "        lev_distance = lev(prev_family, embedded_family)\n",
    "        if lev_distance < 5: #At least 5 words must be different\n",
    "            flag = False\n",
    "    if flag:\n",
    "        examples_for_family = examples[examples.Models_predictions == chosen_family][\"full_session\"]\n",
    "        for it in range(np.min([2, examples_for_family.shape[0]])):\n",
    "            full_session = examples_for_family.iloc[it]\n",
    "            colored_sessions = color_sessions(full_session, nc_prediction, chosen_family,\"echo\")\n",
    "            colored_roles = color_roles(chosen_family)\n",
    "            df_echo_results.append((colored_roles, colored_sessions))\n",
    "        prev_families.append(embedded_family)\n",
    "        i += 1\n",
    "    it += 1"
   ]
  },
  {
   "cell_type": "code",
   "execution_count": null,
   "id": "3d9f3ffc-4754-43ad-8bd1-e2f0b3874261",
   "metadata": {},
   "outputs": [],
   "source": [
    "from Levenshtein import distance as lev\n",
    "\n",
    "selected_role = sessions_and_families_per_use.echo_roles.iloc[2]\n",
    "print(f\"For echo roles: {selected_role}\")\n",
    "examples = df_echo[df_echo.echo_roles == selected_role]\n",
    "families_numerosities = examples.groupby(\"Models_predictions\").full_session.count().reset_index(name = \"occurrences\").sort_values(by = \"occurrences\", ascending = False)\n",
    "prev_families = [\"\"]\n",
    "it = 0\n",
    "i = 0\n",
    "while i < 3 and it != families_numerosities.shape[0]: # for the top 3 families\n",
    "    chosen_family = families_numerosities.iloc[it].Models_predictions\n",
    "    nc_prediction = df_echo[df_echo.Models_predictions == chosen_family].Predicted_classes.iloc[0]\n",
    "    occurrences = families_numerosities.iloc[it].occurrences\n",
    "    embedded_family = \"\".join([str(label2id[word]) for word in chosen_family.split(\" -- \")])\n",
    "    flag = True\n",
    "    for prev_family in prev_families: # Check the examples you showed before. Accept new examples if \"dissimilar\" enough\n",
    "        lev_distance = lev(prev_family, embedded_family)\n",
    "        if lev_distance < 5: #At least 5 words must be different\n",
    "            flag = False\n",
    "    if flag:\n",
    "        examples_for_family = examples[examples.Models_predictions == chosen_family][\"full_session\"]\n",
    "        for it in range(np.min([2, examples_for_family.shape[0]])):\n",
    "            full_session = examples_for_family.iloc[it]\n",
    "            colored_sessions = color_sessions(full_session, nc_prediction, chosen_family, \"echo\")\n",
    "            colored_roles = color_roles(chosen_family)\n",
    "            df_echo_results.append((colored_roles, colored_sessions))\n",
    "        prev_families.append(embedded_family)\n",
    "        i += 1\n",
    "    it += 1"
   ]
  },
  {
   "cell_type": "markdown",
   "id": "6693eb74-ca42-455c-ba56-94c595017449",
   "metadata": {},
   "source": [
    "#### Export"
   ]
  },
  {
   "cell_type": "code",
   "execution_count": null,
   "id": "970dc70e-4233-4a4c-9105-c16a2bed779a",
   "metadata": {},
   "outputs": [],
   "source": [
    "df_to_export = pd.DataFrame(df_echo_results, columns = [\"Sequence of intents\", \"Session\"])"
   ]
  },
  {
   "cell_type": "code",
   "execution_count": null,
   "id": "112fa153-8f4d-455a-b02b-ddc6d61b7a6f",
   "metadata": {},
   "outputs": [],
   "source": [
    "df_to_export.to_html(f\"./Inference_results/1_Stats_per_prediction/{dataset}_echo_study.html\", escape = False)"
   ]
  },
  {
   "cell_type": "markdown",
   "id": "10acc975-d108-4c45-9d2d-191f75671c05",
   "metadata": {},
   "source": [
    "## STUDY ON RM - Bit harder, to show that the problem is non-trivial"
   ]
  },
  {
   "cell_type": "code",
   "execution_count": null,
   "id": "472c3e5e-a3a7-4063-b5db-31f66a29ad09",
   "metadata": {},
   "outputs": [],
   "source": [
    "print(f\"Before filtering: {predicted_corpus.shape[0]} (and {predicted_corpus.Models_predictions.nunique()} families)\")\n",
    "df_rm = predicted_corpus[predicted_corpus.full_session.str.contains(\" rm\")]\n",
    "print(f\"Sessions containing 'rm': {df_rm.shape[0]} (and {df_rm.Models_predictions.nunique()} families)\")\n",
    "df_rm.head(2)"
   ]
  },
  {
   "cell_type": "markdown",
   "id": "704836ed-5041-48df-99bd-e5c0ee289bfb",
   "metadata": {},
   "source": [
    "#### Now keep track of the predictions we associated to 'rm'"
   ]
  },
  {
   "cell_type": "code",
   "execution_count": null,
   "id": "bdcb4767-0e14-4976-b661-3cebd0bb63e3",
   "metadata": {},
   "outputs": [],
   "source": [
    "def track_rm(session, predictions):\n",
    "    rm_roles = []\n",
    "    words = session.split(\" \")\n",
    "    predictions = predictions.split(\" -- \")\n",
    "    for word, prediction in zip(words, predictions):\n",
    "        if \"rm\" == word:\n",
    "            rm_roles.append(prediction)\n",
    "    return \" -- \".join(rm_roles)"
   ]
  },
  {
   "cell_type": "code",
   "execution_count": null,
   "id": "c9cb2cc6-8a77-4176-9dd2-53345a62012d",
   "metadata": {},
   "outputs": [],
   "source": [
    "from tqdm import tqdm\n",
    "tqdm.pandas()\n",
    "\n",
    "df_rm[\"rm_roles\"] = df_rm.progress_apply(lambda row: track_rm(row.full_session, row.Models_predictions), axis = 1)\n",
    "df_rm.head(2)"
   ]
  },
  {
   "cell_type": "markdown",
   "id": "7cb2b090-bb78-4c2b-a6ac-352a6c339ba7",
   "metadata": {},
   "source": [
    "### How many sessions we can associate to each echo's use?"
   ]
  },
  {
   "cell_type": "code",
   "execution_count": null,
   "id": "f3d17930-5ce1-4315-950a-c38f3f5c2ea6",
   "metadata": {},
   "outputs": [],
   "source": [
    "sessions_associated_to_use = df_rm.groupby(\"rm_roles\").full_session.count().reset_index(name = \"associated_sessions\")\n",
    "print(f\"There are {sessions_associated_to_use.shape[0]} different uses of the command 'rm'\")"
   ]
  },
  {
   "cell_type": "markdown",
   "id": "0808e701-eb4a-4d83-abdd-4f9e8a54b406",
   "metadata": {},
   "source": [
    "### Count how many \"families\" we associated per use"
   ]
  },
  {
   "cell_type": "code",
   "execution_count": null,
   "id": "2b0a5af6-db58-426e-810b-7d648a9f1d5a",
   "metadata": {},
   "outputs": [],
   "source": [
    "families_associated_to_use = df_rm.drop_duplicates(\"Models_predictions\").groupby(\"rm_roles\").Models_predictions.count().reset_index(name = \"associated_families\")\n",
    "sessions_and_families_per_use = sessions_associated_to_use.merge(families_associated_to_use, on = \"rm_roles\")\n",
    "with pd.option_context('display.max_colwidth', None):\n",
    "    display(sessions_and_families_per_use.sort_values(by = \"associated_sessions\", ascending = False).head(10))"
   ]
  },
  {
   "cell_type": "markdown",
   "id": "be76b739-4220-4359-9f76-745e471ce068",
   "metadata": {},
   "source": [
    "#### Show some examples of such usages"
   ]
  },
  {
   "cell_type": "markdown",
   "id": "a914463c-e801-47ab-ab9b-d6f0a0ff5c0e",
   "metadata": {},
   "source": [
    "##### Idea is to select a family associated to role if:\n",
    "- Family is numerous enough \n",
    "- Family is \"dissimilar\" to the ones observed before"
   ]
  },
  {
   "cell_type": "code",
   "execution_count": null,
   "id": "c696c4c4-dd6c-4dc6-91f7-77cf54c0c4b1",
   "metadata": {},
   "outputs": [],
   "source": [
    "df_rm.head(2)"
   ]
  },
  {
   "cell_type": "markdown",
   "id": "13e09e5c-24b9-4704-a3ea-07c83940165d",
   "metadata": {},
   "source": [
    "##### Sort previous dataframe according to number of associated sessions"
   ]
  },
  {
   "cell_type": "code",
   "execution_count": null,
   "id": "88c07222-cc9f-4a9e-9369-daadbaa975a2",
   "metadata": {},
   "outputs": [],
   "source": [
    "sessions_and_families_per_use.sort_values(by = \"associated_sessions\", ascending = False, inplace = True)"
   ]
  },
  {
   "cell_type": "markdown",
   "id": "443dba80-cc9d-4780-b290-c51df7932d00",
   "metadata": {},
   "source": [
    "##### Create DF to store the results"
   ]
  },
  {
   "cell_type": "code",
   "execution_count": null,
   "id": "c3d5bf2b-8c9f-4807-9f51-6b887e4182ac",
   "metadata": {},
   "outputs": [],
   "source": [
    "df_rm_results = []"
   ]
  },
  {
   "cell_type": "code",
   "execution_count": null,
   "id": "66cac9c9-a9b9-4d95-84a0-9c34da39fee5",
   "metadata": {},
   "outputs": [],
   "source": [
    "from Levenshtein import distance as lev\n",
    "\n",
    "selected_role = sessions_and_families_per_use.rm_roles.iloc[0]\n",
    "print(f\"For echo roles: {selected_role}\")\n",
    "examples = df_rm[df_rm.rm_roles == selected_role]\n",
    "families_numerosities = examples.groupby(\"Models_predictions\").full_session.count().reset_index(name = \"occurrences\").sort_values(by = \"occurrences\", ascending = False)\n",
    "prev_families = [\"\"]\n",
    "it = 0\n",
    "i = 0\n",
    "while i < 3 and it != families_numerosities.shape[0]: # for the top 3 families\n",
    "    chosen_family = families_numerosities.iloc[it].Models_predictions\n",
    "    nc_prediction = df_rm[df_rm.Models_predictions == chosen_family].Predicted_classes.iloc[0]\n",
    "    occurrences = families_numerosities.iloc[it].occurrences\n",
    "    embedded_family = \"\".join([str(label2id[word]) for word in chosen_family.split(\" -- \")])\n",
    "    flag = True\n",
    "    for prev_family in prev_families: # Check the examples you showed before. Accept new examples if \"dissimilar\" enough\n",
    "        lev_distance = lev(prev_family, embedded_family)\n",
    "        if lev_distance < 5: #At least 5 words must be different\n",
    "            flag = False\n",
    "    if flag:\n",
    "        examples_for_family = examples[examples.Models_predictions == chosen_family][\"full_session\"]\n",
    "        for it in range(np.min([2, examples_for_family.shape[0]])):\n",
    "            full_session = examples_for_family.iloc[it]\n",
    "            colored_sessions = color_sessions(full_session, nc_prediction, chosen_family, \"rm\")\n",
    "            colored_roles = color_roles(chosen_family)\n",
    "            df_rm_results.append((colored_roles, colored_sessions))\n",
    "        prev_families.append(embedded_family)\n",
    "        i += 1\n",
    "    it += 1"
   ]
  },
  {
   "cell_type": "code",
   "execution_count": null,
   "id": "0c5442d0-d456-4b3e-b9aa-46411c51a412",
   "metadata": {},
   "outputs": [],
   "source": [
    "from Levenshtein import distance as lev\n",
    "\n",
    "selected_role = sessions_and_families_per_use.rm_roles.iloc[2]\n",
    "print(f\"For echo roles: {selected_role}\")\n",
    "examples = df_rm[df_rm.rm_roles == selected_role]\n",
    "families_numerosities = examples.groupby(\"Models_predictions\").full_session.count().reset_index(name = \"occurrences\").sort_values(by = \"occurrences\", ascending = False)\n",
    "prev_families = [\"\"]\n",
    "it = 0\n",
    "i = 0\n",
    "while i < 3 and it != families_numerosities.shape[0]: # for the top 3 families\n",
    "    chosen_family = families_numerosities.iloc[it].Models_predictions\n",
    "    nc_prediction = df_rm[df_rm.Models_predictions == chosen_family].Predicted_classes.iloc[0]\n",
    "    occurrences = families_numerosities.iloc[it].occurrences\n",
    "    embedded_family = \"\".join([str(label2id[word]) for word in chosen_family.split(\" -- \")])\n",
    "    flag = True\n",
    "    for prev_family in prev_families: # Check the examples you showed before. Accept new examples if \"dissimilar\" enough\n",
    "        lev_distance = lev(prev_family, embedded_family)\n",
    "        if lev_distance < 5: #At least 5 words must be different\n",
    "            flag = False\n",
    "    if flag:\n",
    "        examples_for_family = examples[examples.Models_predictions == chosen_family][\"full_session\"]\n",
    "        for it in range(np.min([2, examples_for_family.shape[0]])):\n",
    "            full_session = examples_for_family.iloc[it]\n",
    "            colored_sessions = color_sessions(full_session, nc_prediction, chosen_family, \"rm\")\n",
    "            colored_roles = color_roles(chosen_family)\n",
    "            df_rm_results.append((colored_roles, colored_sessions))\n",
    "        prev_families.append(embedded_family)\n",
    "        i += 1\n",
    "    it += 1"
   ]
  },
  {
   "cell_type": "markdown",
   "id": "4d1f7624-3991-460f-ae2f-9fddcee4e3e0",
   "metadata": {},
   "source": [
    "#### Export"
   ]
  },
  {
   "cell_type": "code",
   "execution_count": null,
   "id": "d8280015-a322-4017-9786-937c0b3456a5",
   "metadata": {},
   "outputs": [],
   "source": [
    "df_to_export = pd.DataFrame(df_rm_results, columns = [\"Sequence of intents\", \"Session\"])"
   ]
  },
  {
   "cell_type": "code",
   "execution_count": null,
   "id": "80e4112c-38e9-4566-87d3-29f7991ee1f5",
   "metadata": {},
   "outputs": [],
   "source": [
    "df_to_export.to_html(f\"./Inference_results/1_Stats_per_prediction/rm_study.html\", escape = False)"
   ]
  },
  {
   "cell_type": "markdown",
   "id": "7b58fbbc-50d5-4671-bbbc-83518f2aad60",
   "metadata": {},
   "source": [
    "## Now, focus on 1 intent (e.g., \"Execution\")"
   ]
  },
  {
   "cell_type": "code",
   "execution_count": null,
   "id": "20224bcf-c9cd-4931-873f-8a3fb933dc06",
   "metadata": {},
   "outputs": [],
   "source": [
    "execution_df = grouped_df[grouped_df[\"splitted_prediction\"] == \"Execution\"]\n",
    "print(f\"Selected {execution_df.shape[0]} unique tuples (word, 'Execution')\")"
   ]
  },
  {
   "cell_type": "markdown",
   "id": "7ff5dbf5-bb06-4445-96da-ef56d6e9a986",
   "metadata": {},
   "source": [
    "##### Visualize some examples:"
   ]
  },
  {
   "cell_type": "code",
   "execution_count": null,
   "id": "f1eaeae6-82c0-408b-b9ec-3a2b52f9d2c6",
   "metadata": {},
   "outputs": [],
   "source": [
    "execution_df.sort_values(by = \"occurrences_tuple\", ascending = False).head(20)"
   ]
  },
  {
   "cell_type": "markdown",
   "id": "f4eacc45-08a9-4029-93c7-58ff669d1e8b",
   "metadata": {},
   "source": [
    "#### Now some examples in which those words were used:"
   ]
  },
  {
   "cell_type": "code",
   "execution_count": null,
   "id": "6c1c87a0-573d-4f7e-89b0-1b1e1af6d69d",
   "metadata": {},
   "outputs": [],
   "source": [
    "example_execution_df = unique_corpus[unique_corpus[\"full_session\"].str.contains(\".i\")]\n",
    "print(f\"Selected {example_execution_df.shape[0]} sessions ({example_execution_df.shape[0] / unique_corpus.shape[0] * 100:.2f} % of total)\")\n",
    "with pd.option_context('display.max_colwidth', None):\n",
    "    display(example_execution_df[[\"full_session\"]].head(4))"
   ]
  },
  {
   "cell_type": "code",
   "execution_count": null,
   "id": "6516514f-2db9-40d5-a6d0-b07922bcda3a",
   "metadata": {},
   "outputs": [],
   "source": []
  },
  {
   "cell_type": "code",
   "execution_count": null,
   "id": "1d2edd37-0a41-459e-a969-b2555a40b6b9",
   "metadata": {},
   "outputs": [],
   "source": []
  }
 ],
 "metadata": {
  "kernelspec": {
   "display_name": "Python [conda env:mboffa-cuda]",
   "language": "python",
   "name": "conda-env-mboffa-cuda-py"
  },
  "language_info": {
   "codemirror_mode": {
    "name": "ipython",
    "version": 3
   },
   "file_extension": ".py",
   "mimetype": "text/x-python",
   "name": "python",
   "nbconvert_exporter": "python",
   "pygments_lexer": "ipython3",
   "version": "3.10.9"
  }
 },
 "nbformat": 4,
 "nbformat_minor": 5
}
