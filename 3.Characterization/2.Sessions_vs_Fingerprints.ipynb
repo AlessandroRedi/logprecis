{
 "cells": [
  {
   "cell_type": "markdown",
   "id": "936ccbe2-18e3-4d84-b254-9431c958c93b",
   "metadata": {},
   "source": [
    "# This notebook studies the relationship between fingerprints (i.e., sequence of predictions) and sessions"
   ]
  },
  {
   "cell_type": "markdown",
   "id": "62a43332-8102-4f41-a6a1-168b91cb05b9",
   "metadata": {},
   "source": [
    "## We want to know how many sessions per fingerprints and viceversa"
   ]
  },
  {
   "cell_type": "markdown",
   "id": "265e2ae4-04fd-4d20-a217-92a2c64583d6",
   "metadata": {},
   "source": [
    "### Import dataset"
   ]
  },
  {
   "cell_type": "code",
   "execution_count": null,
   "id": "b021434d-63fb-4ce6-bf3f-533b3c9a6f9a",
   "metadata": {},
   "outputs": [],
   "source": [
    "import pandas as pd"
   ]
  },
  {
   "cell_type": "code",
   "execution_count": null,
   "id": "d02436fa-7ce3-4257-8e9d-eb0df188916c",
   "metadata": {},
   "outputs": [],
   "source": [
    "PATH = \"../Inference\"\n",
    "cyberlab = pd.read_csv(f\"{PATH}/corpus_with_predictions.csv\")\n",
    "cyberlab.head(2)"
   ]
  },
  {
   "cell_type": "markdown",
   "id": "70af17b2-8966-4381-86fd-2acb551ee3c8",
   "metadata": {},
   "source": [
    "### How many unique sequences of predicted classes?"
   ]
  },
  {
   "cell_type": "code",
   "execution_count": null,
   "id": "46d6db82-e9f6-40b8-9b8f-5c2b36dd6ef4",
   "metadata": {},
   "outputs": [],
   "source": [
    "counter_fingerprints_cyberlab = cyberlab.value_counts(\"Models_predictions\").reset_index().rename({0:\"associated_sessions\"}, axis = 1)\n",
    "print(f\"Number of unique model's predictions: {counter_fingerprints_cyberlab.shape[0]}\")"
   ]
  },
  {
   "cell_type": "markdown",
   "id": "58a09786-a7ac-460e-956b-e8d7791575d5",
   "metadata": {},
   "source": [
    "### Obtain ECDF"
   ]
  },
  {
   "cell_type": "markdown",
   "id": "8ee3ed37-edc7-47d3-9f16-81be91b67e7d",
   "metadata": {},
   "source": [
    "#### This is the number of sessions associated per fingerprint"
   ]
  },
  {
   "cell_type": "code",
   "execution_count": null,
   "id": "713cab4a-0bdf-4599-ad1e-c8fc99a7036b",
   "metadata": {},
   "outputs": [],
   "source": [
    "import numpy as np\n",
    "cdf_cyberlab = counter_fingerprints_cyberlab.value_counts(\"associated_sessions\").sort_index()\n",
    "cdf_cyberlab = np.cumsum(cdf_cyberlab)/np.sum(cdf_cyberlab)\n",
    "cdf_cyberlab = cdf_cyberlab.reset_index(name = \"cdf\")"
   ]
  },
  {
   "cell_type": "code",
   "execution_count": null,
   "id": "cca02b1e-970f-4157-a18c-8df7c64537c8",
   "metadata": {},
   "outputs": [],
   "source": [
    "import matplotlib.pyplot as plt \n",
    "\n",
    "fig, (ax_1) = plt.subplots(1, figsize=(5,4))\n",
    "fontsize = 20\n",
    "ax_1.plot(cdf_cyberlab.associated_sessions, cdf_cyberlab.cdf, linewidth = 2, color = \"royalblue\", label = \"Cyberlab\")\n",
    "\n",
    "ax_1.set_xlabel('|sessions| per fingerprint', fontsize = fontsize)\n",
    "ax_1.set_xscale(\"log\")\n",
    "ax_1.set_ylabel('ECDF fingerprint', fontsize = fontsize)\n",
    "ax_1.yaxis.set_tick_params(labelsize=fontsize)\n",
    "ax_1.xaxis.set_tick_params(labelsize=fontsize, rotation = 30)\n",
    "ax_1.set_xticks([1, 10, 100, 1000, 10000])\n",
    "ax_1.set_yticks(np.arange(.1, 1.1, .2))\n",
    "ax_1.legend(fontsize = fontsize - 2, loc = \"lower left\")\n",
    "ax_1.grid()\n",
    "\n",
    "\n",
    "plt.tight_layout()\n",
    "plt.savefig(\"./Inference_results/sessions_per_fingerprint.pdf\")"
   ]
  },
  {
   "cell_type": "markdown",
   "id": "f91f19ae-9a5b-4e07-ba2b-261bfe6c2384",
   "metadata": {
    "tags": []
   },
   "source": [
    "#### Now obtain inverse information: \n",
    "- on the x_axis I the session ID; \n",
    "- on the y_axis, the number of other sessions with the same prediction as the one I am considering"
   ]
  },
  {
   "cell_type": "code",
   "execution_count": null,
   "id": "742d608f-41d8-4cd1-864b-a00b32c73291",
   "metadata": {},
   "outputs": [],
   "source": [
    "cyberlab = cyberlab.merge(counter_fingerprints_cyberlab, on = \"Models_predictions\").sort_values(by = \"associated_sessions\")"
   ]
  },
  {
   "cell_type": "code",
   "execution_count": null,
   "id": "38888676-0a2c-4054-b591-b65e16459bba",
   "metadata": {},
   "outputs": [],
   "source": [
    "counter_sessions_per_fingerprints_cyberlab = cyberlab.groupby(\"associated_sessions\")[\"full_session\"].count().reset_index().rename({\"associated_sessions\": \"|sessions in the same family|\", \"full_session\":\"occurrences\"}, axis = 1)"
   ]
  },
  {
   "cell_type": "code",
   "execution_count": null,
   "id": "c17f2834-e980-4b3e-ad5e-fab4321b565f",
   "metadata": {},
   "outputs": [],
   "source": [
    "counter_sessions_per_fingerprints_cyberlab[\"cdf_occurrences\"] = 1 - np.cumsum(counter_sessions_per_fingerprints_cyberlab[\"occurrences\"])/np.sum(counter_sessions_per_fingerprints_cyberlab[\"occurrences\"])"
   ]
  },
  {
   "cell_type": "code",
   "execution_count": null,
   "id": "7e53146f-f460-4d19-93f9-c1215efc90db",
   "metadata": {},
   "outputs": [],
   "source": [
    "fig, (ax_2) = plt.subplots(1, figsize=(5,4))\n",
    "\n",
    "ax_2.plot(counter_sessions_per_fingerprints_cyberlab[\"|sessions in the same family|\"], counter_sessions_per_fingerprints_cyberlab[\"cdf_occurrences\"], linewidth = 2, color = \"royalblue\", label = \"Cyberlab\")\n",
    "\n",
    "ax_2.set_xlabel('|sessions| per fingerprint', fontsize = fontsize)\n",
    "ax_2.set_xscale(\"log\")\n",
    "ax_2.set_ylabel('% remaining sessions', fontsize = fontsize)\n",
    "ax_2.yaxis.set_tick_params(labelsize=fontsize)\n",
    "ax_2.xaxis.set_tick_params(labelsize=fontsize, rotation = 30)\n",
    "ax_2.set_xticks([1, 10, 100, 1000, 10000])\n",
    "ax_2.set_yticks(np.arange(.1, 1.1, .2))\n",
    "ax_2.legend(fontsize = fontsize - 2, loc = \"lower left\")\n",
    "\n",
    "ax_2.grid()\n",
    "plt.tight_layout()\n",
    "plt.savefig(\"./Inference_results/remaining_corpus.pdf\")"
   ]
  }
 ],
 "metadata": {
  "kernelspec": {
   "display_name": "Python 3 (ipykernel)",
   "language": "python",
   "name": "python3"
  },
  "language_info": {
   "codemirror_mode": {
    "name": "ipython",
    "version": 3
   },
   "file_extension": ".py",
   "mimetype": "text/x-python",
   "name": "python",
   "nbconvert_exporter": "python",
   "pygments_lexer": "ipython3",
   "version": "3.7.12"
  }
 },
 "nbformat": 4,
 "nbformat_minor": 5
}
