{
 "cells": [
  {
   "cell_type": "markdown",
   "id": "776353ce-ac75-4ee2-86a6-7b2bb2faf02f",
   "metadata": {},
   "source": [
    "# This notebook studies how new sets of labels appear in time and how frequently they'll reappear in the future"
   ]
  },
  {
   "cell_type": "markdown",
   "id": "8678c5e3-00bd-4625-bc8d-87c8b5d356ff",
   "metadata": {},
   "source": [
    "### Import dataset"
   ]
  },
  {
   "cell_type": "code",
   "execution_count": null,
   "id": "6552555a-f587-43de-b3ba-2979e5a6cf14",
   "metadata": {},
   "outputs": [],
   "source": [
    "import pandas as pd"
   ]
  },
  {
   "cell_type": "code",
   "execution_count": null,
   "id": "6826285b-f735-4b1f-959a-fe28e6f14301",
   "metadata": {},
   "outputs": [],
   "source": [
    "predicted_corpus = pd.read_csv(f\"../Inference/corpus_with_predictions.csv\")\n",
    "predicted_corpus.head(2)"
   ]
  },
  {
   "cell_type": "markdown",
   "id": "98de2fcd-2c8d-43f0-8a51-baa45a5181c1",
   "metadata": {},
   "source": [
    "#### Filter \"/system scheduler\" sessions --> not bash"
   ]
  },
  {
   "cell_type": "code",
   "execution_count": null,
   "id": "8a7bd82e-4707-43fb-996c-155ba59a6846",
   "metadata": {},
   "outputs": [],
   "source": [
    "print(f\"Before filtering '/system scheduler' sessions: {predicted_corpus.shape[0]}\")\n",
    "predicted_corpus = predicted_corpus[~predicted_corpus.full_session.str.contains(\"/system scheduler\")]\n",
    "print(f\"After filtering '/system scheduler' sessions: {predicted_corpus.shape[0]}\")"
   ]
  },
  {
   "cell_type": "markdown",
   "id": "c7447800-40c6-442e-9f6e-1bf469f77d77",
   "metadata": {},
   "source": [
    "#### Create date attribute"
   ]
  },
  {
   "cell_type": "code",
   "execution_count": null,
   "id": "e501d213-f130-48b1-a649-d1fe35dd8f92",
   "metadata": {},
   "outputs": [],
   "source": [
    "predicted_corpus[\"first_timestamp\"] = pd.to_datetime(predicted_corpus[\"first_timestamp\"])\n",
    "predicted_corpus[\"date\"] = predicted_corpus[\"first_timestamp\"].apply(lambda datetime: datetime.date())\n",
    "predicted_corpus.head(2)"
   ]
  },
  {
   "cell_type": "markdown",
   "id": "c0a7b3cc-a3a3-42d2-a395-3a86cf7004af",
   "metadata": {},
   "source": [
    "#### Obtain percentage of Tactics before and after the server update"
   ]
  },
  {
   "cell_type": "code",
   "execution_count": null,
   "id": "f72751ae-e7ef-41f3-8b91-41ae4b0662b6",
   "metadata": {},
   "outputs": [],
   "source": [
    "from datetime import datetime\n",
    "server_update_date = datetime.strptime(\"08/11/2019\", '%d/%m/%Y').date()\n",
    "server_update_datetime = datetime.strptime(\"08/11/2019\", '%d/%m/%Y')\n",
    "\n",
    "print(f\"Server update occurred in {server_update_date}\")"
   ]
  },
  {
   "cell_type": "code",
   "execution_count": null,
   "id": "3e8fdd3f-b88e-49ce-9ce7-ad99174e1709",
   "metadata": {},
   "outputs": [],
   "source": [
    "sessions_date_predictions = predicted_corpus[[\"full_session\", \"Models_predictions\", \"date\"]]\n",
    "sessions_date_predictions[\"splitted_session\"] = sessions_date_predictions[\"full_session\"].apply(lambda session: session.split(\" \"))\n",
    "sessions_date_predictions[\"splitted_prediction\"] = sessions_date_predictions[\"Models_predictions\"].apply(lambda predictions: predictions.split(\" -- \"))\n",
    "exploded_df = sessions_date_predictions[[\"splitted_session\", \"splitted_prediction\", \"date\"]].explode([\"splitted_session\", \"splitted_prediction\"])\n",
    "print(f\"Exploded dataset contains {exploded_df.shape[0]} rows and {exploded_df.shape[1]} columns\")\n",
    "exploded_df.head(2)"
   ]
  },
  {
   "cell_type": "code",
   "execution_count": null,
   "id": "935c0f6d-54f7-461f-9d52-29c128f2ee77",
   "metadata": {},
   "outputs": [],
   "source": [
    "after_update = exploded_df[exploded_df.date >= server_update_date]\n",
    "before_update = exploded_df[exploded_df.date < server_update_date]\n",
    "print(f\"{after_update.shape[0]} words after; {before_update.shape[0]} words before\")"
   ]
  },
  {
   "cell_type": "code",
   "execution_count": null,
   "id": "f93a34fc-5022-4d69-aaac-46c794a0193f",
   "metadata": {},
   "outputs": [],
   "source": [
    "stats_before = before_update.groupby(\"splitted_prediction\")[\"splitted_session\"].count().reset_index(name = \"words_per_class\") \n",
    "stats_before[\"percentage\"] = stats_before.words_per_class.apply(lambda el: round(el / before_update.shape[0] * 100, 3))\n",
    "print(\"Before:\")\n",
    "stats_before"
   ]
  },
  {
   "cell_type": "code",
   "execution_count": null,
   "id": "33310cc3-af8a-4290-a91d-3c864d4231cc",
   "metadata": {},
   "outputs": [],
   "source": [
    "stats_after = after_update.groupby(\"splitted_prediction\")[\"splitted_session\"].count().reset_index(name = \"words_per_class\") \n",
    "stats_after[\"percentage\"] = stats_after.words_per_class.apply(lambda el: round(el / after_update.shape[0] * 100, 3))\n",
    "print(\"After:\")\n",
    "stats_after"
   ]
  },
  {
   "cell_type": "markdown",
   "id": "1641476e-105a-49a4-8bfc-6197a3c1f2e4",
   "metadata": {},
   "source": [
    "### How many unique sequences of predicted classes?"
   ]
  },
  {
   "cell_type": "code",
   "execution_count": null,
   "id": "7ba1e5f6-df36-426c-abec-707d0db08293",
   "metadata": {},
   "outputs": [],
   "source": [
    "counter_model_predictions = predicted_corpus.value_counts(\"Models_predictions\").reset_index().rename({0:\"associated_sessions\"}, axis = 1)\n",
    "print(f\"Number of unique model's predictions: {counter_model_predictions.shape[0]}\")\n",
    "counter_model_predictions.head(2)"
   ]
  },
  {
   "cell_type": "markdown",
   "id": "a00ed560-0ec7-4f70-aab3-8eb6fcbd41f2",
   "metadata": {},
   "source": [
    "### Obtain ECDF"
   ]
  },
  {
   "cell_type": "code",
   "execution_count": null,
   "id": "713cab4a-0bdf-4599-ad1e-c8fc99a7036b",
   "metadata": {},
   "outputs": [],
   "source": [
    "import numpy as np\n",
    "counter_model_predictions = counter_model_predictions.sort_values(by = [\"associated_sessions\"])\n",
    "cdf_models_predictions = counter_model_predictions.value_counts(\"associated_sessions\").sort_index()\n",
    "cdf_models_predictions = np.cumsum(cdf_models_predictions)/np.sum(cdf_models_predictions)\n",
    "cdf_models_predictions = cdf_models_predictions.reset_index(name = \"cdf\")\n",
    "cdf_models_predictions.head(2)"
   ]
  },
  {
   "cell_type": "code",
   "execution_count": null,
   "id": "7a1e3858-9990-4e5c-a0eb-19204a054466",
   "metadata": {},
   "outputs": [],
   "source": [
    "threshold_sessions = cdf_models_predictions[cdf_models_predictions.cdf >= .9].iloc[0][\"associated_sessions\"]"
   ]
  },
  {
   "cell_type": "markdown",
   "id": "2d327741-7246-4fbe-bac6-b7f3e8ee873c",
   "metadata": {},
   "source": [
    "#### Now obtain inverse information: on the x_axis I the session ID; on the y_axis, the number of other sessions with the same prediction as the one I am considering"
   ]
  },
  {
   "cell_type": "code",
   "execution_count": null,
   "id": "742d608f-41d8-4cd1-864b-a00b32c73291",
   "metadata": {},
   "outputs": [],
   "source": [
    "predicted_corpus = predicted_corpus.merge(counter_model_predictions, on = \"Models_predictions\").sort_values(by = \"associated_sessions\")\n",
    "predicted_corpus.head(2)"
   ]
  },
  {
   "cell_type": "code",
   "execution_count": null,
   "id": "38888676-0a2c-4054-b591-b65e16459bba",
   "metadata": {},
   "outputs": [],
   "source": [
    "counter_sessions_per_family = predicted_corpus.groupby(\"associated_sessions\")[\"full_session\"].count().reset_index().rename({\"associated_sessions\": \"|sessions in the same family|\", \"full_session\":\"occurrences\"}, axis = 1)\n",
    "counter_sessions_per_family.tail(2)"
   ]
  },
  {
   "cell_type": "code",
   "execution_count": null,
   "id": "c17f2834-e980-4b3e-ad5e-fab4321b565f",
   "metadata": {},
   "outputs": [],
   "source": [
    "counter_sessions_per_family[\"cdf_occurrences\"] = 1 - np.cumsum(counter_sessions_per_family[\"occurrences\"])/np.sum(counter_sessions_per_family[\"occurrences\"])\n",
    "print(counter_sessions_per_family.shape[0])\n",
    "counter_sessions_per_family.head(2)"
   ]
  },
  {
   "cell_type": "code",
   "execution_count": null,
   "id": "752c2a35-ada1-416e-b2d4-1eb1cce9e32b",
   "metadata": {},
   "outputs": [],
   "source": [
    "threshold_sessions"
   ]
  },
  {
   "cell_type": "code",
   "execution_count": null,
   "id": "662c41d8-cd95-474e-9db7-ac9e29bc9bde",
   "metadata": {},
   "outputs": [],
   "source": [
    "import matplotlib.pyplot as plt \n",
    "\n",
    "fig, (ax_1, ax_2) = plt.subplots(1,2, figsize=(10,4))\n",
    "fontsize = 20\n",
    "ax_1.plot(cdf_models_predictions.associated_sessions, cdf_models_predictions.cdf, linewidth = 2, color = \"royalblue\")\n",
    "ax_1.vlines(threshold_sessions, 0, 1.1, color = \"firebrick\", linewidth = 2)\n",
    "ax_1.fill_between(cdf_models_predictions.associated_sessions, 0, 1.1, where = cdf_models_predictions.associated_sessions <= threshold_sessions, color = \"firebrick\", alpha = .4, label = \"discarded predictions\")\n",
    "\n",
    "ax_1.set_xlabel('|sessions| per seq. predictions', fontsize = fontsize)\n",
    "ax_1.set_xscale(\"log\")\n",
    "ax_1.set_ylabel('ECDF seq. predictions', fontsize = fontsize)\n",
    "ax_1.yaxis.set_tick_params(labelsize=fontsize)\n",
    "ax_1.xaxis.set_tick_params(labelsize=fontsize, rotation = 30)\n",
    "ax_1.set_xticks([1, 10, 100, 1000, 10000])\n",
    "ax_1.set_yticks(np.arange(.1, 1.1, .2))\n",
    "ax_1.legend(fontsize = fontsize - 7, loc = \"lower right\")\n",
    "ax_1.grid()\n",
    "\n",
    "ax_2.plot(counter_sessions_per_family[\"|sessions in the same family|\"], counter_sessions_per_family[\"cdf_occurrences\"], linewidth = 2, color = \"royalblue\")\n",
    "ax_2.vlines(threshold_sessions, 0, 1., color = \"firebrick\", linewidth = 2)\n",
    "ax_2.fill_between(counter_sessions_per_family[\"|sessions in the same family|\"], 0, 1., where = counter_sessions_per_family[\"|sessions in the same family|\"] <= threshold_sessions, color = \"firebrick\", alpha = .4, label = \"discarded corpus\")\n",
    "\n",
    "ax_2.set_xlabel('|sessions| per seq. of predictions', fontsize = fontsize)\n",
    "ax_2.set_xscale(\"log\")\n",
    "ax_2.set_ylabel('% of original corpus', fontsize = fontsize)\n",
    "ax_2.yaxis.set_tick_params(labelsize=fontsize)\n",
    "ax_2.xaxis.set_tick_params(labelsize=fontsize, rotation = 30)\n",
    "ax_2.set_xticks([1, 10, 100, 1000, 10000])\n",
    "ax_2.set_yticks(np.arange(.1, 1.1, .2))\n",
    "ax_2.legend(fontsize = fontsize - 7, loc = \"lower right\")\n",
    "\n",
    "ax_2.grid()\n",
    "plt.tight_layout()\n",
    "plt.show()"
   ]
  },
  {
   "cell_type": "markdown",
   "id": "4ded2604-28e4-42d7-8ec0-bdf7b42cb645",
   "metadata": {},
   "source": [
    "#### Focus on the 10% labels with most associated sessions (>10)"
   ]
  },
  {
   "cell_type": "code",
   "execution_count": null,
   "id": "37cb4f2c-acad-46d3-80b1-7edf02790abb",
   "metadata": {},
   "outputs": [],
   "source": [
    "most_common_labels = counter_model_predictions[counter_model_predictions.associated_sessions >= threshold_sessions]\n",
    "print(f\"We selected {most_common_labels.shape[0]} labels (which covers {(most_common_labels.shape[0]/counter_model_predictions.shape[0]) * 100:.2f} % of the total)\")\n",
    "most_common_labels.head(2)"
   ]
  },
  {
   "cell_type": "code",
   "execution_count": null,
   "id": "978949c3-49fa-4d5e-b2a4-525d0d236492",
   "metadata": {},
   "outputs": [],
   "source": [
    "print(f\"Those {most_common_labels.shape[0]} labels also covers {most_common_labels.associated_sessions.sum()} of the sessions ({most_common_labels.associated_sessions.sum() / predicted_corpus.shape[0] * 100:.2f} % of the total)\")"
   ]
  },
  {
   "cell_type": "markdown",
   "id": "9c0d0222-40d7-417b-b9c2-e3e25d79a979",
   "metadata": {},
   "source": [
    "#### Visualize them in the time-series of points"
   ]
  },
  {
   "cell_type": "markdown",
   "id": "62450a31-a7b8-455d-abe4-bcc2b7d9e6bd",
   "metadata": {},
   "source": [
    "##### For each label, save first date in which we've seen that label"
   ]
  },
  {
   "cell_type": "code",
   "execution_count": null,
   "id": "12ac6df9-e41b-4dc4-a704-323f606511a9",
   "metadata": {},
   "outputs": [],
   "source": [
    "predicted_corpus.sort_values(by = \"first_timestamp\", inplace = True)\n",
    "first_appearance_per_prediction = predicted_corpus.groupby(\"Models_predictions\")[\"date\"].agg(\"first\").reset_index()\n",
    "first_appearance_per_prediction.sort_values(by = \"date\", ascending = True, inplace = True)\n",
    "first_appearance_per_prediction.head(2)"
   ]
  },
  {
   "cell_type": "markdown",
   "id": "6adbe842-e1a4-45b8-84a6-1bf4aadf1838",
   "metadata": {},
   "source": [
    "##### Now, trick to easily count labels occurrences"
   ]
  },
  {
   "cell_type": "code",
   "execution_count": null,
   "id": "f9edcf5c-a965-4184-8077-a820518bb335",
   "metadata": {},
   "outputs": [],
   "source": [
    "predictions_per_day = predicted_corpus.groupby(\"date\")[\"Models_predictions\"].agg(list).reset_index().rename({\"Models_predictions\":\"Predictions_per_day\"}, axis = 1)\n",
    "predictions_per_day[\"Predictions_per_day\"] = predictions_per_day[\"Predictions_per_day\"].apply(lambda list_predictions: \" __ \".join(list_predictions))\n",
    "predictions_per_day.head(2)"
   ]
  },
  {
   "cell_type": "markdown",
   "id": "2113cec1-74ef-4a4c-828a-2d14ebe8b2b2",
   "metadata": {},
   "source": [
    "##### Doing that, each row will contain dates. Each column will be associated to a prediction"
   ]
  },
  {
   "cell_type": "code",
   "execution_count": null,
   "id": "e240abb3-16c0-4dda-8bf3-7c524cd52ae4",
   "metadata": {},
   "outputs": [],
   "source": [
    "def custom_tokenizer(session):\n",
    "    return [el.strip() for el in session.split(\" __ \")]"
   ]
  },
  {
   "cell_type": "code",
   "execution_count": null,
   "id": "630da5a8-eaa3-4983-9443-6c162daef72b",
   "metadata": {
    "tags": []
   },
   "outputs": [],
   "source": [
    "from sklearn.feature_extraction.text import CountVectorizer\n",
    "vectorizer = CountVectorizer(tokenizer=custom_tokenizer, lowercase = False, binary = True)\n",
    "X = vectorizer.fit_transform(predictions_per_day.Predictions_per_day).toarray()\n",
    "names = vectorizer.get_feature_names_out()\n",
    "df_count_vectorizer = pd.DataFrame(X, columns=names, index = predictions_per_day.date)\n",
    "print(f\"Dataframe has shape {df_count_vectorizer.shape[0]} x {df_count_vectorizer.shape[1]}\")\n",
    "#df_count_vectorizer.set_index([pd.Index(predictions_per_day.date.values)])"
   ]
  },
  {
   "cell_type": "markdown",
   "id": "0c8aa95f-f0b6-427b-afd9-98a02378be60",
   "metadata": {},
   "source": [
    "##### Eventually, prepare colors\n",
    "- \"selected sessions\" (>= 10 occurrences) in green\n",
    "- \"other sessions\" (< 10 occurrences) in black and smaller"
   ]
  },
  {
   "cell_type": "code",
   "execution_count": null,
   "id": "0ea87315-87e7-48c4-b68a-d376a9cceed9",
   "metadata": {},
   "outputs": [],
   "source": [
    "first_appearance_per_prediction[\"is_numerous\"] = first_appearance_per_prediction[\"Models_predictions\"].apply(lambda prediction: 1 if prediction in most_common_labels.Models_predictions.values else 0)\n",
    "first_appearance_per_prediction.head(2)"
   ]
  },
  {
   "cell_type": "markdown",
   "id": "c9915441-85e6-460d-813d-6cfd5eae1793",
   "metadata": {},
   "source": [
    "##### Define colors"
   ]
  },
  {
   "cell_type": "code",
   "execution_count": null,
   "id": "13ba4244-b19b-4074-8e16-a66c03715b2a",
   "metadata": {},
   "outputs": [],
   "source": [
    "colors = {\n",
    "    1: {\"color\":\"forestgreen\", \"size\": 20},\n",
    "    0: {\"color\":\"black\", \"size\": 10}\n",
    "}"
   ]
  },
  {
   "cell_type": "code",
   "execution_count": null,
   "id": "92f7b31c-63b1-4632-94d4-f58164b8e588",
   "metadata": {},
   "outputs": [],
   "source": [
    "import matplotlib as mpl\n",
    "from matplotlib.lines import Line2D\n",
    "fig, axs = plt.subplots(1, figsize=(7,5))\n",
    "fontsize = 20\n",
    "df_count_vectorizer = df_count_vectorizer.reindex(sorted(df_count_vectorizer.columns), axis=1)\n",
    "n_days = df_count_vectorizer.shape[0]\n",
    "y_values = []\n",
    "for it in range(first_appearance_per_prediction.shape[0]): # Rows are sorted by ascending date\n",
    "    prediction = first_appearance_per_prediction.iloc[it].Models_predictions\n",
    "    is_numerous = first_appearance_per_prediction.iloc[it].is_numerous\n",
    "    x_coord = df_count_vectorizer.index.values # dates\n",
    "    y_coord = (it +1) * df_count_vectorizer[prediction].values # present/non present according to prediction under analysis (each gets a new row)\n",
    "    c = colors[is_numerous][\"color\"]\n",
    "    s = colors[is_numerous][\"size\"]\n",
    "    scatters = axs.scatter(x_coord, y_coord, s = s, color = c, alpha = 1, linewidth = 0, edgecolors=\"k\")\n",
    "    if is_numerous == 1:\n",
    "        y_values.append(it +1)\n",
    "\n",
    "axs.set_title(f'Predictions vs days', fontsize = fontsize + 5)\n",
    "axs.set_ylabel('Predictions', fontsize = fontsize + 3)\n",
    "axs.set_xlabel('Date', fontsize = fontsize + 3)\n",
    "axs.yaxis.set_ticks([])\n",
    "axs.xaxis.set_tick_params(labelsize=fontsize, rotation = 30)  \n",
    "\n",
    "point_major = Line2D([0], [0], label=f\"$\\geq{int(threshold_sessions)}$ associated sessions\", markersize=20, markerfacecolor='forestgreen', linewidth = .2, markeredgecolor=\"k\", marker='.', linestyle='')\n",
    "point_minor = Line2D([0], [0], label= f\"$<{int(threshold_sessions)}$ associated sessions\", markersize=10, markerfacecolor='k', linewidth = .2, markeredgecolor=\"k\", marker='.', linestyle='')\n",
    "# add manual symbols to auto legend\n",
    "plt.legend(handles=[point_major, point_minor], fontsize = fontsize - 3, loc = \"upper left\", framealpha=0.5)\n",
    "axs.grid()\n",
    "plt.tight_layout()\n",
    "plt.show()"
   ]
  },
  {
   "cell_type": "markdown",
   "id": "8f6e0f76-cc5b-4d3c-97e7-183e87ac2e0c",
   "metadata": {},
   "source": [
    "### Another visualization"
   ]
  },
  {
   "cell_type": "markdown",
   "id": "349ccb66-beec-45c9-b546-eb9fefc64856",
   "metadata": {
    "tags": []
   },
   "source": [
    "#### Define colors"
   ]
  },
  {
   "cell_type": "code",
   "execution_count": null,
   "id": "1aa92be4-6a28-447e-b51c-86ac08ce511c",
   "metadata": {},
   "outputs": [],
   "source": [
    "import seaborn as sns\n",
    "import math \n",
    "from matplotlib.colors import ListedColormap\n",
    "colors = sns.color_palette(\"rocket_r\", round(math.log(counter_model_predictions.associated_sessions.max()) + 1))\n",
    "print(f\"Created {len(list(colors))} colors\")\n",
    "cmap = ListedColormap(colors)   "
   ]
  },
  {
   "cell_type": "code",
   "execution_count": null,
   "id": "b53deb73-a986-4e17-a980-9eab5d70c01f",
   "metadata": {},
   "outputs": [],
   "source": [
    "import matplotlib as mpl\n",
    "fig, axs = plt.subplots(1, figsize=(7,5))\n",
    "fontsize = 20\n",
    "n_days = df_count_vectorizer.shape[0]\n",
    "\n",
    "for it, column in enumerate(first_appearance_per_prediction.Models_predictions):\n",
    "    x_coord = df_count_vectorizer.index.values\n",
    "    y_coord = (it +1) * df_count_vectorizer[column].values.astype('float')\n",
    "    y_coord[y_coord == 0] = 'nan'\n",
    "    c = colors[round(math.log(counter_model_predictions[counter_model_predictions.Models_predictions == column][\"associated_sessions\"].iloc[0]))]\n",
    "    scatters = axs.scatter(x_coord, y_coord, s = 20, color = c, alpha = 1, linewidth = 0, edgecolors=\"k\")\n",
    "\n",
    "axs.set_title('ID sequence of predictions', fontsize = fontsize + 5)\n",
    "axs.set_ylabel('Sequence of predictions', fontsize = fontsize + 3)\n",
    "axs.set_xlabel('Date', fontsize = fontsize + 3)\n",
    "#axs.yaxis.set_ticks([])\n",
    "axs.yaxis.set_tick_params(labelsize=fontsize)  \n",
    "axs.xaxis.set_tick_params(labelsize=fontsize, rotation = 30)  \n",
    "\n",
    "# creating ScalarMappable\n",
    "norm = mpl.colors.Normalize(vmin=0, vmax=round(math.log(counter_model_predictions.associated_sessions.max()) + 1))\n",
    "sm = plt.cm.ScalarMappable(cmap=cmap, norm=norm)\n",
    "sm.set_array([])\n",
    "  \n",
    "cbar = plt.colorbar(sm, orientation='vertical', ticks=np.arange(.5, len(colors) +.5))\n",
    "cbar.set_label(label='sessions associated',fontsize=fontsize - 4)\n",
    "cbar.ax.set_yticklabels([round(math.e ** el) for el in range(0, len(colors) -1)] + [counter_model_predictions.associated_sessions.max()]) # Last, add real maximum\n",
    "axs.grid()\n",
    "\n",
    "plt.tight_layout()\n",
    "plt.show()"
   ]
  },
  {
   "cell_type": "markdown",
   "id": "606d1277-0efb-4e02-b486-d80d2928a520",
   "metadata": {},
   "source": [
    "#### Another visualization:"
   ]
  },
  {
   "cell_type": "code",
   "execution_count": null,
   "id": "8c5c2d84-0797-4f51-adf3-f0c39ae8f08e",
   "metadata": {},
   "outputs": [],
   "source": [
    "df_associated_sessions_per_date = predicted_corpus.groupby([\"Models_predictions\", \"date\"])[\"full_session\"].count().reset_index(name = \"associated_sessions\")\n",
    "df_associated_sessions_per_date = df_associated_sessions_per_date.sort_values(by = \"date\")\n",
    "df_associated_sessions_per_date.head(2)"
   ]
  },
  {
   "cell_type": "code",
   "execution_count": null,
   "id": "3527c2dd-d988-4582-a3f6-6b3ec0dee621",
   "metadata": {},
   "outputs": [],
   "source": [
    "birth_and_occurrences = first_appearance_per_prediction.merge(counter_model_predictions, on = \"Models_predictions\")\n",
    "print(\"Displaying examples in the order of date of birth:\")\n",
    "birth_and_occurrences.sort_values(by = \"date\").head(5)"
   ]
  },
  {
   "cell_type": "code",
   "execution_count": null,
   "id": "ef7901ca-7925-4e0c-9ddf-13ad80156938",
   "metadata": {},
   "outputs": [],
   "source": [
    "ids_predictions = birth_and_occurrences.sort_values(by = \"date\")[[\"Models_predictions\"]].reset_index(drop = True).reset_index().rename({\"index\": \"Prediction_id\"}, axis = 1)\n",
    "ids_predictions.head(2)"
   ]
  },
  {
   "cell_type": "code",
   "execution_count": null,
   "id": "902af53c-bb2f-419c-b5be-d6d0244775b2",
   "metadata": {},
   "outputs": [],
   "source": [
    "df_associated_sessions_per_date = df_associated_sessions_per_date.merge(ids_predictions, on = \"Models_predictions\")\n",
    "df_associated_sessions_per_date = df_associated_sessions_per_date[df_associated_sessions_per_date.Prediction_id != df_associated_sessions_per_date.Prediction_id.max()]\n",
    "df_associated_sessions_per_date.head(2)"
   ]
  },
  {
   "cell_type": "code",
   "execution_count": null,
   "id": "10e98b4a-fa85-4c9b-9dc2-e06bc09a9177",
   "metadata": {},
   "outputs": [],
   "source": [
    "filtered = df_associated_sessions_per_date[df_associated_sessions_per_date.associated_sessions > 1]"
   ]
  },
  {
   "cell_type": "markdown",
   "id": "c80f12f8-8db9-4455-a3df-6ece2cfb8862",
   "metadata": {},
   "source": [
    "#### Visualization"
   ]
  },
  {
   "cell_type": "code",
   "execution_count": null,
   "id": "1552e80c-72d7-4b3a-8f68-9ca495984c00",
   "metadata": {},
   "outputs": [],
   "source": [
    "from datetime import datetime\n",
    "server_update_date = datetime.strptime(\"08/11/2019\", '%d/%m/%Y').date()\n",
    "server_update_datetime = datetime.strptime(\"08/11/2019\", '%d/%m/%Y')\n",
    "\n",
    "print(f\"Server update occurred in {server_update_date}\")"
   ]
  },
  {
   "cell_type": "code",
   "execution_count": null,
   "id": "22d3cb81-5f92-43ed-86bc-b7a0419500ff",
   "metadata": {
    "tags": []
   },
   "outputs": [],
   "source": [
    "fig, axs = plt.subplots(figsize =(7, 5))\n",
    "fontsize = 15\n",
    "unique_associated_sessions = filtered.sort_values(by = \"associated_sessions\").drop_duplicates(\"associated_sessions\")[\"associated_sessions\"]\n",
    "sizes = {key:value for key, value in zip(unique_associated_sessions, np.arange(1, 1*unique_associated_sessions.shape[0] + 1, 1))}\n",
    "palette = sns.color_palette(\"coolwarm\", len(sizes))\n",
    "cmap = sns.color_palette(\"coolwarm\", len(sizes), as_cmap=True)\n",
    "sns.scatterplot(filtered, palette = palette, x = \"date\", y = \"Prediction_id\", hue = \"associated_sessions\", size = \"associated_sessions\", sizes = sizes, ax = axs, legend = None, edgecolor=\"black\")\n",
    "axs.vlines(server_update_datetime, 0, filtered.Prediction_id.max(), label = \"Server update\", linewidth = 2, linestyle = \"dashed\", color = \"firebrick\")\n",
    "axs.set_yticks([])\n",
    "\n",
    "server_update = Line2D([0], [0], color='firebrick', linestyle = \"dashed\", label= \"Server update\")\n",
    "handles = [server_update]\n",
    "#index_of_interest = [0, round(len(sizes.keys()) / 2), -1]\n",
    "#for index, marker_size in zip(index_of_interest, [5, 20, 25]):\n",
    "#    size = sizes[list(sizes.keys())[index]]\n",
    "#    color = palette[index]\n",
    "#    handles.append(Line2D([0], [0], label=f\"{size} sessions associated\", markersize=marker_size, markerfacecolor=color, linewidth = .2, markeredgecolor=\"k\", marker='.', linestyle=''))\n",
    "# add manual symbols to auto legend\n",
    "axs.legend(handles=handles, fontsize = fontsize +2, loc = \"upper left\", framealpha=0.5)\n",
    "#axs.set_xticklabels(x_labels)\n",
    "\n",
    "# creating ScalarMappable\n",
    "norm = mpl.colors.Normalize(vmin=0, vmax=np.max(list(sizes.values())))\n",
    "sm = plt.cm.ScalarMappable(cmap=cmap, norm=norm)\n",
    "sm.set_array([])\n",
    "  \n",
    "#ticks = np.arange(.5, len(list(sizes.values())) + .5)\n",
    "step = round(len(list(sizes.values())) / 10)    \n",
    "cbar = plt.colorbar(sm, orientation='vertical', ticks=np.arange(1, len(list(sizes.values())), step))\n",
    "cbar.set_label(label='associated sessions',fontsize=fontsize)\n",
    "cbar.ax.set_yticklabels(list(sizes.keys())[::step], fontsize = fontsize - 2) # Last, add real maximum\n",
    "axs.grid()\n",
    "axs.tick_params(axis='x', rotation=30, labelsize = fontsize+2)\n",
    "axs.set_ylabel(\"Sequences of predictions\", fontsize = fontsize + 2)\n",
    "axs.set_xlabel(\"Date\", fontsize = fontsize + 2)\n",
    "plt.tight_layout()\n",
    "plt.savefig(\"./Inference_results/seq_in_time.pdf\")"
   ]
  },
  {
   "cell_type": "code",
   "execution_count": null,
   "id": "e653ce7d-f9ed-4e6a-8502-e1d177c75e49",
   "metadata": {},
   "outputs": [],
   "source": []
  }
 ],
 "metadata": {
  "kernelspec": {
   "display_name": "Python 3 (ipykernel)",
   "language": "python",
   "name": "python3"
  },
  "language_info": {
   "codemirror_mode": {
    "name": "ipython",
    "version": 3
   },
   "file_extension": ".py",
   "mimetype": "text/x-python",
   "name": "python",
   "nbconvert_exporter": "python",
   "pygments_lexer": "ipython3",
   "version": "3.7.12"
  }
 },
 "nbformat": 4,
 "nbformat_minor": 5
}
